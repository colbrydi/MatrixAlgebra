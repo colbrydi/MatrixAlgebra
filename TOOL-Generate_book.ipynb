{
 "cells": [
  {
   "cell_type": "markdown",
   "metadata": {},
   "source": [
    "# Publish an entire folder as an OER \"book\""
   ]
  },
  {
   "cell_type": "code",
   "execution_count": null,
   "metadata": {},
   "outputs": [],
   "source": [
    "!rm -rf bookfiles"
   ]
  },
  {
   "cell_type": "code",
   "execution_count": null,
   "metadata": {},
   "outputs": [],
   "source": [
    "!mkdir -p bookfiles"
   ]
  },
  {
   "cell_type": "code",
   "execution_count": 2,
   "metadata": {},
   "outputs": [
    {
     "data": {
      "application/javascript": [
       "Jupyter.notebook.kernel.execute(\"this_notebook = \" + \"'\"+Jupyter.notebook.notebook_name+\"'\");"
      ],
      "text/plain": [
       "<IPython.core.display.Javascript object>"
      ]
     },
     "metadata": {},
     "output_type": "display_data"
    },
    {
     "data": {
      "application/javascript": [
       "IPython.notebook.save_notebook()"
      ]
     },
     "metadata": {},
     "output_type": "display_data"
    }
   ],
   "source": [
    "from pathlib import Path\n",
    "from jupyterinstruct import InstructorNotebook as inb\n",
    "from jupyterinstruct.nbfilename import nbfilename\n",
    "from jupyterinstruct.nbvalidate import validate\n",
    "from jupyterinstruct import webtools \n",
    "from nbconvert.preprocessors import ExecutePreprocessor"
   ]
  },
  {
   "cell_type": "code",
   "execution_count": 3,
   "metadata": {},
   "outputs": [],
   "source": [
    "import thisbook\n",
    "\n",
    "tags = thisbook.tags()"
   ]
  },
  {
   "cell_type": "code",
   "execution_count": 4,
   "metadata": {},
   "outputs": [],
   "source": [
    "# jupyter nbconvert --ClearOutputPreprocessor.enabled=True --inplace $nbfile\n",
    "# jupyter nbconvert --execute --no-prompt --allow-errors --to html $nbfile\n",
    "# #\tjupyter nbconvert $nbfile --to html\n",
    "# cp $nbfile $webdir \n",
    "# newfile=`basename $nbfile .ipynb`\n",
    "# cp ${newfile}.html $webdir "
   ]
  },
  {
   "cell_type": "code",
   "execution_count": 5,
   "metadata": {},
   "outputs": [],
   "source": [
    "def makechapter(filename,tags):\n",
    "    print(filename)\n",
    "    nb = inb.InstructorNB(filename=filename)\n",
    "\n",
    "    nb.removebefore('ENDHEADER')\n",
    "    nb.removeafter('STARTFOOTER')\n",
    "    nb.headerfooter('Book-Header.ipynb', 'Book-Footer.ipynb')\n",
    "    nb.removecells('###MSU###')\n",
    "    studentfile = nb.makestudent(tags,studentfolder=\"./bookfiles/\")\n",
    "    nb.writenotebook(studentfile)\n",
    "    validate(studentfile)\n",
    "   \n",
    "    #done = webtools.publish2folder(studentfile, website_folder=\"./bookfiles/\")\n",
    "    #display(done)\n",
    "    return studentfile"
   ]
  },
  {
   "cell_type": "code",
   "execution_count": 6,
   "metadata": {},
   "outputs": [
    {
     "name": "stdout",
     "output_type": "stream",
     "text": [
      "../0-Introduction_INSTRUCTOR.ipynb\n",
      "Myfilename ../0-Introduction_INSTRUCTOR.ipynb\n",
      "WARNING: Instructor file name is wrong 0-Introduction-INSTRUCTOR.ipynb != ../0-Introduction_INSTRUCTOR.ipynb\n"
     ]
    },
    {
     "data": {
      "application/javascript": [
       "IPython.notebook.save_notebook()"
      ]
     },
     "metadata": {},
     "output_type": "display_data"
    },
    {
     "name": "stdout",
     "output_type": "stream",
     "text": [
      "0-Introduction.ipynb\n"
     ]
    },
    {
     "data": {
      "text/html": [
       "<a href=./bookfiles/0-Introduction.ipynb target=\"blank\">./bookfiles/0-Introduction.ipynb</a>"
      ],
      "text/plain": [
       "<IPython.core.display.HTML object>"
      ]
     },
     "metadata": {},
     "output_type": "display_data"
    },
    {
     "name": "stdout",
     "output_type": "stream",
     "text": [
      "Validating Notebook ./bookfiles/0-Introduction.ipynb\n",
      "   ERROR: Image LINK not found - http://creativecommons.org/licenses/by-nc/4.0/\n",
      "   ERROR: Image LINK not found - http://creativecommons.org/licenses/by-nc/4.0/\n"
     ]
    }
   ],
   "source": [
    "makechapter(Path('../0-Introduction_INSTRUCTOR.ipynb'),tags);"
   ]
  },
  {
   "cell_type": "code",
   "execution_count": null,
   "metadata": {},
   "outputs": [],
   "source": [
    "#Make a temporary folder and convert all Instructor\n",
    "#notebooks to student notebooks for testing\n",
    "\n",
    "directory = Path('..')\n",
    "\n",
    "allfiles = sorted(directory.glob('*.ipynb'))\n",
    "allfiles.sort\n",
    "#Make student versions\n",
    "for filename in allfiles:\n",
    "    nbfile = nbfilename(filename)\n",
    "    if not 'Quiz' in str(nbfile): # Skip quiz prep\n",
    "        if nbfile.isInstructor: # Only process INSTRUCTOR notebooks\n",
    "            if nbfile.prefix.isdigit(): # Only process numrical notebooks\n",
    "                filename = makechapter(filename, tags)"
   ]
  },
  {
   "cell_type": "code",
   "execution_count": null,
   "metadata": {},
   "outputs": [],
   "source": [
    "fid = open('./bookfiles/_toc.yml', 'w')\n",
    "directory = Path('./bookfiles/')\n",
    "\n",
    "allfiles = sorted(directory.glob('*.ipynb'))\n",
    "\n",
    "for ipynb in allfiles:\n",
    "    if not '0000' in str(ipynb):\n",
    "        print(ipynb.name)\n",
    "        fid.write(f'- file: {ipynb.name}\\n')\n",
    "    \n",
    "for ipynb in allfiles:\n",
    "    if '0000' in str(ipynb):\n",
    "        print(ipynb.name)\n",
    "        fid.write(f'- file: {ipynb.name}\\n')\n",
    "    \n",
    "fid.close()"
   ]
  },
  {
   "cell_type": "code",
   "execution_count": 7,
   "metadata": {},
   "outputs": [],
   "source": [
    "!cp Cover_horizontal.png ./bookfiles/\n",
    "!cp Cover.jpg ./bookfiles/\n",
    "!cp _config.yml ./bookfiles/"
   ]
  },
  {
   "cell_type": "code",
   "execution_count": 8,
   "metadata": {},
   "outputs": [
    {
     "name": "stdout",
     "output_type": "stream",
     "text": [
      "\u001b[32m\u001b[1mRunning Jupyter-Book v0.10.2\u001b[0m\n",
      "\u001b[34m\u001b[1mSource Folder: \u001b[0m/Users/colbrydi/REPOS/MTH314_Textbook/MakeTextbook/bookfiles\n",
      "\u001b[34m\u001b[1mConfig Path: \u001b[0m/Users/colbrydi/REPOS/MTH314_Textbook/MakeTextbook/bookfiles/_config.yml\n",
      "\u001b[34m\u001b[1mOutput Path: \u001b[0m/Users/colbrydi/REPOS/MTH314_Textbook/MakeTextbook/bookfiles/_build/html\n",
      "\u001b[01mRunning Sphinx v3.5.4\u001b[39;49;00m\n",
      "\u001b[01mloading pickled environment... \u001b[39;49;00mdone\n",
      "\u001b[01mmyst v0.13.7:\u001b[39;49;00m MdParserConfig(renderer='sphinx', commonmark_only=False, dmath_allow_labels=True, dmath_allow_space=True, dmath_allow_digits=True, update_mathjax=True, enable_extensions=['colon_fence', 'dollarmath', 'linkify', 'substitution'], disable_syntax=[], url_schemes=['mailto', 'http', 'https'], heading_anchors=None, html_meta=[], footnote_transition=True, substitutions=[], sub_delimiters=['{', '}'])\n",
      "\u001b[01mbuilding [mo]: \u001b[39;49;00mtargets for 0 po files that are out of date\n",
      "\u001b[01mbuilding [html]: \u001b[39;49;00mtargets for 1 source files that are out of date\n",
      "\u001b[01mupdating environment: \u001b[39;49;00m0 added, 1 changed, 0 removed\n",
      "Did not execute 0-Introduction. Set jupyter_execute_notebooks to `force` to execute                             \n",
      "\n",
      "\u001b[01mlooking for now-outdated files... \u001b[39;49;00mnone found\n",
      "\u001b[01mpickling environment... \u001b[39;49;00mdone\n",
      "\u001b[01mchecking consistency... \u001b[39;49;00mdone\n",
      "\u001b[01mpreparing documents... \u001b[39;49;00mdone\n",
      "\u001b[01mwriting output... \u001b[39;49;00m[100%] \u001b[32m0-Introduction\u001b[39;49;00m                                         \n",
      "\u001b[01mgenerating indices... \u001b[39;49;00mgenindex done\n",
      "\u001b[01mwriting additional pages... \u001b[39;49;00msearch done\n",
      "\u001b[01mcopying images... \u001b[39;49;00m[100%] \u001b[33mCover.jpg\u001b[39;49;00m                                              \n",
      "\u001b[01mcopying static files... \u001b[39;49;00mdone\n",
      "\u001b[01mcopying extra files... \u001b[39;49;00mdone\n",
      "\u001b[01mdumping search index in English (code: en)... \u001b[39;49;00mdone\n",
      "\u001b[01mdumping object inventory... \u001b[39;49;00mdone\n",
      "\u001b[01mbuild succeeded.\u001b[39;49;00m\n",
      "\n",
      "The HTML pages are in bookfiles/_build/html.\n",
      "\n",
      "\u001b[92m===============================================================================\u001b[0m\n",
      "\n",
      "Finished generating HTML for book.\n",
      "Your book's HTML pages are here:\n",
      "    bookfiles/_build/html/\n",
      "You can look at your book by opening this file in a browser:\n",
      "    bookfiles/_build/html/index.html\n",
      "Or paste this line directly into your browser bar:\n",
      "    file:///Users/colbrydi/REPOS/MTH314_Textbook/MakeTextbook/bookfiles/_build/html/index.html            \n",
      "\n",
      "\u001b[92m===============================================================================\u001b[0m\n",
      "\n"
     ]
    }
   ],
   "source": [
    "!jupyter-book build ./bookfiles/"
   ]
  },
  {
   "cell_type": "code",
   "execution_count": 9,
   "metadata": {},
   "outputs": [],
   "source": [
    "#!open ./bookfiles/_build/html/index.html"
   ]
  },
  {
   "cell_type": "code",
   "execution_count": 10,
   "metadata": {},
   "outputs": [],
   "source": [
    "!cp -rf ./bookfiles/_build/html/* ./docs/"
   ]
  },
  {
   "cell_type": "code",
   "execution_count": 11,
   "metadata": {},
   "outputs": [],
   "source": [
    "!open ./docs/index.html"
   ]
  },
  {
   "cell_type": "code",
   "execution_count": null,
   "metadata": {},
   "outputs": [],
   "source": []
  },
  {
   "cell_type": "code",
   "execution_count": null,
   "metadata": {},
   "outputs": [],
   "source": []
  }
 ],
 "metadata": {
  "kernelspec": {
   "display_name": "Python 3",
   "language": "python",
   "name": "python3"
  },
  "language_info": {
   "codemirror_mode": {
    "name": "ipython",
    "version": 3
   },
   "file_extension": ".py",
   "mimetype": "text/x-python",
   "name": "python",
   "nbconvert_exporter": "python",
   "pygments_lexer": "ipython3",
   "version": "3.7.6"
  }
 },
 "nbformat": 4,
 "nbformat_minor": 4
}
