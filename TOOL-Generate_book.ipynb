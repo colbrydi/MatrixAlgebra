{
 "cells": [
  {
   "cell_type": "markdown",
   "metadata": {},
   "source": [
    "# Publish an entire folder as an OER \"book\""
   ]
  },
  {
   "cell_type": "code",
   "execution_count": null,
   "metadata": {},
   "outputs": [],
   "source": [
    "#!rm -rf bookfiles\n",
    "rmdir(Path(\"bookfiles/\"))"
   ]
  },
  {
   "cell_type": "code",
   "execution_count": null,
   "metadata": {},
   "outputs": [],
   "source": [
    "from pathlib import Path\n",
    "import shutil\n",
    "\n",
    "def rmdir(directory):\n",
    "    directory = Path(directory)\n",
    "    for item in directory.iterdir():\n",
    "        if item.is_dir():\n",
    "            rmdir(item)\n",
    "        else:\n",
    "            item.unlink()\n",
    "    directory.rmdir()"
   ]
  },
  {
   "cell_type": "code",
   "execution_count": null,
   "metadata": {},
   "outputs": [],
   "source": [
    "#!mkdir -p bookfiles\n",
    "Path(\"bookfiles/\").mkdir(parents=True, exist_ok=True)"
   ]
  },
  {
   "cell_type": "code",
   "execution_count": null,
   "metadata": {},
   "outputs": [],
   "source": [
    "from pathlib import Path\n",
    "from jupyterinstruct import InstructorNotebook as inb\n",
    "from jupyterinstruct.nbfilename import nbfilename\n",
    "from jupyterinstruct.nbvalidate import validate\n",
    "from jupyterinstruct import webtools \n",
    "from nbconvert.preprocessors import ExecutePreprocessor"
   ]
  },
  {
   "cell_type": "code",
   "execution_count": null,
   "metadata": {},
   "outputs": [],
   "source": [
    "import thisbook\n",
    "\n",
    "tags = thisbook.tags()"
   ]
  },
  {
   "cell_type": "code",
   "execution_count": null,
   "metadata": {},
   "outputs": [],
   "source": [
    "# jupyter nbconvert --ClearOutputPreprocessor.enabled=True --inplace $nbfile\n",
    "# jupyter nbconvert --execute --no-prompt --allow-errors --to html $nbfile\n",
    "# #\tjupyter nbconvert $nbfile --to html\n",
    "# cp $nbfile $webdir \n",
    "# newfile=`basename $nbfile .ipynb`\n",
    "# cp ${newfile}.html $webdir "
   ]
  },
  {
   "cell_type": "code",
   "execution_count": null,
   "metadata": {},
   "outputs": [],
   "source": [
    "def makechapter(filename,tags):\n",
    "    print(filename)\n",
    "    nb = inb.InstructorNB(filename=filename)\n",
    "\n",
    "    nb.removebefore('ENDHEADER')\n",
    "    nb.removeafter('STARTFOOTER')\n",
    "    nb.headerfooter('Book-Header.ipynb', 'Book-Footer.ipynb')\n",
    "    nb.removecells('###MSU###')\n",
    "    studentfile = nb.makestudent(tags,studentfolder=\"./bookfiles/\")\n",
    "    nb.writenotebook(studentfile)\n",
    "    validate(studentfile)\n",
    "   \n",
    "    #done = webtools.publish2folder(studentfile, website_folder=\"./bookfiles/\")\n",
    "    #display(done)\n",
    "    return studentfile"
   ]
  },
  {
   "cell_type": "code",
   "execution_count": null,
   "metadata": {},
   "outputs": [],
   "source": [
    "makechapter(Path('../0-Introduction_INSTRUCTOR.ipynb'),tags);"
   ]
  },
  {
   "cell_type": "code",
   "execution_count": null,
   "metadata": {
    "scrolled": true
   },
   "outputs": [],
   "source": [
    "#Make a temporary folder and convert all Instructor\n",
    "#notebooks to student notebooks for testing\n",
    "\n",
    "directory = Path('..')\n",
    "\n",
    "allfiles = sorted(directory.glob('*.ipynb'))\n",
    "allfiles.sort\n",
    "#Make student versions\n",
    "for filename in allfiles:\n",
    "    nbfile = nbfilename(filename)\n",
    "    if not 'Quiz' in str(nbfile): # Skip quiz prep\n",
    "        if nbfile.isInstructor: # Only process INSTRUCTOR notebooks\n",
    "            if nbfile.prefix.isdigit(): # Only process numrical notebooks\n",
    "                filename = makechapter(filename, tags)"
   ]
  },
  {
   "cell_type": "code",
   "execution_count": null,
   "metadata": {},
   "outputs": [],
   "source": [
    "fid = open('./bookfiles/_toc.yml', 'w')\n",
    "directory = Path('./bookfiles/')\n",
    "\n",
    "allfiles = sorted(directory.glob('*.ipynb'))\n",
    "\n",
    "for ipynb in allfiles:\n",
    "    if not '0000' in str(ipynb):\n",
    "        print(ipynb.name)\n",
    "        fid.write(f'- file: {ipynb.name}\\n')\n",
    "\n",
    "for ipynb in allfiles:\n",
    "    if '0000' in str(ipynb):\n",
    "        print(ipynb.name)\n",
    "        fid.write(f'- file: {ipynb.name}\\n')\n",
    "    \n",
    "fid.close()"
   ]
  },
  {
   "cell_type": "code",
   "execution_count": null,
   "metadata": {},
   "outputs": [],
   "source": [
    "#!cp Cover_horizontal.png ./bookfiles/\n",
    "#!cp Cover.jpg ./bookfiles/\n",
    "#!cp _config.yml ./bookfiles/\n",
    "\n",
    "import shutil\n",
    "files = ['Cover_horizontal.png', 'Cover.jpg', '_config.yml']\n",
    "for f in files:\n",
    "    shutil.copy(f, 'bookfiles/')"
   ]
  },
  {
   "cell_type": "code",
   "execution_count": null,
   "metadata": {},
   "outputs": [],
   "source": [
    "#Convert TOC to new format\n",
    "! jupyter-book toc migrate ./bookfiles/_toc.yml -o ./bookfiles/_toc.yml"
   ]
  },
  {
   "cell_type": "code",
   "execution_count": null,
   "metadata": {},
   "outputs": [],
   "source": [
    "!jupyter-book build ./bookfiles/"
   ]
  },
  {
   "cell_type": "code",
   "execution_count": null,
   "metadata": {},
   "outputs": [],
   "source": [
    "#!open ./bookfiles/_build/html/index.html"
   ]
  },
  {
   "cell_type": "code",
   "execution_count": null,
   "metadata": {},
   "outputs": [],
   "source": [
    "#!cp -rf ./bookfiles/_build/html/* ./docs/\n",
    "\n",
    "\n",
    "\n",
    "def copyDirectory(src, dest):\n",
    "    try:\n",
    "        shutil.copytree(src, dest)\n",
    "    # Directories are the same\n",
    "    except shutil.Error as e:\n",
    "        print('Directory not copied. Error: %s' % e)\n",
    "    # Any error saying that the directory doesn't exist\n",
    "    except OSError as e:\n",
    "        print('Directory not copied. Error: %s' % e)\n",
    "\n",
    "copyDirectory(Path('./bookfiles/_build/html/'), Path('./docs/'))\n",
    "        "
   ]
  },
  {
   "cell_type": "code",
   "execution_count": null,
   "metadata": {},
   "outputs": [],
   "source": [
    "!open ./docs/index.html"
   ]
  },
  {
   "cell_type": "code",
   "execution_count": null,
   "metadata": {},
   "outputs": [],
   "source": []
  }
 ],
 "metadata": {
  "kernelspec": {
   "display_name": "Python 3",
   "language": "python",
   "name": "python3"
  },
  "language_info": {
   "codemirror_mode": {
    "name": "ipython",
    "version": 3
   },
   "file_extension": ".py",
   "mimetype": "text/x-python",
   "name": "python",
   "nbconvert_exporter": "python",
   "pygments_lexer": "ipython3",
   "version": "3.9.5"
  }
 },
 "nbformat": 4,
 "nbformat_minor": 4
}
