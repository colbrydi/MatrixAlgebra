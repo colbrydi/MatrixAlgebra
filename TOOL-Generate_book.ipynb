{
 "cells": [
  {
   "cell_type": "markdown",
   "metadata": {},
   "source": [
    "# Publish an entire folder as an OER \"book\""
   ]
  },
  {
   "cell_type": "code",
   "execution_count": 1,
   "metadata": {},
   "outputs": [],
   "source": [
    "!rm -rf bookfiles"
   ]
  },
  {
   "cell_type": "code",
   "execution_count": 2,
   "metadata": {},
   "outputs": [],
   "source": [
    "!mkdir -p bookfiles"
   ]
  },
  {
   "cell_type": "code",
   "execution_count": 3,
   "metadata": {},
   "outputs": [
    {
     "data": {
      "application/javascript": [
       "Jupyter.notebook.kernel.execute(\"this_notebook = \" + \"'\"+Jupyter.notebook.notebook_name+\"'\");"
      ],
      "text/plain": [
       "<IPython.core.display.Javascript object>"
      ]
     },
     "metadata": {},
     "output_type": "display_data"
    },
    {
     "data": {
      "application/javascript": [
       "IPython.notebook.save_notebook()"
      ]
     },
     "metadata": {},
     "output_type": "display_data"
    }
   ],
   "source": [
    "from pathlib import Path\n",
    "from jupyterinstruct import InstructorNotebook as inb\n",
    "from jupyterinstruct.nbfilename import nbfilename\n",
    "from jupyterinstruct.nbvalidate import validate\n",
    "from jupyterinstruct import webtools \n",
    "from nbconvert.preprocessors import ExecutePreprocessor"
   ]
  },
  {
   "cell_type": "code",
   "execution_count": 4,
   "metadata": {},
   "outputs": [],
   "source": [
    "import thisbook\n",
    "\n",
    "tags = thisbook.tags()"
   ]
  },
  {
   "cell_type": "code",
   "execution_count": 5,
   "metadata": {},
   "outputs": [],
   "source": [
    "# jupyter nbconvert --ClearOutputPreprocessor.enabled=True --inplace $nbfile\n",
    "# jupyter nbconvert --execute --no-prompt --allow-errors --to html $nbfile\n",
    "# #\tjupyter nbconvert $nbfile --to html\n",
    "# cp $nbfile $webdir \n",
    "# newfile=`basename $nbfile .ipynb`\n",
    "# cp ${newfile}.html $webdir "
   ]
  },
  {
   "cell_type": "code",
   "execution_count": 6,
   "metadata": {},
   "outputs": [],
   "source": [
    "def makechapter(filename,tags):\n",
    "    print(filename)\n",
    "    nb = inb.InstructorNB(filename=filename)\n",
    "\n",
    "    nb.removebefore('ENDHEADER')\n",
    "    nb.removeafter('STARTFOOTER')\n",
    "    nb.headerfooter('Book-Header.ipynb', 'Book-Footer.ipynb')\n",
    "    nb.removecells('###MSU###')\n",
    "    studentfile = nb.makestudent(tags,studentfolder=\"./bookfiles/\")\n",
    "    nb.writenotebook(studentfile)\n",
    "    validate(studentfile)\n",
    "   \n",
    "    #done = webtools.publish2folder(studentfile, website_folder=\"./bookfiles/\")\n",
    "    #display(done)\n",
    "    return studentfile"
   ]
  },
  {
   "cell_type": "code",
   "execution_count": 7,
   "metadata": {},
   "outputs": [
    {
     "name": "stdout",
     "output_type": "stream",
     "text": [
      "../0-Introduction_INSTRUCTOR.ipynb\n",
      "Myfilename ../0-Introduction_INSTRUCTOR.ipynb\n",
      "WARNING: Instructor file name is wrong 0-Introduction-INSTRUCTOR.ipynb != ../0-Introduction_INSTRUCTOR.ipynb\n"
     ]
    },
    {
     "data": {
      "application/javascript": [
       "IPython.notebook.save_notebook()"
      ]
     },
     "metadata": {},
     "output_type": "display_data"
    },
    {
     "name": "stdout",
     "output_type": "stream",
     "text": [
      "0-Introduction.ipynb\n"
     ]
    },
    {
     "data": {
      "text/html": [
       "<a href=./bookfiles/0-Introduction.ipynb target=\"blank\">./bookfiles/0-Introduction.ipynb</a>"
      ],
      "text/plain": [
       "<IPython.core.display.HTML object>"
      ]
     },
     "metadata": {},
     "output_type": "display_data"
    },
    {
     "name": "stdout",
     "output_type": "stream",
     "text": [
      "Validating Notebook ./bookfiles/0-Introduction.ipynb\n",
      "   ERROR: Image LINK not found - #Undergraduate-Learning-Assistance\n",
      "../00-Class_Prep_Checklist_INSTRUCTOR.ipynb\n",
      "Myfilename ../00-Class_Prep_Checklist_INSTRUCTOR.ipynb\n",
      "WARNING: Instructor file name is wrong 00-Class_Prep_Checklist-INSTRUCTOR.ipynb != ../00-Class_Prep_Checklist_INSTRUCTOR.ipynb\n"
     ]
    },
    {
     "data": {
      "application/javascript": [
       "IPython.notebook.save_notebook()"
      ]
     },
     "metadata": {},
     "output_type": "display_data"
    },
    {
     "name": "stdout",
     "output_type": "stream",
     "text": [
      "00-Class_Prep_Checklist.ipynb\n"
     ]
    },
    {
     "data": {
      "text/html": [
       "<a href=./bookfiles/00-Class_Prep_Checklist.ipynb target=\"blank\">./bookfiles/00-Class_Prep_Checklist.ipynb</a>"
      ],
      "text/plain": [
       "<IPython.core.display.HTML object>"
      ]
     },
     "metadata": {},
     "output_type": "display_data"
    },
    {
     "name": "stdout",
     "output_type": "stream",
     "text": [
      "Validating Notebook ./bookfiles/00-Class_Prep_Checklist.ipynb\n",
      "   ERROR: File Doesn't Exist - 01-Python_Packages\n",
      "   ERROR: File Doesn't Exist - 02--Vectors_pre-class-assignment\n",
      "../0000--Python_Linear_Algebra_Packages_pre-class-assignment-INSTRUCTOR.ipynb\n",
      "Myfilename ../0000--Python_Linear_Algebra_Packages_pre-class-assignment-INSTRUCTOR.ipynb\n",
      "WARNING: Instructor file name is wrong 0000--Python_Linear_Algebra_Packages_pre-class-assignment-INSTRUCTOR.ipynb != ../0000--Python_Linear_Algebra_Packages_pre-class-assignment-INSTRUCTOR.ipynb\n"
     ]
    },
    {
     "data": {
      "application/javascript": [
       "IPython.notebook.save_notebook()"
      ]
     },
     "metadata": {},
     "output_type": "display_data"
    },
    {
     "name": "stdout",
     "output_type": "stream",
     "text": [
      "0000--Python_Linear_Algebra_Packages_pre-class-assignment.ipynb\n"
     ]
    },
    {
     "data": {
      "text/html": [
       "<a href=./bookfiles/0000--Python_Linear_Algebra_Packages_pre-class-assignment.ipynb target=\"blank\">./bookfiles/0000--Python_Linear_Algebra_Packages_pre-class-assignment.ipynb</a>"
      ],
      "text/plain": [
       "<IPython.core.display.HTML object>"
      ]
     },
     "metadata": {},
     "output_type": "display_data"
    },
    {
     "name": "stdout",
     "output_type": "stream",
     "text": [
      "Validating Notebook ./bookfiles/0000--Python_Linear_Algebra_Packages_pre-class-assignment.ipynb\n",
      "   - ERROR: Wrong emphasis- <font color=red>** ** should be first\n",
      "   ERROR: No Alt text in image - data:image/png;base64,iVBORw0KGgoAAAANSUhE..\n",
      "   ERROR: No Alt text in image - data:image/png;base64,iVBORw0KGgoAAAANSUhE..\n",
      "   ERROR: No Alt text in image - data:image/png;base64,iVBORw0KGgoAAAANSUhE..\n",
      "   ERROR: No Alt text in image - data:image/png;base64,iVBORw0KGgoAAAANSUhE..\n",
      "   ERROR: No Alt text in image - data:image/png;base64,iVBORw0KGgoAAAANSUhE..\n",
      "   ERROR: No Alt text in image - data:image/png;base64,iVBORw0KGgoAAAANSUhE..\n",
      "   ERROR: No Alt text in image - data:image/png;base64,iVBORw0KGgoAAAANSUhE..\n",
      "   ERROR: No Alt text in image - data:image/png;base64,iVBORw0KGgoAAAANSUhE..\n",
      "   ERROR: No Alt text in image - data:image/png;base64,iVBORw0KGgoAAAANSUhE..\n",
      "   ERROR: No Alt text in image - data:image/png;base64,iVBORw0KGgoAAAANSUhE..\n",
      "../0000-Jupyter_Getting_Started_Guide-INSTRUCTOR.ipynb\n",
      "Myfilename ../0000-Jupyter_Getting_Started_Guide-INSTRUCTOR.ipynb\n",
      "WARNING: Instructor file name is wrong 0000-Jupyter_Getting_Started_Guide-INSTRUCTOR.ipynb != ../0000-Jupyter_Getting_Started_Guide-INSTRUCTOR.ipynb\n"
     ]
    },
    {
     "data": {
      "application/javascript": [
       "IPython.notebook.save_notebook()"
      ]
     },
     "metadata": {},
     "output_type": "display_data"
    },
    {
     "name": "stdout",
     "output_type": "stream",
     "text": [
      "0000-Jupyter_Getting_Started_Guide.ipynb\n"
     ]
    },
    {
     "data": {
      "text/html": [
       "<a href=./bookfiles/0000-Jupyter_Getting_Started_Guide.ipynb target=\"blank\">./bookfiles/0000-Jupyter_Getting_Started_Guide.ipynb</a>"
      ],
      "text/plain": [
       "<IPython.core.display.HTML object>"
      ]
     },
     "metadata": {},
     "output_type": "display_data"
    },
    {
     "name": "stdout",
     "output_type": "stream",
     "text": [
      "Validating Notebook ./bookfiles/0000-Jupyter_Getting_Started_Guide.ipynb\n",
      "   ERROR: Link not found - https://www.continuum.io/downloads\n",
      "../0000-Python_Packages_INSTRUCTOR.ipynb\n",
      "Myfilename ../0000-Python_Packages_INSTRUCTOR.ipynb\n",
      "WARNING: Instructor file name is wrong 0000-Python_Packages-INSTRUCTOR.ipynb != ../0000-Python_Packages_INSTRUCTOR.ipynb\n"
     ]
    },
    {
     "data": {
      "application/javascript": [
       "IPython.notebook.save_notebook()"
      ]
     },
     "metadata": {},
     "output_type": "display_data"
    },
    {
     "name": "stdout",
     "output_type": "stream",
     "text": [
      "0000-Python_Packages.ipynb\n"
     ]
    },
    {
     "data": {
      "text/html": [
       "<a href=./bookfiles/0000-Python_Packages.ipynb target=\"blank\">./bookfiles/0000-Python_Packages.ipynb</a>"
      ],
      "text/plain": [
       "<IPython.core.display.HTML object>"
      ]
     },
     "metadata": {},
     "output_type": "display_data"
    },
    {
     "name": "stdout",
     "output_type": "stream",
     "text": [
      "Validating Notebook ./bookfiles/0000-Python_Packages.ipynb\n",
      "   WARNING: Notebook had 1 runtime errors\n",
      "\n",
      "   ERROR: No Alt text in image - data:image/png;base64,iVBORw0KGgoAAAANSUhE..\n",
      "   ERROR: No Alt text in image - data:image/png;base64,iVBORw0KGgoAAAANSUhE..\n",
      "   ERROR: No Alt text in image - data:image/png;base64,iVBORw0KGgoAAAANSUhE..\n",
      "   ERROR: No Alt text in image - data:image/png;base64,iVBORw0KGgoAAAANSUhE..\n",
      "   ERROR: No Alt text in image - data:image/png;base64,iVBORw0KGgoAAAANSUhE..\n",
      "   ERROR: No Alt text in image - data:image/png;base64,iVBORw0KGgoAAAANSUhE..\n",
      "   ERROR: No Alt text in image - data:image/png;base64,iVBORw0KGgoAAAANSUhE..\n",
      "   ERROR: No Alt text in image - data:image/png;base64,iVBORw0KGgoAAAANSUhE..\n",
      "   ERROR: No Alt text in image - data:image/png;base64,iVBORw0KGgoAAAANSUhE..\n",
      "../01-CMSE314_introduction_in-class-assignment-INSTRUCTOR.ipynb\n",
      "Myfilename ../01-CMSE314_introduction_in-class-assignment-INSTRUCTOR.ipynb\n",
      "\n",
      "REMOVING ### &#9989; Step 2 - Activate your engineering account \n",
      "\n",
      "> When you enrolled in class you should have received an engineering login.  Go to the following URL to activate the account and set your password.\n",
      "> \n",
      "> * https://www.egr.msu.edu/decs/myaccount/?page=activate\n",
      "> \n",
      ">**_NOTE:_** The Default DECS password is APID then the @ symbole. \n",
      ">\n",
      ">**_ALSO NOTE:_** Anyone not enrolled in the course will likely not have an account. \n",
      "\n",
      "###MSU###\n",
      "\n",
      "\n",
      "REMOVING ### &#9989; Step 4 - Log onto the Engineering JupyterHub Website\n",
      "\n",
      "> http://jupyterhub.egr.msu.edu\n",
      "\n",
      "###MSU###\n",
      "\n",
      "\n",
      "REMOVING ### &#9989; Step 6 - Upload this notebook to newly created folder on Jupyterhub\n",
      "\n",
      "> Once the notebook is uploaded, open it and do the pre-class survey\n",
      "\n",
      "###MSU###\n",
      "\n",
      "\n",
      "REMOVING ###MSU###\n",
      "\n",
      "### &#9989; Step 7 - Sign in to the course slack channel.\n",
      "\n",
      "\n",
      "> We will be using a slack channel for all asynchronous in-class discussions.  My hope is to use this as the primary way to communicate with students outside of class. Therefore I hope everyone will get a slack account. If for some reason you decline to get a slack account, please let me know and I will find a way to accommodate an alternative. \n",
      ">\n",
      "> To join the course slack channel please use the following link:\n",
      "> \n",
      "> - [Link to join slack](###SLACK###)\n",
      "\n",
      "###MSU###\n",
      "\n",
      "WARNING: Instructor file name is wrong 01-CMSE314_introduction_in-class-assignment-INSTRUCTOR.ipynb != ../01-CMSE314_introduction_in-class-assignment-INSTRUCTOR.ipynb\n"
     ]
    },
    {
     "data": {
      "application/javascript": [
       "IPython.notebook.save_notebook()"
      ]
     },
     "metadata": {},
     "output_type": "display_data"
    },
    {
     "name": "stdout",
     "output_type": "stream",
     "text": [
      "01-CMSE314_introduction_in-class-assignment.ipynb\n"
     ]
    },
    {
     "data": {
      "text/html": [
       "<a href=./bookfiles/01-CMSE314_introduction_in-class-assignment.ipynb target=\"blank\">./bookfiles/01-CMSE314_introduction_in-class-assignment.ipynb</a>"
      ],
      "text/plain": [
       "<IPython.core.display.HTML object>"
      ]
     },
     "metadata": {},
     "output_type": "display_data"
    },
    {
     "name": "stdout",
     "output_type": "stream",
     "text": [
      "Validating Notebook ./bookfiles/01-CMSE314_introduction_in-class-assignment.ipynb\n",
      "   Empty Link - <a href=\"\">website</a>\n",
      "   ERROR: File Doesn't Exist - 02--Vectors_pre-class-assignment.ipynb\n",
      "   Empty Link - <a href=\"\">website</a>\n",
      "../02--Vectors_pre-class-assignment-INSTRUCTOR.ipynb\n",
      "Myfilename ../02--Vectors_pre-class-assignment-INSTRUCTOR.ipynb\n",
      "WARNING: Instructor file name is wrong 02--Vectors_pre-class-assignment-INSTRUCTOR.ipynb != ../02--Vectors_pre-class-assignment-INSTRUCTOR.ipynb\n"
     ]
    },
    {
     "data": {
      "application/javascript": [
       "IPython.notebook.save_notebook()"
      ]
     },
     "metadata": {},
     "output_type": "display_data"
    },
    {
     "name": "stdout",
     "output_type": "stream",
     "text": [
      "02--Vectors_pre-class-assignment.ipynb\n"
     ]
    },
    {
     "data": {
      "text/html": [
       "<a href=./bookfiles/02--Vectors_pre-class-assignment.ipynb target=\"blank\">./bookfiles/02--Vectors_pre-class-assignment.ipynb</a>"
      ],
      "text/plain": [
       "<IPython.core.display.HTML object>"
      ]
     },
     "metadata": {},
     "output_type": "display_data"
    },
    {
     "name": "stdout",
     "output_type": "stream",
     "text": [
      "Validating Notebook ./bookfiles/02--Vectors_pre-class-assignment.ipynb\n",
      "   WARNING: Notebook had 3 runtime errors\n",
      "\n",
      "   ERROR: File Doesn't Exist - 01-Python_Packages.ipynb\n",
      "   ERROR: No Alt text in image - data:image/png;base64,iVBORw0KGgoAAAANSUhE..\n",
      "   ERROR: No Alt text in image - data:image/png;base64,iVBORw0KGgoAAAANSUhE..\n",
      "   ERROR: No Alt text in image - data:image/png;base64,iVBORw0KGgoAAAANSUhE..\n",
      "../02-Vectors_in-class-assignment-INSTRUCTOR.ipynb\n",
      "Myfilename ../02-Vectors_in-class-assignment-INSTRUCTOR.ipynb\n",
      "WARNING: Instructor file name is wrong 02-Vectors_in-class-assignment-INSTRUCTOR.ipynb != ../02-Vectors_in-class-assignment-INSTRUCTOR.ipynb\n"
     ]
    },
    {
     "data": {
      "application/javascript": [
       "IPython.notebook.save_notebook()"
      ]
     },
     "metadata": {},
     "output_type": "display_data"
    },
    {
     "name": "stdout",
     "output_type": "stream",
     "text": [
      "02-Vectors_in-class-assignment.ipynb\n"
     ]
    },
    {
     "data": {
      "text/html": [
       "<a href=./bookfiles/02-Vectors_in-class-assignment.ipynb target=\"blank\">./bookfiles/02-Vectors_in-class-assignment.ipynb</a>"
      ],
      "text/plain": [
       "<IPython.core.display.HTML object>"
      ]
     },
     "metadata": {},
     "output_type": "display_data"
    },
    {
     "name": "stdout",
     "output_type": "stream",
     "text": [
      "Validating Notebook ./bookfiles/02-Vectors_in-class-assignment.ipynb\n",
      "   WARNING: Notebook had 13 runtime errors\n",
      "\n",
      "   ERROR: File Doesn't Exist - HW1-Systems_of_linear_equations-STUDENT.ipynb\n",
      "../03--Linear_Equations_pre-class-assignment-INSTRUCTOR.ipynb\n",
      "Myfilename ../03--Linear_Equations_pre-class-assignment-INSTRUCTOR.ipynb\n",
      "WARNING: Instructor file name is wrong 03--Linear_Equations_pre-class-assignment-INSTRUCTOR.ipynb != ../03--Linear_Equations_pre-class-assignment-INSTRUCTOR.ipynb\n"
     ]
    },
    {
     "data": {
      "application/javascript": [
       "IPython.notebook.save_notebook()"
      ]
     },
     "metadata": {},
     "output_type": "display_data"
    },
    {
     "name": "stdout",
     "output_type": "stream",
     "text": [
      "03--Linear_Equations_pre-class-assignment.ipynb\n"
     ]
    },
    {
     "data": {
      "text/html": [
       "<a href=./bookfiles/03--Linear_Equations_pre-class-assignment.ipynb target=\"blank\">./bookfiles/03--Linear_Equations_pre-class-assignment.ipynb</a>"
      ],
      "text/plain": [
       "<IPython.core.display.HTML object>"
      ]
     },
     "metadata": {},
     "output_type": "display_data"
    },
    {
     "name": "stdout",
     "output_type": "stream",
     "text": [
      "Validating Notebook ./bookfiles/03--Linear_Equations_pre-class-assignment.ipynb\n",
      "   ERROR: Link not found - https://brainly.com/question/2202719\n",
      "   ERROR: No Alt text in image - data:image/png;base64,iVBORw0KGgoAAAANSUhE..\n",
      "   ERROR: No Alt text in image - data:image/png;base64,iVBORw0KGgoAAAANSUhE..\n",
      "   ERROR: No Alt text in image - data:image/png;base64,iVBORw0KGgoAAAANSUhE..\n",
      "   ERROR: No Alt text in image - data:image/png;base64,iVBORw0KGgoAAAANSUhE..\n",
      "   ERROR: No Alt text in image - data:image/png;base64,iVBORw0KGgoAAAANSUhE..\n",
      "   ERROR: No Alt text in image - data:image/png;base64,iVBORw0KGgoAAAANSUhE..\n",
      "../03-Linear_Equations_in-class-assignment-INSTRUCTOR.ipynb\n",
      "Myfilename ../03-Linear_Equations_in-class-assignment-INSTRUCTOR.ipynb\n",
      "WARNING: Instructor file name is wrong 03-Linear_Equations_in-class-assignment-INSTRUCTOR.ipynb != ../03-Linear_Equations_in-class-assignment-INSTRUCTOR.ipynb\n"
     ]
    },
    {
     "data": {
      "application/javascript": [
       "IPython.notebook.save_notebook()"
      ]
     },
     "metadata": {},
     "output_type": "display_data"
    },
    {
     "name": "stdout",
     "output_type": "stream",
     "text": [
      "03-Linear_Equations_in-class-assignment.ipynb\n"
     ]
    },
    {
     "data": {
      "text/html": [
       "<a href=./bookfiles/03-Linear_Equations_in-class-assignment.ipynb target=\"blank\">./bookfiles/03-Linear_Equations_in-class-assignment.ipynb</a>"
      ],
      "text/plain": [
       "<IPython.core.display.HTML object>"
      ]
     },
     "metadata": {},
     "output_type": "display_data"
    },
    {
     "name": "stdout",
     "output_type": "stream",
     "text": [
      "Validating Notebook ./bookfiles/03-Linear_Equations_in-class-assignment.ipynb\n",
      "   ERROR: No Alt text in image - data:image/png;base64,iVBORw0KGgoAAAANSUhE..\n",
      "../04--Gauss_Jordan_pre-class-assignment-INSTRUCTOR.ipynb\n",
      "Myfilename ../04--Gauss_Jordan_pre-class-assignment-INSTRUCTOR.ipynb\n",
      "WARNING: Instructor file name is wrong 04--Gauss_Jordan_pre-class-assignment-INSTRUCTOR.ipynb != ../04--Gauss_Jordan_pre-class-assignment-INSTRUCTOR.ipynb\n"
     ]
    },
    {
     "data": {
      "application/javascript": [
       "IPython.notebook.save_notebook()"
      ]
     },
     "metadata": {},
     "output_type": "display_data"
    },
    {
     "name": "stdout",
     "output_type": "stream",
     "text": [
      "04--Gauss_Jordan_pre-class-assignment.ipynb\n"
     ]
    },
    {
     "data": {
      "text/html": [
       "<a href=./bookfiles/04--Gauss_Jordan_pre-class-assignment.ipynb target=\"blank\">./bookfiles/04--Gauss_Jordan_pre-class-assignment.ipynb</a>"
      ],
      "text/plain": [
       "<IPython.core.display.HTML object>"
      ]
     },
     "metadata": {},
     "output_type": "display_data"
    },
    {
     "name": "stdout",
     "output_type": "stream",
     "text": [
      "Validating Notebook ./bookfiles/04--Gauss_Jordan_pre-class-assignment.ipynb\n",
      "   - ERROR: Extra Tag #StartPreClass#\n",
      "../04-Gauss_Jordan_in-class-assignment-INSTRUCTOR.ipynb\n",
      "Myfilename ../04-Gauss_Jordan_in-class-assignment-INSTRUCTOR.ipynb\n",
      "WARNING: Instructor file name is wrong 04-Gauss_Jordan_in-class-assignment-INSTRUCTOR.ipynb != ../04-Gauss_Jordan_in-class-assignment-INSTRUCTOR.ipynb\n"
     ]
    },
    {
     "data": {
      "application/javascript": [
       "IPython.notebook.save_notebook()"
      ]
     },
     "metadata": {},
     "output_type": "display_data"
    },
    {
     "name": "stdout",
     "output_type": "stream",
     "text": [
      "04-Gauss_Jordan_in-class-assignment.ipynb\n"
     ]
    },
    {
     "data": {
      "text/html": [
       "<a href=./bookfiles/04-Gauss_Jordan_in-class-assignment.ipynb target=\"blank\">./bookfiles/04-Gauss_Jordan_in-class-assignment.ipynb</a>"
      ],
      "text/plain": [
       "<IPython.core.display.HTML object>"
      ]
     },
     "metadata": {},
     "output_type": "display_data"
    },
    {
     "name": "stdout",
     "output_type": "stream",
     "text": [
      "Validating Notebook ./bookfiles/04-Gauss_Jordan_in-class-assignment.ipynb\n",
      "   WARNING: Notebook had 11 runtime errors\n",
      "\n",
      "   ERROR: No Alt text in image - data:image/png;base64,iVBORw0KGgoAAAANSUhE..\n",
      "../05--Gauss_Jordan2_pre-class-assignment-INSTRUCTOR.ipynb\n",
      "Myfilename ../05--Gauss_Jordan2_pre-class-assignment-INSTRUCTOR.ipynb\n",
      "WARNING: Instructor file name is wrong 05--Gauss_Jordan2_pre-class-assignment-INSTRUCTOR.ipynb != ../05--Gauss_Jordan2_pre-class-assignment-INSTRUCTOR.ipynb\n"
     ]
    },
    {
     "data": {
      "application/javascript": [
       "IPython.notebook.save_notebook()"
      ]
     },
     "metadata": {},
     "output_type": "display_data"
    },
    {
     "name": "stdout",
     "output_type": "stream",
     "text": [
      "05--Gauss_Jordan2_pre-class-assignment.ipynb\n"
     ]
    },
    {
     "data": {
      "text/html": [
       "<a href=./bookfiles/05--Gauss_Jordan2_pre-class-assignment.ipynb target=\"blank\">./bookfiles/05--Gauss_Jordan2_pre-class-assignment.ipynb</a>"
      ],
      "text/plain": [
       "<IPython.core.display.HTML object>"
      ]
     },
     "metadata": {},
     "output_type": "display_data"
    },
    {
     "name": "stdout",
     "output_type": "stream",
     "text": [
      "Validating Notebook ./bookfiles/05--Gauss_Jordan2_pre-class-assignment.ipynb\n",
      "   - ERROR: Extra Tag #EndPreClass#\n",
      "   - ERROR: Wrong emphasis- <font color=red>** ** should be first\n",
      "   WARNING: Notebook had 11 runtime errors\n",
      "\n",
      "../05-Gauss_Jordan2_in-class-assignment-INSTRUCTOR.ipynb\n",
      "Myfilename ../05-Gauss_Jordan2_in-class-assignment-INSTRUCTOR.ipynb\n",
      "WARNING: Instructor file name is wrong 05-Gauss_Jordan2_in-class-assignment-INSTRUCTOR.ipynb != ../05-Gauss_Jordan2_in-class-assignment-INSTRUCTOR.ipynb\n"
     ]
    },
    {
     "data": {
      "application/javascript": [
       "IPython.notebook.save_notebook()"
      ]
     },
     "metadata": {},
     "output_type": "display_data"
    },
    {
     "name": "stdout",
     "output_type": "stream",
     "text": [
      "05-Gauss_Jordan2_in-class-assignment.ipynb\n"
     ]
    },
    {
     "data": {
      "text/html": [
       "<a href=./bookfiles/05-Gauss_Jordan2_in-class-assignment.ipynb target=\"blank\">./bookfiles/05-Gauss_Jordan2_in-class-assignment.ipynb</a>"
      ],
      "text/plain": [
       "<IPython.core.display.HTML object>"
      ]
     },
     "metadata": {},
     "output_type": "display_data"
    },
    {
     "name": "stdout",
     "output_type": "stream",
     "text": [
      "Validating Notebook ./bookfiles/05-Gauss_Jordan2_in-class-assignment.ipynb\n",
      "   - ERROR: Extra Tag #EndInClass#\n",
      "   WARNING: Notebook had 2 runtime errors\n",
      "\n",
      "../06--Mechanics_pre-class-assignment-INSTRUCTOR.ipynb\n",
      "Myfilename ../06--Mechanics_pre-class-assignment-INSTRUCTOR.ipynb\n",
      "WARNING: Instructor file name is wrong 06--Mechanics_pre-class-assignment-INSTRUCTOR.ipynb != ../06--Mechanics_pre-class-assignment-INSTRUCTOR.ipynb\n"
     ]
    },
    {
     "data": {
      "application/javascript": [
       "IPython.notebook.save_notebook()"
      ]
     },
     "metadata": {},
     "output_type": "display_data"
    },
    {
     "name": "stdout",
     "output_type": "stream",
     "text": [
      "06--Mechanics_pre-class-assignment.ipynb\n"
     ]
    },
    {
     "data": {
      "text/html": [
       "<a href=./bookfiles/06--Mechanics_pre-class-assignment.ipynb target=\"blank\">./bookfiles/06--Mechanics_pre-class-assignment.ipynb</a>"
      ],
      "text/plain": [
       "<IPython.core.display.HTML object>"
      ]
     },
     "metadata": {},
     "output_type": "display_data"
    },
    {
     "name": "stdout",
     "output_type": "stream",
     "text": [
      "Validating Notebook ./bookfiles/06--Mechanics_pre-class-assignment.ipynb\n",
      "   WARNING: Notebook had 5 runtime errors\n",
      "\n",
      "   ERROR: Missing anchor for Solving-Many-Systems-(at-the-same-time)\n",
      "../06-Mechanics_in-class-assignment-INSTRUCTOR.ipynb\n",
      "Myfilename ../06-Mechanics_in-class-assignment-INSTRUCTOR.ipynb\n",
      "WARNING: Instructor file name is wrong 06-Mechanics_in-class-assignment-INSTRUCTOR.ipynb != ../06-Mechanics_in-class-assignment-INSTRUCTOR.ipynb\n"
     ]
    },
    {
     "data": {
      "application/javascript": [
       "IPython.notebook.save_notebook()"
      ]
     },
     "metadata": {},
     "output_type": "display_data"
    },
    {
     "name": "stdout",
     "output_type": "stream",
     "text": [
      "06-Mechanics_in-class-assignment.ipynb\n"
     ]
    },
    {
     "data": {
      "text/html": [
       "<a href=./bookfiles/06-Mechanics_in-class-assignment.ipynb target=\"blank\">./bookfiles/06-Mechanics_in-class-assignment.ipynb</a>"
      ],
      "text/plain": [
       "<IPython.core.display.HTML object>"
      ]
     },
     "metadata": {},
     "output_type": "display_data"
    },
    {
     "name": "stdout",
     "output_type": "stream",
     "text": [
      "Validating Notebook ./bookfiles/06-Mechanics_in-class-assignment.ipynb\n",
      "   WARNING: Notebook had 5 runtime errors\n",
      "\n",
      "../07--Transformations_pre-class-assignment-INSTRUCTOR.ipynb\n",
      "Myfilename ../07--Transformations_pre-class-assignment-INSTRUCTOR.ipynb\n",
      "WARNING: Instructor file name is wrong 07--Transformations_pre-class-assignment-INSTRUCTOR.ipynb != ../07--Transformations_pre-class-assignment-INSTRUCTOR.ipynb\n"
     ]
    },
    {
     "data": {
      "application/javascript": [
       "IPython.notebook.save_notebook()"
      ]
     },
     "metadata": {},
     "output_type": "display_data"
    },
    {
     "name": "stdout",
     "output_type": "stream",
     "text": [
      "07--Transformations_pre-class-assignment.ipynb\n"
     ]
    },
    {
     "data": {
      "text/html": [
       "<a href=./bookfiles/07--Transformations_pre-class-assignment.ipynb target=\"blank\">./bookfiles/07--Transformations_pre-class-assignment.ipynb</a>"
      ],
      "text/plain": [
       "<IPython.core.display.HTML object>"
      ]
     },
     "metadata": {},
     "output_type": "display_data"
    },
    {
     "name": "stdout",
     "output_type": "stream",
     "text": [
      "Validating Notebook ./bookfiles/07--Transformations_pre-class-assignment.ipynb\n",
      "   WARNING: Notebook had 2 runtime errors\n",
      "\n",
      "   ERROR: No Alt text in image - data:image/png;base64,iVBORw0KGgoAAAANSUhE..\n",
      "   ERROR: No Alt text in image - data:image/png;base64,iVBORw0KGgoAAAANSUhE..\n",
      "   ERROR: No Alt text in image - data:image/png;base64,iVBORw0KGgoAAAANSUhE..\n",
      "../07-Transformations_in-class-assignment-INSTRUCTOR.ipynb\n",
      "Myfilename ../07-Transformations_in-class-assignment-INSTRUCTOR.ipynb\n",
      "WARNING: Instructor file name is wrong 07-Transformations_in-class-assignment-INSTRUCTOR.ipynb != ../07-Transformations_in-class-assignment-INSTRUCTOR.ipynb\n"
     ]
    },
    {
     "data": {
      "application/javascript": [
       "IPython.notebook.save_notebook()"
      ]
     },
     "metadata": {},
     "output_type": "display_data"
    },
    {
     "name": "stdout",
     "output_type": "stream",
     "text": [
      "07-Transformations_in-class-assignment.ipynb\n"
     ]
    },
    {
     "data": {
      "text/html": [
       "<a href=./bookfiles/07-Transformations_in-class-assignment.ipynb target=\"blank\">./bookfiles/07-Transformations_in-class-assignment.ipynb</a>"
      ],
      "text/plain": [
       "<IPython.core.display.HTML object>"
      ]
     },
     "metadata": {},
     "output_type": "display_data"
    },
    {
     "name": "stdout",
     "output_type": "stream",
     "text": [
      "Validating Notebook ./bookfiles/07-Transformations_in-class-assignment.ipynb\n",
      "   WARNING: Notebook had 1 runtime errors\n",
      "\n",
      "   ERROR: File Doesn't Exist - HW1-Systems_of_linear_equations.ipynb\n",
      "   ERROR: No Alt text in image - https://people.gnome.org/~mathieu/libart/a..\n",
      "   ERROR: No Alt text in image - data:image/png;base64,iVBORw0KGgoAAAANSUhE..\n",
      "   ERROR: No Alt text in image - data:image/png;base64,iVBORw0KGgoAAAANSUhE..\n",
      "   ERROR: No Alt text in image - data:image/png;base64,iVBORw0KGgoAAAANSUhE..\n",
      "   ERROR: No Alt text in image - data:image/png;base64,iVBORw0KGgoAAAANSUhE..\n",
      "   ERROR: No Alt text in image - data:image/png;base64,iVBORw0KGgoAAAANSUhE..\n",
      "   ERROR: No Alt text in image - data:image/png;base64,iVBORw0KGgoAAAANSUhE..\n",
      "   ERROR: No Alt text in image - data:image/png;base64,iVBORw0KGgoAAAANSUhE..\n",
      "   ERROR: No Alt text in image - https://lh6.googleusercontent.com/_0-jr5Z0..\n",
      "   ERROR: No Alt text in image - data:image/png;base64,iVBORw0KGgoAAAANSUhE..\n",
      "../08--Robotics_pre-class-assignment-INSTRUCTOR.ipynb\n",
      "Myfilename ../08--Robotics_pre-class-assignment-INSTRUCTOR.ipynb\n",
      "WARNING: Instructor file name is wrong 08--Robotics_pre-class-assignment-INSTRUCTOR.ipynb != ../08--Robotics_pre-class-assignment-INSTRUCTOR.ipynb\n"
     ]
    },
    {
     "data": {
      "application/javascript": [
       "IPython.notebook.save_notebook()"
      ]
     },
     "metadata": {},
     "output_type": "display_data"
    },
    {
     "name": "stdout",
     "output_type": "stream",
     "text": [
      "08--Robotics_pre-class-assignment.ipynb\n"
     ]
    },
    {
     "data": {
      "text/html": [
       "<a href=./bookfiles/08--Robotics_pre-class-assignment.ipynb target=\"blank\">./bookfiles/08--Robotics_pre-class-assignment.ipynb</a>"
      ],
      "text/plain": [
       "<IPython.core.display.HTML object>"
      ]
     },
     "metadata": {},
     "output_type": "display_data"
    },
    {
     "name": "stdout",
     "output_type": "stream",
     "text": [
      "Validating Notebook ./bookfiles/08--Robotics_pre-class-assignment.ipynb\n",
      "   ERROR: No Alt text in image - https://lh5.googleusercontent.com/S70gMT_j..\n",
      "   ERROR: No Alt text in image - data:image/png;base64,iVBORw0KGgoAAAANSUhE..\n",
      "   ERROR: No Alt text in image - data:image/png;base64,iVBORw0KGgoAAAANSUhE..\n",
      "   ERROR: No Alt text in image - data:image/png;base64,iVBORw0KGgoAAAANSUhE..\n",
      "   ERROR: No Alt text in image - https://lh3.googleusercontent.com/zCoCDGfs..\n",
      "   ERROR: No Alt text in image - data:image/png;base64,iVBORw0KGgoAAAANSUhE..\n",
      "   ERROR: No Alt text in image - data:image/png;base64,iVBORw0KGgoAAAANSUhE..\n",
      "   ERROR: No Alt text in image - data:image/png;base64,iVBORw0KGgoAAAANSUhE..\n",
      "   ERROR: No Alt text in image - data:image/png;base64,iVBORw0KGgoAAAANSUhE..\n",
      "   ERROR: No Alt text in image - data:image/png;base64,iVBORw0KGgoAAAANSUhE..\n",
      "   ERROR: No Alt text in image - data:image/png;base64,iVBORw0KGgoAAAANSUhE..\n",
      "../08-Robotics_in-class-assignment-INSTRUCTOR.ipynb\n",
      "Myfilename ../08-Robotics_in-class-assignment-INSTRUCTOR.ipynb\n",
      "WARNING: Instructor file name is wrong 08-Robotics_in-class-assignment-INSTRUCTOR.ipynb != ../08-Robotics_in-class-assignment-INSTRUCTOR.ipynb\n"
     ]
    },
    {
     "data": {
      "application/javascript": [
       "IPython.notebook.save_notebook()"
      ]
     },
     "metadata": {},
     "output_type": "display_data"
    },
    {
     "name": "stdout",
     "output_type": "stream",
     "text": [
      "08-Robotics_in-class-assignment.ipynb\n"
     ]
    },
    {
     "data": {
      "text/html": [
       "<a href=./bookfiles/08-Robotics_in-class-assignment.ipynb target=\"blank\">./bookfiles/08-Robotics_in-class-assignment.ipynb</a>"
      ],
      "text/plain": [
       "<IPython.core.display.HTML object>"
      ]
     },
     "metadata": {},
     "output_type": "display_data"
    },
    {
     "name": "stdout",
     "output_type": "stream",
     "text": [
      "Validating Notebook ./bookfiles/08-Robotics_in-class-assignment.ipynb\n",
      "   WARNING: Notebook preprocess Timeout (check for long running code)\n",
      " Cell..\n",
      "   ERROR: Link not found - https://pixabay.com/images/search/toy%20robot/\n",
      "   ERROR: No Alt text in image - data:image/png;base64,iVBORw0KGgoAAAANSUhE..\n",
      "   ERROR: No Alt text in image - data:image/png;base64,iVBORw0KGgoAAAANSUhE..\n",
      "../09--Determinants_pre-class-assignment-INSTRUCTOR.ipynb\n",
      "Myfilename ../09--Determinants_pre-class-assignment-INSTRUCTOR.ipynb\n",
      "WARNING: Instructor file name is wrong 09--Determinants_pre-class-assignment-INSTRUCTOR.ipynb != ../09--Determinants_pre-class-assignment-INSTRUCTOR.ipynb\n"
     ]
    },
    {
     "data": {
      "application/javascript": [
       "IPython.notebook.save_notebook()"
      ]
     },
     "metadata": {},
     "output_type": "display_data"
    },
    {
     "name": "stdout",
     "output_type": "stream",
     "text": [
      "09--Determinants_pre-class-assignment.ipynb\n"
     ]
    },
    {
     "data": {
      "text/html": [
       "<a href=./bookfiles/09--Determinants_pre-class-assignment.ipynb target=\"blank\">./bookfiles/09--Determinants_pre-class-assignment.ipynb</a>"
      ],
      "text/plain": [
       "<IPython.core.display.HTML object>"
      ]
     },
     "metadata": {},
     "output_type": "display_data"
    },
    {
     "name": "stdout",
     "output_type": "stream",
     "text": [
      "Validating Notebook ./bookfiles/09--Determinants_pre-class-assignment.ipynb\n",
      "   WARNING: Notebook had 5 runtime errors\n",
      "\n",
      "../09-Determinats_in-class-assignment-INSTRUCTOR.ipynb\n",
      "Myfilename ../09-Determinats_in-class-assignment-INSTRUCTOR.ipynb\n",
      "WARNING: Instructor file name is wrong 09-Determinats_in-class-assignment-INSTRUCTOR.ipynb != ../09-Determinats_in-class-assignment-INSTRUCTOR.ipynb\n"
     ]
    },
    {
     "data": {
      "application/javascript": [
       "IPython.notebook.save_notebook()"
      ]
     },
     "metadata": {},
     "output_type": "display_data"
    },
    {
     "name": "stdout",
     "output_type": "stream",
     "text": [
      "09-Determinats_in-class-assignment.ipynb\n"
     ]
    },
    {
     "data": {
      "text/html": [
       "<a href=./bookfiles/09-Determinats_in-class-assignment.ipynb target=\"blank\">./bookfiles/09-Determinats_in-class-assignment.ipynb</a>"
      ],
      "text/plain": [
       "<IPython.core.display.HTML object>"
      ]
     },
     "metadata": {},
     "output_type": "display_data"
    },
    {
     "name": "stdout",
     "output_type": "stream",
     "text": [
      "Validating Notebook ./bookfiles/09-Determinats_in-class-assignment.ipynb\n",
      "../10--Eigenproblems_pre-class-assignment-INSTRUCTOR.ipynb\n",
      "Myfilename ../10--Eigenproblems_pre-class-assignment-INSTRUCTOR.ipynb\n",
      "WARNING: Instructor file name is wrong 10--Eigenproblems_pre-class-assignment-INSTRUCTOR.ipynb != ../10--Eigenproblems_pre-class-assignment-INSTRUCTOR.ipynb\n"
     ]
    },
    {
     "data": {
      "application/javascript": [
       "IPython.notebook.save_notebook()"
      ]
     },
     "metadata": {},
     "output_type": "display_data"
    },
    {
     "name": "stdout",
     "output_type": "stream",
     "text": [
      "10--Eigenproblems_pre-class-assignment.ipynb\n"
     ]
    },
    {
     "data": {
      "text/html": [
       "<a href=./bookfiles/10--Eigenproblems_pre-class-assignment.ipynb target=\"blank\">./bookfiles/10--Eigenproblems_pre-class-assignment.ipynb</a>"
      ],
      "text/plain": [
       "<IPython.core.display.HTML object>"
      ]
     },
     "metadata": {},
     "output_type": "display_data"
    },
    {
     "name": "stdout",
     "output_type": "stream",
     "text": [
      "Validating Notebook ./bookfiles/10--Eigenproblems_pre-class-assignment.ipynb\n",
      "   WARNING: Notebook had 5 runtime errors\n",
      "\n",
      "   ERROR: File Doesn't Exist - (https://docs.google.com/viewer?a=v&pid=sites&srcid=ZGVmYXVsdGRvbWFpbnxuYXNsdW5kZXJpY3xneDo2ZTAyNzA4NTZmOGZmNmU4\n",
      "   ERROR: Missing anchor for T3\n",
      "../10-Eigenproblems_in-class-assignment-INSTRUCTOR.ipynb\n",
      "Myfilename ../10-Eigenproblems_in-class-assignment-INSTRUCTOR.ipynb\n",
      "WARNING: Instructor file name is wrong 10-Eigenproblems_in-class-assignment-INSTRUCTOR.ipynb != ../10-Eigenproblems_in-class-assignment-INSTRUCTOR.ipynb\n"
     ]
    },
    {
     "data": {
      "application/javascript": [
       "IPython.notebook.save_notebook()"
      ]
     },
     "metadata": {},
     "output_type": "display_data"
    },
    {
     "name": "stdout",
     "output_type": "stream",
     "text": [
      "10-Eigenproblems_in-class-assignment.ipynb\n"
     ]
    },
    {
     "data": {
      "text/html": [
       "<a href=./bookfiles/10-Eigenproblems_in-class-assignment.ipynb target=\"blank\">./bookfiles/10-Eigenproblems_in-class-assignment.ipynb</a>"
      ],
      "text/plain": [
       "<IPython.core.display.HTML object>"
      ]
     },
     "metadata": {},
     "output_type": "display_data"
    },
    {
     "name": "stdout",
     "output_type": "stream",
     "text": [
      "Validating Notebook ./bookfiles/10-Eigenproblems_in-class-assignment.ipynb\n",
      "   WARNING: Notebook had 7 runtime errors\n",
      "\n",
      "   ERROR: File Doesn't Exist - HW2-Affine_transform.ipynb\n",
      "   ERROR: No Alt text in image - https://upload.wikimedia.org/wikipedia/com..\n",
      "../11--Vector_Spaces_pre-class-assignment-INSTRUCTOR.ipynb\n",
      "Myfilename ../11--Vector_Spaces_pre-class-assignment-INSTRUCTOR.ipynb\n",
      "WARNING: Instructor file name is wrong 11--Vector_Spaces_pre-class-assignment-INSTRUCTOR.ipynb != ../11--Vector_Spaces_pre-class-assignment-INSTRUCTOR.ipynb\n"
     ]
    },
    {
     "data": {
      "application/javascript": [
       "IPython.notebook.save_notebook()"
      ]
     },
     "metadata": {},
     "output_type": "display_data"
    },
    {
     "name": "stdout",
     "output_type": "stream",
     "text": [
      "11--Vector_Spaces_pre-class-assignment.ipynb\n"
     ]
    },
    {
     "data": {
      "text/html": [
       "<a href=./bookfiles/11--Vector_Spaces_pre-class-assignment.ipynb target=\"blank\">./bookfiles/11--Vector_Spaces_pre-class-assignment.ipynb</a>"
      ],
      "text/plain": [
       "<IPython.core.display.HTML object>"
      ]
     },
     "metadata": {},
     "output_type": "display_data"
    },
    {
     "name": "stdout",
     "output_type": "stream",
     "text": [
      "Validating Notebook ./bookfiles/11--Vector_Spaces_pre-class-assignment.ipynb\n",
      "../11-Vector_Spaces_in-class-assignment-INSTRUCTOR.ipynb\n",
      "Myfilename ../11-Vector_Spaces_in-class-assignment-INSTRUCTOR.ipynb\n",
      "WARNING: Instructor file name is wrong 11-Vector_Spaces_in-class-assignment-INSTRUCTOR.ipynb != ../11-Vector_Spaces_in-class-assignment-INSTRUCTOR.ipynb\n"
     ]
    },
    {
     "data": {
      "application/javascript": [
       "IPython.notebook.save_notebook()"
      ]
     },
     "metadata": {},
     "output_type": "display_data"
    },
    {
     "name": "stdout",
     "output_type": "stream",
     "text": [
      "11-Vector_Spaces_in-class-assignment.ipynb\n"
     ]
    },
    {
     "data": {
      "text/html": [
       "<a href=./bookfiles/11-Vector_Spaces_in-class-assignment.ipynb target=\"blank\">./bookfiles/11-Vector_Spaces_in-class-assignment.ipynb</a>"
      ],
      "text/plain": [
       "<IPython.core.display.HTML object>"
      ]
     },
     "metadata": {},
     "output_type": "display_data"
    },
    {
     "name": "stdout",
     "output_type": "stream",
     "text": [
      "Validating Notebook ./bookfiles/11-Vector_Spaces_in-class-assignment.ipynb\n",
      "   WARNING: Notebook had 2 runtime errors\n",
      "\n",
      "   ERROR: No Alt text in image - https://upload.wikimedia.org/wikipedia/com..\n",
      "../12--Change_Basis_pre-class-assignment-INSTRUCTOR.ipynb\n",
      "Myfilename ../12--Change_Basis_pre-class-assignment-INSTRUCTOR.ipynb\n",
      "WARNING: Instructor file name is wrong 12--Change_Basis_pre-class-assignment-INSTRUCTOR.ipynb != ../12--Change_Basis_pre-class-assignment-INSTRUCTOR.ipynb\n"
     ]
    },
    {
     "data": {
      "application/javascript": [
       "IPython.notebook.save_notebook()"
      ]
     },
     "metadata": {},
     "output_type": "display_data"
    },
    {
     "name": "stdout",
     "output_type": "stream",
     "text": [
      "12--Change_Basis_pre-class-assignment.ipynb\n"
     ]
    },
    {
     "data": {
      "text/html": [
       "<a href=./bookfiles/12--Change_Basis_pre-class-assignment.ipynb target=\"blank\">./bookfiles/12--Change_Basis_pre-class-assignment.ipynb</a>"
      ],
      "text/plain": [
       "<IPython.core.display.HTML object>"
      ]
     },
     "metadata": {},
     "output_type": "display_data"
    },
    {
     "name": "stdout",
     "output_type": "stream",
     "text": [
      "Validating Notebook ./bookfiles/12--Change_Basis_pre-class-assignment.ipynb\n",
      "   WARNING: Notebook had 9 runtime errors\n",
      "\n",
      "   ERROR: No Alt text in image - data:image/png;base64,iVBORw0KGgoAAAANSUhE..\n",
      "../12-Changing_vector_space_in-class-assignment-INSTRUCTOR.ipynb\n",
      "Myfilename ../12-Changing_vector_space_in-class-assignment-INSTRUCTOR.ipynb\n",
      "WARNING: Instructor file name is wrong 12-Changing_vector_space_in-class-assignment-INSTRUCTOR.ipynb != ../12-Changing_vector_space_in-class-assignment-INSTRUCTOR.ipynb\n"
     ]
    },
    {
     "data": {
      "application/javascript": [
       "IPython.notebook.save_notebook()"
      ]
     },
     "metadata": {},
     "output_type": "display_data"
    },
    {
     "name": "stdout",
     "output_type": "stream",
     "text": [
      "12-Changing_vector_space_in-class-assignment.ipynb\n"
     ]
    },
    {
     "data": {
      "text/html": [
       "<a href=./bookfiles/12-Changing_vector_space_in-class-assignment.ipynb target=\"blank\">./bookfiles/12-Changing_vector_space_in-class-assignment.ipynb</a>"
      ],
      "text/plain": [
       "<IPython.core.display.HTML object>"
      ]
     },
     "metadata": {},
     "output_type": "display_data"
    },
    {
     "name": "stdout",
     "output_type": "stream",
     "text": [
      "Validating Notebook ./bookfiles/12-Changing_vector_space_in-class-assignment.ipynb\n",
      "   WARNING: Notebook had 2 runtime errors\n",
      "\n",
      "   ERROR: Link not found - https://en.wikipedia.org/wiki/Kernel_(linear_algebra\n",
      "../13--Projections_pre-class-assignment-INSTRUCTOR.ipynb\n",
      "Myfilename ../13--Projections_pre-class-assignment-INSTRUCTOR.ipynb\n",
      "WARNING: Instructor file name is wrong 13--Projections_pre-class-assignment-INSTRUCTOR.ipynb != ../13--Projections_pre-class-assignment-INSTRUCTOR.ipynb\n"
     ]
    },
    {
     "data": {
      "application/javascript": [
       "IPython.notebook.save_notebook()"
      ]
     },
     "metadata": {},
     "output_type": "display_data"
    },
    {
     "name": "stdout",
     "output_type": "stream",
     "text": [
      "13--Projections_pre-class-assignment.ipynb\n"
     ]
    },
    {
     "data": {
      "text/html": [
       "<a href=./bookfiles/13--Projections_pre-class-assignment.ipynb target=\"blank\">./bookfiles/13--Projections_pre-class-assignment.ipynb</a>"
      ],
      "text/plain": [
       "<IPython.core.display.HTML object>"
      ]
     },
     "metadata": {},
     "output_type": "display_data"
    },
    {
     "name": "stdout",
     "output_type": "stream",
     "text": [
      "Validating Notebook ./bookfiles/13--Projections_pre-class-assignment.ipynb\n",
      "../13-Projections_in-class-assignment-INSTRUCTOR.ipynb\n",
      "Myfilename ../13-Projections_in-class-assignment-INSTRUCTOR.ipynb\n",
      "WARNING: Instructor file name is wrong 13-Projections_in-class-assignment-INSTRUCTOR.ipynb != ../13-Projections_in-class-assignment-INSTRUCTOR.ipynb\n"
     ]
    },
    {
     "data": {
      "application/javascript": [
       "IPython.notebook.save_notebook()"
      ]
     },
     "metadata": {},
     "output_type": "display_data"
    },
    {
     "name": "stdout",
     "output_type": "stream",
     "text": [
      "13-Projections_in-class-assignment.ipynb\n"
     ]
    },
    {
     "data": {
      "text/html": [
       "<a href=./bookfiles/13-Projections_in-class-assignment.ipynb target=\"blank\">./bookfiles/13-Projections_in-class-assignment.ipynb</a>"
      ],
      "text/plain": [
       "<IPython.core.display.HTML object>"
      ]
     },
     "metadata": {},
     "output_type": "display_data"
    },
    {
     "name": "stdout",
     "output_type": "stream",
     "text": [
      "Validating Notebook ./bookfiles/13-Projections_in-class-assignment.ipynb\n",
      "   WARNING: Notebook had 6 runtime errors\n",
      "\n",
      "   ERROR: No Alt text in image - data:image/png;base64,iVBORw0KGgoAAAANSUhE..\n",
      "../14--Fundamental_Spaces_pre-class-assignment-INSTRUCTOR.ipynb\n",
      "Myfilename ../14--Fundamental_Spaces_pre-class-assignment-INSTRUCTOR.ipynb\n",
      "WARNING: Instructor file name is wrong 14--Fundamental_Spaces_pre-class-assignment-INSTRUCTOR.ipynb != ../14--Fundamental_Spaces_pre-class-assignment-INSTRUCTOR.ipynb\n"
     ]
    },
    {
     "data": {
      "application/javascript": [
       "IPython.notebook.save_notebook()"
      ]
     },
     "metadata": {},
     "output_type": "display_data"
    },
    {
     "name": "stdout",
     "output_type": "stream",
     "text": [
      "14--Fundamental_Spaces_pre-class-assignment.ipynb\n"
     ]
    },
    {
     "data": {
      "text/html": [
       "<a href=./bookfiles/14--Fundamental_Spaces_pre-class-assignment.ipynb target=\"blank\">./bookfiles/14--Fundamental_Spaces_pre-class-assignment.ipynb</a>"
      ],
      "text/plain": [
       "<IPython.core.display.HTML object>"
      ]
     },
     "metadata": {},
     "output_type": "display_data"
    },
    {
     "name": "stdout",
     "output_type": "stream",
     "text": [
      "Validating Notebook ./bookfiles/14--Fundamental_Spaces_pre-class-assignment.ipynb\n",
      "../14-Fundamental_Spaces_in-class-assignment-INSTRUCTOR.ipynb\n",
      "Myfilename ../14-Fundamental_Spaces_in-class-assignment-INSTRUCTOR.ipynb\n",
      "WARNING: Instructor file name is wrong 14-Fundamental_Spaces_in-class-assignment-INSTRUCTOR.ipynb != ../14-Fundamental_Spaces_in-class-assignment-INSTRUCTOR.ipynb\n"
     ]
    },
    {
     "data": {
      "application/javascript": [
       "IPython.notebook.save_notebook()"
      ]
     },
     "metadata": {},
     "output_type": "display_data"
    },
    {
     "name": "stdout",
     "output_type": "stream",
     "text": [
      "14-Fundamental_Spaces_in-class-assignment.ipynb\n"
     ]
    },
    {
     "data": {
      "text/html": [
       "<a href=./bookfiles/14-Fundamental_Spaces_in-class-assignment.ipynb target=\"blank\">./bookfiles/14-Fundamental_Spaces_in-class-assignment.ipynb</a>"
      ],
      "text/plain": [
       "<IPython.core.display.HTML object>"
      ]
     },
     "metadata": {},
     "output_type": "display_data"
    },
    {
     "name": "stdout",
     "output_type": "stream",
     "text": [
      "Validating Notebook ./bookfiles/14-Fundamental_Spaces_in-class-assignment.ipynb\n",
      "../15--Diagonalization_pre-class-assignment-INSTRUCTOR.ipynb\n",
      "Myfilename ../15--Diagonalization_pre-class-assignment-INSTRUCTOR.ipynb\n",
      "WARNING: Instructor file name is wrong 15--Diagonalization_pre-class-assignment-INSTRUCTOR.ipynb != ../15--Diagonalization_pre-class-assignment-INSTRUCTOR.ipynb\n"
     ]
    },
    {
     "data": {
      "application/javascript": [
       "IPython.notebook.save_notebook()"
      ]
     },
     "metadata": {},
     "output_type": "display_data"
    },
    {
     "name": "stdout",
     "output_type": "stream",
     "text": [
      "15--Diagonalization_pre-class-assignment.ipynb\n"
     ]
    },
    {
     "data": {
      "text/html": [
       "<a href=./bookfiles/15--Diagonalization_pre-class-assignment.ipynb target=\"blank\">./bookfiles/15--Diagonalization_pre-class-assignment.ipynb</a>"
      ],
      "text/plain": [
       "<IPython.core.display.HTML object>"
      ]
     },
     "metadata": {},
     "output_type": "display_data"
    },
    {
     "name": "stdout",
     "output_type": "stream",
     "text": [
      "Validating Notebook ./bookfiles/15--Diagonalization_pre-class-assignment.ipynb\n",
      "   WARNING: Notebook had 2 runtime errors\n",
      "\n",
      "../15-Diagonalization_in-class-assignment-INSTRUCTOR.ipynb\n",
      "Myfilename ../15-Diagonalization_in-class-assignment-INSTRUCTOR.ipynb\n",
      "WARNING: Instructor file name is wrong 15-Diagonalization_in-class-assignment-INSTRUCTOR.ipynb != ../15-Diagonalization_in-class-assignment-INSTRUCTOR.ipynb\n"
     ]
    },
    {
     "data": {
      "application/javascript": [
       "IPython.notebook.save_notebook()"
      ]
     },
     "metadata": {},
     "output_type": "display_data"
    },
    {
     "name": "stdout",
     "output_type": "stream",
     "text": [
      "15-Diagonalization_in-class-assignment.ipynb\n"
     ]
    },
    {
     "data": {
      "text/html": [
       "<a href=./bookfiles/15-Diagonalization_in-class-assignment.ipynb target=\"blank\">./bookfiles/15-Diagonalization_in-class-assignment.ipynb</a>"
      ],
      "text/plain": [
       "<IPython.core.display.HTML object>"
      ]
     },
     "metadata": {},
     "output_type": "display_data"
    },
    {
     "name": "stdout",
     "output_type": "stream",
     "text": [
      "Validating Notebook ./bookfiles/15-Diagonalization_in-class-assignment.ipynb\n",
      "   WARNING: Notebook had 9 runtime errors\n",
      "\n",
      "   ERROR: No Alt text in image - data:image/png;base64,iVBORw0KGgoAAAANSUhE..\n",
      "../16--Linear_Dynamical_Systems_pre-class-assignment-INSTRUCTOR.ipynb\n",
      "Myfilename ../16--Linear_Dynamical_Systems_pre-class-assignment-INSTRUCTOR.ipynb\n",
      "WARNING: Instructor file name is wrong 16--Linear_Dynamical_Systems_pre-class-assignment-INSTRUCTOR.ipynb != ../16--Linear_Dynamical_Systems_pre-class-assignment-INSTRUCTOR.ipynb\n"
     ]
    },
    {
     "data": {
      "application/javascript": [
       "IPython.notebook.save_notebook()"
      ]
     },
     "metadata": {},
     "output_type": "display_data"
    },
    {
     "name": "stdout",
     "output_type": "stream",
     "text": [
      "16--Linear_Dynamical_Systems_pre-class-assignment.ipynb\n"
     ]
    },
    {
     "data": {
      "text/html": [
       "<a href=./bookfiles/16--Linear_Dynamical_Systems_pre-class-assignment.ipynb target=\"blank\">./bookfiles/16--Linear_Dynamical_Systems_pre-class-assignment.ipynb</a>"
      ],
      "text/plain": [
       "<IPython.core.display.HTML object>"
      ]
     },
     "metadata": {},
     "output_type": "display_data"
    },
    {
     "name": "stdout",
     "output_type": "stream",
     "text": [
      "Validating Notebook ./bookfiles/16--Linear_Dynamical_Systems_pre-class-assignment.ipynb\n",
      "   ERROR: No Alt text in image - data:image/png;base64,iVBORw0KGgoAAAANSUhE..\n",
      "../16-Linear_Dynamical_Systems_in-class-assignment-INSTRUCTOR.ipynb\n",
      "Myfilename ../16-Linear_Dynamical_Systems_in-class-assignment-INSTRUCTOR.ipynb\n",
      "WARNING: Instructor file name is wrong 16-Linear_Dynamical_Systems_in-class-assignment-INSTRUCTOR.ipynb != ../16-Linear_Dynamical_Systems_in-class-assignment-INSTRUCTOR.ipynb\n"
     ]
    },
    {
     "data": {
      "application/javascript": [
       "IPython.notebook.save_notebook()"
      ]
     },
     "metadata": {},
     "output_type": "display_data"
    },
    {
     "name": "stdout",
     "output_type": "stream",
     "text": [
      "16-Linear_Dynamical_Systems_in-class-assignment.ipynb\n"
     ]
    },
    {
     "data": {
      "text/html": [
       "<a href=./bookfiles/16-Linear_Dynamical_Systems_in-class-assignment.ipynb target=\"blank\">./bookfiles/16-Linear_Dynamical_Systems_in-class-assignment.ipynb</a>"
      ],
      "text/plain": [
       "<IPython.core.display.HTML object>"
      ]
     },
     "metadata": {},
     "output_type": "display_data"
    },
    {
     "name": "stdout",
     "output_type": "stream",
     "text": [
      "Validating Notebook ./bookfiles/16-Linear_Dynamical_Systems_in-class-assignment.ipynb\n",
      "   WARNING: Notebook had 2 runtime errors\n",
      "\n",
      "   ERROR: No Alt text in image - data:image/png;base64,iVBORw0KGgoAAAANSUhE..\n",
      "   ERROR: No Alt text in image - data:image/png;base64,iVBORw0KGgoAAAANSUhE..\n",
      "../17--Decompositions_pre-class-assignment-INSTRUCTOR.ipynb\n",
      "Myfilename ../17--Decompositions_pre-class-assignment-INSTRUCTOR.ipynb\n",
      "WARNING: Instructor file name is wrong 17--Decompositions_pre-class-assignment-INSTRUCTOR.ipynb != ../17--Decompositions_pre-class-assignment-INSTRUCTOR.ipynb\n"
     ]
    },
    {
     "data": {
      "application/javascript": [
       "IPython.notebook.save_notebook()"
      ]
     },
     "metadata": {},
     "output_type": "display_data"
    },
    {
     "name": "stdout",
     "output_type": "stream",
     "text": [
      "17--Decompositions_pre-class-assignment.ipynb\n"
     ]
    },
    {
     "data": {
      "text/html": [
       "<a href=./bookfiles/17--Decompositions_pre-class-assignment.ipynb target=\"blank\">./bookfiles/17--Decompositions_pre-class-assignment.ipynb</a>"
      ],
      "text/plain": [
       "<IPython.core.display.HTML object>"
      ]
     },
     "metadata": {},
     "output_type": "display_data"
    },
    {
     "name": "stdout",
     "output_type": "stream",
     "text": [
      "Validating Notebook ./bookfiles/17--Decompositions_pre-class-assignment.ipynb\n",
      "../17-Decompositions_in-class-assignment-INSTRUCTOR.ipynb\n",
      "Myfilename ../17-Decompositions_in-class-assignment-INSTRUCTOR.ipynb\n",
      "WARNING: Instructor file name is wrong 17-Decompositions_in-class-assignment-INSTRUCTOR.ipynb != ../17-Decompositions_in-class-assignment-INSTRUCTOR.ipynb\n"
     ]
    },
    {
     "data": {
      "application/javascript": [
       "IPython.notebook.save_notebook()"
      ]
     },
     "metadata": {},
     "output_type": "display_data"
    },
    {
     "name": "stdout",
     "output_type": "stream",
     "text": [
      "17-Decompositions_in-class-assignment.ipynb\n"
     ]
    },
    {
     "data": {
      "text/html": [
       "<a href=./bookfiles/17-Decompositions_in-class-assignment.ipynb target=\"blank\">./bookfiles/17-Decompositions_in-class-assignment.ipynb</a>"
      ],
      "text/plain": [
       "<IPython.core.display.HTML object>"
      ]
     },
     "metadata": {},
     "output_type": "display_data"
    },
    {
     "name": "stdout",
     "output_type": "stream",
     "text": [
      "Validating Notebook ./bookfiles/17-Decompositions_in-class-assignment.ipynb\n",
      "   WARNING: Notebook had 6 runtime errors\n",
      "\n",
      "../18--Inner_Product_pre-class-assignment-INSTRUCTOR.ipynb\n",
      "Myfilename ../18--Inner_Product_pre-class-assignment-INSTRUCTOR.ipynb\n",
      "WARNING: Instructor file name is wrong 18--Inner_Product_pre-class-assignment-INSTRUCTOR.ipynb != ../18--Inner_Product_pre-class-assignment-INSTRUCTOR.ipynb\n"
     ]
    },
    {
     "data": {
      "application/javascript": [
       "IPython.notebook.save_notebook()"
      ]
     },
     "metadata": {},
     "output_type": "display_data"
    },
    {
     "name": "stdout",
     "output_type": "stream",
     "text": [
      "18--Inner_Product_pre-class-assignment.ipynb\n"
     ]
    },
    {
     "data": {
      "text/html": [
       "<a href=./bookfiles/18--Inner_Product_pre-class-assignment.ipynb target=\"blank\">./bookfiles/18--Inner_Product_pre-class-assignment.ipynb</a>"
      ],
      "text/plain": [
       "<IPython.core.display.HTML object>"
      ]
     },
     "metadata": {},
     "output_type": "display_data"
    },
    {
     "name": "stdout",
     "output_type": "stream",
     "text": [
      "Validating Notebook ./bookfiles/18--Inner_Product_pre-class-assignment.ipynb\n",
      "../18-Inner_Product_in-class-assignment-INSTRUCTOR.ipynb\n",
      "Myfilename ../18-Inner_Product_in-class-assignment-INSTRUCTOR.ipynb\n",
      "WARNING: Instructor file name is wrong 18-Inner_Product_in-class-assignment-INSTRUCTOR.ipynb != ../18-Inner_Product_in-class-assignment-INSTRUCTOR.ipynb\n"
     ]
    },
    {
     "data": {
      "application/javascript": [
       "IPython.notebook.save_notebook()"
      ]
     },
     "metadata": {},
     "output_type": "display_data"
    },
    {
     "name": "stdout",
     "output_type": "stream",
     "text": [
      "18-Inner_Product_in-class-assignment.ipynb\n"
     ]
    },
    {
     "data": {
      "text/html": [
       "<a href=./bookfiles/18-Inner_Product_in-class-assignment.ipynb target=\"blank\">./bookfiles/18-Inner_Product_in-class-assignment.ipynb</a>"
      ],
      "text/plain": [
       "<IPython.core.display.HTML object>"
      ]
     },
     "metadata": {},
     "output_type": "display_data"
    },
    {
     "name": "stdout",
     "output_type": "stream",
     "text": [
      "Validating Notebook ./bookfiles/18-Inner_Product_in-class-assignment.ipynb\n",
      "   WARNING: Notebook had 2 runtime errors\n",
      "\n",
      "   ERROR: No Alt text in image - data:image/png;base64,iVBORw0KGgoAAAANSUhE..\n",
      "   ERROR: No Alt text in image - data:image/png;base64,iVBORw0KGgoAAAANSUhE..\n",
      "../19--LSF_pre-class-assignment-INSTRUCTOR.ipynb\n",
      "Myfilename ../19--LSF_pre-class-assignment-INSTRUCTOR.ipynb\n",
      "WARNING: Instructor file name is wrong 19--LSF_pre-class-assignment-INSTRUCTOR.ipynb != ../19--LSF_pre-class-assignment-INSTRUCTOR.ipynb\n"
     ]
    },
    {
     "data": {
      "application/javascript": [
       "IPython.notebook.save_notebook()"
      ]
     },
     "metadata": {},
     "output_type": "display_data"
    },
    {
     "name": "stdout",
     "output_type": "stream",
     "text": [
      "19--LSF_pre-class-assignment.ipynb\n"
     ]
    },
    {
     "data": {
      "text/html": [
       "<a href=./bookfiles/19--LSF_pre-class-assignment.ipynb target=\"blank\">./bookfiles/19--LSF_pre-class-assignment.ipynb</a>"
      ],
      "text/plain": [
       "<IPython.core.display.HTML object>"
      ]
     },
     "metadata": {},
     "output_type": "display_data"
    },
    {
     "name": "stdout",
     "output_type": "stream",
     "text": [
      "Validating Notebook ./bookfiles/19--LSF_pre-class-assignment.ipynb\n",
      "../19-LSF_in-class-assignment-INSTRUCTOR.ipynb\n",
      "Myfilename ../19-LSF_in-class-assignment-INSTRUCTOR.ipynb\n",
      "WARNING: Instructor file name is wrong 19-LSF_in-class-assignment-INSTRUCTOR.ipynb != ../19-LSF_in-class-assignment-INSTRUCTOR.ipynb\n"
     ]
    },
    {
     "data": {
      "application/javascript": [
       "IPython.notebook.save_notebook()"
      ]
     },
     "metadata": {},
     "output_type": "display_data"
    },
    {
     "name": "stdout",
     "output_type": "stream",
     "text": [
      "19-LSF_in-class-assignment.ipynb\n"
     ]
    },
    {
     "data": {
      "text/html": [
       "<a href=./bookfiles/19-LSF_in-class-assignment.ipynb target=\"blank\">./bookfiles/19-LSF_in-class-assignment.ipynb</a>"
      ],
      "text/plain": [
       "<IPython.core.display.HTML object>"
      ]
     },
     "metadata": {},
     "output_type": "display_data"
    },
    {
     "name": "stdout",
     "output_type": "stream",
     "text": [
      "Validating Notebook ./bookfiles/19-LSF_in-class-assignment.ipynb\n",
      "   WARNING: Notebook had 1 runtime errors\n",
      "\n",
      "   ERROR: No Alt text in image - data:image/png;base64,iVBORw0KGgoAAAANSUhE..\n",
      "   ERROR: No Alt text in image - data:image/png;base64,iVBORw0KGgoAAAANSUhE..\n",
      "../20-LSF_Practice_in-class-assignment-INSTRUCTOR.ipynb\n",
      "Myfilename ../20-LSF_Practice_in-class-assignment-INSTRUCTOR.ipynb\n",
      "WARNING: Instructor file name is wrong 20-LSF_Practice_in-class-assignment-INSTRUCTOR.ipynb != ../20-LSF_Practice_in-class-assignment-INSTRUCTOR.ipynb\n"
     ]
    },
    {
     "data": {
      "application/javascript": [
       "IPython.notebook.save_notebook()"
      ]
     },
     "metadata": {},
     "output_type": "display_data"
    },
    {
     "name": "stdout",
     "output_type": "stream",
     "text": [
      "20-LSF_Practice_in-class-assignment.ipynb\n"
     ]
    },
    {
     "data": {
      "text/html": [
       "<a href=./bookfiles/20-LSF_Practice_in-class-assignment.ipynb target=\"blank\">./bookfiles/20-LSF_Practice_in-class-assignment.ipynb</a>"
      ],
      "text/plain": [
       "<IPython.core.display.HTML object>"
      ]
     },
     "metadata": {},
     "output_type": "display_data"
    },
    {
     "name": "stdout",
     "output_type": "stream",
     "text": [
      "Validating Notebook ./bookfiles/20-LSF_Practice_in-class-assignment.ipynb\n",
      "   WARNING: Notebook had 7 runtime errors\n",
      "\n",
      "   ERROR: No Alt text in image - data:image/png;base64,iVBORw0KGgoAAAANSUhE..\n",
      "   ERROR: No Alt text in image - data:image/png;base64,iVBORw0KGgoAAAANSUhE..\n",
      "   ERROR: No Alt text in image - data:image/png;base64,iVBORw0KGgoAAAANSUhE..\n",
      "   ERROR: No Alt text in image - data:image/png;base64,iVBORw0KGgoAAAANSUhE..\n",
      "   ERROR: No Alt text in image - data:image/png;base64,iVBORw0KGgoAAAANSUhE..\n",
      "   ERROR: No Alt text in image - data:image/png;base64,iVBORw0KGgoAAAANSUhE..\n",
      "../21--Review_pre-class-assignment-INSTRUCTOR.ipynb\n",
      "Myfilename ../21--Review_pre-class-assignment-INSTRUCTOR.ipynb\n",
      "WARNING: Instructor file name is wrong 21--Review_pre-class-assignment-INSTRUCTOR.ipynb != ../21--Review_pre-class-assignment-INSTRUCTOR.ipynb\n"
     ]
    },
    {
     "data": {
      "application/javascript": [
       "IPython.notebook.save_notebook()"
      ]
     },
     "metadata": {},
     "output_type": "display_data"
    },
    {
     "name": "stdout",
     "output_type": "stream",
     "text": [
      "21--Review_pre-class-assignment.ipynb\n"
     ]
    },
    {
     "data": {
      "text/html": [
       "<a href=./bookfiles/21--Review_pre-class-assignment.ipynb target=\"blank\">./bookfiles/21--Review_pre-class-assignment.ipynb</a>"
      ],
      "text/plain": [
       "<IPython.core.display.HTML object>"
      ]
     },
     "metadata": {},
     "output_type": "display_data"
    },
    {
     "name": "stdout",
     "output_type": "stream",
     "text": [
      "Validating Notebook ./bookfiles/21--Review_pre-class-assignment.ipynb\n",
      "../21-Review_in-class-assignment-INSTRUCTOR.ipynb\n",
      "Myfilename ../21-Review_in-class-assignment-INSTRUCTOR.ipynb\n",
      "WARNING: Instructor file name is wrong 21-Review_in-class-assignment-INSTRUCTOR.ipynb != ../21-Review_in-class-assignment-INSTRUCTOR.ipynb\n"
     ]
    },
    {
     "data": {
      "application/javascript": [
       "IPython.notebook.save_notebook()"
      ]
     },
     "metadata": {},
     "output_type": "display_data"
    },
    {
     "name": "stdout",
     "output_type": "stream",
     "text": [
      "21-Review_in-class-assignment.ipynb\n"
     ]
    },
    {
     "data": {
      "text/html": [
       "<a href=./bookfiles/21-Review_in-class-assignment.ipynb target=\"blank\">./bookfiles/21-Review_in-class-assignment.ipynb</a>"
      ],
      "text/plain": [
       "<IPython.core.display.HTML object>"
      ]
     },
     "metadata": {},
     "output_type": "display_data"
    },
    {
     "name": "stdout",
     "output_type": "stream",
     "text": [
      "Validating Notebook ./bookfiles/21-Review_in-class-assignment.ipynb\n",
      "   - ERROR: Extra Tag #TODO#\n",
      "   WARNING: Notebook had 7 runtime errors\n",
      "\n"
     ]
    }
   ],
   "source": [
    "#Make a temporary folder and convert all Instructor\n",
    "#notebooks to student notebooks for testing\n",
    "\n",
    "directory = Path('..')\n",
    "\n",
    "allfiles = sorted(directory.glob('*.ipynb'))\n",
    "allfiles.sort\n",
    "#Make student versions\n",
    "for filename in allfiles:\n",
    "    nbfile = nbfilename(filename)\n",
    "    if not 'Quiz' in str(nbfile): # Skip quiz prep\n",
    "        if nbfile.isInstructor: # Only process INSTRUCTOR notebooks\n",
    "            if nbfile.prefix.isdigit(): # Only process numrical notebooks\n",
    "                filename = makechapter(filename, tags)"
   ]
  },
  {
   "cell_type": "code",
   "execution_count": 8,
   "metadata": {},
   "outputs": [],
   "source": [
    "#makechapter(Path('../00--Introduction_INSTRUCTOR.ipynb'),tags);"
   ]
  },
  {
   "cell_type": "code",
   "execution_count": 9,
   "metadata": {},
   "outputs": [
    {
     "name": "stdout",
     "output_type": "stream",
     "text": [
      "0-Introduction.ipynb\n",
      "00-Class_Prep_Checklist.ipynb\n",
      "01-CMSE314_introduction_in-class-assignment.ipynb\n",
      "02--Vectors_pre-class-assignment.ipynb\n",
      "02-Vectors_in-class-assignment.ipynb\n",
      "03--Linear_Equations_pre-class-assignment.ipynb\n",
      "03-Linear_Equations_in-class-assignment.ipynb\n",
      "04--Gauss_Jordan_pre-class-assignment.ipynb\n",
      "04-Gauss_Jordan_in-class-assignment.ipynb\n",
      "05--Gauss_Jordan2_pre-class-assignment.ipynb\n",
      "05-Gauss_Jordan2_in-class-assignment.ipynb\n",
      "06--Mechanics_pre-class-assignment.ipynb\n",
      "06-Mechanics_in-class-assignment.ipynb\n",
      "07--Transformations_pre-class-assignment.ipynb\n",
      "07-Transformations_in-class-assignment.ipynb\n",
      "08--Robotics_pre-class-assignment.ipynb\n",
      "08-Robotics_in-class-assignment.ipynb\n",
      "09--Determinants_pre-class-assignment.ipynb\n",
      "09-Determinats_in-class-assignment.ipynb\n",
      "10--Eigenproblems_pre-class-assignment.ipynb\n",
      "10-Eigenproblems_in-class-assignment.ipynb\n",
      "11--Vector_Spaces_pre-class-assignment.ipynb\n",
      "11-Vector_Spaces_in-class-assignment.ipynb\n",
      "12--Change_Basis_pre-class-assignment.ipynb\n",
      "12-Changing_vector_space_in-class-assignment.ipynb\n",
      "13--Projections_pre-class-assignment.ipynb\n",
      "13-Projections_in-class-assignment.ipynb\n",
      "14--Fundamental_Spaces_pre-class-assignment.ipynb\n",
      "14-Fundamental_Spaces_in-class-assignment.ipynb\n",
      "15--Diagonalization_pre-class-assignment.ipynb\n",
      "15-Diagonalization_in-class-assignment.ipynb\n",
      "16--Linear_Dynamical_Systems_pre-class-assignment.ipynb\n",
      "16-Linear_Dynamical_Systems_in-class-assignment.ipynb\n",
      "17--Decompositions_pre-class-assignment.ipynb\n",
      "17-Decompositions_in-class-assignment.ipynb\n",
      "18--Inner_Product_pre-class-assignment.ipynb\n",
      "18-Inner_Product_in-class-assignment.ipynb\n",
      "19--LSF_pre-class-assignment.ipynb\n",
      "19-LSF_in-class-assignment.ipynb\n",
      "20-LSF_Practice_in-class-assignment.ipynb\n",
      "21--Review_pre-class-assignment.ipynb\n",
      "21-Review_in-class-assignment.ipynb\n",
      "0000--Python_Linear_Algebra_Packages_pre-class-assignment.ipynb\n",
      "0000-Jupyter_Getting_Started_Guide.ipynb\n",
      "0000-Python_Packages.ipynb\n"
     ]
    }
   ],
   "source": [
    "fid = open('./bookfiles/_toc.yml', 'w')\n",
    "directory = Path('./bookfiles/')\n",
    "\n",
    "allfiles = sorted(directory.glob('*.ipynb'))\n",
    "\n",
    "for ipynb in allfiles:\n",
    "    if not '0000' in str(ipynb):\n",
    "        print(ipynb.name)\n",
    "        fid.write(f'- file: {ipynb.name}\\n')\n",
    "    \n",
    "for ipynb in allfiles:\n",
    "    if '0000' in str(ipynb):\n",
    "        print(ipynb.name)\n",
    "        fid.write(f'- file: {ipynb.name}\\n')\n",
    "    \n",
    "fid.close()"
   ]
  },
  {
   "cell_type": "code",
   "execution_count": 10,
   "metadata": {},
   "outputs": [],
   "source": [
    "!cp Cover.jpg ./bookfiles/\n",
    "!cp _config.yml ./bookfiles/"
   ]
  },
  {
   "cell_type": "code",
   "execution_count": 11,
   "metadata": {},
   "outputs": [
    {
     "name": "stdout",
     "output_type": "stream",
     "text": [
      "\u001b[32m\u001b[1mRunning Jupyter-Book v0.10.2\u001b[0m\n",
      "\u001b[34m\u001b[1mSource Folder: \u001b[0m/Users/colbrydi/REPOS/MTH314_Textbook/MakeTextbook/bookfiles\n",
      "\u001b[34m\u001b[1mConfig Path: \u001b[0m/Users/colbrydi/REPOS/MTH314_Textbook/MakeTextbook/bookfiles/_config.yml\n",
      "\u001b[34m\u001b[1mOutput Path: \u001b[0m/Users/colbrydi/REPOS/MTH314_Textbook/MakeTextbook/bookfiles/_build/html\n",
      "\u001b[01mRunning Sphinx v3.5.4\u001b[39;49;00m\n",
      "\u001b[01mmaking output directory... \u001b[39;49;00mdone\n",
      "\u001b[01mmyst v0.13.7:\u001b[39;49;00m MdParserConfig(renderer='sphinx', commonmark_only=False, dmath_allow_labels=True, dmath_allow_space=True, dmath_allow_digits=True, update_mathjax=True, enable_extensions=['colon_fence', 'dollarmath', 'linkify', 'substitution'], disable_syntax=[], url_schemes=['mailto', 'http', 'https'], heading_anchors=None, html_meta=[], footnote_transition=True, substitutions=[], sub_delimiters=['{', '}'])\n",
      "\u001b[01mbuilding [mo]: \u001b[39;49;00mtargets for 0 po files that are out of date\n",
      "\u001b[01mbuilding [html]: \u001b[39;49;00mtargets for 45 source files that are out of date\n",
      "\u001b[01mupdating environment: \u001b[39;49;00m[new config] 45 added, 0 changed, 0 removed\n",
      "Executing: 0-Introduction in: /Users/colbrydi/REPOS/MTH314_Textbook/MakeTextbook/bookfiles                      \n",
      "Executing: 00-Class_Prep_Checklist in: /Users/colbrydi/REPOS/MTH314_Textbook/MakeTextbook/bookfiles             \n",
      "Executing: 0000--Python_Linear_Algebra_Packages_pre-class-assignment in: /Users/colbrydi/REPOS/MTH314_Textbook/MakeTextbook/bookfiles\n",
      "Executing: 0000-Jupyter_Getting_Started_Guide in: /Users/colbrydi/REPOS/MTH314_Textbook/MakeTextbook/bookfiles  \n",
      "Executing: 0000-Python_Packages in: /Users/colbrydi/REPOS/MTH314_Textbook/MakeTextbook/bookfiles                \n",
      "Executing: 01-CMSE314_introduction_in-class-assignment in: /Users/colbrydi/REPOS/MTH314_Textbook/MakeTextbook/bookfiles\n",
      "Executing: 02--Vectors_pre-class-assignment in: /Users/colbrydi/REPOS/MTH314_Textbook/MakeTextbook/bookfiles    \n",
      "Executing: 02-Vectors_in-class-assignment in: /Users/colbrydi/REPOS/MTH314_Textbook/MakeTextbook/bookfiles      \n",
      "Executing: 03--Linear_Equations_pre-class-assignment in: /Users/colbrydi/REPOS/MTH314_Textbook/MakeTextbook/bookfiles\n",
      "Executing: 03-Linear_Equations_in-class-assignment in: /Users/colbrydi/REPOS/MTH314_Textbook/MakeTextbook/bookfiles\n",
      "Executing: 04--Gauss_Jordan_pre-class-assignment in: /Users/colbrydi/REPOS/MTH314_Textbook/MakeTextbook/bookfiles\n",
      "Executing: 04-Gauss_Jordan_in-class-assignment in: /Users/colbrydi/REPOS/MTH314_Textbook/MakeTextbook/bookfiles \n",
      "Executing: 05--Gauss_Jordan2_pre-class-assignment in: /Users/colbrydi/REPOS/MTH314_Textbook/MakeTextbook/bookfiles\n",
      "Executing: 05-Gauss_Jordan2_in-class-assignment in: /Users/colbrydi/REPOS/MTH314_Textbook/MakeTextbook/bookfiles\n",
      "Executing: 06--Mechanics_pre-class-assignment in: /Users/colbrydi/REPOS/MTH314_Textbook/MakeTextbook/bookfiles  \n",
      "Executing: 06-Mechanics_in-class-assignment in: /Users/colbrydi/REPOS/MTH314_Textbook/MakeTextbook/bookfiles    \n",
      "Executing: 07--Transformations_pre-class-assignment in: /Users/colbrydi/REPOS/MTH314_Textbook/MakeTextbook/bookfiles\n",
      "Executing: 07-Transformations_in-class-assignment in: /Users/colbrydi/REPOS/MTH314_Textbook/MakeTextbook/bookfiles\n",
      "Executing: 08--Robotics_pre-class-assignment in: /Users/colbrydi/REPOS/MTH314_Textbook/MakeTextbook/bookfiles   \n",
      "Executing: 08-Robotics_in-class-assignment in: /Users/colbrydi/REPOS/MTH314_Textbook/MakeTextbook/bookfiles     \n",
      "Executing: 09--Determinants_pre-class-assignment in: /Users/colbrydi/REPOS/MTH314_Textbook/MakeTextbook/bookfiles\n",
      "Executing: 09-Determinats_in-class-assignment in: /Users/colbrydi/REPOS/MTH314_Textbook/MakeTextbook/bookfiles  \n",
      "Executing: 10--Eigenproblems_pre-class-assignment in: /Users/colbrydi/REPOS/MTH314_Textbook/MakeTextbook/bookfiles\n",
      "Executing: 10-Eigenproblems_in-class-assignment in: /Users/colbrydi/REPOS/MTH314_Textbook/MakeTextbook/bookfiles\n",
      "Executing: 11--Vector_Spaces_pre-class-assignment in: /Users/colbrydi/REPOS/MTH314_Textbook/MakeTextbook/bookfiles\n",
      "Executing: 11-Vector_Spaces_in-class-assignment in: /Users/colbrydi/REPOS/MTH314_Textbook/MakeTextbook/bookfiles\n",
      "Executing: 12--Change_Basis_pre-class-assignment in: /Users/colbrydi/REPOS/MTH314_Textbook/MakeTextbook/bookfiles\n",
      "Executing: 12-Changing_vector_space_in-class-assignment in: /Users/colbrydi/REPOS/MTH314_Textbook/MakeTextbook/bookfiles\n",
      "Executing: 13--Projections_pre-class-assignment in: /Users/colbrydi/REPOS/MTH314_Textbook/MakeTextbook/bookfiles\n",
      "Executing: 13-Projections_in-class-assignment in: /Users/colbrydi/REPOS/MTH314_Textbook/MakeTextbook/bookfiles  \n",
      "Executing: 14--Fundamental_Spaces_pre-class-assignment in: /Users/colbrydi/REPOS/MTH314_Textbook/MakeTextbook/bookfiles\n",
      "Executing: 14-Fundamental_Spaces_in-class-assignment in: /Users/colbrydi/REPOS/MTH314_Textbook/MakeTextbook/bookfiles\n",
      "Executing: 15--Diagonalization_pre-class-assignment in: /Users/colbrydi/REPOS/MTH314_Textbook/MakeTextbook/bookfiles\n",
      "Executing: 15-Diagonalization_in-class-assignment in: /Users/colbrydi/REPOS/MTH314_Textbook/MakeTextbook/bookfiles\n",
      "Executing: 16--Linear_Dynamical_Systems_pre-class-assignment in: /Users/colbrydi/REPOS/MTH314_Textbook/MakeTextbook/bookfiles\n",
      "Executing: 16-Linear_Dynamical_Systems_in-class-assignment in: /Users/colbrydi/REPOS/MTH314_Textbook/MakeTextbook/bookfiles\n",
      "Executing: 17--Decompositions_pre-class-assignment in: /Users/colbrydi/REPOS/MTH314_Textbook/MakeTextbook/bookfiles\n",
      "Executing: 17-Decompositions_in-class-assignment in: /Users/colbrydi/REPOS/MTH314_Textbook/MakeTextbook/bookfiles\n",
      "Executing: 18--Inner_Product_pre-class-assignment in: /Users/colbrydi/REPOS/MTH314_Textbook/MakeTextbook/bookfiles\n",
      "Executing: 18-Inner_Product_in-class-assignment in: /Users/colbrydi/REPOS/MTH314_Textbook/MakeTextbook/bookfiles\n",
      "Executing: 19--LSF_pre-class-assignment in: /Users/colbrydi/REPOS/MTH314_Textbook/MakeTextbook/bookfiles        \n",
      "Executing: 19-LSF_in-class-assignment in: /Users/colbrydi/REPOS/MTH314_Textbook/MakeTextbook/bookfiles          \n",
      "Executing: 20-LSF_Practice_in-class-assignment in: /Users/colbrydi/REPOS/MTH314_Textbook/MakeTextbook/bookfiles \n",
      "Executing: 21--Review_pre-class-assignment in: /Users/colbrydi/REPOS/MTH314_Textbook/MakeTextbook/bookfiles     \n",
      "Executing: 21-Review_in-class-assignment in: /Users/colbrydi/REPOS/MTH314_Textbook/MakeTextbook/bookfiles       \n",
      "\n",
      "\u001b[31m/Users/colbrydi/REPOS/MTH314_Textbook/MakeTextbook/bookfiles/00-Class_Prep_Checklist.ipynb:140002: WARNING: Document may not end with a transition.\u001b[39;49;00m\n",
      "\u001b[31mWARNING: Execution Failed with traceback saved in /Users/colbrydi/REPOS/MTH314_Textbook/MakeTextbook/bookfiles/_build/html/reports/0000--Python_Linear_Algebra_Packages_pre-class-assignment.log\u001b[39;49;00m\n",
      "\u001b[91m/Users/colbrydi/REPOS/MTH314_Textbook/MakeTextbook/bookfiles/0000--Python_Linear_Algebra_Packages_pre-class-assignment.ipynb:30003: WARNING: Non-consecutive header level increase; 1 to 3 [myst.header]\u001b[39;49;00m\n",
      "\u001b[31mWARNING: Execution Failed with traceback saved in /Users/colbrydi/REPOS/MTH314_Textbook/MakeTextbook/bookfiles/_build/html/reports/0000-Python_Packages.log\u001b[39;49;00m\n",
      "\u001b[91m/Users/colbrydi/REPOS/MTH314_Textbook/MakeTextbook/bookfiles/0000-Python_Packages.ipynb:40003: WARNING: Non-consecutive header level increase; 1 to 3 [myst.header]\u001b[39;49;00m\n",
      "\u001b[31m/Users/colbrydi/REPOS/MTH314_Textbook/MakeTextbook/bookfiles/0000-Python_Packages.ipynb:580002: WARNING: Document may not end with a transition.\u001b[39;49;00m\n",
      "\u001b[91m/Users/colbrydi/REPOS/MTH314_Textbook/MakeTextbook/bookfiles/01-CMSE314_introduction_in-class-assignment.ipynb:50002: WARNING: Non-consecutive header level increase; 1 to 3 [myst.header]\u001b[39;49;00m\n",
      "\u001b[31mWARNING: Execution Failed with traceback saved in /Users/colbrydi/REPOS/MTH314_Textbook/MakeTextbook/bookfiles/_build/html/reports/02--Vectors_pre-class-assignment.log\u001b[39;49;00m\n",
      "\u001b[91m/Users/colbrydi/REPOS/MTH314_Textbook/MakeTextbook/bookfiles/02--Vectors_pre-class-assignment.ipynb:30002: WARNING: Non-consecutive header level increase; 1 to 3 [myst.header]\u001b[39;49;00m\n",
      "\u001b[91m/Users/colbrydi/REPOS/MTH314_Textbook/MakeTextbook/bookfiles/02--Vectors_pre-class-assignment.ipynb:40002: WARNING: Non-consecutive header level increase; 1 to 3 [myst.header]\u001b[39;49;00m\n",
      "\u001b[31mWARNING: Execution Failed with traceback saved in /Users/colbrydi/REPOS/MTH314_Textbook/MakeTextbook/bookfiles/_build/html/reports/02-Vectors_in-class-assignment.log\u001b[39;49;00m\n",
      "\u001b[91m/Users/colbrydi/REPOS/MTH314_Textbook/MakeTextbook/bookfiles/02-Vectors_in-class-assignment.ipynb:40002: WARNING: Non-consecutive header level increase; 1 to 3 [myst.header]\u001b[39;49;00m\n",
      "\u001b[91m/Users/colbrydi/REPOS/MTH314_Textbook/MakeTextbook/bookfiles/03--Linear_Equations_pre-class-assignment.ipynb:30002: WARNING: Non-consecutive header level increase; 1 to 3 [myst.header]\u001b[39;49;00m\n",
      "\u001b[91m/Users/colbrydi/REPOS/MTH314_Textbook/MakeTextbook/bookfiles/03--Linear_Equations_pre-class-assignment.ipynb:40003: WARNING: Non-consecutive header level increase; 1 to 3 [myst.header]\u001b[39;49;00m\n",
      "\u001b[91m/Users/colbrydi/REPOS/MTH314_Textbook/MakeTextbook/bookfiles/03-Linear_Equations_in-class-assignment.ipynb:40002: WARNING: Non-consecutive header level increase; 1 to 3 [myst.header]\u001b[39;49;00m\n",
      "\u001b[91m/Users/colbrydi/REPOS/MTH314_Textbook/MakeTextbook/bookfiles/04--Gauss_Jordan_pre-class-assignment.ipynb:50002: WARNING: Non-consecutive header level increase; 1 to 3 [myst.header]\u001b[39;49;00m\n",
      "\u001b[91m/Users/colbrydi/REPOS/MTH314_Textbook/MakeTextbook/bookfiles/04--Gauss_Jordan_pre-class-assignment.ipynb:60003: WARNING: Non-consecutive header level increase; 1 to 3 [myst.header]\u001b[39;49;00m\n",
      "\u001b[31mWARNING: Execution Failed with traceback saved in /Users/colbrydi/REPOS/MTH314_Textbook/MakeTextbook/bookfiles/_build/html/reports/04-Gauss_Jordan_in-class-assignment.log\u001b[39;49;00m\n",
      "\u001b[91m/Users/colbrydi/REPOS/MTH314_Textbook/MakeTextbook/bookfiles/04-Gauss_Jordan_in-class-assignment.ipynb:60002: WARNING: Non-consecutive header level increase; 1 to 3 [myst.header]\u001b[39;49;00m\n",
      "\u001b[31mWARNING: Execution Failed with traceback saved in /Users/colbrydi/REPOS/MTH314_Textbook/MakeTextbook/bookfiles/_build/html/reports/05--Gauss_Jordan2_pre-class-assignment.log\u001b[39;49;00m\n",
      "\u001b[91m/Users/colbrydi/REPOS/MTH314_Textbook/MakeTextbook/bookfiles/05--Gauss_Jordan2_pre-class-assignment.ipynb:30002: WARNING: Non-consecutive header level increase; 1 to 3 [myst.header]\u001b[39;49;00m\n",
      "\u001b[91m/Users/colbrydi/REPOS/MTH314_Textbook/MakeTextbook/bookfiles/05--Gauss_Jordan2_pre-class-assignment.ipynb:40002: WARNING: Non-consecutive header level increase; 1 to 3 [myst.header]\u001b[39;49;00m\n",
      "\u001b[31mWARNING: Execution Failed with traceback saved in /Users/colbrydi/REPOS/MTH314_Textbook/MakeTextbook/bookfiles/_build/html/reports/05-Gauss_Jordan2_in-class-assignment.log\u001b[39;49;00m\n",
      "\u001b[91m/Users/colbrydi/REPOS/MTH314_Textbook/MakeTextbook/bookfiles/05-Gauss_Jordan2_in-class-assignment.ipynb:40002: WARNING: Non-consecutive header level increase; 1 to 3 [myst.header]\u001b[39;49;00m\n",
      "\u001b[31mWARNING: Execution Failed with traceback saved in /Users/colbrydi/REPOS/MTH314_Textbook/MakeTextbook/bookfiles/_build/html/reports/06--Mechanics_pre-class-assignment.log\u001b[39;49;00m\n",
      "\u001b[91m/Users/colbrydi/REPOS/MTH314_Textbook/MakeTextbook/bookfiles/06--Mechanics_pre-class-assignment.ipynb:20002: WARNING: Non-consecutive header level increase; 0 to 3 [myst.header]\u001b[39;49;00m\n",
      "\u001b[91m/Users/colbrydi/REPOS/MTH314_Textbook/MakeTextbook/bookfiles/06--Mechanics_pre-class-assignment.ipynb:40002: WARNING: Non-consecutive header level increase; 1 to 3 [myst.header]\u001b[39;49;00m\n",
      "\u001b[31mWARNING: Execution Failed with traceback saved in /Users/colbrydi/REPOS/MTH314_Textbook/MakeTextbook/bookfiles/_build/html/reports/06-Mechanics_in-class-assignment.log\u001b[39;49;00m\n",
      "\u001b[91m/Users/colbrydi/REPOS/MTH314_Textbook/MakeTextbook/bookfiles/06-Mechanics_in-class-assignment.ipynb:30002: WARNING: Non-consecutive header level increase; 1 to 3 [myst.header]\u001b[39;49;00m\n",
      "\u001b[31mWARNING: Execution Failed with traceback saved in /Users/colbrydi/REPOS/MTH314_Textbook/MakeTextbook/bookfiles/_build/html/reports/07--Transformations_pre-class-assignment.log\u001b[39;49;00m\n",
      "\u001b[91m/Users/colbrydi/REPOS/MTH314_Textbook/MakeTextbook/bookfiles/07--Transformations_pre-class-assignment.ipynb:30002: WARNING: Non-consecutive header level increase; 1 to 3 [myst.header]\u001b[39;49;00m\n",
      "\u001b[91m/Users/colbrydi/REPOS/MTH314_Textbook/MakeTextbook/bookfiles/07--Transformations_pre-class-assignment.ipynb:40003: WARNING: Non-consecutive header level increase; 1 to 3 [myst.header]\u001b[39;49;00m\n",
      "\u001b[31mWARNING: Execution Failed with traceback saved in /Users/colbrydi/REPOS/MTH314_Textbook/MakeTextbook/bookfiles/_build/html/reports/07-Transformations_in-class-assignment.log\u001b[39;49;00m\n",
      "\u001b[91m/Users/colbrydi/REPOS/MTH314_Textbook/MakeTextbook/bookfiles/07-Transformations_in-class-assignment.ipynb:30002: WARNING: Non-consecutive header level increase; 1 to 3 [myst.header]\u001b[39;49;00m\n",
      "\u001b[91m/Users/colbrydi/REPOS/MTH314_Textbook/MakeTextbook/bookfiles/08--Robotics_pre-class-assignment.ipynb:20011: WARNING: Non-consecutive header level increase; 1 to 3 [myst.header]\u001b[39;49;00m\n",
      "\u001b[91m/Users/colbrydi/REPOS/MTH314_Textbook/MakeTextbook/bookfiles/08-Robotics_in-class-assignment.ipynb:40002: WARNING: Non-consecutive header level increase; 1 to 3 [myst.header]\u001b[39;49;00m\n",
      "\u001b[31mWARNING: Execution Failed with traceback saved in /Users/colbrydi/REPOS/MTH314_Textbook/MakeTextbook/bookfiles/_build/html/reports/09--Determinants_pre-class-assignment.log\u001b[39;49;00m\n",
      "\u001b[91m/Users/colbrydi/REPOS/MTH314_Textbook/MakeTextbook/bookfiles/09--Determinants_pre-class-assignment.ipynb:30002: WARNING: Non-consecutive header level increase; 1 to 3 [myst.header]\u001b[39;49;00m\n",
      "\u001b[91m/Users/colbrydi/REPOS/MTH314_Textbook/MakeTextbook/bookfiles/09--Determinants_pre-class-assignment.ipynb:40002: WARNING: Non-consecutive header level increase; 1 to 3 [myst.header]\u001b[39;49;00m\n",
      "\u001b[91m/Users/colbrydi/REPOS/MTH314_Textbook/MakeTextbook/bookfiles/09-Determinats_in-class-assignment.ipynb:30002: WARNING: Non-consecutive header level increase; 1 to 3 [myst.header]\u001b[39;49;00m\n",
      "\u001b[31mWARNING: Execution Failed with traceback saved in /Users/colbrydi/REPOS/MTH314_Textbook/MakeTextbook/bookfiles/_build/html/reports/10--Eigenproblems_pre-class-assignment.log\u001b[39;49;00m\n",
      "\u001b[91m/Users/colbrydi/REPOS/MTH314_Textbook/MakeTextbook/bookfiles/10--Eigenproblems_pre-class-assignment.ipynb:30002: WARNING: Non-consecutive header level increase; 1 to 3 [myst.header]\u001b[39;49;00m\n",
      "\u001b[91m/Users/colbrydi/REPOS/MTH314_Textbook/MakeTextbook/bookfiles/10--Eigenproblems_pre-class-assignment.ipynb:40002: WARNING: Non-consecutive header level increase; 1 to 3 [myst.header]\u001b[39;49;00m\n",
      "\u001b[31mWARNING: Execution Failed with traceback saved in /Users/colbrydi/REPOS/MTH314_Textbook/MakeTextbook/bookfiles/_build/html/reports/10-Eigenproblems_in-class-assignment.log\u001b[39;49;00m\n",
      "\u001b[91m/Users/colbrydi/REPOS/MTH314_Textbook/MakeTextbook/bookfiles/10-Eigenproblems_in-class-assignment.ipynb:30002: WARNING: Non-consecutive header level increase; 1 to 3 [myst.header]\u001b[39;49;00m\n",
      "\u001b[91m/Users/colbrydi/REPOS/MTH314_Textbook/MakeTextbook/bookfiles/11--Vector_Spaces_pre-class-assignment.ipynb:30002: WARNING: Non-consecutive header level increase; 1 to 3 [myst.header]\u001b[39;49;00m\n",
      "\u001b[91m/Users/colbrydi/REPOS/MTH314_Textbook/MakeTextbook/bookfiles/11--Vector_Spaces_pre-class-assignment.ipynb:40002: WARNING: Non-consecutive header level increase; 1 to 3 [myst.header]\u001b[39;49;00m\n",
      "\u001b[31mWARNING: Execution Failed with traceback saved in /Users/colbrydi/REPOS/MTH314_Textbook/MakeTextbook/bookfiles/_build/html/reports/11-Vector_Spaces_in-class-assignment.log\u001b[39;49;00m\n",
      "\u001b[91m/Users/colbrydi/REPOS/MTH314_Textbook/MakeTextbook/bookfiles/11-Vector_Spaces_in-class-assignment.ipynb:40002: WARNING: Non-consecutive header level increase; 1 to 3 [myst.header]\u001b[39;49;00m\n",
      "\u001b[31m/Users/colbrydi/REPOS/MTH314_Textbook/MakeTextbook/bookfiles/11-Vector_Spaces_in-class-assignment.ipynb:70004: WARNING: Document or section may not begin with a transition.\u001b[39;49;00m\n",
      "\u001b[31mWARNING: Execution Failed with traceback saved in /Users/colbrydi/REPOS/MTH314_Textbook/MakeTextbook/bookfiles/_build/html/reports/12--Change_Basis_pre-class-assignment.log\u001b[39;49;00m\n",
      "\u001b[91m/Users/colbrydi/REPOS/MTH314_Textbook/MakeTextbook/bookfiles/12--Change_Basis_pre-class-assignment.ipynb:30002: WARNING: Non-consecutive header level increase; 1 to 3 [myst.header]\u001b[39;49;00m\n",
      "\u001b[91m/Users/colbrydi/REPOS/MTH314_Textbook/MakeTextbook/bookfiles/12--Change_Basis_pre-class-assignment.ipynb:40002: WARNING: Non-consecutive header level increase; 1 to 3 [myst.header]\u001b[39;49;00m\n",
      "\u001b[31mWARNING: Execution Failed with traceback saved in /Users/colbrydi/REPOS/MTH314_Textbook/MakeTextbook/bookfiles/_build/html/reports/12-Changing_vector_space_in-class-assignment.log\u001b[39;49;00m\n",
      "\u001b[91m/Users/colbrydi/REPOS/MTH314_Textbook/MakeTextbook/bookfiles/12-Changing_vector_space_in-class-assignment.ipynb:40002: WARNING: Non-consecutive header level increase; 1 to 3 [myst.header]\u001b[39;49;00m\n",
      "\u001b[91m/Users/colbrydi/REPOS/MTH314_Textbook/MakeTextbook/bookfiles/13--Projections_pre-class-assignment.ipynb:30002: WARNING: Non-consecutive header level increase; 1 to 3 [myst.header]\u001b[39;49;00m\n",
      "\u001b[91m/Users/colbrydi/REPOS/MTH314_Textbook/MakeTextbook/bookfiles/13--Projections_pre-class-assignment.ipynb:40002: WARNING: Non-consecutive header level increase; 1 to 3 [myst.header]\u001b[39;49;00m\n",
      "\u001b[31mWARNING: Execution Failed with traceback saved in /Users/colbrydi/REPOS/MTH314_Textbook/MakeTextbook/bookfiles/_build/html/reports/13-Projections_in-class-assignment.log\u001b[39;49;00m\n",
      "\u001b[91m/Users/colbrydi/REPOS/MTH314_Textbook/MakeTextbook/bookfiles/13-Projections_in-class-assignment.ipynb:40002: WARNING: Non-consecutive header level increase; 1 to 3 [myst.header]\u001b[39;49;00m\n",
      "\u001b[91m/Users/colbrydi/REPOS/MTH314_Textbook/MakeTextbook/bookfiles/14--Fundamental_Spaces_pre-class-assignment.ipynb:30002: WARNING: Non-consecutive header level increase; 1 to 3 [myst.header]\u001b[39;49;00m\n",
      "\u001b[91m/Users/colbrydi/REPOS/MTH314_Textbook/MakeTextbook/bookfiles/14--Fundamental_Spaces_pre-class-assignment.ipynb:40003: WARNING: Non-consecutive header level increase; 1 to 3 [myst.header]\u001b[39;49;00m\n",
      "\u001b[91m/Users/colbrydi/REPOS/MTH314_Textbook/MakeTextbook/bookfiles/14-Fundamental_Spaces_in-class-assignment.ipynb:40002: WARNING: Non-consecutive header level increase; 1 to 3 [myst.header]\u001b[39;49;00m\n",
      "\u001b[31mWARNING: Execution Failed with traceback saved in /Users/colbrydi/REPOS/MTH314_Textbook/MakeTextbook/bookfiles/_build/html/reports/15--Diagonalization_pre-class-assignment.log\u001b[39;49;00m\n",
      "\u001b[91m/Users/colbrydi/REPOS/MTH314_Textbook/MakeTextbook/bookfiles/15--Diagonalization_pre-class-assignment.ipynb:30002: WARNING: Non-consecutive header level increase; 1 to 3 [myst.header]\u001b[39;49;00m\n",
      "\u001b[91m/Users/colbrydi/REPOS/MTH314_Textbook/MakeTextbook/bookfiles/15--Diagonalization_pre-class-assignment.ipynb:40002: WARNING: Non-consecutive header level increase; 1 to 3 [myst.header]\u001b[39;49;00m\n",
      "\u001b[31mWARNING: Execution Failed with traceback saved in /Users/colbrydi/REPOS/MTH314_Textbook/MakeTextbook/bookfiles/_build/html/reports/15-Diagonalization_in-class-assignment.log\u001b[39;49;00m\n",
      "\u001b[91m/Users/colbrydi/REPOS/MTH314_Textbook/MakeTextbook/bookfiles/15-Diagonalization_in-class-assignment.ipynb:40002: WARNING: Non-consecutive header level increase; 1 to 3 [myst.header]\u001b[39;49;00m\n",
      "\u001b[91m/Users/colbrydi/REPOS/MTH314_Textbook/MakeTextbook/bookfiles/16--Linear_Dynamical_Systems_pre-class-assignment.ipynb:30002: WARNING: Non-consecutive header level increase; 1 to 3 [myst.header]\u001b[39;49;00m\n",
      "\u001b[91m/Users/colbrydi/REPOS/MTH314_Textbook/MakeTextbook/bookfiles/16--Linear_Dynamical_Systems_pre-class-assignment.ipynb:40002: WARNING: Non-consecutive header level increase; 1 to 3 [myst.header]\u001b[39;49;00m\n",
      "\u001b[31mWARNING: Execution Failed with traceback saved in /Users/colbrydi/REPOS/MTH314_Textbook/MakeTextbook/bookfiles/_build/html/reports/16-Linear_Dynamical_Systems_in-class-assignment.log\u001b[39;49;00m\n",
      "\u001b[91m/Users/colbrydi/REPOS/MTH314_Textbook/MakeTextbook/bookfiles/16-Linear_Dynamical_Systems_in-class-assignment.ipynb:40002: WARNING: Non-consecutive header level increase; 1 to 3 [myst.header]\u001b[39;49;00m\n",
      "\u001b[91m/Users/colbrydi/REPOS/MTH314_Textbook/MakeTextbook/bookfiles/17--Decompositions_pre-class-assignment.ipynb:30002: WARNING: Non-consecutive header level increase; 1 to 3 [myst.header]\u001b[39;49;00m\n",
      "\u001b[91m/Users/colbrydi/REPOS/MTH314_Textbook/MakeTextbook/bookfiles/17--Decompositions_pre-class-assignment.ipynb:40002: WARNING: Non-consecutive header level increase; 1 to 3 [myst.header]\u001b[39;49;00m\n",
      "\u001b[31mWARNING: Execution Failed with traceback saved in /Users/colbrydi/REPOS/MTH314_Textbook/MakeTextbook/bookfiles/_build/html/reports/17-Decompositions_in-class-assignment.log\u001b[39;49;00m\n",
      "\u001b[91m/Users/colbrydi/REPOS/MTH314_Textbook/MakeTextbook/bookfiles/17-Decompositions_in-class-assignment.ipynb:40002: WARNING: Non-consecutive header level increase; 1 to 3 [myst.header]\u001b[39;49;00m\n",
      "\u001b[91m/Users/colbrydi/REPOS/MTH314_Textbook/MakeTextbook/bookfiles/18--Inner_Product_pre-class-assignment.ipynb:170002: WARNING: Non-consecutive header level increase; 2 to 4 [myst.header]\u001b[39;49;00m\n",
      "\u001b[31mWARNING: Execution Failed with traceback saved in /Users/colbrydi/REPOS/MTH314_Textbook/MakeTextbook/bookfiles/_build/html/reports/18-Inner_Product_in-class-assignment.log\u001b[39;49;00m\n",
      "\u001b[91m/Users/colbrydi/REPOS/MTH314_Textbook/MakeTextbook/bookfiles/18-Inner_Product_in-class-assignment.ipynb:30002: WARNING: Non-consecutive header level increase; 1 to 3 [myst.header]\u001b[39;49;00m\n",
      "\u001b[91m/Users/colbrydi/REPOS/MTH314_Textbook/MakeTextbook/bookfiles/19--LSF_pre-class-assignment.ipynb:30002: WARNING: Non-consecutive header level increase; 1 to 3 [myst.header]\u001b[39;49;00m\n",
      "\u001b[91m/Users/colbrydi/REPOS/MTH314_Textbook/MakeTextbook/bookfiles/19--LSF_pre-class-assignment.ipynb:40003: WARNING: Non-consecutive header level increase; 1 to 3 [myst.header]\u001b[39;49;00m\n",
      "\u001b[31mWARNING: Execution Failed with traceback saved in /Users/colbrydi/REPOS/MTH314_Textbook/MakeTextbook/bookfiles/_build/html/reports/19-LSF_in-class-assignment.log\u001b[39;49;00m\n",
      "\u001b[91m/Users/colbrydi/REPOS/MTH314_Textbook/MakeTextbook/bookfiles/19-LSF_in-class-assignment.ipynb:30002: WARNING: Non-consecutive header level increase; 1 to 3 [myst.header]\u001b[39;49;00m\n",
      "\u001b[31mWARNING: Execution Failed with traceback saved in /Users/colbrydi/REPOS/MTH314_Textbook/MakeTextbook/bookfiles/_build/html/reports/20-LSF_Practice_in-class-assignment.log\u001b[39;49;00m\n",
      "\u001b[91m/Users/colbrydi/REPOS/MTH314_Textbook/MakeTextbook/bookfiles/20-LSF_Practice_in-class-assignment.ipynb:30002: WARNING: Non-consecutive header level increase; 1 to 3 [myst.header]\u001b[39;49;00m\n",
      "\u001b[91m/Users/colbrydi/REPOS/MTH314_Textbook/MakeTextbook/bookfiles/21--Review_pre-class-assignment.ipynb:30002: WARNING: Non-consecutive header level increase; 1 to 3 [myst.header]\u001b[39;49;00m\n",
      "\u001b[31mWARNING: Execution Failed with traceback saved in /Users/colbrydi/REPOS/MTH314_Textbook/MakeTextbook/bookfiles/_build/html/reports/21-Review_in-class-assignment.log\u001b[39;49;00m\n",
      "\u001b[91m/Users/colbrydi/REPOS/MTH314_Textbook/MakeTextbook/bookfiles/21-Review_in-class-assignment.ipynb:30002: WARNING: Non-consecutive header level increase; 1 to 3 [myst.header]\u001b[39;49;00m\n",
      "\u001b[01mlooking for now-outdated files... \u001b[39;49;00mnone found\n",
      "\u001b[01mpickling environment... \u001b[39;49;00mdone\n",
      "\u001b[01mchecking consistency... \u001b[39;49;00mdone\n",
      "\u001b[01mpreparing documents... \u001b[39;49;00mdone\n",
      "\u001b[01mwriting output... \u001b[39;49;00m[100%] \u001b[32m21-Review_in-class-assignment\u001b[39;49;00m                          0m\n",
      "\u001b[91m/Users/colbrydi/REPOS/MTH314_Textbook/MakeTextbook/bookfiles/00-Class_Prep_Checklist.ipynb:100009: WARNING: 'myst' reference target not found: 01-Python_Packages\u001b[39;49;00m\n",
      "\u001b[91m/Users/colbrydi/REPOS/MTH314_Textbook/MakeTextbook/bookfiles/01-CMSE314_introduction_in-class-assignment.ipynb:80004: WARNING: 'myst' reference target not found: \u001b[39;49;00m\n",
      "\u001b[91m/Users/colbrydi/REPOS/MTH314_Textbook/MakeTextbook/bookfiles/01-CMSE314_introduction_in-class-assignment.ipynb:240011: WARNING: 'myst' reference target not found: \u001b[39;49;00m\n",
      "\u001b[91m/Users/colbrydi/REPOS/MTH314_Textbook/MakeTextbook/bookfiles/02--Vectors_pre-class-assignment.ipynb:510002: WARNING: 'myst' reference target not found: 01-Python_Packages.ipynb\u001b[39;49;00m\n",
      "\u001b[91m/Users/colbrydi/REPOS/MTH314_Textbook/MakeTextbook/bookfiles/02-Vectors_in-class-assignment.ipynb:900008: WARNING: 'myst' reference target not found: HW1-Systems_of_linear_equations-STUDENT.ipynb\u001b[39;49;00m\n",
      "\u001b[91m/Users/colbrydi/REPOS/MTH314_Textbook/MakeTextbook/bookfiles/07-Transformations_in-class-assignment.ipynb:50006: WARNING: 'myst' reference target not found: HW1-Systems_of_linear_equations.ipynb\u001b[39;49;00m\n",
      "\u001b[91m/Users/colbrydi/REPOS/MTH314_Textbook/MakeTextbook/bookfiles/10-Eigenproblems_in-class-assignment.ipynb:50008: WARNING: 'myst' reference target not found: HW2-Affine_transform.ipynb\u001b[39;49;00m\n",
      "\u001b[01mgenerating indices... \u001b[39;49;00mgenindex done\n",
      "\u001b[01mwriting additional pages... \u001b[39;49;00msearch done\n",
      "\u001b[01mcopying images... \u001b[39;49;00m[100%] \u001b[33m_build/jupyter_execute/20-LSF_Practice_in-class-assignment_11_0.png\u001b[39;49;00mmm0m9;49;00m0m9;49;00m\n",
      "\u001b[01mcopying static files... \u001b[39;49;00mdone\n",
      "\u001b[01mcopying extra files... \u001b[39;49;00mdone\n",
      "\u001b[01mdumping search index in English (code: en)... \u001b[39;49;00mdone\n",
      "\u001b[01mdumping object inventory... \u001b[39;49;00mdone\n",
      "\u001b[01mbuild succeeded, 94 warnings.\u001b[39;49;00m\n",
      "\n",
      "The HTML pages are in bookfiles/_build/html.\n",
      "\n",
      "\u001b[92m===============================================================================\u001b[0m\n",
      "\n",
      "Finished generating HTML for book.\n",
      "Your book's HTML pages are here:\n",
      "    bookfiles/_build/html/\n",
      "You can look at your book by opening this file in a browser:\n",
      "    bookfiles/_build/html/index.html\n",
      "Or paste this line directly into your browser bar:\n",
      "    file:///Users/colbrydi/REPOS/MTH314_Textbook/MakeTextbook/bookfiles/_build/html/index.html            \n",
      "\n",
      "\u001b[92m===============================================================================\u001b[0m\n",
      "\n"
     ]
    }
   ],
   "source": [
    "!jupyter-book build ./bookfiles/"
   ]
  },
  {
   "cell_type": "code",
   "execution_count": 14,
   "metadata": {},
   "outputs": [],
   "source": [
    "!mv ./bookfiles/_build/html ./docs"
   ]
  },
  {
   "cell_type": "code",
   "execution_count": 15,
   "metadata": {},
   "outputs": [],
   "source": [
    "!open ./docs/index.html\n"
   ]
  },
  {
   "cell_type": "code",
   "execution_count": null,
   "metadata": {},
   "outputs": [],
   "source": []
  }
 ],
 "metadata": {
  "kernelspec": {
   "display_name": "Python 3",
   "language": "python",
   "name": "python3"
  },
  "language_info": {
   "codemirror_mode": {
    "name": "ipython",
    "version": 3
   },
   "file_extension": ".py",
   "mimetype": "text/x-python",
   "name": "python",
   "nbconvert_exporter": "python",
   "pygments_lexer": "ipython3",
   "version": "3.7.6"
  }
 },
 "nbformat": 4,
 "nbformat_minor": 4
}
