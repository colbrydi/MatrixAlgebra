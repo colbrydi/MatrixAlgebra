{
 "cells": [
  {
   "cell_type": "markdown",
   "metadata": {},
   "source": []
  },
  {
   "cell_type": "markdown",
   "metadata": {},
   "source": [
    "\n"
   ]
  },
  {
   "cell_type": "markdown",
   "metadata": {},
   "source": [
    "----\n",
    "# 17 In-Class Assignment: Decompositions and Gaussian Elimination"
   ]
  },
  {
   "cell_type": "markdown",
   "metadata": {},
   "source": [
    "### Agenda for today's class (80 minutes)\n",
    "\n",
    "\n",
    "1. [(20 minutes) Pre-class Review](#Pre-class_Review)\n",
    "1. [(10 minutes) Decompositions](#Decompositions)\n",
    "1. [(50 minutes) LU Decomposition](#LU)"
   ]
  },
  {
   "cell_type": "markdown",
   "metadata": {},
   "source": [
    "---\n",
    "<a name=\"Pre-class_Review\"></a>\n",
    "\n",
    "## 1. Pre-Class Review\n",
    "\n",
    "* [17--Decompositions_pre-class-assignment](17--Decompositions_pre-class-assignment.ipynb)\n",
    "\n",
    "\n",
    "\n"
   ]
  },
  {
   "cell_type": "markdown",
   "metadata": {},
   "source": [
    "---\n",
    "<a name=\"Decompositions\"></a>\n",
    "\n",
    "## 2. Decompositions\n",
    "\n",
    "<img src=\"https://upload.wikimedia.org/wikipedia/commons/4/4e/Diagonalization_as_rotation.gif\" alt=\"image showing how a matris is just a change of basis \">\n",
    "\n",
    "Animiated Image from Wikipedia: https://wikipedia.org/\n",
    "\n",
    "In numerical linear algebra, we factorize matrices to facilitate efficient and/or accurate computations. There are many possible **matrix decompositions**. Some, e.g., the eigendecomposition, require the matrix to be square, while others, e.g., the $QR$ factorization, exist for arbitrary matrices. Among all possible decompositions (also called *factorizations*), some common examples include:\n",
    "\n",
    "- **QR Factorization** from Gram-Schmidt orthogonization: \n",
    "    - $A = QR$\n",
    "    - $Q$ has orthonormal columns and $R$ is a upper-triangular matrix \n",
    "    - If there are zero rows in $R$, we can reduce the number of columns in $Q$\n",
    "    - Exists for arbitrary matrices\n",
    "- **LU / LDU Decomposition** from Gauss Elimination: \n",
    "    - $A = LU$ or $A = LDU$\n",
    "    - $L$ is lower-triangular, $U$ is upper-triangular, and $D$ is diagonal \n",
    "    - Exists for **square** matrices\n",
    "    - Is *related to Gaussian Elimination* \n",
    "- **Cholesky Decomposition**: \n",
    "    - $A = R^TR\\quad (= LDL^T)$\n",
    "    - $R$ is upper-triangular \n",
    "    - Factorization of $A$ into $R^TR$ requires $A$ be *symmetric* and *positive-definite*. The latter simply requires $x^{T}Ax > 0$ for every $x \\in \\mathbb{R}^n$. Note that $x^{T}Ax$ is always a scalar value (e.g., note that $x^TA = y^T$ for some vector $y\\in\\mathbb{R}^n$, and $y^Tx$ is the dot product between $x$ and $y$ and, hence, a real scalar).\n",
    "- **Schur Decomposition**:   \n",
    "    - $A = UTU^{T}$\n",
    "    - $U$ is orthogonal and $T$ is upper-triangular \n",
    "    - Exists for every square matrix and says every such matrix, $A$, is unitarily equivalent to an upper-triangular matrix, $T$ (i.e., there exists an orthonomal basis with respect to which $A$ is upper-triangular)\n",
    "    - Eigenvalues on diagonal of $T$\n",
    "- **Singular Value Decomposition**: \n",
    "    - $A = U\\Sigma V^{T}$\n",
    "    - $U$ is orthogonal, $V$ is orthogonal, and $\\Sigma$ is diagonal \n",
    "    - Exists for arbitrary matrices\n",
    "- **Eigenvalue Decomposition**: \n",
    "    - $A = X\\Lambda X^{-1}$\n",
    "    - $X$ is invertible and $\\Lambda$ is diagonal \n",
    "    - Exists for square matrices with linearly independent columns (e.g., full rank)\n",
    "    - Also called the eigendecomposition"
   ]
  },
  {
   "cell_type": "markdown",
   "metadata": {},
   "source": [
    "\n",
    "---\n",
    "<a name=\"LU\"></a>\n",
    "## 3. Focus on LU\n",
    "\n",
    "In this assignment we will create algorithms that factorize invertible matrices (i.e., square matrices with linearly independent columns), $A$, into the following decomposition (**note**: the terms *decomposition* and *factorization* are used interchangeably in literature):\n",
    "\n",
    "- LU Decomposition: $A = LU$\n",
    "\n",
    "Each matrix in these decompositions is the *matrix product* of <a href=\"https://en.wikipedia.org/wiki/Elementary_matrix\">elementary matrices</a>. Recall that *an elementary matrix differs from the identity matrix (the square matrix with $1$s on the diagonal and $0$s elsewhere) by an elementary row operation*.\n",
    " \n",
    "The use of these matrix decompositions in Numerical Linear Algebra is motivated by computational efficiency or reduction of *computational complexity* (recall \"**Big-O notation**\" and **counting the loops in your matrix multiplication algorithm**) and *numerical stability*. Solving our old friend $Ax = b$ by computing the inverse of $A$, denoted $A^{-1}$, and taking the matrix-vector product $A^{-1}b = x$ is computational resource intensive and numerically unstable, in general. If the $LU$ decomposition of $A$ exists, then it will be less costly and more stable to:\n",
    "1. Solve $Ly = b$ for $y$ by *forward-substitution*; and then\n",
    "2. Solve $Ux = y$ for $x$ by *backward-substitution*\n",
    "\n",
    "A final note to relate this assignment to the beginning of the course: The algorithms presented here are of a different class than the **Jacobi Algorithm** and **Gauss-Siedel Algorithm**. These are *iterative algorithms*. As you now know, this means that the algorithmic procedure is applied once, twice, and so on, until the output is within a desired tolerance, or until the process has been executed a given number of times (e.g., 100 iterations)."
   ]
  },
  {
   "cell_type": "markdown",
   "metadata": {},
   "source": [
    "\n",
    "### Gaussian Elimination & LU Decomposition\n",
    "\n",
    "Recall that Gaussian elimination converts an arbitrary matrix, $A$, into its *row echelon form*. For our purposes, let's suppose that $A$ is a square matrix and, therefore, an $n\\times n$ matrix. To simplify our tasks, let us further impose the condition that $A$ is invertible. Thus, the columns of $A$ are linearly independent. This means that Gaussian elimination will yield an ***upper-triangular*** *matrix*. Let us denote this matrix $U$ for ***upper-triangular***.\n",
    "\n",
    "If there were a function, $f$ that could take $A$ and output $U$, we could think of Gaussian Elimination as the following process:\n",
    "\n",
    "$$f(A)=U$$\n",
    "\n",
    "With this information, we may now rewrite our equation from above as:\n",
    "\n",
    "$$L^{-1}A = U$$\n",
    "\n",
    "You may have noticed the superscript in $L^{-1}$. This just says that $L^{-1}$ is the inverse of some matrix $L$. And for any invertible matrix, $L$, we have that the matrix products:\n",
    "\n",
    "$$L^{-1}L = LL^{-1} = I$$\n",
    "\n",
    "This is analogous to (for every real number $a\\neq 0$): \n",
    "\n",
    "$$a^{-1}\\times a = a\\times a^{-1} = 1$$\n",
    "\n",
    "Using the rules of matrix multiplication, verify the formula above by computing the following:\n",
    "\n",
    "$$\n",
    "L_{1}^{-1}L_{1} = \n",
    "\\left(\n",
    "    \\begin{array}{*5{c}}\n",
    "         1 &  0 &  0 &  0 &  0 \\\\\n",
    "         -l_{21} &  1 &  0 &  0 &  0 \\\\\n",
    "         -l_{31} &  0 &  1 &  0 &  0 \\\\\n",
    "         -l_{41} &  0 &  0 &  1 &  0 \\\\\n",
    "         -l_{51} &  0 &  0 &  0 &  1 \\\\\n",
    "      \\end{array}\n",
    "  \\right) \\left(\n",
    "    \\begin{array}{*5{c}}\n",
    "         1 &  0 &  0 &  0 &  0 \\\\\n",
    "         l_{21} &  1 &  0 &  0 &  0 \\\\\n",
    "         l_{31} &  0 &  1 &  0 &  0 \\\\\n",
    "         l_{41} &  0 &  0 &  1 &  0 \\\\\n",
    "         l_{51} &  0 &  0 &  0 &  1 \\\\\n",
    "      \\end{array}\n",
    "  \\right)\n",
    "= \n",
    "\\left(\n",
    "    \\begin{array}{*5{c}}\n",
    "         1 &  0 &  0 &  0 &  0 \\\\\n",
    "         0 &  1 &  0 &  0 &  0 \\\\\n",
    "         0 &  0 &  1 &  0 &  0 \\\\\n",
    "         0 &  0 &  0 &  1 &  0 \\\\\n",
    "         0 &  0 &  0 &  0 &  1 \\\\\n",
    "      \\end{array}\n",
    "  \\right)\n",
    "= I\n",
    "$$\n",
    "\n",
    "$$\n",
    "L_{2}^{-1}L_{2} = \n",
    "\\left(\n",
    "    \\begin{array}{*5{c}}\n",
    "         1 &  0 &  0 &  0 &  0 \\\\\n",
    "         0 &  1 &  0 &  0 &  0 \\\\\n",
    "         0 &  -l_{32} &  1 &  0 &  0 \\\\\n",
    "         0 &  -l_{42} &  0 &  1 &  0 \\\\\n",
    "         0 &  -l_{52} &  0 &  0 &  1 \\\\\n",
    "      \\end{array}\n",
    "  \\right) \\left(\n",
    "    \\begin{array}{*5{c}}\n",
    "         1 &  0 &  0 &  0 &  0 \\\\\n",
    "         0 &  1 &  0 &  0 &  0 \\\\\n",
    "         0 &  l_{32} &  1 &  0 &  0 \\\\\n",
    "         0 &  l_{42} &  0 &  1 &  0 \\\\\n",
    "         0 &  l_{52} &  0 &  0 &  1 \\\\\n",
    "      \\end{array}\n",
    "  \\right)\n",
    "= \n",
    "\\left(\n",
    "    \\begin{array}{*5{c}}\n",
    "         1 &  0 &  0 &  0 &  0 \\\\\n",
    "         0 &  1 &  0 &  0 &  0 \\\\\n",
    "         0 &  0 &  1 &  0 &  0 \\\\\n",
    "         0 &  0 &  0 &  1 &  0 \\\\\n",
    "         0 &  0 &  0 &  0 &  1 \\\\\n",
    "      \\end{array}\n",
    "  \\right)\n",
    "= I\n",
    "$$\n",
    "\n",
    "$$\n",
    "L_{4}^{-1}L_{4} = \n",
    "\\left(\n",
    "    \\begin{array}{*5{c}}\n",
    "         1 &  0 &  0 &  0 &  0 \\\\\n",
    "         0 &  1 &  0 &  0 &  0 \\\\\n",
    "         0 &  0 &  1 &  0 &  0 \\\\\n",
    "         0 &  0 &  0 &  1 &  0 \\\\\n",
    "         0 &  0 &  0 &  -l_{54} &  1 \\\\\n",
    "      \\end{array}\n",
    "  \\right) \\left(\n",
    "    \\begin{array}{*5{c}}\n",
    "         1 &  0 &  0 &  0 &  0 \\\\\n",
    "         0 &  1 &  0 &  0 &  0 \\\\\n",
    "         0 &  0 &  1 &  0 &  0 \\\\\n",
    "         0 &  0 &  0 &  1 &  0 \\\\\n",
    "         0 &  0 &  0 &  l_{54} &  1 \\\\\n",
    "      \\end{array}\n",
    "  \\right)\n",
    "= \n",
    "\\left(\n",
    "    \\begin{array}{*5{c}}\n",
    "         1 &  0 &  0 &  0 &  0 \\\\\n",
    "         0 &  1 &  0 &  0 &  0 \\\\\n",
    "         0 &  0 &  1 &  0 &  0 \\\\\n",
    "         0 &  0 &  0 &  1 &  0 \\\\\n",
    "         0 &  0 &  0 &  0 &  1 \\\\\n",
    "      \\end{array}\n",
    "  \\right)\n",
    "= I\n",
    "$$\n",
    "\n",
    "To understand $L^{-1}$ more deeply, let's turn our attention back to Gaussian elimination for a moment. Take as a given that, for a \"sufficiently nice\" $n\\times n$ matrix $A$, the matrix $L^{-1}$ that takes $A$ to its ***upper-triangular*** or ***row echelon form***, $U$, has the structure:\n",
    "\n",
    "$$L^{-1} = L_{n-1}L_{n-2}...L_{2}L_{1}$$\n",
    "\n",
    "Each of the $L_{i}$s above is an elementary matrix that zeros out the subdiagonal entries of the $i^{th}$ column of $A$. This is **the $i^{th}$ step of** ***Gaussian Elimination*** **applied to** ***the entire $i^{th}$ column of A below the $i^{th}$ diagonal element***.  \n",
    "\n",
    "Let's show this by computation of $L_i$ for a \"nice\" matrix $A$."
   ]
  },
  {
   "cell_type": "code",
   "execution_count": null,
   "metadata": {},
   "outputs": [],
   "source": [
    "## Import all necessary packages\n",
    "%matplotlib inline\n",
    "import scipy.sparse as sparse #this helps to speed up the algorithms, but you will not use it. \n",
    "import numpy as np\n",
    "import matplotlib.pyplot as plt\n",
    "import sympy as sym\n",
    "sym.init_printing(use_unicode=True)\n",
    "\n",
    "## These will allow us to see a cool simulation of the Heat Equation problem (if we compute our answers correctly!)\n",
    "from matplotlib import animation, rc\n",
    "from IPython.display import HTML"
   ]
  },
  {
   "cell_type": "markdown",
   "metadata": {},
   "source": [
    "### Gaussian Elimination by Elementary Matrices, $L_i$\n",
    "\n",
    "Let $A$ be the following matrix:\n",
    "\n",
    "$$A = \n",
    "\\begin{bmatrix}\n",
    "    2 &  1 &  1 &  0 \\\\\n",
    "    4 &  3 &  3 &  1 \\\\\n",
    "    8 &  7 &  9 &  5 \\\\\n",
    "    6 &  7 &  9 &  8 \\\\\n",
    "\\end{bmatrix}\n",
    "$$\n",
    "\n",
    "&#9989; **<font color=red>DO THIS:</font>** Create a $4 \\times 4$ **unit lower-triangular** matrix, $L_1$ that eliminates all of the subdiagonal entries of the first column of $A$. Display the matrix $L_1$ using SymPy."
   ]
  },
  {
   "cell_type": "code",
   "execution_count": null,
   "metadata": {},
   "outputs": [],
   "source": [
    "A = np.matrix([[2,1,1,0],[4,3,3,1],[8,7,9,5],[6,7,9,8]]) # Here is A for your convenience\n",
    "As = sym.Matrix(A)\n",
    "As"
   ]
  },
  {
   "cell_type": "code",
   "execution_count": null,
   "metadata": {},
   "outputs": [],
   "source": [
    "## Type your answer here ##\n",
    "L1 = np.matrix([[1,,,],[,1,,],[,,1,],[,,,1]])"
   ]
  },
  {
   "cell_type": "markdown",
   "metadata": {},
   "source": [
    "We should now have the following:\n",
    "\n",
    "$$L_{1}A = A^{(1)} =\n",
    "\\begin{bmatrix}\n",
    "    2 &  1 &  1 &  0 \\\\\n",
    "    0 &  u_{22} &  u_{23} &  u_{24} \\\\\n",
    "    0 &  x &  x &  x \\\\\n",
    "    0 &  x &  x &  x \\\\\n",
    "\\end{bmatrix}\n",
    "=\n",
    "\\begin{bmatrix}\n",
    "    u_{11} &  u_{12} &  u_{13} &  u_{14} \\\\\n",
    "    0 &  u_{22} &  u_{23} &  u_{24} \\\\\n",
    "    0 &  x &  x &  x \\\\\n",
    "    0 &  x &  x &  x \\\\\n",
    "\\end{bmatrix}\n",
    "$$\n",
    "\n",
    "Since our first row remained unchanged, we know that our $u_{1i}$ (the first row entries of $U$) are now determined. Similarly, we have that the $u_{2i}$ (the second row entries of $U$) are determined as well. The $x$ elements are elements that have changed, but are not yet in their final form.  **Note**: Your $u_{ij}$ will be whole, or integer ($\\mathbb{Z}$), numbers. \n",
    "\n",
    "&#9989; **<font color=red>DO THIS:</font>** Left-multiply $A$ by $L_1$ to confirm that all of the subdiagonal entries of the first column of $A^{(1)}$ are zero. Display the result via SymPy."
   ]
  },
  {
   "cell_type": "code",
   "execution_count": null,
   "metadata": {},
   "outputs": [],
   "source": [
    "## Type your answer here ##\n"
   ]
  },
  {
   "cell_type": "markdown",
   "metadata": {},
   "source": [
    "Our next step will be to eliminate all nonzero entries from the second column of $A^{(1)} = L_{1}A$ by left multiplication of $L_{2}$. This should yield: \n",
    "\n",
    "$$\\begin{align}A^{(2)} &= L_{2}A^{(1)} \\\\\n",
    "&= L_{2}L_{1}A \\\\\n",
    "&=\n",
    "\\begin{bmatrix}\n",
    "    u_{11} &  u_{12} &  u_{13} &  u_{14} \\\\\n",
    "    0 &  u_{22} &  u_{23} &  u_{24} \\\\\n",
    "    0 &  0 &  u_{33} &  u_{34} \\\\\n",
    "    0 &  0 &  x &  x \\\\\n",
    "\\end{bmatrix}\n",
    "\\end{align}\n",
    "$$\n",
    "\n",
    "&#9989; **<font color=red>DO THIS:</font>** Create a $4 \\times 4$ **unit lower-triangular** matrix, $L_2$ that eliminates all of the subdiagonal entries of the second column of $A^{(1)}$ yielding $A^{(2)}$ as above. Display the matrix $L_2$ using SymPy."
   ]
  },
  {
   "cell_type": "code",
   "execution_count": null,
   "metadata": {},
   "outputs": [],
   "source": [
    "## Type your answer here ##\n",
    "L2 = np.matrix([[1,,,],[,1,,],[,,1,],[,,,1]]) # for your convenience"
   ]
  },
  {
   "cell_type": "markdown",
   "metadata": {},
   "source": [
    "&#9989; **<font color=red>DO THIS:</font>** Left-multiply $A^{(1)}$ by $L_2$ to confirm that all of the subdiagonal entries of column 2 of $A^{(2)}$ are zero. Display the result via SymPy. **Note**: Your $u_{ij}$ will be whole, or Integer ($\\mathbb{Z}$), numbers. "
   ]
  },
  {
   "cell_type": "code",
   "execution_count": null,
   "metadata": {},
   "outputs": [],
   "source": [
    "## Type your answer here ##\n"
   ]
  },
  {
   "cell_type": "markdown",
   "metadata": {},
   "source": [
    "We should now have:\n",
    "\n",
    "$$\n",
    "\\begin{align}A^{(2)} &= L_{2}A^{(1)} \\\\\n",
    "&= L_{2}L_{1}A \\\\\n",
    "&=\n",
    "\\begin{bmatrix}\n",
    "    u_{11} &  u_{12} &  u_{13} &  u_{14} \\\\\n",
    "    0 &  u_{22} &  u_{23} &  u_{24} \\\\\n",
    "    0 &  0 &  u_{33} &  u_{34} \\\\\n",
    "    0 &  0 &  x &  x \\\\\n",
    "\\end{bmatrix}\n",
    "\\end{align}\n",
    "$$\n",
    "\n",
    "We now want to build the final matrix $L_{3}$ that will take our matrix $A^{(2)}$ to ***upper-triangular*** **form**. So, let's do that!\n",
    "\n",
    "&#9989; **<font color=red>DO THIS:</font>** Create a $4 \\times 4$ **unit lower-triangular** matrix, $L_3$ that eliminates all of the subdiagonal entries of the third column of $A^{(2)}$ yielding: \n",
    "\n",
    "$$\n",
    "\\begin{align}A^{(3)} &= L_{3}A^{(2)} \\\\ \n",
    "&= L_{3}L_{2}A^{(1)} \\\\\n",
    "&= L_{3}L_{2}L_{1}A \\\\\n",
    "&= U\n",
    "\\end{align}\n",
    "$$. \n",
    "\n",
    "Display the matrix $L_3$ using SymPy."
   ]
  },
  {
   "cell_type": "code",
   "execution_count": null,
   "metadata": {},
   "outputs": [],
   "source": [
    "## Type your answer here ##\n",
    "L3 = np.matrix([[1,,,],[,1,,],[,,1,],[,,,1]]) # for your convenience"
   ]
  },
  {
   "cell_type": "markdown",
   "metadata": {},
   "source": [
    "&#9989; **<font color=red>DO THIS:</font>** Left-multiply $A^{(2)}$ by $L_3$ to confirm that all of the subdiagonal entries of column 3 of $A^{(3)}$ are zero. Display the result via SymPy. **Note**: Your $u_{ij}$ will be whole, or integer ($\\mathbb{Z}$), numbers. You should now notice that $A^{(3)} = U$ is in **row echelon form**, and, hence, $U$ is an **upper-triangular matrix** with $0$s below the diagonal!"
   ]
  },
  {
   "cell_type": "code",
   "execution_count": null,
   "metadata": {},
   "outputs": [],
   "source": [
    "## Type your answer here ##\n"
   ]
  },
  {
   "cell_type": "markdown",
   "metadata": {},
   "source": [
    "### Congratulations! \n",
    "\n",
    "You have just decomposed your first matrix via the process below (and should now have a matrix, $U$, that looks like the one below):\n",
    "\n",
    "$$\n",
    "\\begin{align}L^{-1}A &= L_{3}L_{2}L_{1}A \\\\\n",
    "&= L_{3}L_{2}A^{(1)} \\\\\n",
    "&= L_{3}A^{(2)} \\\\\n",
    "&= A^{(3)} \\\\\n",
    "&= U \\\\\n",
    "&=\n",
    "\\begin{bmatrix}\n",
    "    2 & 1 & 1 & 0 \\\\\n",
    "    0 & 1 & 1 & 1 \\\\\n",
    "    0 & 0 & 2 & 2 \\\\\n",
    "    0 & 0 & 0 & 2\n",
    "\\end{bmatrix}\n",
    "\\end{align}\n",
    "$$"
   ]
  },
  {
   "cell_type": "markdown",
   "metadata": {},
   "source": [
    "&#9989; **<font color=red>DO THIS:</font>**\n",
    "\n",
    "Finally, let's explicitly generate the matrices $L^{-1}$ and $L$. Then, display them using SymPy.\n",
    "\n",
    "It will be helpful to use the following:\n",
    "\n",
    "$$\\begin{align}L^{-1} &= L_{n-1}L_{n-2}...L_{2}L_{1}\\end{align}$$\n",
    "and\n",
    "$$\\begin{align}L &= (L^{-1})^{-1} \\\\\n",
    "&= (L_{n-1}L_{n-2}...L_{2}L_{1})^{-1} \\\\\n",
    "&= L_{1}^{-1}L_{2}^{-1}...L_{n-2}^{-1}L_{n-1}^{-1}\n",
    "\\end{align}\n",
    "$$\n",
    "\n",
    "If you're stuck, refer to the paragraph at the beginning of this section for the explicit formula. Recall: $L^{-1}L = LL^{-1} = I$."
   ]
  },
  {
   "cell_type": "code",
   "execution_count": null,
   "metadata": {},
   "outputs": [],
   "source": [
    "## Type your answer here ##\n"
   ]
  },
  {
   "cell_type": "markdown",
   "metadata": {},
   "source": [
    "&#9989; **<font color=red>DO THIS:</font>** Look at all the matrices $L_i$ and see the connections between the final $L$. "
   ]
  },
  {
   "cell_type": "code",
   "execution_count": null,
   "metadata": {},
   "outputs": [],
   "source": [
    "print(L1)\n",
    "print(L2)\n",
    "print(L3)\n",
    "print(L)"
   ]
  },
  {
   "cell_type": "markdown",
   "metadata": {},
   "source": [
    "For our last bit of LU decomposition fun, let's confirm that your matrices $L$ and $U$ fulfill the equality:\n",
    "\n",
    "$$A = LU$$\n",
    "\n",
    "Indeed, there is a function in SymPy that will compute the LU decomposition for us.\n",
    "\n",
    "&#9989; **<font color=red>DO THIS:</font>** Run the following function and print its outputs: \n",
    "\n",
    "$$\\texttt{L_actual, U_actual, _ = As.LUdecomposition()}$$\n",
    "\n",
    "Then, compute:\n",
    "\n",
    "$$\\texttt{L_actual*U_actual - As}$$\n",
    "\n",
    "and confirm that it outputs the zero matrix."
   ]
  },
  {
   "cell_type": "code",
   "execution_count": null,
   "metadata": {},
   "outputs": [],
   "source": [
    "## Type your answer here ##\n"
   ]
  },
  {
   "cell_type": "markdown",
   "metadata": {},
   "source": [
    "### General LU Decomposition Algorithm \n",
    "\n",
    "&#9989; **<font color=red>DO THIS:</font>**  Using the scaffolded code below, complete the LU decomposition algorithm. (It may be helpful to test your code on the matrix $A$ from above.)"
   ]
  },
  {
   "cell_type": "code",
   "execution_count": null,
   "metadata": {},
   "outputs": [],
   "source": [
    "## Type your answer here ##\n",
    "C = np.matrix([[2,1,1,0],[4,3,3,1],[8,7,9,5],[6,7,9,8]]) # to test\n",
    "\n",
    "def LU_decomp(B):\n",
    "    n = len(B)\n",
    "    U = B.copy()\n",
    "    L = np.identity(n)\n",
    "    for k in np.arange(0,n-1):\n",
    "        for j in np.arange(k+1,n):\n",
    "            L[j,k] =\n",
    "            U[j,k:n] = U[,:] - L[,]*U[,:]\n",
    "    return np.mat(L), np.mat(U)\n",
    "\n",
    "L1,U1 = LU_dec(C) # syntax for returning matrices\n",
    "np.linalg.norm(L1*U1 - A) # Test: should return 0"
   ]
  },
  {
   "cell_type": "markdown",
   "metadata": {},
   "source": [
    "### Solve $Ax=b$ via LU Decomposition\n",
    "\n",
    "You may wish to refer to the introduction of this assignment for a general overview of how to use LU Decomposition to solve $Ax = b$.\n",
    "\n",
    "&#9989; **<font color=red>DO THIS:</font>**  Using the scaffolded code below, complete the LU solver algorithm. The algorithm should solve $Ly = b$ for $y$ via Forward-Substitution and then $Ux=y$ for $x$ by Backward-Substitution. (It may be helpful to test your code on a matrix $A$ and vector $b$ from homework 1 or another source.)"
   ]
  },
  {
   "cell_type": "code",
   "execution_count": null,
   "metadata": {},
   "outputs": [],
   "source": [
    "## Type your answer here ##\n",
    "def LU_Axb_solve(A,b):\n",
    "    L,U = LU_decomp(A)\n",
    "    n = len(A)\n",
    "    # Forward-Substitution: Ly = b for y\n",
    "    y = np.zeros((,))\n",
    "    for i in np.arange(0,n):\n",
    "        y[i] = b[i].copy()\n",
    "        for j in np.arange(0,i):\n",
    "            y[] = y[] - L[,]*y[]\n",
    "       \n",
    "    # Backward-Substitution: Ux = y for x\n",
    "    x = np.zeros((n,1))\n",
    "    for i in np.arange(n-1,-1,-1):\n",
    "        x[] = y[].copy()\n",
    "        for j in np.arange(n-1,i,-1):\n",
    "            x[] = x[] - U[,]*x[]\n",
    "        x[] = x[]/U[,]\n",
    "    \n",
    "    return np.mat(x)\n"
   ]
  },
  {
   "cell_type": "markdown",
   "metadata": {},
   "source": [
    "\n"
   ]
  }
 ],
 "metadata": {
  "kernelspec": {
   "display_name": "Python 3",
   "language": "python",
   "name": "python3"
  },
  "language_info": {
   "codemirror_mode": {
    "name": "ipython",
    "version": 3
   },
   "file_extension": ".py",
   "mimetype": "text/x-python",
   "name": "python",
   "nbconvert_exporter": "python",
   "pygments_lexer": "ipython3",
   "version": "3.7.6"
  }
 },
 "nbformat": 4,
 "nbformat_minor": 4
}
