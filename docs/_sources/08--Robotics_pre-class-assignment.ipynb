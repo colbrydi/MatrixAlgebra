{
 "cells": [
  {
   "cell_type": "markdown",
   "metadata": {},
   "source": []
  },
  {
   "cell_type": "markdown",
   "metadata": {},
   "source": [
    "# 08 Pre-Class Assignment: Robotics and Reference Frames\n",
    "\n",
    "<img alt=\"Image of a 6-axis FANUC robot used in industry\" src=\"http://www.fanuc.com/product/image/m2000ia.jpg\" width=\"25%\">\n",
    "\n",
    "Image from: [www.fanuc.com](http://www.fanuc.com/)\n",
    "\n",
    "\n",
    "\n",
    "\n",
    "### Goals for today's pre-class assignment \n",
    "\n",
    "1. [Review](#Review)\n",
    "1. [2D Forward Kinematics](#2D_Forward_Kinematics)\n",
    "1. [Assignment Wrap-up](#T3)\n",
    "\n",
    "Reference: https://studywolf.wordpress.com/2013/08/21/robot-control-forward-transformation-matrices/\n"
   ]
  },
  {
   "cell_type": "markdown",
   "metadata": {},
   "source": [
    "----\n",
    "\n",
    "<a name=\"Review\"></a>\n",
    "## 1. Review"
   ]
  },
  {
   "cell_type": "markdown",
   "metadata": {},
   "source": [
    "&#9989; **<font color=red>QUESTION:</font>**  Matrix $A$ is of size ($m_1 \\times n_1$) and matrix $B$ is of size ($m_2 \\times n_2$).  What must be true about the dimensions in order to multiply $A \\times B$?  "
   ]
  },
  {
   "cell_type": "markdown",
   "metadata": {},
   "source": [
    "Put your answer here"
   ]
  },
  {
   "cell_type": "markdown",
   "metadata": {},
   "source": [
    "&#9989; **<font color=red>QUESTION:</font>** The following transformation matrix will move points in $R^n$ dimensional space. What is $n$? \n",
    "\n",
    "$$\n",
    "\\left[\n",
    "\\begin{matrix}\n",
    "    \\sin{(\\theta)} & -\\cos{(\\theta)} & 0 & d_x \\\\ \n",
    "    \\cos{(\\theta)} & \\sin{(\\theta)}  & 0 & d_y \\\\ \n",
    "    0 & 0  & 1 & d_z \\\\ \n",
    "    0 & 0  & 0 & 1 \n",
    "\\end{matrix}\n",
    "\\right] \n",
    "$$"
   ]
  },
  {
   "cell_type": "markdown",
   "metadata": {},
   "source": [
    "Put your answer here"
   ]
  },
  {
   "cell_type": "markdown",
   "metadata": {},
   "source": [
    "&#9989; **<font color=red>QUESTION:</font>**  The above matrix rotates around which axis?"
   ]
  },
  {
   "cell_type": "markdown",
   "metadata": {},
   "source": [
    "Put your answer here"
   ]
  },
  {
   "cell_type": "markdown",
   "metadata": {},
   "source": [
    "&#9989; **<font color=red>QUESTION:</font>** In the above matrix, how do the scalar values $d_x, d_y, d_z$ influence the transformation? "
   ]
  },
  {
   "cell_type": "markdown",
   "metadata": {},
   "source": [
    "Put your answer here"
   ]
  },
  {
   "cell_type": "markdown",
   "metadata": {},
   "source": [
    "&#9989; **<font color=red>QUESTION:</font>**  Compute $2u+3v$ for vectors $u = (1,2, 6)$ and $v = (4, -1, 3)$."
   ]
  },
  {
   "cell_type": "markdown",
   "metadata": {},
   "source": [
    "Put your answer here"
   ]
  },
  {
   "cell_type": "markdown",
   "metadata": {},
   "source": [
    "&#9989; **<font color=red>QUESTION:</font>**  What is a homogeneous system of linear equations?"
   ]
  },
  {
   "cell_type": "markdown",
   "metadata": {},
   "source": [
    "Put your answer here"
   ]
  },
  {
   "cell_type": "markdown",
   "metadata": {},
   "source": [
    "----\n",
    "\n",
    "<a name=\"2D_Forward_Kinematics\"></a>\n",
    "## 2. 2D Forward Kinematics\n",
    "<img src=\"https://lh5.googleusercontent.com/S70gMT_jN3x0hSoCAapLydJNeYZYmcetjf09XiF0YsO2QbBZHiIq9VpY4Mc6ocuBphgJeUxDC5JZ10UkpQDhe2XW6NJQPDzVp3ool_fiHXHU-MRMChMcY93vZXoE=w263\" width=\"25%\">\n",
    "\n",
    "This robot can move in the $x-y$ plane.  We can represent the configuration of the robot in its \"*Joint Space*\" by knowing the two joint angles or $[a_1,a_2]$.  However what we would like is to represent the location of the end of the robot (often called the \"end effector\" or \"hand\") in \"world\" coordinates (i.e. $x-y$ coordinate system). \n",
    "\n",
    "Today, we will use Linear Algebra and simple transformation matrices to try and calculate how to go from \"joint\" coordinates to \"world\" coordinates.  "
   ]
  },
  {
   "cell_type": "code",
   "execution_count": null,
   "metadata": {},
   "outputs": [],
   "source": [
    "from IPython.display import YouTubeVideo\n",
    "YouTubeVideo(\"aCohcLYrYcY\",width=640,height=360, cc_load_policy=True)"
   ]
  },
  {
   "cell_type": "markdown",
   "metadata": {},
   "source": [
    "### Single axis Robot\n",
    "\n",
    "The following code draws a simple single axis (single joint) robot with its joint centered at the origin and its initial angle of zero with an robot arm length of 4 \"units\" long."
   ]
  },
  {
   "cell_type": "code",
   "execution_count": null,
   "metadata": {},
   "outputs": [],
   "source": [
    "%matplotlib inline\n",
    "import matplotlib.pylab as plt\n",
    "import numpy as np\n",
    "from ipywidgets import interact\n",
    "import sympy as sym\n",
    "sym.init_printing(True)"
   ]
  },
  {
   "cell_type": "code",
   "execution_count": null,
   "metadata": {},
   "outputs": [],
   "source": [
    "plt.scatter(4,0, s=200, facecolors='none', edgecolors='r') #plot end effector\n",
    "plt.scatter(0,0, s=200, facecolors='r', edgecolors='r') # plot origin\n",
    "plt.plot([0,4],[0,0]) #plot blue line for arm\n",
    "plt.axis('square')\n",
    "plt.xlim([-5.5,5.5])\n",
    "plt.ylim([-5.5,5.5])\n",
    "    "
   ]
  },
  {
   "cell_type": "markdown",
   "metadata": {},
   "source": [
    "A 2D rotation matrix around the origin is defined as the following:\n",
    "\n",
    "$$ \n",
    "\\left[ \\begin{matrix}\n",
    "    x_{end} \\\\\n",
    "    y_{end} \n",
    " \\end{matrix}\n",
    "\\right] \n",
    "=\n",
    "\\left[ \\begin{matrix}\n",
    "    \\cos(a) & -\\sin(a) \\\\\n",
    "    \\sin(a) & \\cos(qa \n",
    " \\end{matrix}\n",
    "\\right] \n",
    "\\left[ \\begin{matrix}\n",
    "    x_{start} \\\\\n",
    "    y_{start} \n",
    " \\end{matrix}\n",
    "\\right] \n",
    "$$ \n",
    "\n",
    "The following rotation matrix will rotate the point $45^o$ around the origin:"
   ]
  },
  {
   "cell_type": "code",
   "execution_count": null,
   "metadata": {},
   "outputs": [],
   "source": [
    "p = [[4],[0]]\n",
    "\n",
    "a1=np.pi/4\n",
    "\n",
    "R = np.matrix([[np.cos(a1), -np.sin(a1)], [np.sin(a1), np.cos(a1)]])\n",
    "\n",
    "p2 = R*p\n",
    "\n",
    "x1 = p2[0,0]\n",
    "y1 = p2[1,0]\n",
    "\n",
    "plt.scatter(x1,y1, s=200, facecolors='none', edgecolors='r') #plot end effector\n",
    "plt.scatter(0,0, s=200, facecolors='r', edgecolors='r') # plot origin\n",
    "plt.plot([0,x1],[0,y1]) #plot blue line for arm\n",
    "plt.axis('square')\n",
    "plt.xlim([-5.5,5.5])\n",
    "plt.ylim([-5.5,5.5])\n",
    "sym.Matrix(R)"
   ]
  },
  {
   "cell_type": "markdown",
   "metadata": {},
   "source": [
    "The following code uses the Jupyter ```interact``` function and ```numpy``` to make an interactive view of the above.  This lets us change the value of the rotation motor and see how it changes the robot. The input to the function is the axis angle and the output is the $x-y$ coordinates.\n",
    "\n",
    "**Note:** it can take some time for the interaction to catch up.  Try moving the slider slowly..."
   ]
  },
  {
   "cell_type": "code",
   "execution_count": null,
   "metadata": {},
   "outputs": [],
   "source": [
    "def Robot_Simulator(q1=0):\n",
    "    a1 = q1/180  * np.pi\n",
    "    p0 = np.matrix([4,0]).T\n",
    "    p = p0\n",
    "    J1 = np.matrix([[np.cos(a1), -np.sin(a1)], [np.sin(a1), np.cos(a1)]]) \n",
    "    p = np.concatenate( ( J1*p, np.matrix([0,0]).T), axis=1 )\n",
    "    \n",
    "    plt.scatter(p[0,:].tolist()[0],p[1,:].tolist()[0], s=200, facecolors='none', edgecolors='r')\n",
    "    plt.scatter(0,0, s=200, facecolors='r', edgecolors='r')\n",
    "    plt.plot(p[0,:].tolist()[0],p[1,:].tolist()[0])\n",
    "    plt.axis('square')\n",
    "    plt.xlim([-5.5,5.5])\n",
    "    plt.ylim([-5.5,5.5])\n",
    "    ax = plt.gca()\n",
    "    plt.show()\n",
    "    return([ p[0,0], p[1,0] ])\n",
    "    \n",
    "p = interact(Robot_Simulator, q1=(-180,180,2));"
   ]
  },
  {
   "cell_type": "markdown",
   "metadata": {},
   "source": [
    "&#9989; **<font color=red>DO THIS:</font>**  Inspect the above code. \n",
    "\n",
    "&#9989; **<font color=red>QUESTION:</font>** Which line of the code defines the transformation matrix for the robot joint?  "
   ]
  },
  {
   "cell_type": "markdown",
   "metadata": {},
   "source": [
    "Put your answer to the above questin here. "
   ]
  },
  {
   "cell_type": "markdown",
   "metadata": {},
   "source": [
    "&#9989; **<font color=red>QUESTION:</font>** Which line of code defines the length of the robot arm? \n",
    "\n",
    "(Note you can turn line numbers on and off in jupyterhub.  Use the menu at the top to figure out how.)"
   ]
  },
  {
   "cell_type": "markdown",
   "metadata": {},
   "source": [
    "Put your answer to the above question here"
   ]
  },
  {
   "cell_type": "markdown",
   "metadata": {},
   "source": [
    "### Multi axis robot\n",
    "\n",
    "Now, let's consider the robot from the video:\n",
    "\n",
    "<img src=\"https://lh3.googleusercontent.com/zCoCDGfsr8z3vqaGEfRYLH_YcDOrb2GRXOjkSEH0ASjxVH2FrRiXpa8c7NaQw0FYjXyX1rQXbpRmxXk7pg5KEnAE8lWb2m3Sorp5Kj7OIduFiMnMuI3oV2Vy0Mn0=w720\" width=\"75%\">"
   ]
  },
  {
   "cell_type": "markdown",
   "metadata": {},
   "source": [
    "Notice it has two joints $a_1$ and $a_2$ and offset lengths of $d_1$, $d_2$ and $d_e$. The joint space for this robot is just its angles $[a_1, a_2]$. However, what we want is to know the location of end effector point $p_e$ at the gripper in the \"world\" reference frame, which the bottom most axies \"on the ground\".  \n",
    "\n",
    "At each joint, we can define a reference frame that rotates and then transforms the origin to the ealier joint. The forward transformation matrices capture the relationship between the reference frames of different links of the robot. \n",
    "\n",
    "For example, We can move from the base motor, or $p_1$, reference frame to the world, or $p_w$, reference frame using the following equations:\n",
    "\n",
    "$$ \n",
    "p_w\n",
    "=\n",
    "\\left[ \\begin{matrix}\n",
    "    \\cos(a_1) & -\\sin(a_1) \\\\\n",
    "    \\sin(a_1) & \\cos(a_1) \n",
    " \\end{matrix}\n",
    "\\right] \n",
    "p_1\n",
    "+ \n",
    "\\left[ \\begin{matrix}\n",
    "    0 \\\\\n",
    "    d_1 \n",
    " \\end{matrix}\n",
    "\\right].\n",
    "$$ \n"
   ]
  },
  {
   "cell_type": "markdown",
   "metadata": {},
   "source": [
    "The equation shown  above are a little tricky to work with because the$ \\left[ \\begin{matrix}\n",
    "    0 \\\\\n",
    "    d_1 \n",
    " \\end{matrix}\n",
    "\\right] $ part makes the equation non-linear \n",
    "(if you don't believe me? \n",
    "Remember the rules for making a function linear and apply them and see for yourself). \n",
    "However, there is an easy trick in Linear Algebra to convert the above to one big linear matrix. \n",
    "This trick  requires us to keep an extra 1 (one) for each point but makes the math work out nicely. \n",
    "Basically the trick works as follows:\n",
    "\n",
    "$$ \n",
    "\\left[ \\begin{matrix}\n",
    "    x_w \\\\\n",
    "    y_w \\\\\n",
    "    1 \n",
    " \\end{matrix}\n",
    "\\right] \n",
    "=\n",
    "\\left[ \\begin{matrix}\n",
    "    cos(a_1) & -sin(a_1) & 0 \\\\\n",
    "    sin(a_1) & cos(a_1) & d_1 \\\\\n",
    "    0 & 0 & 1\n",
    " \\end{matrix}\n",
    "\\right] \n",
    "\\left[ \\begin{matrix}\n",
    "    x_1 \\\\\n",
    "    y_1 \\\\\n",
    "    1 \n",
    " \\end{matrix}\n",
    "\\right] \n",
    "$$ \n",
    "\n",
    "Let's call the transformation matrix for Joint 1, $J_1$, and we can rewrite the equations as follows:\n",
    "\n",
    "$$p_1 = J_1p_2$$"
   ]
  },
  {
   "cell_type": "markdown",
   "metadata": {},
   "source": [
    "&#9989; **<font color=red>DO THIS</font>** On your own, write out the above matrix multiplication and convince yourself that it is the same as the one above. "
   ]
  },
  {
   "cell_type": "markdown",
   "metadata": {},
   "source": [
    "Now, we can move from the $p_2$ reference frame to the $p_1$  reference frame basically the same equation:\n",
    "\n",
    "$$ \n",
    "\\left[ \\begin{matrix}\n",
    "    x_1 \\\\\n",
    "    y_1 \\\\\n",
    "    1 \n",
    " \\end{matrix}\n",
    "\\right] \n",
    "=\n",
    "\\left[ \\begin{matrix}\n",
    "    cos(a_2) & -sin(a_2) & d_2 \\\\\n",
    "    sin(a_2) & cos(a_2) & 0 \\\\\n",
    "    0 & 0 & 1\n",
    " \\end{matrix}\n",
    "\\right] \n",
    "\\left[ \\begin{matrix}\n",
    "    x_2 \\\\\n",
    "    y_2 \\\\\n",
    "    1 \n",
    " \\end{matrix}\n",
    "\\right] \n",
    "$$ \n"
   ]
  },
  {
   "cell_type": "markdown",
   "metadata": {},
   "source": [
    "For the last step we can do a simple linear transpose from the end effector $p_e$ reference frame to the $p_2$ reference frame:\n",
    "\n",
    "$$ \n",
    "\\left[ \\begin{matrix}\n",
    "    x_2 \\\\\n",
    "    y_2 \\\\\n",
    "    1 \n",
    " \\end{matrix}\n",
    "\\right] \n",
    "=\n",
    "\\left[ \\begin{matrix}\n",
    "    1 & 0 & d_2 \\\\\n",
    "    0 & 1 & 0 \\\\\n",
    "    0 & 0 & 1\n",
    " \\end{matrix}\n",
    "\\right] \n",
    "\\left[ \\begin{matrix}\n",
    "    x_e \\\\\n",
    "    y_e \\\\\n",
    "    1 \n",
    " \\end{matrix}\n",
    "\\right] \n",
    "$$ "
   ]
  },
  {
   "cell_type": "markdown",
   "metadata": {},
   "source": [
    "If we call each transformation matrix $J_1, J_2, J_e$ then hopefully you can see that we can string these transformation matrices together such that we get a single transform from the end effector all the way back to the world coordinates as follows:\n",
    "\n",
    "$$p_w = J_1J_2J_ep_e$$\n",
    "\n",
    "\n",
    "\n",
    "Let's see what this looks like in Python.  I am going to use ```numpy```. The plotting gets a little awkward but hopefully it makes sense.\n",
    "\n",
    "First, lets initialize the variables to some discreet numbers:\n"
   ]
  },
  {
   "cell_type": "code",
   "execution_count": null,
   "metadata": {},
   "outputs": [],
   "source": [
    "%matplotlib inline\n",
    "import matplotlib.pylab as plt\n",
    "import numpy as np\n",
    "from ipywidgets import interact\n",
    "\n",
    "#Inicial state\n",
    "a1 = 0\n",
    "a2 = 0\n",
    "\n",
    "#Lenths of the offsets\n",
    "d1 = 0.5\n",
    "d2 = 3\n",
    "de = 3"
   ]
  },
  {
   "cell_type": "markdown",
   "metadata": {},
   "source": [
    "Next, I am going to define a set of points in the end effector coordinate system.  These points are picked to form a sort of \"C\" shaped designed to look sort of like an end effector.  I will plot them to help show you what I mean:"
   ]
  },
  {
   "cell_type": "code",
   "execution_count": null,
   "metadata": {},
   "outputs": [],
   "source": [
    "#Points needed to define a square\n",
    "pe = np.matrix([[1, 0.5, 1],[0,0.5,1],[0,-0.5, 1],[1,-0.5, 1],[0,-0.5, 1],[0,0, 1]]).T\n",
    "p = pe\n",
    "\n",
    "plt.scatter(p[0,:].tolist()[0],p[1,:].tolist()[0], s=20, facecolors='none', edgecolors='r')\n",
    "plt.scatter(0,0, s=20, facecolors='r', edgecolors='r')\n",
    "plt.plot(p[0,:].tolist()[0],p[1,:].tolist()[0])\n",
    "plt.axis('scaled')\n",
    "plt.xlim([-5.5,5.5])\n",
    "plt.ylim([-5.5,5.5])"
   ]
  },
  {
   "cell_type": "markdown",
   "metadata": {},
   "source": [
    "The next step is to apply the $J_e$ transformation matrix to the gripper points which will put them in the $p_2$ coordinate system.  Once the points are transposed the code concatenates the origin (0,0) onto the list of points so we can part of the robot arm in the plot:"
   ]
  },
  {
   "cell_type": "code",
   "execution_count": null,
   "metadata": {},
   "outputs": [],
   "source": [
    "Je = np.matrix([[1, 0, de], \n",
    "                [0, 1, 0], \n",
    "                [0,0,1]]) \n",
    "\n",
    "p = np.concatenate( ( Je*p, np.matrix([0,0,1]).T), axis=1 )\n",
    "\n",
    "plt.scatter(p[0,:].tolist()[0],p[1,:].tolist()[0], s=20, facecolors='none', edgecolors='r')\n",
    "plt.scatter(0,0, s=20, facecolors='r', edgecolors='r')\n",
    "plt.plot(p[0,:].tolist()[0],p[1,:].tolist()[0])\n",
    "plt.axis('scaled')\n",
    "plt.xlim([-5.5,5.5])\n",
    "plt.ylim([-5.5,5.5])"
   ]
  },
  {
   "cell_type": "markdown",
   "metadata": {},
   "source": [
    "We do this again.  Apply the $J_2$ transformation matrix to put the points into the $p_1$ coordinate system,  concatenate the origin and plot the results. "
   ]
  },
  {
   "cell_type": "code",
   "execution_count": null,
   "metadata": {},
   "outputs": [],
   "source": [
    "J2 = np.matrix([[np.cos(a2), -np.sin(a2), 0], \n",
    "                [np.sin(a2), np.cos(a2), d2], \n",
    "                [0,0,1]]) \n",
    "\n",
    "p = np.concatenate( ( J2*p, np.matrix([0,0,1]).T), axis=1 )\n",
    "\n",
    "plt.scatter(p[0,:].tolist()[0],p[1,:].tolist()[0], s=20, facecolors='none', edgecolors='r')\n",
    "plt.scatter(0,0, s=20, facecolors='r', edgecolors='r')\n",
    "plt.plot(p[0,:].tolist()[0],p[1,:].tolist()[0])\n",
    "plt.axis('scaled')\n",
    "plt.xlim([-5.5,5.5])\n",
    "plt.ylim([-5.5,5.5])"
   ]
  },
  {
   "cell_type": "markdown",
   "metadata": {},
   "source": [
    "We do it yet again.   Apply the $J_1$ transformation matrix which will put the points in the $p_w$ coordinate system,  concatenate the origin and plot the results. The result is a skeletal frame representing our robot. "
   ]
  },
  {
   "cell_type": "code",
   "execution_count": null,
   "metadata": {},
   "outputs": [],
   "source": [
    "J1 = np.matrix([[np.cos(a1), -np.sin(a1), 0], \n",
    "                [np.sin(a1), np.cos(a1), d1], \n",
    "                [0,0,1]]) \n",
    "\n",
    "p = np.concatenate( ( J1*p, np.matrix([0,0,1]).T), axis=1 )\n",
    "\n",
    "plt.scatter(p[0,:].tolist()[0],p[1,:].tolist()[0], s=20, facecolors='none', edgecolors='r')\n",
    "plt.scatter(0,0, s=20, facecolors='r', edgecolors='r')\n",
    "plt.plot(p[0,:].tolist()[0],p[1,:].tolist()[0])\n",
    "plt.axis('scaled')\n",
    "plt.xlim([-8,8])\n",
    "plt.ylim([-8,8])"
   ]
  },
  {
   "cell_type": "markdown",
   "metadata": {},
   "source": [
    "&#9989; **<font color=red>DO THIS:</font>** Modify the rotation variables ```a1``` and ```a2``` in the above code and see if the new robot configuration looks right. **_HINT_** make sure your angles are in radians."
   ]
  },
  {
   "cell_type": "markdown",
   "metadata": {},
   "source": [
    "The following is the same code as above but put into an interactive function to make the code easier to play with:"
   ]
  },
  {
   "cell_type": "code",
   "execution_count": null,
   "metadata": {},
   "outputs": [],
   "source": [
    "from ipywidgets import interact\n",
    "\n",
    "def Robot_Simulator(q1=0,q2=-0):\n",
    "    a1 = q1/180  * np.pi\n",
    "    a2 = q2/180  * np.pi\n",
    "\n",
    "    d1 = 0.5\n",
    "    d2 = 3\n",
    "    de = 3\n",
    "    \n",
    "    target = np.matrix([-3,2, 1])\n",
    "    print(target)\n",
    "\n",
    "    pe = np.matrix([[1, 0.5, 1],[0,0.5,1],[0,-0.5, 1],[1,-0.5, 1],[0,-0.5, 1],[0,0, 1]]).T\n",
    "\n",
    "    Je = np.matrix([[1, 0, de], \n",
    "                    [0, 1, 0], \n",
    "                    [0,0,1]]) \n",
    "    p = np.concatenate( ( Je*pe, np.matrix([0,0,1]).T), axis=1 )    \n",
    "\n",
    "    J2 = np.matrix([[np.cos(a2), -np.sin(a2), 0], \n",
    "                    [np.sin(a2), np.cos(a2), d2], \n",
    "                    [0,0,1]]) \n",
    "    p = np.concatenate( ( J2*p, np.matrix([0,0,1]).T), axis=1 )\n",
    "\n",
    "    J1 = np.matrix([[np.cos(a1), -np.sin(a1), 0], \n",
    "                    [np.sin(a1), np.cos(a1), d1], \n",
    "                    [0,0,1]]) \n",
    "    p = np.concatenate( ( J1*p, np.matrix([0,0,1]).T), axis=1 )\n",
    "\n",
    "\n",
    "    plt.scatter(p[0,:].tolist()[0],p[1,:].tolist()[0], s=20, facecolors='none', edgecolors='r')\n",
    "    plt.scatter(0,0, s=20, facecolors='r', edgecolors='r')\n",
    "    plt.plot(p[0,:].tolist()[0],p[1,:].tolist()[0])\n",
    "    plt.plot(target[0,0], target[0,1],'*')\n",
    "    plt.axis('scaled')\n",
    "    plt.xlim([-8,8])\n",
    "    plt.ylim([-8,8])\n",
    "\n",
    "    plt.show()\n",
    "    \n",
    "target = interact(Robot_Simulator, q1=(-180,180), q2=(-180,180));"
   ]
  },
  {
   "cell_type": "markdown",
   "metadata": {},
   "source": [
    "**Note.** If the ``interact`` plot is really choppy on your machine this is because the function is coninuously updating as you move the sliders. Consider replacing the ``interact`` function with ``interact_manual`` to eliminate the continuous updates. You will have to change the import code in line 1. "
   ]
  },
  {
   "cell_type": "markdown",
   "metadata": {},
   "source": [
    "&#9989; **<font color=red>QUESTION:</font>** Move the above robot so that the end effector is \"gripping\" the target (yellow/orangeish star). \n",
    "Notice that there is more than one point in the \"joint space\" that gives the same answer. \n",
    "This is the reverse Kinematic problem (which is harder). \n",
    "We know the point we want but we need to find the joints that put the robot at that point. "
   ]
  },
  {
   "cell_type": "markdown",
   "metadata": {},
   "source": [
    "Put your answer to the above question here."
   ]
  },
  {
   "cell_type": "markdown",
   "metadata": {},
   "source": [
    "&#9989; **<font color=red>DO THIS:</font>** The code in the following cell is cut and pasted from above. Modify the code to add a third Joint to the robot."
   ]
  },
  {
   "cell_type": "code",
   "execution_count": null,
   "metadata": {},
   "outputs": [],
   "source": [
    "from ipywidgets import interact\n",
    "\n",
    "def Robot_Simulator(q1=0,q2=-0):\n",
    "    a1 = q1/180  * np.pi\n",
    "    a2 = q2/180  * np.pi\n",
    "    #####Start your code here #####    \n",
    "\n",
    "    #####End of your code here#####     \n",
    "\n",
    "    d1 = 0.5\n",
    "    d2 = 3\n",
    "    de = 3\n",
    "    #####Start your code here #####    \n",
    "\n",
    "    #####End of your code here#####     \n",
    "    \n",
    "    \n",
    "    target = np.matrix([-3,2, 1])\n",
    "    print(target)\n",
    "\n",
    "    pe = np.matrix([[1, 0.5, 1],[0,0.5,1],[0,-0.5, 1],[1,-0.5, 1],[0,-0.5, 1],[0,0, 1]]).T\n",
    "\n",
    "    Je = np.matrix([[1, 0, de], \n",
    "                    [0, 1, 0], \n",
    "                    [0,0,1]]) \n",
    "    p = np.concatenate( ( Je*pe, np.matrix([0,0,1]).T), axis=1 )    \n",
    "\n",
    "    #####Start your code here #####    \n",
    "\n",
    "    #####End of your code here#####     \n",
    "    \n",
    "    J2 = np.matrix([[np.cos(a2), -np.sin(a2), 0], \n",
    "                    [np.sin(a2), np.cos(a2), d2], \n",
    "                    [0,0,1]]) \n",
    "    p = np.concatenate( ( J2*p, np.matrix([0,0,1]).T), axis=1 )\n",
    "\n",
    "    J1 = np.matrix([[np.cos(a1), -np.sin(a1), 0], \n",
    "                    [np.sin(a1), np.cos(a1), d1], \n",
    "                    [0,0,1]]) \n",
    "    \n",
    "    p = np.concatenate( ( J1*p, np.matrix([0,0,1]).T), axis=1 )\n",
    "\n",
    "\n",
    "    plt.scatter(p[0,:].tolist()[0],p[1,:].tolist()[0], s=20, facecolors='none', edgecolors='r')\n",
    "    plt.scatter(0,0, s=20, facecolors='r', edgecolors='r')\n",
    "    plt.plot(p[0,:].tolist()[0],p[1,:].tolist()[0])\n",
    "    plt.plot(target[0,0], target[0,1],'*')\n",
    "    plt.axis('scaled')\n",
    "    plt.xlim([-8,8])\n",
    "    plt.ylim([-8,8])\n",
    "\n",
    "    plt.show()\n",
    "    \n",
    "target = interact(Robot_Simulator, q1=(-180,180), q2=(-180,180));"
   ]
  },
  {
   "cell_type": "markdown",
   "metadata": {},
   "source": [
    "&#9989; **<font color=red>QUESTION:</font>**   Do the reverse Kinematics again, and find three angles that place the robot on the star. "
   ]
  },
  {
   "cell_type": "markdown",
   "metadata": {},
   "source": [
    "Put your answer to the above question here. "
   ]
  },
  {
   "cell_type": "markdown",
   "metadata": {},
   "source": [
    "----\n",
    "\n",
    "<a name=\"T3\"></a>\n",
    "## 3. Assignment wrap-up"
   ]
  },
  {
   "cell_type": "markdown",
   "metadata": {},
   "source": [
    "&#9989; **<font color=red>Assignment-Specific QUESTION:</font>** What three angles did you find that place the robot on the star. "
   ]
  },
  {
   "cell_type": "markdown",
   "metadata": {},
   "source": [
    "Put your answer to the above question here"
   ]
  },
  {
   "cell_type": "markdown",
   "metadata": {},
   "source": [
    "&#9989; **<font color=red>QUESTION:</font>**  Summarize what you did in this assignment."
   ]
  },
  {
   "cell_type": "markdown",
   "metadata": {},
   "source": [
    "Put your answer to the above question here"
   ]
  },
  {
   "cell_type": "markdown",
   "metadata": {},
   "source": [
    "&#9989; **<font color=red>QUESTION:</font>**  What questions do you have, if any, about any of the topics discussed in this assignment after working through the jupyter notebook?"
   ]
  },
  {
   "cell_type": "markdown",
   "metadata": {},
   "source": [
    "Put your answer to the above question here"
   ]
  },
  {
   "cell_type": "markdown",
   "metadata": {},
   "source": [
    "&#9989; **<font color=red>QUESTION:</font>**  How well do you feel this assignment helped you to achieve a better understanding of the above mentioned topic(s)?"
   ]
  },
  {
   "cell_type": "markdown",
   "metadata": {},
   "source": [
    "Put your answer to the above question here"
   ]
  },
  {
   "cell_type": "markdown",
   "metadata": {},
   "source": [
    "&#9989; **<font color=red>QUESTION:</font>** What was the **most** challenging part of this assignment for you? "
   ]
  },
  {
   "cell_type": "markdown",
   "metadata": {},
   "source": [
    "Put your answer to the above question here"
   ]
  },
  {
   "cell_type": "markdown",
   "metadata": {},
   "source": [
    "&#9989; **<font color=red>QUESTION:</font>** What was the **least** challenging part of this assignment for you? "
   ]
  },
  {
   "cell_type": "markdown",
   "metadata": {},
   "source": [
    "Put your answer to the above question here"
   ]
  },
  {
   "cell_type": "markdown",
   "metadata": {},
   "source": [
    "&#9989; **<font color=red>QUESTION:</font>**  What kind of additional questions or support, if any, do you feel you need to have a better understanding of the content in this assignment?"
   ]
  },
  {
   "cell_type": "markdown",
   "metadata": {},
   "source": [
    "Put your answer to the above question here"
   ]
  },
  {
   "cell_type": "markdown",
   "metadata": {},
   "source": [
    "&#9989; **<font color=red>QUESTION:</font>**  Do you have any further questions or comments about this material, or anything else that's going on in class?"
   ]
  },
  {
   "cell_type": "markdown",
   "metadata": {},
   "source": [
    "Put your answer to the above question here"
   ]
  },
  {
   "cell_type": "markdown",
   "metadata": {},
   "source": [
    "&#9989; **<font color=red>QUESTION:</font>** Approximately how long did this pre-class assignment take?"
   ]
  },
  {
   "cell_type": "markdown",
   "metadata": {},
   "source": [
    "Put your answer to the above question here"
   ]
  },
  {
   "cell_type": "markdown",
   "metadata": {},
   "source": [
    "----\n",
    "\n",
    "Written by Dr. Dirk Colbry, Michigan State University\n",
    "<a rel=\"license\" href=\"http://creativecommons.org/licenses/by-nc/4.0/\"><img alt=\"Creative Commons License\" style=\"border-width:0\" src=\"https://i.creativecommons.org/l/by-nc/4.0/88x31.png\" /></a><br />This work is licensed under a <a rel=\"license\" href=\"http://creativecommons.org/licenses/by-nc/4.0/\">Creative Commons Attribution-NonCommercial 4.0 International License</a>."
   ]
  },
  {
   "cell_type": "markdown",
   "metadata": {},
   "source": [
    "\n"
   ]
  }
 ],
 "metadata": {
  "anaconda-cloud": {},
  "kernelspec": {
   "display_name": "Python 3",
   "language": "python",
   "name": "python3"
  },
  "language_info": {
   "codemirror_mode": {
    "name": "ipython",
    "version": 3
   },
   "file_extension": ".py",
   "mimetype": "text/x-python",
   "name": "python",
   "nbconvert_exporter": "python",
   "pygments_lexer": "ipython3",
   "version": "3.7.6"
  }
 },
 "nbformat": 4,
 "nbformat_minor": 4
}
