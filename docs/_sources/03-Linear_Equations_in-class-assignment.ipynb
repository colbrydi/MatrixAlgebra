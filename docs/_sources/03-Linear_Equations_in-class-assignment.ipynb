{
 "cells": [
  {
   "cell_type": "markdown",
   "metadata": {},
   "source": []
  },
  {
   "cell_type": "markdown",
   "metadata": {},
   "source": []
  },
  {
   "cell_type": "markdown",
   "metadata": {},
   "source": [
    "# 03 In-Class Assignment: Solving Linear Systems of equations\n",
    "\n",
    "In the movie Groundhog day the main character \"Phil\" repeats the same day over and over again.  This is an iterative process where Phil learns from past mistakes until he has a \"perfect\" day.  The Groundhog movie is a fun analogy of iterative methods for solving linear equations.  In this class we will write our own iterative method. "
   ]
  },
  {
   "cell_type": "markdown",
   "metadata": {},
   "source": [
    "### Agenda for today's class (80 minutes)\n",
    "\n",
    "</p>\n",
    "\n",
    "1. [(30 minutes) Review pre-class assignment](#Pre-class_assignment_review)\n",
    "1. [(30 minutes) Jacobi Method for solving Linear Equations](#Jacobi_Method_for_solving_Linear_Equations)\n",
    "1. [(20 minutes) Numerical Error](#Numerical_Error)"
   ]
  },
  {
   "cell_type": "markdown",
   "metadata": {},
   "source": [
    "---\n",
    "<a name=\"Pre-class_assignment_review\"></a>\n",
    "## 1. Pre-class assignment review\n",
    "\n",
    "\n",
    "[03--Linear_Equations_pre-class-assignment.ipynb](03--Linear_Equations_pre-class-assignment.ipynb)\n"
   ]
  },
  {
   "cell_type": "markdown",
   "metadata": {},
   "source": [
    "---\n",
    "<a name=\"Jacobi_Method_for_solving_Linear_Equations\"></a>\n",
    "\n",
    "## 2. Jacobi Method for solving Linear Equations\n",
    "\n",
    "During class today we will write an iterative method (named after Carl Gustav Jacob Jacobi) to solve the following system of equations:\n",
    "\n",
    "$$ 6x + 2y - ~z = 4~$$\n",
    "$$~ x + 5y + ~z = 3~$$\n",
    "$$ 2x +~ y + 4z = 27$$\n",
    "\n",
    "Here is a basic outline of the Jacobi method algorithm:\n",
    "\n",
    "1. Initialize each of the variables as zero ($x_0 = 0, y_0 = 0, z_0 = 0$) \n",
    "2. Calculate the next iteration using the above equations and the values from the previous iterations. For example here is the formula for calculating $x_i$ from $y_{(i-1)}$ and $z_{(i-1)}$ based on the first equation:\n",
    "    $$x_i = \\frac{4 - 2y_{(i-1)} + z_{(i-1)}}{6} $$\n",
    "    Similarly, we can obtain the update for $y_i$ and $z_i$ from the second and third equations, respectively.\n",
    "3. Increment the iteration counter $(i = i + 1)$ and repeat Step 2.\n",
    "4. Stop when the answer \"converges\" or a maximum number of iterations has been reached. (ex. $i$ = 100)\n",
    "\n",
    "**IMPORTANT NOTE:** \n",
    "\n",
    "> A sufficient (but not necessary) condition for the method to converge is that the matrix A is strictly or irreducibly [diagonally dominant](https://en.wikipedia.org/wiki/Diagonally_dominant_matrix). Strict row diagonal dominance means that for each row, the absolute value of the diagonal term is greater than the sum of absolute values of other terms. - From [Wikipedia](https://en.wikipedia.org/wiki/Jacobi_method)\n",
    "\n",
    "In other words, the Jacobi Methid will not work an all problems.  "
   ]
  },
  {
   "cell_type": "markdown",
   "metadata": {},
   "source": [
    "&#9989; **<font color=red>DO THIS:</font>** Write out the equations for $x_i$, $y_i$, and $z_i$ based on $x_{(i-1)}$, $y_{(i-1)}$, and $z_{(i-1)}$. "
   ]
  },
  {
   "cell_type": "markdown",
   "metadata": {},
   "source": [
    "Put your answer to the above question here."
   ]
  },
  {
   "cell_type": "markdown",
   "metadata": {},
   "source": [
    "&#9989; **<font color=red>DO THIS:</font>** Complete the following code by adding formulas for $y_i$ and $z_i$ to solve the above equations using the Jacobi method.  "
   ]
  },
  {
   "cell_type": "code",
   "execution_count": null,
   "metadata": {},
   "outputs": [],
   "source": [
    "%matplotlib inline\n",
    "import matplotlib.pylab as plt\n",
    "\n",
    "x = []\n",
    "y = []\n",
    "z = []\n",
    "\n",
    "#step 1: inicialize to zero\n",
    "x.append(0)\n",
    "y.append(0)\n",
    "z.append(0)\n",
    "\n",
    "for i in range(1,100):\n",
    "    xi = (4 - 2*y[i-1]+ z[i-1])/6\n",
    "#####Start your code here #####\n",
    "    yi = 0 #Change this line\n",
    "    zi = 0 #Change this line\n",
    "#####End of your code here#####        \n",
    "    #Add latest value to history\n",
    "    x.append(xi)\n",
    "    y.append(yi)\n",
    "    z.append(zi)\n",
    "\n",
    "#Plot History of values\n",
    "plt.plot(x, label='x')\n",
    "plt.plot(y, label='y')\n",
    "plt.plot(z, label='z')\n",
    "plt.xlabel('Iteration')\n",
    "plt.ylabel('Value')\n",
    "plt.legend(loc=1);"
   ]
  },
  {
   "cell_type": "markdown",
   "metadata": {},
   "source": [
    " &#9989; **<font color=red>QUESTION:</font>**  What are the final values for $x$, $y$, and $z$?\n",
    "\n",
    "$$x = $$\n",
    "$$y = $$\n",
    "$$z = $$"
   ]
  },
  {
   "cell_type": "markdown",
   "metadata": {},
   "source": [
    "&#9989; **<font color=red>DO THIS:</font>** Write out each of the above equations and show that your final result is a solution to the system of equations:"
   ]
  },
  {
   "cell_type": "code",
   "execution_count": null,
   "metadata": {},
   "outputs": [],
   "source": [
    "# Put your code here"
   ]
  },
  {
   "cell_type": "markdown",
   "metadata": {},
   "source": [
    " &#9989; **<font color=red>QUESTION:</font>**  By inspecting the graph, how long did it take for the algorithum to converge to a solution?  "
   ]
  },
  {
   "cell_type": "markdown",
   "metadata": {},
   "source": [
    "Put your answer to the above question here."
   ]
  },
  {
   "cell_type": "markdown",
   "metadata": {},
   "source": [
    " &#9989; **<font color=red>QUESTION:</font>**  How could you rewrite the above program to stop earlier.  "
   ]
  },
  {
   "cell_type": "markdown",
   "metadata": {},
   "source": [
    "Put your answer to the above question here."
   ]
  },
  {
   "cell_type": "markdown",
   "metadata": {},
   "source": [
    "---\n",
    "<a name=\"Numerical_Error\"></a>\n",
    "\n",
    "## 3. Numerical Error\n",
    "\n",
    "Consider the following python statement when answering the questions below:"
   ]
  },
  {
   "cell_type": "code",
   "execution_count": null,
   "metadata": {},
   "outputs": [],
   "source": [
    "0.1 + 0.2 == 0.3"
   ]
  },
  {
   "cell_type": "markdown",
   "metadata": {},
   "source": [
    " &#9989; **<font color=red>QUESTION:</font>**  Why does Python return **False** even though the above statement is clearly true?"
   ]
  },
  {
   "cell_type": "markdown",
   "metadata": {},
   "source": [
    "Put your answer to the above question here."
   ]
  },
  {
   "cell_type": "markdown",
   "metadata": {},
   "source": [
    " &#9989; **<font color=red>DO THIS:</font>** Let's consider another example.  Run the following code which should return true.  "
   ]
  },
  {
   "cell_type": "code",
   "execution_count": null,
   "metadata": {},
   "outputs": [],
   "source": [
    "import numpy as np\n",
    "J = np.array([20])\n",
    "L = [20]\n",
    "\n",
    "pow(L[0],8) == pow(J[0],8)"
   ]
  },
  {
   "cell_type": "markdown",
   "metadata": {},
   "source": [
    "If you have an older version of ```numpy``` installed (like 1.18.5) then the results of running the above cell may be false (did anyone get this result?).  This is because ```numpy```\n",
    "changed how it handles something called \"roundoff error\". here is another cell that may help you see better what is going on:"
   ]
  },
  {
   "cell_type": "code",
   "execution_count": null,
   "metadata": {},
   "outputs": [],
   "source": [
    "import numpy as np\n",
    "J = np.array([20])\n",
    "L = [20]\n",
    "print(pow(20,8))\n",
    "print(pow(L[0],8))\n",
    "print(pow(J[0],8))"
   ]
  },
  {
   "cell_type": "markdown",
   "metadata": {},
   "source": [
    "The older version of ```numpy``` would return the following:\n",
    "\n",
    "```\n",
    "25600000000\n",
    "25600000000\n",
    "-169803776\n",
    "```\n",
    "We could say to always upgrade to the latest stable version (generally a good idea). But some other libraries that depend on numpy may not be up to date so sometimes python will install an older version to maintain compatibility. For example, one really popular program is tensorflow, which often requires an older version of numpy. "
   ]
  },
  {
   "cell_type": "markdown",
   "metadata": {},
   "source": [
    " &#9989; **<font color=red>QUESTION:</font>** If Python is sometimes wrong, why do we use it? "
   ]
  },
  {
   "cell_type": "markdown",
   "metadata": {},
   "source": [
    "Put your answer to the above question here."
   ]
  },
  {
   "cell_type": "markdown",
   "metadata": {},
   "source": [
    " &#9989; **<font color=red>QUESTION:</font>** What are ways you can do to watch out for these types of errors?  "
   ]
  },
  {
   "cell_type": "markdown",
   "metadata": {},
   "source": [
    "Put your answer to the above question here."
   ]
  },
  {
   "cell_type": "markdown",
   "metadata": {},
   "source": [
    " &#9989; **<font color=red>QUESTION:</font>** Modify the following program to return **True** if the values are within some small number (```e```) of each other."
   ]
  },
  {
   "cell_type": "code",
   "execution_count": null,
   "metadata": {},
   "outputs": [],
   "source": [
    "def checktrue(a,b,e=0.001):\n",
    "    return a == b\n",
    "\n",
    "#Test function\n",
    "checktrue(0.1+0.2, 0.3)"
   ]
  },
  {
   "cell_type": "markdown",
   "metadata": {},
   "source": [
    " &#9989; **<font color=red>QUESTION:</font>** What is a good value to set for ```e``` and why?"
   ]
  },
  {
   "cell_type": "markdown",
   "metadata": {},
   "source": [
    "Put your answer to the above question here."
   ]
  },
  {
   "cell_type": "markdown",
   "metadata": {},
   "source": [
    "&#9989; **<font color=red>QUESTION:</font>** The errors seen in this example seem like they would be fairly common in Python.  See if you can find a function in ```Numpy``` that has the same purpose as  ```checktrue```:"
   ]
  },
  {
   "cell_type": "markdown",
   "metadata": {},
   "source": [
    "**_Put your answer to the above question here._**"
   ]
  },
  {
   "cell_type": "markdown",
   "metadata": {},
   "source": [
    "The class ```answercheck``` program will take into consideration round off error.  For example, the ```checkanswer.float``` command would consider both of the above correct:"
   ]
  },
  {
   "cell_type": "code",
   "execution_count": null,
   "metadata": {},
   "outputs": [],
   "source": [
    "from answercheck import checkanswer\n",
    "\n",
    "checkanswer.float(0.300,'e85b79abfd76b7c13b1334d8d8c194a5');"
   ]
  },
  {
   "cell_type": "code",
   "execution_count": null,
   "metadata": {},
   "outputs": [],
   "source": [
    "checkanswer.float(0.1+0.2,'e85b79abfd76b7c13b1334d8d8c194a5')"
   ]
  },
  {
   "cell_type": "markdown",
   "metadata": {},
   "source": [
    "----\n",
    "Written by Dr. Dirk Colbry, Michigan State University\n",
    "<a rel=\"license\" href=\"http://creativecommons.org/licenses/by-nc/4.0/\"><img alt=\"Creative Commons License\" style=\"border-width:0\" src=\"https://i.creativecommons.org/l/by-nc/4.0/88x31.png\" /></a><br />This work is licensed under a <a rel=\"license\" href=\"http://creativecommons.org/licenses/by-nc/4.0/\">Creative Commons Attribution-NonCommercial 4.0 International License</a>."
   ]
  },
  {
   "cell_type": "markdown",
   "metadata": {},
   "source": [
    "\n"
   ]
  }
 ],
 "metadata": {
  "kernelspec": {
   "display_name": "Python 3",
   "language": "python",
   "name": "python3"
  },
  "language_info": {
   "codemirror_mode": {
    "name": "ipython",
    "version": 3
   },
   "file_extension": ".py",
   "mimetype": "text/x-python",
   "name": "python",
   "nbconvert_exporter": "python",
   "pygments_lexer": "ipython3",
   "version": "3.8.2"
  }
 },
 "nbformat": 4,
 "nbformat_minor": 4
}
