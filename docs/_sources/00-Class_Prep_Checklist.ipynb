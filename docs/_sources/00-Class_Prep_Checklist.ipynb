{
 "cells": [
  {
   "cell_type": "markdown",
   "metadata": {},
   "source": []
  },
  {
   "cell_type": "markdown",
   "metadata": {},
   "source": [
    "#  Matrix Algebra class preparation checklist\n",
    "\n",
    "It is recommended that all students complete the following tasks before showing up for the first day of class.  "
   ]
  },
  {
   "cell_type": "markdown",
   "metadata": {},
   "source": [
    "1. [Get Jupyter Working](#Get-Jupyter-working)\n",
    "3. [Review Python Packages](#Review-Python-Packages)\n",
    "4. [Complete Pre-class Assignment](#Complete-Pre-class-assignment)"
   ]
  },
  {
   "cell_type": "markdown",
   "metadata": {},
   "source": [
    "---\n",
    "<a name=Get-Jupyter-working></a>\n",
    "## 1. Get Jupyter Working\n",
    "\n",
    "We will be using Jupyter notebooks for most of our student/instructor communication. Please attend class with the latest version of Anaconda Python installed on your computer (Anaconda includes Jupyter). Instructions for installing and using Anaconda and Jupyter can be found here:\n",
    "\n",
    "- [0000--Jupyter-Getting-Started-Guide](https://msu-cmse-courses.github.io/mth314-F20-student/assignments/0000--Jupyter-Getting-Started-Guide.html)"
   ]
  },
  {
   "cell_type": "markdown",
   "metadata": {},
   "source": [
    "---\n",
    "<a name=Review-Python-Packages></a>\n",
    "## 2. Review Python Packages\n",
    "\n",
    "\n",
    "In this class we will be using programming to teach linear algebra and therefore assume that everyone knows how to use python. the instructors provide the following reference as a review for the most common python libraries we expect you to be able to use for class (numpy, scipy, math, sympy, etc).  please review this tutorial to make sure you are properly prepared for class:\n",
    "\n",
    "- [Python Library Review](0000--Python_Linear_Algebra_Packages_pre-class-assignment)\n",
    "\n",
    "\n",
    "\n"
   ]
  },
  {
   "cell_type": "markdown",
   "metadata": {},
   "source": [
    "\n",
    "---\n",
    "<a name=Complete-Pre-class-assignment></a>\n",
    "\n",
    "## 3. Complete Pre-class Assignment\n",
    "\n",
    "You are expected to come to class ready to complete the in-class assignments.  To prepare for most classes, students are required to complete pre-class assignments (typically two pre-class assignments per week).  These assignments will be in the form of jupyter notebooks and will include reading, videos and programming activities.  The required time for each pre-class will vary but the instructors have tried to make them take approximately 30-minutes.  \n",
    "\n",
    "Each pre-class assignment ends with an online survey which students are required to complete in order to earn credit for the assignment.  Your first weeks assignments are available on the course OER website or downloadable from the course website.  \n",
    "\n",
    "- [02--Vectors_pre-class-assignment](02--Vectors_pre-class-assignment)\n"
   ]
  },
  {
   "cell_type": "markdown",
   "metadata": {},
   "source": [
    "----"
   ]
  },
  {
   "cell_type": "markdown",
   "metadata": {},
   "source": [
    "----\n",
    "Written by Dr. Dirk Colbry, Michigan State University\n",
    "<a rel=\"license\" href=\"http://creativecommons.org/licenses/by-nc/4.0/\"><img alt=\"Creative Commons License\" style=\"border-width:0\" src=\"https://i.creativecommons.org/l/by-nc/4.0/88x31.png\" /></a><br />This work is licensed under a <a rel=\"license\" href=\"http://creativecommons.org/licenses/by-nc/4.0/\">Creative Commons Attribution-NonCommercial 4.0 International License</a>."
   ]
  },
  {
   "cell_type": "markdown",
   "metadata": {},
   "source": [
    "----"
   ]
  },
  {
   "cell_type": "markdown",
   "metadata": {},
   "source": [
    "\n"
   ]
  }
 ],
 "metadata": {
  "kernelspec": {
   "display_name": "Python 3",
   "language": "python",
   "name": "python3"
  },
  "language_info": {
   "codemirror_mode": {
    "name": "ipython",
    "version": 3
   },
   "file_extension": ".py",
   "mimetype": "text/x-python",
   "name": "python",
   "nbconvert_exporter": "python",
   "pygments_lexer": "ipython3",
   "version": "3.7.6"
  }
 },
 "nbformat": 4,
 "nbformat_minor": 4
}
