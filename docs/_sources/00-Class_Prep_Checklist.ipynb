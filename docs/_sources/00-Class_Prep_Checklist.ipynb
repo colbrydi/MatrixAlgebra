{
 "cells": [
  {
   "cell_type": "markdown",
   "metadata": {},
   "source": []
  },
  {
   "cell_type": "markdown",
   "metadata": {},
   "source": [
    "[Link to MTH314 website](http://cmse.msu.edu/mth314/)"
   ]
  },
  {
   "cell_type": "markdown",
   "metadata": {},
   "source": [
    "#  Matrix Algebra class preparation checklist\n",
    "\n",
    "Due to COVID-19 pandemic the first week of the Spring 2021 semester will be used for reading, review and semester preparation.  To this end, it is recommended that all students complete the following tasks before showing up for the first day of class.  "
   ]
  },
  {
   "cell_type": "markdown",
   "metadata": {},
   "source": [
    "1. [Watch Welcome Video and Review Syllabus](#Welcome_and_Syllabus)\n",
    "2. [Get Jupyter Working](#Get-Jupyter-working)\n",
    "3. [Review Python Packages](#Review-Python-Packages)\n",
    "4. [Complete Pre-class Assignment](#Complete-Pre-class-assignment)"
   ]
  },
  {
   "cell_type": "markdown",
   "metadata": {},
   "source": [
    "5. [Complete background survey](#Complete_background_survey)"
   ]
  },
  {
   "cell_type": "markdown",
   "metadata": {},
   "source": [
    "---\n",
    "<a name=Welcome_and_Syllabus></a>\n",
    "## 1. Watch Welcome Video and Review Syllabus\n",
    "\n",
    "\n",
    "To start, I suggest that you watch the following video and review the course Syllabus. Note that this video is much longer than most of the videos you will find in the class.  You will probably be fine if you speed up the video and you can probably just listen to most of it. \n",
    "\n",
    "- [Welcome video](https://youtu.be/pRG9RVOP-3k)"
   ]
  },
  {
   "cell_type": "code",
   "execution_count": null,
   "metadata": {},
   "outputs": [],
   "source": [
    "from IPython.display import YouTubeVideo\n",
    "YouTubeVideo(\"pRG9RVOP-3k\",width = \"100%\", cc_load_policy=True)"
   ]
  },
  {
   "cell_type": "markdown",
   "metadata": {},
   "source": [
    "---\n",
    "<a name=Get-Jupyter-working></a>\n",
    "## 2. Get Jupyter Working\n",
    "\n",
    "We will be using Jupyter notebooks for most of our student/instructor communication. Please attend class with the latest version of Anaconda Python installed on your computer (Anaconda includes Jupyter). Instructions for installing and using Anaconda and Jupyter can be found here:\n",
    "\n",
    "- [0000--Jupyter-Getting-Started-Guide](https://msu-cmse-courses.github.io/mth314-F20-student/assignments/0000--Jupyter-Getting-Started-Guide.html)\n",
    "\n",
    "\n",
    "As a backup, all students are also given accounts on the MSU jupyterhub servers [http://jupyterhub.egr.msu.edu](http://jupyterhub.egr.msu.edu) and [http://jupyterhub-legacy.egr.msu.edu](http://jupyterhub-legacy.egr.msu.edu).  Make sure you follow the directions in the above \"getting started guide\" and ensure that you can login.  It is recommended that students primarily use the jupyterhub server and only switch to jupyterhub-lagacy if there is a problem (please notify your instructors anytime there is a problem). "
   ]
  },
  {
   "cell_type": "markdown",
   "metadata": {},
   "source": [
    "---\n",
    "<a name=Review-Python-Packages></a>\n",
    "## 3. Review Python Packages\n",
    "\n",
    "\n",
    "In this class we will be using programming to teach linear algebra and therefore assume that everyone knows how to use python. the instructors provide the following reference as a review for the most common python libraries we expect you to be able to use for class (numpy, scipy, math, sympy, etc).  please review this tutorial to make sure you are properly prepared for class:\n",
    "\n",
    "- [Python Library Review](01-Python_Packages)"
   ]
  },
  {
   "cell_type": "markdown",
   "metadata": {},
   "source": [
    "\n",
    "---\n",
    "<a name=Complete-Pre-class-assignment></a>\n",
    "\n",
    "## 4. Complete Pre-class Assignment\n",
    "\n",
    "You are expected to come to class ready to complete the in-class assignments.  To prepare for most classes, students are required to complete pre-class assignments (typically two pre-class assignments per week).  These assignments will be in the form of jupyter notebooks and will include reading, videos and programming activities.  The required time for each pre-class will vary but the instructors have tried to make them take approximately 30-minutes.  \n",
    "\n",
    "Each pre-class assignment ends with an online survey which students are required to complete in order to earn credit for the assignment.  Your first weeks assignments are available on the course git repository or downloadable from the course website.  At a minimum, you must complete the first pre-class assignment by 11:59pm on Tuesday January 19th. \n",
    "\n",
    "- [02--Vectors_pre-class-assignment](02--Vectors_pre-class-assignment)\n"
   ]
  },
  {
   "cell_type": "markdown",
   "metadata": {},
   "source": [
    "----"
   ]
  },
  {
   "cell_type": "markdown",
   "metadata": {},
   "source": [
    "----\n",
    "Written by Dr. Dirk Colbry, Michigan State University\n",
    "<a rel=\"license\" href=\"http://creativecommons.org/licenses/by-nc/4.0/\"><img alt=\"Creative Commons License\" style=\"border-width:0\" src=\"https://i.creativecommons.org/l/by-nc/4.0/88x31.png\" /></a><br />This work is licensed under a <a rel=\"license\" href=\"http://creativecommons.org/licenses/by-nc/4.0/\">Creative Commons Attribution-NonCommercial 4.0 International License</a>."
   ]
  },
  {
   "cell_type": "markdown",
   "metadata": {},
   "source": [
    "----"
   ]
  },
  {
   "cell_type": "markdown",
   "metadata": {},
   "source": [
    "\n"
   ]
  }
 ],
 "metadata": {
  "kernelspec": {
   "display_name": "Python 3",
   "language": "python",
   "name": "python3"
  },
  "language_info": {
   "codemirror_mode": {
    "name": "ipython",
    "version": 3
   },
   "file_extension": ".py",
   "mimetype": "text/x-python",
   "name": "python",
   "nbconvert_exporter": "python",
   "pygments_lexer": "ipython3",
   "version": "3.7.6"
  }
 },
 "nbformat": 4,
 "nbformat_minor": 4
}
