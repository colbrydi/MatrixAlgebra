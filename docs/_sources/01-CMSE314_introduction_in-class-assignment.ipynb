{
 "cells": [
  {
   "cell_type": "markdown",
   "metadata": {},
   "source": []
  },
  {
   "cell_type": "markdown",
   "metadata": {},
   "source": [
    "# 01 In-Class Assignment: Welcome to Matrix Algebra with computational applications"
   ]
  },
  {
   "cell_type": "markdown",
   "metadata": {},
   "source": [
    "What can you solve with $Ax=b$?\n",
    "\n",
    "<img src=\"https://upload.wikimedia.org/wikipedia/commons/thumb/2/2f/Linear_subspaces_with_shading.svg/650px-Linear_subspaces_with_shading.svg.png\" alt=\"Visual image of three planes intersecting. This is a common image used in linear algebra and will be explained in detail laater in the semester.  It is included here mostly as a visual anchor that can help students when they review their notes. \">\n",
    "\n",
    "Image from [http://wikipedia.org/](http://wikipedia.org/)\n"
   ]
  },
  {
   "cell_type": "code",
   "execution_count": null,
   "metadata": {},
   "outputs": [],
   "source": [
    "from IPython.display import YouTubeVideo\n",
    "YouTubeVideo(\"-aiL8iWhQjc\",width=640,height=360, cc_load_policy=True)"
   ]
  },
  {
   "cell_type": "markdown",
   "metadata": {},
   "source": [
    "### Agenda for today's class (80 minutes)\n",
    "\n",
    "\n",
    "1. [(10 minutes) Class Procedures](#Class_Procedures)\n",
    "2. [(10 minutes) Pre-class Survey](#Pre-class_survey)\n",
    "3. [(10 minutes) Example](#Example)\n",
    "4. [(25 minutes) Syllabus, Schedule and other Procedures](#Syllabus_and_Schedule)\n",
    "5. [(5 minutes) Download and review next pre-class assignment](#Download_and_review_next_pre-class_assignment)"
   ]
  },
  {
   "cell_type": "markdown",
   "metadata": {},
   "source": [
    "---\n",
    "<a name=\"Class_Procedures\"></a>\n",
    "## 1. Class Procedures\n",
    "\n",
    "All in-class assignments are designed such that you can get started as soon as you show up in class. This is highly recommended.  See how far you can get on your own and then you will be ready when it is time for questions.   Here are the basic instructions."
   ]
  },
  {
   "cell_type": "markdown",
   "metadata": {},
   "source": [
    "### &#9989; Step 1 - Get out your laptop\n",
    "> Feel free to grab one of the laptops in the classroom if you do not have your own. "
   ]
  },
  {
   "cell_type": "markdown",
   "metadata": {},
   "source": [
    "### &#9989; Step 3 - Download this jupyter notebook\n",
    "\n",
    "> Go to the Course [website](), click on \"Download Assignments\" and download a copy of this notebook by clicking on the (ipynb) link (ipynb stands for ipython notebook). \n"
   ]
  },
  {
   "cell_type": "markdown",
   "metadata": {},
   "source": [
    "### &#9989; Step 5 - Create a CMSE314 Assignment Folder in your home directory\n",
    "\n",
    "\n",
    "> **_HINT_** Store all notebooks in the same folder on your computer. They will work better that way."
   ]
  },
  {
   "cell_type": "markdown",
   "metadata": {},
   "source": [
    "---\n",
    "<a name=\"Pre-class_survey\"></a>\n",
    "## 2. Pre-class survey\n",
    "Run the following cell to embed the pre-class survey into this notebook:\n",
    "\n",
    "[Direct Link to the pre-class survey](https://forms.office.com/Pages/ResponsePage.aspx?id=MHEXIi9k2UGSEXQjetVofVsFhDFfo_lLkU7qIzY8I4ZUMlJQN1BJSzJIQlFRVE5INlNKUjVQTDBFQy4u)"
   ]
  },
  {
   "cell_type": "code",
   "execution_count": null,
   "metadata": {},
   "outputs": [],
   "source": [
    "from IPython.display import HTML\n",
    "HTML(\n",
    "\"\"\"\n",
    "<iframe \n",
    "\tsrc=\"https://forms.office.com/Pages/ResponsePage.aspx?id=MHEXIi9k2UGSEXQjetVofVsFhDFfo_lLkU7qIzY8I4ZUMlJQN1BJSzJIQlFRVE5INlNKUjVQTDBFQy4u\" \n",
    "\twidth=\"100%\" \n",
    "\theight=\"1000px\" \n",
    "\tframeborder=\"0\" \n",
    "\tmarginheight=\"0\" \n",
    "\tmarginwidth=\"0\">\n",
    "\tLoading...\n",
    "</iframe>\n",
    "\"\"\"\n",
    ")"
   ]
  },
  {
   "cell_type": "markdown",
   "metadata": {},
   "source": [
    "---\n",
    "<a name=\"Example\"></a>\n",
    "## 3. Example:\n",
    "\n",
    "Suppose that we have three objects on a balanced beam. Also suppose we know that one has a mass of 2 kg, and we want to find the two unknown masses. Experimentation with a (assume weightless) meter stick produces these two balances. (diagram not to scale)\n",
    " \n",
    "<img src=\"https://goo.gl/h2cqwE\" align=\"center\" width=\"70%\" alt=\"Image showing two balanced beams, each with three weights. In the top beam is unknown weight A is a distance of 40 to the left of the fulcrum, unknown weight B is a distance of 15 to the left of the fulcrum and a weight of 2 is 50 to the right of the fulcrum. In the bottom beam is the same unknown weights.  Weight A is now a distance of 50 to the right of the fulcrum, weight B is a distance of 25 to the left of the fulcrum and the weight of 2 is a distance of 25 to the right of the fulcrum.\">\n",
    "\n",
    "For the masses to balance we must have the sum of the moments on the left equal to the sum of the moments on the right, where the moment of an object is its mass times its distance from the balance point.   That gives a system of two  equations:\n",
    "\n",
    "$$ 40A + 15B = 50 \\times 2$$\n",
    "$$25B = 25 \\times 2 + 50A$$\n"
   ]
  },
  {
   "cell_type": "markdown",
   "metadata": {},
   "source": [
    "&#9989; **<span style=\"color:red\">Do This:</span>** Find a solution for the above systems of equations and place your solution in the following cell. Make sure you delete the instructional text in the cell first. "
   ]
  },
  {
   "cell_type": "code",
   "execution_count": null,
   "metadata": {},
   "outputs": [],
   "source": [
    "# Put your answer to the above question here"
   ]
  },
  {
   "cell_type": "markdown",
   "metadata": {},
   "source": [
    "&#9989; **<span style=\"color:red\">Do This:</span>** Using Python as a calculator, verify that the solution you have found is correct.  \n",
    "\n"
   ]
  },
  {
   "cell_type": "code",
   "execution_count": null,
   "metadata": {},
   "outputs": [],
   "source": [
    "# Put your answer to the above question here"
   ]
  },
  {
   "cell_type": "markdown",
   "metadata": {},
   "source": [
    "&#9989; **<span style=\"color:red\">Do This:</span>** Now lets consider a system where we have three unknown masses instead of two. Experimentation with a meter stick produces the two balanced states shown below (diagram not to scale). Write the equations for this system.\n",
    "\n",
    "<img src=\"https://goo.gl/Rkn178\" width=\"70%\" alt=\"Image showing two balanced beams, each with four weights. In the top beam is unknown weight A which is a distance of 35 to the left of the fulcrum, unknown weight B is a distance of 21 to the left of the fulcrum, unknown weight C is a distance of 11 to the right of the fulcrum and a weight of 2 is 50 to the right of the fulcrum. In the bottom beam is the same unknown weights.  Weight A is now a distance of 10 to the right of the fulcrum, weight B is a distance of 24 to the right of the fulcrum, weight C is a distance of 25 to the left of the fulcrum and the weight of 2 is still at a distance of 50 to the right of the fulcrum.\">\n"
   ]
  },
  {
   "cell_type": "markdown",
   "metadata": {},
   "source": [
    "Put your answer to the above question here"
   ]
  },
  {
   "cell_type": "markdown",
   "metadata": {},
   "source": [
    "&#9989; **<span style=\"color:red\">Do This:</span>** Find a solution to the second set of equations and report the mass for objects A, B and C."
   ]
  },
  {
   "cell_type": "code",
   "execution_count": null,
   "metadata": {},
   "outputs": [],
   "source": [
    "# Put your answer to the above question here"
   ]
  },
  {
   "cell_type": "markdown",
   "metadata": {},
   "source": [
    "&#9989; **<span style=\"color:red\">Do This:</span>** Using Python as a calculator, verify that the solution you have found is correct."
   ]
  },
  {
   "cell_type": "code",
   "execution_count": null,
   "metadata": {},
   "outputs": [],
   "source": [
    "# Put your answer to the above question here"
   ]
  },
  {
   "cell_type": "markdown",
   "metadata": {},
   "source": [
    "----\n",
    "<a name=\"Syllabus_and_Schedule\"></a>\n",
    "\n",
    "## 4. Syllabus, Schedule and other Procedures\n",
    "\n",
    "Note: I will try to include these links at the end of every pre/post class assignment so you can easily navigate.\n",
    "\n",
    "\n",
    "\n",
    "\n",
    "\n",
    "\n",
    "\n",
    "### Upcomming Assignment Due Date:\n",
    "\n",
    "Pay attention to the schedule. Every class has a pre-class assignment that should be completed. There is also a major assignment due every week (either a quiz or a homework). \n",
    "\n",
    "- **<span style=\"color:red\">Your First Quiz is the scheduled on the second session (04) the week of Monday September 14th.</span>** and will cover topics up to that Date (including the 04-pre class assignment).\n",
    "- **<span style=\"color:red\">Your First Homework is due Friday September 25th.</span>**"
   ]
  },
  {
   "cell_type": "markdown",
   "metadata": {},
   "source": [
    "----\n",
    "<a name=\"Download_and_review_next_pre-class_assignment\"></a>\n",
    "##  5. Download and review next pre-class assignment\n",
    "I will try my best to post each weeks pre-class assignments before the weekend (hopefully on Thursday before class).  Note pre-class assignments are generally due at midnight the day before class.  To get credit for the pre-class assignment you will need to do the readings, answer the questions and submit your answers to the embeded google form.\n",
    "\n",
    "Here is next week's Pre-class assignments. \n",
    "\n",
    "* [02--Vectors_pre-class-assignment.ipynb](02--Vectors_pre-class-assignment.ipynb)\n",
    "\n",
    "**Please note** Please see the course schedule (link on the course [website]()) for a list of assignments and the due dates for your section. "
   ]
  },
  {
   "cell_type": "markdown",
   "metadata": {},
   "source": [
    "\n"
   ]
  }
 ],
 "metadata": {
  "kernelspec": {
   "display_name": "Python 3",
   "language": "python",
   "name": "python3"
  },
  "language_info": {
   "codemirror_mode": {
    "name": "ipython",
    "version": 3
   },
   "file_extension": ".py",
   "mimetype": "text/x-python",
   "name": "python",
   "nbconvert_exporter": "python",
   "pygments_lexer": "ipython3",
   "version": "3.7.6"
  }
 },
 "nbformat": 4,
 "nbformat_minor": 4
}
