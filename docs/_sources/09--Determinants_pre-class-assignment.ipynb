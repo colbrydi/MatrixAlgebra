{
 "cells": [
  {
   "cell_type": "markdown",
   "metadata": {},
   "source": []
  },
  {
   "cell_type": "markdown",
   "metadata": {},
   "source": [
    "# 09 Pre-Class Assignment: Determinants"
   ]
  },
  {
   "cell_type": "markdown",
   "metadata": {},
   "source": [
    "### Readings for this topic (Recommended in bold)\n",
    " * [Heffron Chapter 4.I-II pg 317-337](http://joshua.smcvt.edu/linearalgebra/book.pdf)\n",
    " * [**_Beezer Chapter D pg 340-366_**](http://linear.ups.edu/download/fcla-3.50-tablet.pdf)\n"
   ]
  },
  {
   "cell_type": "markdown",
   "metadata": {},
   "source": [
    "### Goals for today's pre-class assignment \n",
    "\n",
    "\n",
    "1. [Introduction to Determinants](#Introduction_to_Determinants)\n",
    "1. [Properties of Determinants](#Properties_of_Determinants)\n",
    "1. [One interpretation of determinants](#One_Interpretation_of_determinants)\n",
    "1. [Cramer's Rule](#CramersRule)\n",
    "1. [Assignment wrap-up](#Assignment_wrap-up)"
   ]
  },
  {
   "cell_type": "markdown",
   "metadata": {},
   "source": [
    "----\n",
    "\n",
    "<a name=\"Introduction_to_Determinants\"></a>\n",
    "## 1. Introduction to Determinants\n",
    "\n",
    "For a detailed overview of determinants I would recommend reviewing **_Chapter D pg 340-366_** of the Beezer text.  \n",
    "\n",
    "The determinant is a function that takes a ($n \\times n$) square matrix as an input and produces a scalar as an output. Determinants have been studied quite extensively and have many interesting properties.  However, determinants are \"computationally expensive\" as the size of your matrix ($n$) gets bigger.  This limitation makes them impractical for many real world problems.  \n",
    "\n",
    "The determinant of a $ 2 \\times 2$ matrix can be calculated as follows:\n",
    "\n",
    "$$ \n",
    "det \\left(\n",
    "\\left[\n",
    "\\begin{matrix}\n",
    "    a_{11} & a_{12}  \\\\\n",
    "    a_{21} & a_{22}\n",
    "\\end{matrix}\n",
    "\\right] \n",
    "\\right)\n",
    "= a_{11}a_{22} - a_{12}a_{21}\n",
    "$$"
   ]
  },
  {
   "cell_type": "markdown",
   "metadata": {},
   "source": [
    "\n",
    "&#9989; **<font color=red>QUESTION:</font>** Calculate the determinant of the following matrix by hand:\n",
    "\n",
    "$$ \n",
    "\\left[\n",
    "\\begin{matrix}\n",
    "    3 & -2  \\\\\n",
    "    1 & 2\n",
    "\\end{matrix}\n",
    "\\right] \n",
    "$$"
   ]
  },
  {
   "cell_type": "markdown",
   "metadata": {},
   "source": [
    "Put your answer here"
   ]
  },
  {
   "cell_type": "markdown",
   "metadata": {},
   "source": [
    "Calculating the determinant of a larger matrix is a \"recursive\" problem which involves combining the determinants of smaller and smaller sub-matrices until you have a $2 \\times 2$ matrix which is then calculated using the above formula.  Here is some Pseudocode to calculate a determinant.  To simplify the example the code assumes there is a matrix function ```deleterow``` which will remove the $x$th row from a matrix  (always the first row in this example) and ```deletecol``` will remove the $x$th column from a matrix. When used together (as shown below) they will take an $n \\times n$ matrix and turn it into a $ (n-1) \\times (n-1)$ matrix.  \n",
    "\n",
    "\n",
    "```bash\n",
    "function determinant(A, n)\n",
    "   det = 0\n",
    "   if (n == 1)\n",
    "      det = matrix[1,1]\n",
    "   else if (n == 2)\n",
    "      det = matrix[1,1] * matrix[2,2] - matrix[1,2] * matrix[2,1]\n",
    "   else \n",
    "      for x from 1 to n\n",
    "          submatrix = deleterow(matrix, 1)\n",
    "          submatrix = deletecol(submatrix, x)\n",
    "          det = det + (x+1)**(-1) * matrix[1,x] * determinant(submatrix, n-1)\n",
    "      next x\n",
    "   endif\n",
    "   \n",
    "   return det\n",
    "```"
   ]
  },
  {
   "cell_type": "markdown",
   "metadata": {},
   "source": [
    "Notice that the combination of the determinants of the submatrices is not a simple sum.  The combination is adding the submatrices corresponding to the odd columns (1,3,5, etc) and subtracting the submatrices corresponding to the even columns (2,4,6, etc.). This may become clearer if we look at a simple $3 \\times 3$ example (Let $|A|$ be a simplified syntax for writing the determinant of $A$):\n",
    "\n",
    "$$\n",
    "A = \\left[\n",
    "\\begin{matrix}\n",
    "    a_{11} & a_{12} & a_{13} \\\\\n",
    "    a_{21} & a_{22} & a_{23} \\\\\n",
    "    a_{31} & a_{32} & a_{33} \n",
    "\\end{matrix}\n",
    "\\right] $$\n",
    "\n",
    "$$ \n",
    "|A|=\n",
    "a_{11} \\left|\n",
    "\\begin{matrix}\n",
    "    \\square & \\square  & \\square  \\\\\n",
    "    \\square  & a_{22} & a_{23} \\\\\n",
    "    \\square  & a_{32} & a_{33} \n",
    "\\end{matrix}\n",
    "\\right|\n",
    "-\n",
    "a_{12}\\left|\n",
    "\\begin{matrix}\n",
    "    \\square & \\square  & \\square  \\\\\n",
    "    a_{21} & \\square & a_{23} \\\\\n",
    "    a_{31} & \\square & a_{33} \n",
    "\\end{matrix}\n",
    "\\right|\n",
    "+\n",
    "a_{13} \\left|\n",
    "\\begin{matrix}\n",
    "    \\square & \\square  & \\square  \\\\\n",
    "    a_{21} & a_{22} & \\square \\\\\n",
    "    a_{31} & a_{32} & \\square\n",
    "\\end{matrix}\n",
    "\\right|\n",
    "$$\n",
    "\n",
    "\n",
    "$$ \n",
    "|A|\n",
    "=\n",
    "a_{11}\\left|\n",
    "\\begin{matrix}\n",
    "    a_{22} & a_{23}  \\\\\n",
    "    a_{32} & a_{33}\n",
    "\\end{matrix}\n",
    "\\right|\n",
    "-\n",
    "a_{12}\\left|\n",
    "\\begin{matrix}\n",
    "    a_{21} & a_{23}  \\\\\n",
    "    a_{31} & a_{33}\n",
    "\\end{matrix}\n",
    "\\right|\n",
    "+\n",
    "a_{13}\n",
    "\\left|\n",
    "\\begin{matrix}\n",
    "    a_{21} & a_{22}  \\\\\n",
    "    a_{31} & a_{32}\n",
    "\\end{matrix}\n",
    "\\right|\n",
    "$$\n",
    "\n",
    "$$\n",
    "|A| = \n",
    "a_{11}(a_{22}a_{33} - a_{23}a_{32})\n",
    "-\n",
    "a_{12}(a_{21}a_{33} - a_{23}a_{31})\n",
    "+\n",
    "a_{13}(a_{21}a_{32} - a_{22}a_{31})\n",
    "$$"
   ]
  },
  {
   "cell_type": "markdown",
   "metadata": {},
   "source": [
    "&#9989; **<font color=red>QUESTION:</font>** Calculate the determinant of the following matrix by hand:\n",
    "\n",
    "$$ \n",
    "\\left[\n",
    "\\begin{matrix}\n",
    "    1 & 2 & -3  \\\\\n",
    "    5 & 0 & 6  \\\\\n",
    "    7 & 1 & -4\n",
    "\\end{matrix}\n",
    "\\right] \n",
    "$$"
   ]
  },
  {
   "cell_type": "markdown",
   "metadata": {},
   "source": [
    "Put your answer here"
   ]
  },
  {
   "cell_type": "markdown",
   "metadata": {},
   "source": [
    "&#9989; **<font color=red>QUESTION:</font>** Use the ```numpy.linalg``` library to calculate the determinant of the following matrix and stor the value in a variable called ```det```\n",
    "\n",
    "$$\n",
    "\\left[\n",
    "\\begin{matrix}\n",
    "    2 & 0 & 1 & -5  \\\\\n",
    "    8 & -1 & 2 & 1  \\\\\n",
    "    4 & -3 & -5 & 0 \\\\\n",
    "    1 & 4 & 8 & 2\n",
    "\\end{matrix}\n",
    "\\right] \n",
    "$$"
   ]
  },
  {
   "cell_type": "code",
   "execution_count": null,
   "metadata": {},
   "outputs": [],
   "source": [
    "#Put your answer here"
   ]
  },
  {
   "cell_type": "code",
   "execution_count": null,
   "metadata": {},
   "outputs": [],
   "source": [
    "from answercheck import checkanswer\n",
    "\n",
    "checkanswer.float(det,'49afb719e0cd46f74578ebf335290f81');"
   ]
  },
  {
   "cell_type": "markdown",
   "metadata": {},
   "source": [
    "----\n",
    "\n",
    "<a name=\"Properties_of_Determinants\"></a>\n",
    "## 2. Properties of Determinants\n",
    "\n",
    "The following are some helpful properties when working with determinants.  These properties are often used in proofs and can sometimes be utilized to make faster calculations.\n",
    "\n",
    "### Row Operations\n",
    "\n",
    "Let $A$ be an $n \\times n$ matrix and $c$ be a nonzero scalar. Let $|A|$ be a simplified syntax for writing the determinant of $A$: \n",
    "\n",
    "1. If a matrix $B$ is obtained from $A$ by multiplying a row (column) by $c$ then $|B| = c|A|$.\n",
    "2. If a matrix $B$ is obtained from $A$ by interchanging two rows (columns) then $|B| = -|A|$.\n",
    "3. if a matrix $B$ is obtained from $A$ by adding a multiple of one row (column) to another row (column), then $|B| = |A|$.\n",
    "\n"
   ]
  },
  {
   "cell_type": "markdown",
   "metadata": {},
   "source": [
    "### Singular Matrices\n",
    "\n",
    "**Definition:** A square matrix $A$ is said to be **singular** if $|A| = 0$. $A$ is **non-singular** if $|A| \\neq 0$\n",
    "\n",
    "Now, Let $A$ be an $n \\times n$ matrix. $A$ is singular if any of these is true:\n",
    "\n",
    "1. all the elements of a row (column) are zero.\n",
    "2. two rows (columns) are equal.\n",
    "3. two rows (columns) are proportional. i.e. one row (column) is the same as another row (column) multiplied by $c$.\n"
   ]
  },
  {
   "cell_type": "markdown",
   "metadata": {},
   "source": [
    "&#9989; **<font color=red>QUESTION:</font>** The following matrix is singular because of certain column or row properties. Give the reason:\n",
    "\n",
    "$$ \n",
    "\\left[\n",
    "\\begin{matrix}\n",
    "    1 & 5 & 5  \\\\\n",
    "    0 & -2 & -2  \\\\\n",
    "    3 & 1 & 1\n",
    "\\end{matrix}\n",
    "\\right] \n",
    "$$"
   ]
  },
  {
   "cell_type": "markdown",
   "metadata": {},
   "source": [
    "Put your answer here."
   ]
  },
  {
   "cell_type": "markdown",
   "metadata": {},
   "source": [
    "&#9989; **<font color=red>QUESTION:</font>** The following matrix is singular because of certain column or row properties. Give the reason:\n",
    "\n",
    "$$ \n",
    "\\left[\n",
    "\\begin{matrix}\n",
    "    1 & 0 & 4  \\\\\n",
    "    0 & 1 & 9  \\\\\n",
    "    0 & 0 & 0\n",
    "\\end{matrix}\n",
    "\\right] \n",
    "$$"
   ]
  },
  {
   "cell_type": "markdown",
   "metadata": {},
   "source": [
    "Put your answer here."
   ]
  },
  {
   "cell_type": "markdown",
   "metadata": {},
   "source": [
    "### Determinants and Matrix Operations\n",
    "\n",
    "Let $A$ and $B$ be $n\\times n$ matrices and $c$ be a non-zero scalar.\n",
    "\n",
    "1. Determinant of a scalar multiple: $|cA| = c^n|A|$\n",
    "2. Determinant of a product: $|AB| = |A||B|$\n",
    "3. Determinant of a transpose\" $|A^t| = |A|$\n",
    "4. Determinant of an inverse: $|A^{-1}| = \\frac{1}{|A|}$ (Assuming $A^{-1}$ exists)"
   ]
  },
  {
   "cell_type": "markdown",
   "metadata": {},
   "source": [
    "&#9989; **<font color=red>QUESTION:</font>**  If $A$ is a $3\\times 3$ matrix with $|A| = 3$, use the properties of determinants to compute the following determinant:\n",
    "\n",
    "$$|2A|$$"
   ]
  },
  {
   "cell_type": "markdown",
   "metadata": {},
   "source": [
    "Put your answer here"
   ]
  },
  {
   "cell_type": "markdown",
   "metadata": {},
   "source": [
    "&#9989; **<font color=red>QUESTION:</font>**  If $A$ is a $3\\times 3$ matrix with $|A| = 3$, use the properties of determinants to compute the following determinant:\n",
    "$$|A^2|$$"
   ]
  },
  {
   "cell_type": "markdown",
   "metadata": {},
   "source": [
    "Put your answer here"
   ]
  },
  {
   "cell_type": "markdown",
   "metadata": {},
   "source": [
    "&#9989; **<font color=red>QUESTION:</font>**  if $A$ and $B$ are $3\\times 3$ matrices and $|A| = -3, |B|=2$, compute the following determinant:\n",
    "\n",
    "$$|AB|$$\n"
   ]
  },
  {
   "cell_type": "markdown",
   "metadata": {},
   "source": [
    "Put your answer here"
   ]
  },
  {
   "cell_type": "markdown",
   "metadata": {},
   "source": [
    "&#9989; **<font color=red>QUESTION:</font>**  if $A$ and $B$ are $3\\times 3$ matrices and $|A| = -3, |B|=2$, compute the following determinant:\n",
    "\n",
    "$$|2AB^{-1}|$$"
   ]
  },
  {
   "cell_type": "markdown",
   "metadata": {},
   "source": [
    "Put your answer here"
   ]
  },
  {
   "cell_type": "markdown",
   "metadata": {},
   "source": [
    "### Triangular matrices\n",
    "\n",
    "**Definition:** An **upper triangular matrix** has nonzero elements lie on or above the main diagonal and zero elements below the main diagonal. For example:\n",
    "\n",
    "\n",
    "$$ A = \n",
    "\\left[\n",
    "\\begin{matrix}\n",
    "    2 & -1 & 9 & 4  \\\\\n",
    "    0 & 3 & 0 & 6 \\\\\n",
    "    0 & 0 & -5 & 3 \\\\\n",
    "    0 & 0 & 0 & 1\n",
    "\\end{matrix}\n",
    "\\right] \n",
    "$$\n",
    "\n",
    "The determinant of an *upper triangle matrix* $A$ is the product of the diagonal elements of the matrix $A$.  \n",
    "\n",
    "Also, since the Determinant is the same for a matrix and it's transpose (i.e.  $|A^t|$ = |A|, see definition above) the determinant of a *lower triangle matrix* is also the product of the diagonal elements. "
   ]
  },
  {
   "cell_type": "markdown",
   "metadata": {},
   "source": [
    "&#9989; **<font color=red>QUESTION:</font>**   What is the determinant of matrix $A$?"
   ]
  },
  {
   "cell_type": "markdown",
   "metadata": {},
   "source": [
    "Put your answer here"
   ]
  },
  {
   "cell_type": "markdown",
   "metadata": {},
   "source": [
    "### Using Properties of determinants:\n",
    "Here is a great video showing how you can use the properties of determinants:"
   ]
  },
  {
   "cell_type": "code",
   "execution_count": null,
   "metadata": {},
   "outputs": [],
   "source": [
    "from IPython.display import YouTubeVideo\n",
    "YouTubeVideo(\"aKX5_DucNq8\",width=640,height=360, cc_load_policy=True)"
   ]
  },
  {
   "cell_type": "markdown",
   "metadata": {},
   "source": [
    "&#9989; **<font color=red>QUESTION (A challenging one):</font>**   Using the pattern established in the video can you calculate the determinate of the following matrix?\n",
    "\n",
    "$$ \n",
    "\\left[\n",
    "\\begin{matrix}\n",
    "    1 & a & a^2 & a^3 \\\\\n",
    "    1 & b & b^2 & b^3 \\\\\n",
    "    1 & c & c^2 & c^3 \\\\\n",
    "    1 & d & d^2 & d^3 \n",
    "\\end{matrix}\n",
    "\\right] \n",
    "$$\n"
   ]
  },
  {
   "cell_type": "markdown",
   "metadata": {},
   "source": [
    "Put your answer here"
   ]
  },
  {
   "cell_type": "markdown",
   "metadata": {},
   "source": [
    "----\n",
    "\n",
    "<a name=\"One_Interpretation_of_determinants\"></a>\n",
    "## 3. One interpretation of determinants\n",
    "\n",
    "The following is an application of determinants. Watch this!"
   ]
  },
  {
   "cell_type": "code",
   "execution_count": null,
   "metadata": {},
   "outputs": [],
   "source": [
    "from IPython.display import YouTubeVideo\n",
    "YouTubeVideo(\"Ip3X9LOh2dk\",width=640,height=360, cc_load_policy=True)"
   ]
  },
  {
   "cell_type": "markdown",
   "metadata": {},
   "source": [
    "For fun, we will recreate some of the video's visualizations in Python. \n",
    "It was a little tricky to get the aspect ratios correct but here is some code I managed to get it work. "
   ]
  },
  {
   "cell_type": "code",
   "execution_count": null,
   "metadata": {},
   "outputs": [],
   "source": [
    "%matplotlib inline\n",
    "import matplotlib.pyplot as plt\n",
    "from mpl_toolkits.mplot3d import Axes3D\n",
    "from mpl_toolkits.mplot3d.art3d import Poly3DCollection, Line3DCollection\n",
    "import numpy as npimport sympy as sym"
   ]
  },
  {
   "cell_type": "code",
   "execution_count": null,
   "metadata": {},
   "outputs": [],
   "source": [
    "# Lets define somme points that form a Unit Cube\n",
    "points = np.array([[0, 0, 0],\n",
    "                  [1, 0, 0 ],\n",
    "                  [1, 1, 0],\n",
    "                  [0, 1, 0],\n",
    "                  [0, 0, 1],\n",
    "                  [1, 0, 1 ],\n",
    "                  [1, 1, 1],\n",
    "                  [0, 1, 1]])\n",
    "\n",
    "points = np.matrix(points)"
   ]
  },
  {
   "cell_type": "code",
   "execution_count": null,
   "metadata": {},
   "outputs": [],
   "source": [
    "#Here is some code to build cube from https://stackoverflow.com/questions/44881885/python-draw-3d-cube\n",
    "\n",
    "def plot3dcube(Z):\n",
    "    \n",
    "    if type(Z) == np.matrix:\n",
    "        Z = np.asarray(Z)\n",
    "\n",
    "    fig = plt.figure()\n",
    "    ax = fig.add_subplot(111, projection='3d')\n",
    "\n",
    "    r = [-1,1]\n",
    "\n",
    "    X, Y = np.meshgrid(r, r)\n",
    "    # plot vertices\n",
    "    ax.scatter3D(Z[:, 0], Z[:, 1], Z[:, 2])\n",
    "\n",
    "    # list of sides' polygons of figure\n",
    "    verts = [[Z[0],Z[1],Z[2],Z[3]],\n",
    "     [Z[4],Z[5],Z[6],Z[7]], \n",
    "     [Z[0],Z[1],Z[5],Z[4]], \n",
    "     [Z[2],Z[3],Z[7],Z[6]], \n",
    "     [Z[1],Z[2],Z[6],Z[5]],\n",
    "     [Z[4],Z[7],Z[3],Z[0]], \n",
    "     [Z[2],Z[3],Z[7],Z[6]]]\n",
    "\n",
    "    #alpha transparency was't working found fix here: \n",
    "    # https://stackoverflow.com/questions/23403293/3d-surface-not-transparent-inspite-of-setting-alpha\n",
    "    # plot sides\n",
    "    ax.add_collection3d(Poly3DCollection(verts, \n",
    "     facecolors=(0,0,1,0.25), linewidths=1, edgecolors='r'))\n",
    "    \n",
    "    ax.set_xlabel('X')\n",
    "    ax.set_ylabel('Y')\n",
    "    ax.set_zlabel('Z')\n",
    "    \n",
    "    ## Weird trick to get the axpect ratio to work.\n",
    "    ## From https://stackoverflow.com/questions/13685386/matplotlib-equal-unit-length-with-equal-aspect-ratio-z-axis-is-not-equal-to\n",
    "    mx = np.amax(Z, axis=0)\n",
    "    mn = np.amin(Z, axis=0)\n",
    "    max_range = mx-mn\n",
    "\n",
    "    # Create cubic bounding box to simulate equal aspect ratio\n",
    "    Xb = 0.5*max_range.max()*np.mgrid[-1:2:2,-1:2:2,-1:2:2][0].flatten() + 0.5*(max_range[0])\n",
    "    Yb = 0.5*max_range.max()*np.mgrid[-1:2:2,-1:2:2,-1:2:2][1].flatten() + 0.5*(max_range[1])\n",
    "    Zb = 0.5*max_range.max()*np.mgrid[-1:2:2,-1:2:2,-1:2:2][2].flatten() + 0.5*(max_range[2])\n",
    "    # Comment or uncomment following both lines to test the fake bounding box:\n",
    "    for xb, yb, zb in zip(Xb, Yb, Zb):\n",
    "        ax.plot([xb], [yb], [zb], 'w')\n",
    "\n",
    "    plt.show()"
   ]
  },
  {
   "cell_type": "code",
   "execution_count": null,
   "metadata": {},
   "outputs": [],
   "source": [
    "plot3dcube(points)"
   ]
  },
  {
   "cell_type": "markdown",
   "metadata": {},
   "source": [
    "**<font color='red'>QUESTION:</font>** The following the $3\\times 3$ was shown in the video (around 6'50''). Apply this matrix to the unit cube and use the ```plot3dcube``` to show the resulting transformed points. \n",
    "\n"
   ]
  },
  {
   "cell_type": "code",
   "execution_count": null,
   "metadata": {},
   "outputs": [],
   "source": [
    "T = np.matrix([[1 , 0 ,  0.5],\n",
    "               [0.5 ,1 ,1.5],\n",
    "               [1 , 0 ,  1]])\n",
    "\n",
    "#Put the answer to the above question here. "
   ]
  },
  {
   "cell_type": "markdown",
   "metadata": {},
   "source": [
    "&#9989; **<font color='red'>QUESTION:</font>** The determinant represents how the area changes when applying a $2 \\times 2$ transform.  What does the determinant represent for a $3 \\times 3$ transform?"
   ]
  },
  {
   "cell_type": "markdown",
   "metadata": {},
   "source": [
    "Put your answer here"
   ]
  },
  {
   "cell_type": "markdown",
   "metadata": {},
   "source": [
    "----\n",
    "\n",
    "<a name=\"CramersRule\"></a>\n",
    "## 4. Cramer's Rule\n",
    "\n",
    "&#9989; **<font color='red'>DO THIS:</font>** Watch the following video and come to class ready to discuss Cramer's Rule:"
   ]
  },
  {
   "cell_type": "code",
   "execution_count": null,
   "metadata": {},
   "outputs": [],
   "source": [
    "from IPython.display import YouTubeVideo\n",
    "YouTubeVideo(\"BW6897HIOMA\",width=640,height=360, cc_load_policy=True)"
   ]
  },
  {
   "cell_type": "markdown",
   "metadata": {},
   "source": [
    "----\n",
    "\n",
    "<a name=\"Assignment_wrap-up\"></a>\n",
    "## 5. Assignment wrap-up"
   ]
  },
  {
   "cell_type": "markdown",
   "metadata": {},
   "source": [
    "&#9989; **<font color=red>Assignment-Specific QUESTION:</font>** What does the determinant represent for a $3 \\times 3$ transform?"
   ]
  },
  {
   "cell_type": "markdown",
   "metadata": {},
   "source": [
    "Put your answer to the above question here"
   ]
  },
  {
   "cell_type": "markdown",
   "metadata": {},
   "source": [
    "&#9989; **<font color=red>QUESTION:</font>**  Summarize what you did in this assignment."
   ]
  },
  {
   "cell_type": "markdown",
   "metadata": {},
   "source": [
    "Put your answer to the above question here"
   ]
  },
  {
   "cell_type": "markdown",
   "metadata": {},
   "source": [
    "&#9989; **<font color=red>QUESTION:</font>**  What questions do you have, if any, about any of the topics discussed in this assignment after working through the jupyter notebook?"
   ]
  },
  {
   "cell_type": "markdown",
   "metadata": {},
   "source": [
    "Put your answer to the above question here"
   ]
  },
  {
   "cell_type": "markdown",
   "metadata": {},
   "source": [
    "&#9989; **<font color=red>QUESTION:</font>**  How well do you feel this assignment helped you to achieve a better understanding of the above mentioned topic(s)?"
   ]
  },
  {
   "cell_type": "markdown",
   "metadata": {},
   "source": [
    "Put your answer to the above question here"
   ]
  },
  {
   "cell_type": "markdown",
   "metadata": {},
   "source": [
    "&#9989; **<font color=red>QUESTION:</font>** What was the **most** challenging part of this assignment for you? "
   ]
  },
  {
   "cell_type": "markdown",
   "metadata": {},
   "source": [
    "Put your answer to the above question here"
   ]
  },
  {
   "cell_type": "markdown",
   "metadata": {},
   "source": [
    "&#9989; **<font color=red>QUESTION:</font>** What was the **least** challenging part of this assignment for you? "
   ]
  },
  {
   "cell_type": "markdown",
   "metadata": {},
   "source": [
    "Put your answer to the above question here"
   ]
  },
  {
   "cell_type": "markdown",
   "metadata": {},
   "source": [
    "&#9989; **<font color=red>QUESTION:</font>**  What kind of additional questions or support, if any, do you feel you need to have a better understanding of the content in this assignment?"
   ]
  },
  {
   "cell_type": "markdown",
   "metadata": {},
   "source": [
    "Put your answer to the above question here"
   ]
  },
  {
   "cell_type": "markdown",
   "metadata": {},
   "source": [
    "&#9989; **<font color=red>QUESTION:</font>**  Do you have any further questions or comments about this material, or anything else that's going on in class?"
   ]
  },
  {
   "cell_type": "markdown",
   "metadata": {},
   "source": [
    "Put your answer to the above question here"
   ]
  },
  {
   "cell_type": "markdown",
   "metadata": {},
   "source": [
    "&#9989; **<font color=red>QUESTION:</font>** Approximately how long did this pre-class assignment take?"
   ]
  },
  {
   "cell_type": "markdown",
   "metadata": {},
   "source": [
    "Put your answer to the above question here"
   ]
  },
  {
   "cell_type": "markdown",
   "metadata": {},
   "source": [
    "----\n",
    "Written by Dr. Dirk Colbry, Michigan State University\n",
    "<a rel=\"license\" href=\"http://creativecommons.org/licenses/by-nc/4.0/\"><img alt=\"Creative Commons License\" style=\"border-width:0\" src=\"https://i.creativecommons.org/l/by-nc/4.0/88x31.png\" /></a><br />This work is licensed under a <a rel=\"license\" href=\"http://creativecommons.org/licenses/by-nc/4.0/\">Creative Commons Attribution-NonCommercial 4.0 International License</a>."
   ]
  },
  {
   "cell_type": "markdown",
   "metadata": {},
   "source": [
    "\n"
   ]
  }
 ],
 "metadata": {
  "anaconda-cloud": {},
  "kernelspec": {
   "display_name": "Python 3",
   "language": "python",
   "name": "python3"
  },
  "language_info": {
   "codemirror_mode": {
    "name": "ipython",
    "version": 3
   },
   "file_extension": ".py",
   "mimetype": "text/x-python",
   "name": "python",
   "nbconvert_exporter": "python",
   "pygments_lexer": "ipython3",
   "version": "3.8.2"
  }
 },
 "nbformat": 4,
 "nbformat_minor": 4
}
