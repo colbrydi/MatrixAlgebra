{
 "cells": [
  {
   "cell_type": "markdown",
   "metadata": {},
   "source": []
  },
  {
   "cell_type": "markdown",
   "metadata": {},
   "source": [
    "# 03 Pre-Class Assignment: Linear Equations"
   ]
  },
  {
   "cell_type": "markdown",
   "metadata": {},
   "source": [
    "### Readings for this topic (Recommended in bold)\n",
    " * [Heffron Chapter 1.I, pg 1-2](http://joshua.smcvt.edu/linearalgebra/book.pdf)\n",
    " * [Beezer Chapter SLE pg 1-7](http://linear.ups.edu/download/fcla-3.50-tablet.pdf)\n"
   ]
  },
  {
   "cell_type": "markdown",
   "metadata": {},
   "source": [
    "---\n",
    "### Assignment Overview\n",
    "1. [System of Linear Equations](#System_of_Linear_Equations)\n",
    "1. [Visualizing the problem](#Visualizing_the_problem)\n",
    "1. [Multidimentional Spaces](#Multidimentional_Spaces)\n",
    "1. [Matrixes Notation](#Matrix_Notation)\n",
    "1. [Assignment wrap-up](#Assignment_wrap-up)"
   ]
  },
  {
   "cell_type": "markdown",
   "metadata": {},
   "source": [
    "---\n",
    "<a name=\"System_of_Linear_Equations\"></a>\n",
    "## 1. System of Linear Equations\n",
    "\n",
    "In this course we will spend a lot of time working with systems of linear equations.  A linear equation is in the form:\n",
    "\n",
    "$$a_1x_1 + a_2x_2 + a_3x_3 + \\ldots + a_nx_n = b$$\n",
    "\n",
    "Where $a_1, a_2, a_3, \\ldots a_n$ and $b$ are known constants and $x_1, x_2, x_3, \\ldots x_n$ are unknown values.  Typically we have systems of equations with different values of $a$s and $b$s but the unknowns are the same.  For example.  Consider the example of linear equations in the following video. \n",
    "\n",
    "&#9989; **<font color=red>TODO:</font>**  Watch the video and follow along in the notebook."
   ]
  },
  {
   "cell_type": "code",
   "execution_count": null,
   "metadata": {},
   "outputs": [],
   "source": [
    "from IPython.display import YouTubeVideo\n",
    "YouTubeVideo(\"CH68cc7sH4A\",width=640,height=360, cc_load_policy=True)"
   ]
  },
  {
   "cell_type": "markdown",
   "metadata": {},
   "source": [
    "> Giselle works as a carpenter and as a blacksmith. She earns 20 dollars per hour as a carpenter and 25 dollars \n",
    "> per hour as a blacksmith. Last week, Giselle worked both jobs for a total of 30 hours, and earned a total of 690 dollars. How long did Giselle work as a carpenter last week, and how long did she work as a blacksmith?\n",
    ">\n",
    "> - [Brainly.com](https://brainly.com/question/2202719)\n",
    "\n",
    "This problems gives us two equations and two unknowns:\n",
    "\n",
    "$$ c + b = 30 $$\n",
    "$$ 20c + 25b = 690 $$\n",
    "\n",
    "How would we solve this in linear algebra?  \n",
    "\n",
    "$$ c + b = 30$$\n",
    "$$ 20c + 25b = 690$$\n",
    "\n",
    "First, we can multiply the first equation by -20 and add to the second equation.  This is often called a \"linear combination\" of the two equations. The operation does not change the answer:\n",
    "\n",
    "$$ -20c - 20b = -600$$\n",
    "$$ 20c + 25b = 690$$\n",
    "$$----$$\n",
    "$$ 0c + 5b = 90$$\n",
    "\n",
    "This is our new system of equations:\n",
    "$$ c + b = 30$$\n",
    "$$ 0c + 5b = 90$$\n",
    "\n",
    "Now we can easily divide the second equation by 5 and get the value for $b$:\n",
    "\n",
    "$$b = 90/5 = 18$$\n",
    "\n",
    "If we substitute 18 for $b$ into the first equation we get:\n",
    "$$ c + 18 = 30$$\n",
    "\n",
    "And solving for $c$ gives us $c = 30-18=12$.  Let's check to see if this works by substituting $b=18$ and $c=12$ into our original equations:\n",
    "\n",
    "$$ 12 + 18 = 30$$\n",
    "$$ 20(12) + 25(18) = 690$$"
   ]
  },
  {
   "cell_type": "markdown",
   "metadata": {},
   "source": [
    "Let's check the answer using Python:"
   ]
  },
  {
   "cell_type": "code",
   "execution_count": null,
   "metadata": {},
   "outputs": [],
   "source": [
    "b = 18\n",
    "c = 12"
   ]
  },
  {
   "cell_type": "code",
   "execution_count": null,
   "metadata": {},
   "outputs": [],
   "source": [
    "c + b == 30"
   ]
  },
  {
   "cell_type": "code",
   "execution_count": null,
   "metadata": {},
   "outputs": [],
   "source": [
    "20*c + 25*b == 690"
   ]
  },
  {
   "cell_type": "markdown",
   "metadata": {},
   "source": [
    "&#9989; **<font color=red>QUESTION:</font>**  The above video described three (3) elementary operators that can be applied to a system of linear equations and not change their answer.  What are these three operators?  "
   ]
  },
  {
   "cell_type": "markdown",
   "metadata": {},
   "source": [
    "**_Erase the contents of this cell and put your answer to the above question here_**"
   ]
  },
  {
   "cell_type": "markdown",
   "metadata": {},
   "source": [
    "---\n",
    "<a name=\"Visualizing_the_problem\"></a>\n",
    "## 2.  Visualizing the problem\n",
    "We can visualize the solution to a system of linear equations in a graph. If we make $b$ the \"$y$\"-axis and $c$ the \"$x$\"-axis. For each equation, we calculate the $b$ value for each $c$, and two equations give us two lines. \n",
    "\n",
    "**Note:** This is sometimes called the \"Row Picture.\" I will ask you why it has this name in class so think about it.\n",
    "\n",
    "\n",
    "&#9989; **<font color=red>QUESTION:</font>**  The above video described three (3) elementary operators that can be applied to a system of linear equations and not change their answer.  What are these three operators? \n"
   ]
  },
  {
   "cell_type": "code",
   "execution_count": null,
   "metadata": {},
   "outputs": [],
   "source": [
    "from IPython.display import YouTubeVideo\n",
    "YouTubeVideo(\"BSxWO6FGib0\",width=640,height=360, cc_load_policy=True)"
   ]
  },
  {
   "cell_type": "code",
   "execution_count": null,
   "metadata": {},
   "outputs": [],
   "source": [
    "%matplotlib inline\n",
    "import matplotlib.pylab as plt\n",
    "import numpy as np"
   ]
  },
  {
   "cell_type": "code",
   "execution_count": null,
   "metadata": {},
   "outputs": [],
   "source": [
    "c = np.linspace(0,20)\n",
    "c"
   ]
  },
  {
   "cell_type": "code",
   "execution_count": null,
   "metadata": {},
   "outputs": [],
   "source": [
    "b1 = 30-c\n",
    "b2 = (690-20*c)/25"
   ]
  },
  {
   "cell_type": "markdown",
   "metadata": {},
   "source": [
    "### Row Picture"
   ]
  },
  {
   "cell_type": "code",
   "execution_count": null,
   "metadata": {},
   "outputs": [],
   "source": [
    "plt.plot(c,b1)\n",
    "plt.plot(c,b2)\n",
    "plt.xlabel('c (hours worked as carpenter)')\n",
    "plt.ylabel('b (hours worked as blacksmith)')\n",
    "plt.scatter(12,18);"
   ]
  },
  {
   "cell_type": "markdown",
   "metadata": {},
   "source": [
    "\n",
    "Now, consider the next set of equations which do not have a solution\n",
    "\n",
    "$$-2x+y=3$$\n",
    "$$-4x+2y=2$$\n"
   ]
  },
  {
   "cell_type": "code",
   "execution_count": null,
   "metadata": {},
   "outputs": [],
   "source": [
    "x = np.linspace(-10,10)\n",
    "y1 =  3+2*x\n",
    "y2 = (2+4*x)/2\n",
    "plt.plot(x,y1)\n",
    "plt.plot(x,y2);"
   ]
  },
  {
   "cell_type": "code",
   "execution_count": null,
   "metadata": {},
   "outputs": [],
   "source": [
    "from IPython.display import YouTubeVideo\n",
    "YouTubeVideo(\"Z9gkovHDpIQ\",width=640,height=360, cc_load_policy=True)"
   ]
  },
  {
   "cell_type": "markdown",
   "metadata": {},
   "source": [
    "Consider the next set of equations which have infinite many solutions\n",
    "\n",
    "$$4x-2y=6$$\n",
    "$$6x-3y=9$$\n"
   ]
  },
  {
   "cell_type": "code",
   "execution_count": null,
   "metadata": {},
   "outputs": [],
   "source": [
    "x = np.linspace(-10,10)\n",
    "y1 =  (4*x-6)/2\n",
    "y2 = (6*x-9)/3\n",
    "plt.plot(x,y1)\n",
    "plt.plot(x,y2)"
   ]
  },
  {
   "cell_type": "markdown",
   "metadata": {},
   "source": [
    "&#9989; **<font color=red>DO THIS:</font>**  Plot the following equations from -100 to 100\n",
    "\n",
    "$$ 18x+21y = 226$$\n",
    "$$ 72x-3y = 644$$"
   ]
  },
  {
   "cell_type": "code",
   "execution_count": null,
   "metadata": {},
   "outputs": [],
   "source": [
    "# Put your python code here"
   ]
  },
  {
   "cell_type": "markdown",
   "metadata": {},
   "source": [
    "&#9989; **<font color=red>QUESTION:</font>**  Using the graph, what is a visual estimation of the solution to these two equations?  Hint, you may want to change the $x$ range to \"zoom\" in on the intersection. "
   ]
  },
  {
   "cell_type": "markdown",
   "metadata": {},
   "source": [
    "**_Put your answer to the above question here._**"
   ]
  },
  {
   "cell_type": "markdown",
   "metadata": {},
   "source": [
    "### Column Picture\n",
    "\n",
    "I think a good programmer is a lazy person. Let's avoid writing all of the letters in the above euqation by changing it into a column vector format as follows.\n"
   ]
  },
  {
   "cell_type": "markdown",
   "metadata": {},
   "source": [
    "$$ \n",
    "c\n",
    "\\left[\n",
    "\\begin{matrix}\n",
    "    1 \\\\ 20  \n",
    " \\end{matrix}\n",
    "\\right]\n",
    "+\n",
    "b\n",
    "\\left[\n",
    "\\begin{matrix}\n",
    "    1 \\\\ 5  \n",
    " \\end{matrix}\n",
    "\\right]\n",
    "=\n",
    "\\left[\n",
    "\\begin{matrix}\n",
    " 30 \\\\ 330\n",
    "\\end{matrix}\n",
    "\\right]\n",
    "$$"
   ]
  },
  {
   "cell_type": "markdown",
   "metadata": {},
   "source": [
    "Notice that this still represents the same system of equations. We just write the constants as column vectors and we only have to write the unknowns once (Since they are the same for all equations). "
   ]
  },
  {
   "cell_type": "markdown",
   "metadata": {},
   "source": [
    "Let's plot this \"column picture\", which shows how the above equation is a \"linear combination\" of the two column vectors.  \n",
    "\n",
    "One way to think about this is we can only move in straight lines in two directions. The first direction is (1,20) and the second is (1,5).  The solution to the problem is how far in each direction we need to move to arrive at our final destination of (30,330).\n",
    "\n",
    "The first column is a vector in the (1,20) direction. The variable $c$ is how far in the (1,20) direction we want to go.  Then $b$ is how far in the (1,5) direction we want to go to arrive at the point (30,330).\n",
    "\n",
    "We will use the ```matplotlib``` function ```arrow``` to plot the vectors.  The arrow function takes a starting point $[x,y]$ and a direction $[dx,dy]$ as inputs and draws an arrow from the starting point in the direction specified."
   ]
  },
  {
   "cell_type": "markdown",
   "metadata": {},
   "source": [
    "First thing to do is plot the first column as a vector. From the origin (0,0) to $c\\left[\n",
    "\\begin{matrix}\n",
    "    1 \\\\ 20  \n",
    " \\end{matrix}\n",
    "\\right]$\n",
    "\n",
    "**or** $x = c$ and $y = 20c$ with $c=12$"
   ]
  },
  {
   "cell_type": "code",
   "execution_count": null,
   "metadata": {},
   "outputs": [],
   "source": [
    "c = 12\n",
    "\n",
    "#hack to inicialize bounds of plot (need this to get the arrows to work?)\n",
    "plt.plot(0,0)\n",
    "plt.plot(30,330)\n",
    "\n",
    "# Plot the first arrow \n",
    "plt.arrow(0, 0, c*1, c*20,head_width=2, head_length=10, fc='blue', ec='blue')"
   ]
  },
  {
   "cell_type": "markdown",
   "metadata": {},
   "source": [
    "Next thing to do is plot the second column as a vector by adding it to the first. This ```arrow``` will start at the end of the previous vector and \"add\" the second column vector:"
   ]
  },
  {
   "cell_type": "code",
   "execution_count": null,
   "metadata": {},
   "outputs": [],
   "source": [
    "b = 18\n",
    "\n",
    "#hack to inicialize bounds of plot (need this to get the arrows to work?)\n",
    "plt.plot(0,0)\n",
    "plt.plot(30,330)\n",
    "\n",
    "# Plot the first arrow\n",
    "plt.arrow(0, 0, c*1, c*20,head_width=2, head_length=10, fc='blue', ec='blue')\n",
    "\n",
    "#Plot the second arrow starting at the end of the first\n",
    "plt.arrow(c, c*20, b*1, b*5, head_width=2, head_length=10, fc='red', ec='red')"
   ]
  },
  {
   "cell_type": "markdown",
   "metadata": {},
   "source": [
    "The takeaway to this figure is that these two column vectors, when added together, end up at the point that represents the right hand side of the above equation (i.e. (30, 330)). "
   ]
  },
  {
   "cell_type": "code",
   "execution_count": null,
   "metadata": {},
   "outputs": [],
   "source": [
    "#hack to inicialize bounds of plot (need this to get the arrows to work?)\n",
    "plt.plot(0,0)\n",
    "plt.plot(30,330)\n",
    "\n",
    "# Plot the first arrow\n",
    "plt.arrow(0, 0, c*1, c*20,head_width=2, head_length=10, fc='blue', ec='blue')\n",
    "\n",
    "#Plot the second arrow starting at the end of the first\n",
    "plt.arrow(c, c*20, b*1, b*5, head_width=2, head_length=10, fc='red', ec='red')\n",
    "\n",
    "#Plot a righthand column vector as a point.\n",
    "plt.arrow(0,0, 30, 330, head_width=2, head_length=10, fc='purple', ec='purple')\n",
    "plt.xlabel('x');\n",
    "plt.ylabel('y');"
   ]
  },
  {
   "cell_type": "markdown",
   "metadata": {},
   "source": [
    "We say that the two column vectors \"**span**\" the $xy$-plane.  This means that any point on the x,y plane can be represented as a linear combination of the two vectors.  \n",
    "\n",
    "&#9989; **<font color=red>QUESTION:</font>** Give an example of two column vectors that do **NOT** span the $xy-$plane:"
   ]
  },
  {
   "cell_type": "markdown",
   "metadata": {},
   "source": [
    "**_Put your answer to the above question here._**"
   ]
  },
  {
   "cell_type": "markdown",
   "metadata": {},
   "source": [
    "---\n",
    "<a name=\"Multidimentional_Spaces\"></a>\n",
    "## 4. Multidimentional Spaces"
   ]
  },
  {
   "cell_type": "code",
   "execution_count": null,
   "metadata": {},
   "outputs": [],
   "source": [
    "from IPython.display import YouTubeVideo\n",
    "YouTubeVideo(\"A3fHytkJ010\",width=640,height=320, cc_load_policy=True)"
   ]
  },
  {
   "cell_type": "markdown",
   "metadata": {},
   "source": [
    "&#9989; **<font color=red>QUESTION:</font>**  Describe in words, what the solution space would look like for three equations with three unknowns and no solutions."
   ]
  },
  {
   "cell_type": "markdown",
   "metadata": {},
   "source": [
    "**_Erase the contents of this cell and put your answer to the above question here._**"
   ]
  },
  {
   "cell_type": "markdown",
   "metadata": {},
   "source": [
    "---\n",
    "<a name=\"Matrix_Notation\"></a>\n",
    "## 5.  Matrix Notation\n",
    "\n",
    "Review **_Sections 6.1 - 6.3_** of the [Stephen Boyd and Lieven Vandenberghe Applied Linear algebra book](http://vmls-book.stanford.edu/) which introduces the concept of Matrices.  Some things to take away include:\n",
    "\n",
    "* Basic Matrix composition\n",
    "* Transpose Addition and norms\n",
    "* Zero and Identy matrix\n"
   ]
  },
  {
   "cell_type": "code",
   "execution_count": null,
   "metadata": {},
   "outputs": [],
   "source": [
    "from IPython.display import YouTubeVideo\n",
    "YouTubeVideo(\"uC46qAjdE9w\",height=360,width=640, cc_load_policy=True)"
   ]
  },
  {
   "cell_type": "markdown",
   "metadata": {},
   "source": [
    "A matrix is a rectangular array of numbers typically written between rectangular brackets such as:\n",
    "\n",
    "$$ A = \n",
    "\\left[\n",
    "\\begin{matrix}\n",
    "    0 & -1 \\\\ \n",
    "    3 & 4 \\\\\n",
    "    0 & 2\n",
    " \\end{matrix}\n",
    "\\right]^{ 3\\times 2}\n",
    "$$\n",
    "\n",
    "The $3 \\times 2$ subscript is not always included but is handy notation to remember the size of a matrix.  The size of a matrix is always written $m \\times n$ where $m$ is the number of rows and $n$ is the number of columns.  So in the above case Matrix $A$ is a $3 \\times 2$  (read \"three by two\") matrix.  "
   ]
  },
  {
   "cell_type": "markdown",
   "metadata": {},
   "source": [
    "&#9989; **<font color=red>QUESTION:</font>**  What is the size of the following matrix?\n",
    "\n",
    "\n",
    "$$ B = \n",
    "\\left[\n",
    "\\begin{matrix}\n",
    "    0 & -1 & 0\\\\ \n",
    "    3 & 4 & 2\\\\\n",
    " \\end{matrix}\n",
    "\\right]\n",
    "$$"
   ]
  },
  {
   "cell_type": "markdown",
   "metadata": {},
   "source": [
    "**_Erase the contents of this cell and put your answer to the above question here_**"
   ]
  },
  {
   "cell_type": "markdown",
   "metadata": {},
   "source": [
    "Each element in a matrix can be referenced by it's index location.  Similar to the size of a matrix the location of an element is described by two numbers, it's row followed by it's column.  Counting for the rows start at the top and the columns start on the left.  For example, in Matrix $B$ element $b_{1,2}$ is the number in row 1 column 2 which is -1.  "
   ]
  },
  {
   "cell_type": "markdown",
   "metadata": {},
   "source": [
    "&#9989; **<font color=red>QUESTION:</font>**  What is the value of element (2,1) in matrix $B$? "
   ]
  },
  {
   "cell_type": "markdown",
   "metadata": {},
   "source": [
    "**_Erase the contents of this cell and put your answer to the above question here_**"
   ]
  },
  {
   "cell_type": "markdown",
   "metadata": {},
   "source": [
    "A linear system of equations can be written in matrix format.  For example, the equations in the original example can be written as the following \"Augmented matrix\"\n",
    "\n",
    "$$ \n",
    "\\left[\n",
    "\\begin{matrix}\n",
    "    1 & 1 \\\\ \n",
    "    20 & 25\n",
    "  \\end{matrix}\n",
    "\\, \\middle\\vert \\,\n",
    "\\begin{matrix}\n",
    " 30 \\\\ \n",
    " 690\n",
    "\\end{matrix}\n",
    "\\right] \n",
    "$$\n",
    "\n",
    "And the example which included silversmith can be written as follows:\n",
    "$$ \n",
    "\\left[\n",
    "\\begin{matrix}\n",
    "    1 & 1 & 1 \\\\ \n",
    "    50 & 20 & 25 \\\\\n",
    "    110 & 0 & 20\n",
    "  \\end{matrix}\n",
    "\\, \\middle\\vert \\,\n",
    "\\begin{matrix}\n",
    " 30 \\\\ \n",
    " 690 \\\\\n",
    " 300\n",
    "\\end{matrix}\n",
    "\\right] \n",
    "$$\n",
    "The above equations are represented as \"augmented matrices\" with the equal side represented as a vertical line.  "
   ]
  },
  {
   "cell_type": "markdown",
   "metadata": {},
   "source": [
    "The general matrix format for a system of linear equations can be written as follows:\n",
    "\n",
    "$$ \n",
    "X = \n",
    "\\left[\n",
    "\\begin{matrix}\n",
    "    x_{11}       & x_{12} & x_{13} & \\dots  \\\\\n",
    "    x_{21}       & x_{22} & x_{23} & \\dots \\\\\n",
    "    \\ldots       & \\ldots & \\ldots & \\ddots \\\\\n",
    "    x_{m1}       & x_{m2} & x_{m3} & \\dots \n",
    " \\end{matrix}\n",
    "\\, \\middle\\vert \\,\n",
    "\\begin{matrix}\n",
    "x_{1n} \\\\ x_{2n} \\\\ \\ldots \\\\ x_{mn}\n",
    "\\end{matrix}\n",
    "\\right] ^{mxn}\n",
    "$$\n",
    "\n",
    "where $x_{ij}$ is a scalar element in the matrx."
   ]
  },
  {
   "cell_type": "markdown",
   "metadata": {},
   "source": [
    "Now consider the following system of linear equations:\n",
    "\n",
    "$$x_1 = 2.14159$$\n",
    "$$x_2 = 4$$\n",
    "$$x_3 = -7.2$$\n",
    "$$x_4 = 69$$\n",
    "$$x_5 = 84$$\n",
    "$$x_6 = 240$$\n",
    "\n",
    "Lets rewrite this equation as an augmented matrix:\n",
    "\n",
    "\n",
    "$$ \n",
    "X = \n",
    "\\left[\n",
    "\\begin{matrix}\n",
    "    1 & 0 & 0 & 0  & 0 & 0  \\\\\n",
    "    0 & 1 & 0 & 0  & 0 & 0  \\\\\n",
    "    0 & 0 & 1 & 0  & 0 & 0  \\\\\n",
    "    0 & 0 & 0 & 1  & 0 & 0  \\\\\n",
    "    0 & 0 & 0 & 0  & 1 & 0  \\\\\n",
    "    0 & 0 & 0 & 0  & 0 & 1  \n",
    " \\end{matrix}\n",
    "\\, \\middle\\vert \\,\n",
    "\\begin{matrix}\n",
    "2.14159 \\\\ 4 \\\\ -7.2 \\\\ 69 \\\\ 84 \\\\ 240\n",
    "\\end{matrix}\n",
    "\\right] ^{6x7}\n",
    "$$\n",
    "\n",
    "Notice the submatrix on the left hand side is just the $I_6$ identity matrix and the right hand side are the solutions. "
   ]
  },
  {
   "cell_type": "markdown",
   "metadata": {},
   "source": [
    "----\n",
    "\n",
    "<a name=\"Assignment_wrap-up\"></a>\n",
    "## 6. Assignment wrap-up"
   ]
  },
  {
   "cell_type": "markdown",
   "metadata": {},
   "source": [
    "&#9989; **<font color=red>Assignment-Specific QUESTION:</font>**  What are the three elementary operators that can be applied to systems of linear equations that do not change their answer?"
   ]
  },
  {
   "cell_type": "markdown",
   "metadata": {},
   "source": [
    "Put your answer to the above question here"
   ]
  },
  {
   "cell_type": "markdown",
   "metadata": {},
   "source": [
    "&#9989; **<font color=red>QUESTION:</font>**  Summarize what you did in this assignment."
   ]
  },
  {
   "cell_type": "markdown",
   "metadata": {},
   "source": [
    "Put your answer to the above question here"
   ]
  },
  {
   "cell_type": "markdown",
   "metadata": {},
   "source": [
    "&#9989; **<font color=red>QUESTION:</font>**  What questions do you have, if any, about any of the topics discussed in this assignment after working through the jupyter notebook?"
   ]
  },
  {
   "cell_type": "markdown",
   "metadata": {},
   "source": [
    "Put your answer to the above question here"
   ]
  },
  {
   "cell_type": "markdown",
   "metadata": {},
   "source": [
    "&#9989; **<font color=red>QUESTION:</font>**  How well do you feel this assignment helped you to achieve a better understanding of the above mentioned topic(s)?"
   ]
  },
  {
   "cell_type": "markdown",
   "metadata": {},
   "source": [
    "Put your answer to the above question here"
   ]
  },
  {
   "cell_type": "markdown",
   "metadata": {},
   "source": [
    "&#9989; **<font color=red>QUESTION:</font>** What was the **most** challenging part of this assignment for you? "
   ]
  },
  {
   "cell_type": "markdown",
   "metadata": {},
   "source": [
    "Put your answer to the above question here"
   ]
  },
  {
   "cell_type": "markdown",
   "metadata": {},
   "source": [
    "&#9989; **<font color=red>QUESTION:</font>** What was the **least** challenging part of this assignment for you? "
   ]
  },
  {
   "cell_type": "markdown",
   "metadata": {},
   "source": [
    "Put your answer to the above question here"
   ]
  },
  {
   "cell_type": "markdown",
   "metadata": {},
   "source": [
    "&#9989; **<font color=red>QUESTION:</font>**  What kind of additional questions or support, if any, do you feel you need to have a better understanding of the content in this assignment?"
   ]
  },
  {
   "cell_type": "markdown",
   "metadata": {},
   "source": [
    "Put your answer to the above question here"
   ]
  },
  {
   "cell_type": "markdown",
   "metadata": {},
   "source": [
    "&#9989; **<font color=red>QUESTION:</font>**  Do you have any further questions or comments about this material, or anything else that's going on in class?"
   ]
  },
  {
   "cell_type": "markdown",
   "metadata": {},
   "source": [
    "Put your answer to the above question here"
   ]
  },
  {
   "cell_type": "markdown",
   "metadata": {},
   "source": [
    "&#9989; **<font color=red>QUESTION:</font>** Approximately how long did this pre-class assignment take?"
   ]
  },
  {
   "cell_type": "markdown",
   "metadata": {},
   "source": [
    "Put your answer to the above question here"
   ]
  },
  {
   "cell_type": "markdown",
   "metadata": {},
   "source": [
    "----\n",
    "Written by Dr. Dirk Colbry, Michigan State University\n",
    "<a rel=\"license\" href=\"http://creativecommons.org/licenses/by-nc/4.0/\"><img alt=\"Creative Commons License\" style=\"border-width:0\" src=\"https://i.creativecommons.org/l/by-nc/4.0/88x31.png\" /></a><br />This work is licensed under a <a rel=\"license\" href=\"http://creativecommons.org/licenses/by-nc/4.0/\">Creative Commons Attribution-NonCommercial 4.0 International License</a>."
   ]
  },
  {
   "cell_type": "markdown",
   "metadata": {},
   "source": [
    "\n"
   ]
  }
 ],
 "metadata": {
  "kernelspec": {
   "display_name": "Python 3",
   "language": "python",
   "name": "python3"
  },
  "language_info": {
   "codemirror_mode": {
    "name": "ipython",
    "version": 3
   },
   "file_extension": ".py",
   "mimetype": "text/x-python",
   "name": "python",
   "nbconvert_exporter": "python",
   "pygments_lexer": "ipython3",
   "version": "3.7.6"
  }
 },
 "nbformat": 4,
 "nbformat_minor": 4
}
