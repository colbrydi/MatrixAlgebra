{
 "cells": [
  {
   "cell_type": "markdown",
   "metadata": {},
   "source": []
  },
  {
   "cell_type": "markdown",
   "metadata": {},
   "source": [
    "\n",
    "\n",
    "![Image of the planet Jupyter in infrared. Used as a motivation for this textbook](./Cover_horizontal.png)\n",
    "\n",
    "# Introduction\n",
    "These Open Educational Resources (OER) where developed as part of a restructuring of the Michigan State University Matrix Algebra Course (MTH314).  The new course uses a \"flipped\" classroom model with Jupyter notebooks as the primary communication method between instructors and students.  Jupyter notebooks are an open source format that is ideal for communication and combines multimedia website, word processor, latex math and programming all in one document.  These files are idea for highly interactive teaching.   \n",
    "\n",
    "## About the Author\n",
    "\n",
    "As an engineer and not a Mathematician.\n",
    "\n",
    "## Acknowledgment\n",
    "\n",
    "This textbook is a product of the Michigan State University Libraries' Open Educational Resource (OER) program lead by Regina Gong.   The content of this book is a work in progress and been contributed to by all of the instructors for MTH314 at Michigan State University.  Each notebook has a different set of authors and everyone in this list has provided testing and feedback of the materials.  The list of instructors include:\n",
    "\n",
    "## Lead Instructors\n",
    "* Dr. Dirk Colbry\n",
    "* Dr. Ming Yan \n",
    "* Dr. Matthew Mills \n",
    "* Dr. Paul Speaker \n",
    "* Dr. Zhichao Peng \n",
    "* Dr. Sulin Wang \n",
    "* Dr. Rongrong Wang\n",
    "\n",
    "## Graduate Teaching Assistance\n",
    "* Shuyang Qin \n",
    "* Cullen Avery Haselby\n",
    "* Haoyang Chen\n",
    "* Kai Huang  \n",
    "* Nathan Brugnone \n",
    "* Yao Li \n",
    "* Thomas Chuna \n",
    "\n",
    "## Undergraduate Learning Assistance\n",
    "* Amanda Bowerman \n",
    "* Zachary Matson \n",
    "* Noah Jankowski \n",
    "* Nicholas Mouaikel \n",
    "* Marv Zurek \n",
    "* Ishaan Pathak \n",
    "* Sam Tracht \n",
    "* Dave Yonkers \n",
    "* Heather Noonan \n",
    "* Drew Pype "
   ]
  },
  {
   "cell_type": "markdown",
   "metadata": {},
   "source": [
    "## Cover Art\n",
    "\n",
    "Special thanks to Michigan State University Library's Sri Pallay who helped created the cover art and Julie Taylor who helped with the branding.  The cover is a composite image, derived from data collected by the Jovian Infrared Auroral Mapper (JIRAM) instrument aboard NASA's Juno mission to Jupiter. The image shows the central cyclone at Jupiter's north pole and the eight cyclones that encircle it (NASA)\n",
    "\n",
    "![Full Size cover Image](./Cover.jpg)"
   ]
  },
  {
   "cell_type": "markdown",
   "metadata": {},
   "source": [
    "Written by Dr. Dirk Colbry, Michigan State University\n",
    "\n",
    "<a rel=\"license\" href=\"http://creativecommons.org/licenses/by-nc/4.0/\"><img alt=\"Creative Commons License\" style=\"border-width:0\" src=\"https://i.creativecommons.org/l/by-nc/4.0/88x31.png\" /></a><br />This work is licensed under a <a rel=\"license\" href=\"http://creativecommons.org/licenses/by-nc/4.0/\">Creative Commons Attribution-NonCommercial 4.0 International License</a>."
   ]
  },
  {
   "cell_type": "markdown",
   "metadata": {},
   "source": [
    "---"
   ]
  },
  {
   "cell_type": "markdown",
   "metadata": {},
   "source": [
    "\n"
   ]
  }
 ],
 "metadata": {
  "kernelspec": {
   "display_name": "Python 3",
   "language": "python",
   "name": "python3"
  },
  "language_info": {
   "codemirror_mode": {
    "name": "ipython",
    "version": 3
   },
   "file_extension": ".py",
   "mimetype": "text/x-python",
   "name": "python",
   "nbconvert_exporter": "python",
   "pygments_lexer": "ipython3",
   "version": "3.7.6"
  }
 },
 "nbformat": 4,
 "nbformat_minor": 4
}
