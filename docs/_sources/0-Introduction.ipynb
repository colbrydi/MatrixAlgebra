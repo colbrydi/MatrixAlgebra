{
 "cells": [
  {
   "cell_type": "markdown",
   "metadata": {},
   "source": []
  },
  {
   "cell_type": "markdown",
   "metadata": {},
   "source": [
    "# Introduction\n",
    "\n",
    "![Image of the planet Jupyter in infrared. Used as a motivation for this textbook](./Cover.jpg)\n",
    "\n",
    "## Acknowledgment\n",
    "\n",
    "The content of this book is a work in progress and been contributed to by all of the instructors for MTH314 at Michigan State University.  Each notebook has a different set of authors and everyone in this list has provided testing and feedback of the materials.  THe list of instructors include:\n",
    "\n",
    "## Lead Instructors\n",
    "* Dr. Dirk Colbry \n",
    "* Dr. Ming Yan \n",
    "* Dr. Matthew Mills \n",
    "* Dr. Paul Speaker \n",
    "* Dr. Zhichao Peng \n",
    "* Dr. Sulin Wang \n",
    "* Dr. Rongrong Wang\n",
    "\n",
    "## Graduate Teaching Assistance\n",
    "* Shuyang Qin \n",
    "* Cullen Avery Haselby\n",
    "* Haoyang Chen\n",
    "* Kai Huang  \n",
    "* Nathan Brugnone \n",
    "* Yao Li \n",
    "* Thomas Chuna \n",
    "\n",
    "## Undergraduate Learning Assistance\n",
    "* Amanda Bowerman \n",
    "* Zachary Matson \n",
    "* Noah Jankowski \n",
    "* Nicholas Mouaikel \n",
    "* Marv Zurek \n",
    "* Ishaan Pathak \n",
    "* Sam Tracht \n",
    "* Dave Yonkers \n",
    "* Heather Noonan \n",
    "* Drew Pype "
   ]
  },
  {
   "cell_type": "code",
   "execution_count": null,
   "metadata": {},
   "outputs": [],
   "source": []
  },
  {
   "cell_type": "markdown",
   "metadata": {},
   "source": [
    "\n"
   ]
  }
 ],
 "metadata": {
  "kernelspec": {
   "display_name": "Python 3",
   "language": "python",
   "name": "python3"
  },
  "language_info": {
   "codemirror_mode": {
    "name": "ipython",
    "version": 3
   },
   "file_extension": ".py",
   "mimetype": "text/x-python",
   "name": "python",
   "nbconvert_exporter": "python",
   "pygments_lexer": "ipython3",
   "version": "3.7.6"
  }
 },
 "nbformat": 4,
 "nbformat_minor": 4
}
