{
 "cells": [
  {
   "cell_type": "markdown",
   "metadata": {},
   "source": []
  },
  {
   "cell_type": "markdown",
   "metadata": {},
   "source": [
    "# 05 Pre-Class Assignment: Gauss-Jordan Elimination"
   ]
  },
  {
   "cell_type": "markdown",
   "metadata": {},
   "source": [
    "### Recommended further readings for this pre-class assignment.\n",
    " * **_[Boyd - Section 1.4-1.5 pg 19-24](http://vmls-book.stanford.edu/vmls.pdf)_**\n",
    " * [Beezer - Subsection IP pg 149-152](http://linear.ups.edu/download/fcla-3.50-tablet.pdf)\n",
    " * [Heffron - Chapter 1.II.2 pg 43-47](http://joshua.smcvt.edu/linearalgebra/book.pdf)"
   ]
  },
  {
   "cell_type": "markdown",
   "metadata": {},
   "source": [
    "### Goals for today's pre-class assignment \n",
    "\n",
    "\n",
    "1. [Sympy RREF function](#Sympy-RREF-function)\n",
    "2. [Calculating Vector Length, Normalization, Distance and Dot](#Calculating-Vector-Length,-Normalization,-Distance-and-Dot)\n",
    "3. [Vector spaces in $R_n$](#Vector-spaces-in-Rn)\n",
    "4. [Assignment wrap up](#Assignment-wrap-up)"
   ]
  },
  {
   "cell_type": "code",
   "execution_count": null,
   "metadata": {},
   "outputs": [],
   "source": [
    "#  Load Useful Python Libraries \n",
    "%matplotlib inline\n",
    "import matplotlib.pylab as plt\n",
    "import numpy as np\n",
    "import sympy as sym\n",
    "sym.init_printing(use_unicode=True)"
   ]
  },
  {
   "cell_type": "markdown",
   "metadata": {},
   "source": [
    "\n",
    "\n",
    "---\n",
    "<a name=Sympy-RREF-function></a>\n",
    "## 1. Sympy RREF function\n",
    "\n",
    "\n",
    "\n",
    "\n",
    "\n",
    "\n",
    "\n",
    "In class we talked about the Python ```sympy``` library which has a \"reduced row echelon form\" (rref) function that runs a much more efficient version of the Gauss-Jordan function.  To use the ```rref``` function you must first convert your matrix into a ```sympy.Matrix``` and then run the function. For example, lets do this for the following  matrix $B$:"
   ]
  },
  {
   "cell_type": "code",
   "execution_count": null,
   "metadata": {},
   "outputs": [],
   "source": [
    "B = np.matrix([[ 50, 13, 30 ], [100, 26, 60 ],  [20.5, 25, 650]])\n",
    "sym.Matrix(B).rref()"
   ]
  },
  {
   "cell_type": "markdown",
   "metadata": {},
   "source": [
    "This function outputs two values (a matrix and a tuple).  For the purposes of this class we only care about the matrix.  I generally use the following syntax when using ```rref()```"
   ]
  },
  {
   "cell_type": "code",
   "execution_count": null,
   "metadata": {},
   "outputs": [],
   "source": [
    "sym.Matrix(B).rref()[0]"
   ]
  },
  {
   "cell_type": "markdown",
   "metadata": {},
   "source": [
    "&#9989;**<font color=red>QUESTION</font>**: Although we do not use it often in this course, what does the second output of the ```rref``` mean (i.e. what does ```(0,1)``` mean? **_hint_**: read the documentation for ```rref```. "
   ]
  },
  {
   "cell_type": "markdown",
   "metadata": {},
   "source": [
    "**_Put your answer to the above question here_**"
   ]
  },
  {
   "cell_type": "markdown",
   "metadata": {},
   "source": [
    "How lets consider the multi-week example from a previous assignment, where:\n",
    "\n",
    "**Week 1:**\n",
    "$$ c + b = 30 $$\n",
    "$$ 20c + 25b = 690 $$\n",
    "\n",
    "**Week 2:**\n",
    "$$ c + b = 35 $$\n",
    "$$ 20c + 25b = 750 $$\n",
    "\n",
    "**Week 3:**\n",
    "$$ c + b = 30 $$\n",
    "$$ 20c + 25b = 650 $$"
   ]
  },
  {
   "cell_type": "markdown",
   "metadata": {},
   "source": [
    "&#9989;**<font color=red>DO THIS</font>**: Write a $2 \\times 5$ augmented matrix representing the 6 equations above.  (you can just copy and paste this from the pre-class if you got it right there), Name your Matrix $G$ to verify your answer using the ```checkanswer``` function below."
   ]
  },
  {
   "cell_type": "code",
   "execution_count": null,
   "metadata": {},
   "outputs": [],
   "source": [
    "#Put your answer to the above question here. "
   ]
  },
  {
   "cell_type": "markdown",
   "metadata": {},
   "source": [
    "The following function will apply the rref function to the matrix $G$ and store it in a variable called, wait for it,  ```rref```:"
   ]
  },
  {
   "cell_type": "code",
   "execution_count": null,
   "metadata": {},
   "outputs": [],
   "source": [
    "rref,_ = sym.Matrix(G).rref()\n",
    "rref"
   ]
  },
  {
   "cell_type": "markdown",
   "metadata": {},
   "source": [
    "&#9989;**<font color=red>QUESTION</font>**: Given the above,  How many hours did Giselle work as a capenter for the three weeks and how many hours did she work as a blacksmith.  Fill in your answers below to check if you are correct:"
   ]
  },
  {
   "cell_type": "code",
   "execution_count": null,
   "metadata": {},
   "outputs": [],
   "source": [
    "#Replace the zeros with your answers\n",
    "carpenter_week1 = 0\n",
    "carpenter_week2 = 0\n",
    "carpenter_week3 = 0\n",
    "blacksmith_week1 = 0\n",
    "blacksmith_week2 = 0\n",
    "blacksmith_week3 = 0"
   ]
  },
  {
   "cell_type": "code",
   "execution_count": null,
   "metadata": {},
   "outputs": [],
   "source": [
    "from answercheck import checkanswer\n",
    "\n",
    "hours = [[carpenter_week1, carpenter_week2, carpenter_week3],\n",
    "         [blacksmith_week1, blacksmith_week2, blacksmith_week3]]\n",
    "hours = np.matrix(hours).astype('float')\n",
    "\n",
    "checkanswer.matrix(hours,'b2d4a73cac3c95204f5ed743b507093a');"
   ]
  },
  {
   "cell_type": "markdown",
   "metadata": {},
   "source": [
    "---\n",
    "<a name=Calculating-Vector-Length,-Normalization,-Distance-and-Dot></a>\n",
    "## 2. Calculating Vector Length, Normalization, Distance and Dot\n",
    "\n",
    "In this section we will cover some of the basic vector math we will use this semester. \n",
    "\n",
    "&#9989;**<font color=red>DO THIS</font>**:  Watch the following summary video about calculation of vector length, Normalizing vectors and the distance between points then answer the questions."
   ]
  },
  {
   "cell_type": "code",
   "execution_count": null,
   "metadata": {},
   "outputs": [],
   "source": [
    "from IPython.display import YouTubeVideo\n",
    "YouTubeVideo(\"S0BIhbV6reI\",width=640,height=360, cc_load_policy=True)"
   ]
  },
  {
   "cell_type": "markdown",
   "metadata": {},
   "source": [
    "### Vector:\n",
    "$$(a_1, a_2, \\dots a_n)$$"
   ]
  },
  {
   "cell_type": "markdown",
   "metadata": {},
   "source": [
    "$$(b_1, b_2, \\dots b_n)$$"
   ]
  },
  {
   "cell_type": "markdown",
   "metadata": {},
   "source": [
    "### Length:\n",
    "$$length = \\sqrt{a_1^2 + a_2^2 + \\dots + a_n^2}$$"
   ]
  },
  {
   "cell_type": "markdown",
   "metadata": {},
   "source": [
    "### Normalization:\n",
    "$$\\frac{1}{length}(a_1, a_2, \\dots a_n)$$"
   ]
  },
  {
   "cell_type": "markdown",
   "metadata": {},
   "source": [
    "### Distance:\n",
    "$$distance = \\sqrt{(a_1 - b_1)^2 + (a_2 - b_2)^2 + \\dots + (a_n - b_n)^2}$$"
   ]
  },
  {
   "cell_type": "markdown",
   "metadata": {},
   "source": [
    "&#9989;**<font color=red>QUESTION</font>**:   Calculate length of vector (4.5, 2.6, 3.3, 4.1)?"
   ]
  },
  {
   "cell_type": "code",
   "execution_count": null,
   "metadata": {},
   "outputs": [],
   "source": [
    "#Put your answer to the above question here"
   ]
  },
  {
   "cell_type": "code",
   "execution_count": null,
   "metadata": {},
   "outputs": [],
   "source": [
    "from answercheck import checkanswer\n",
    "\n",
    "checkanswer.float(length,'695da96d4a240e54bd8c61e75ff5a3e2');"
   ]
  },
  {
   "cell_type": "markdown",
   "metadata": {},
   "source": [
    "&#9989;**<font color=red>QUESTION</font>**: What is a normalized form of the vector (4.5, 2.6, 3.3, 4.1)?"
   ]
  },
  {
   "cell_type": "code",
   "execution_count": null,
   "metadata": {},
   "outputs": [],
   "source": [
    "#Put your answer to the above question here"
   ]
  },
  {
   "cell_type": "code",
   "execution_count": null,
   "metadata": {},
   "outputs": [],
   "source": [
    "from answercheck import checkanswer\n",
    "\n",
    "checkanswer.vector(norm,'12c94f16ba11222987ca20006790182d');"
   ]
  },
  {
   "cell_type": "markdown",
   "metadata": {},
   "source": [
    "&#9989;**<font color=red>QUESTION</font>**:  What is the distance between (4.5, 2.6, 3.3, 4.1) and (4, 3, 2, 1)?"
   ]
  },
  {
   "cell_type": "code",
   "execution_count": null,
   "metadata": {},
   "outputs": [],
   "source": [
    "#Put your answer to the above question here"
   ]
  },
  {
   "cell_type": "code",
   "execution_count": null,
   "metadata": {},
   "outputs": [],
   "source": [
    "from answercheck import checkanswer\n",
    "\n",
    "checkanswer.float(distance,'d73defc9a514eb70434190e1757f5bb8');"
   ]
  },
  {
   "cell_type": "markdown",
   "metadata": {},
   "source": [
    "### Dot Product:\n",
    "\n",
    "\n",
    "$$dot(a,b) = a_1b_1 + a_2b_2 +\\dots + a_nb_n$$\n",
    "\n",
    "\n",
    "\n",
    "\n",
    "&#9989;**<font color=red>DO THIS</font>**:  Review **_Sections 1.4 and 1.5 of the Boyd and Vandenberghe_** text and answer the questions below."
   ]
  },
  {
   "cell_type": "markdown",
   "metadata": {},
   "source": [
    "&#9989;**<font color=red>QUESTION</font>**:   What is the dot product between $u = [ 1, 7, 9, 11]$ and $v = [ 7, 1, 2, 2]$  (Store the information in a variable called ```uv```)?"
   ]
  },
  {
   "cell_type": "code",
   "execution_count": null,
   "metadata": {},
   "outputs": [],
   "source": [
    "#Put your answer to the above question here\n"
   ]
  },
  {
   "cell_type": "code",
   "execution_count": null,
   "metadata": {},
   "outputs": [],
   "source": [
    "from answercheck import checkanswer\n",
    "\n",
    "checkanswer.float(uv,'48044bf058c2d7d21b311b173a0ca7e5');"
   ]
  },
  {
   "cell_type": "markdown",
   "metadata": {},
   "source": [
    "&#9989;**<font color=red>QUESTION</font>**:  What is the norm of vector $u$ defined above (store this value in a variabled called ```n```)?"
   ]
  },
  {
   "cell_type": "code",
   "execution_count": null,
   "metadata": {},
   "outputs": [],
   "source": [
    "#Put your answer to the above question here"
   ]
  },
  {
   "cell_type": "code",
   "execution_count": null,
   "metadata": {},
   "outputs": [],
   "source": [
    "from answercheck import checkanswer\n",
    "\n",
    "checkanswer.float(n,'96078eb552924d7bdb9e67f9ecab88c1');"
   ]
  },
  {
   "cell_type": "markdown",
   "metadata": {},
   "source": [
    "&#9989;**<font color=red>QUESTION</font>**:  What is the distance between points $u$ and $v$ defined above. (put your answer in a variable named ```d```)"
   ]
  },
  {
   "cell_type": "code",
   "execution_count": null,
   "metadata": {},
   "outputs": [],
   "source": [
    "#Put your answer to the above question here"
   ]
  },
  {
   "cell_type": "code",
   "execution_count": null,
   "metadata": {},
   "outputs": [],
   "source": [
    "from answercheck import checkanswer\n",
    "\n",
    "checkanswer.float(d,'71f49beeb28061bc60eb3d9966497416');"
   ]
  },
  {
   "cell_type": "markdown",
   "metadata": {},
   "source": [
    "\n",
    "\n",
    "---\n",
    "<a name=Vector-spaces-in-Rn></a>\n",
    "## 3. Vector spaces in $R^n$\n",
    "\n",
    "\n",
    "There are two properties that define a vector space these are:\n",
    "\n",
    "- Closed under addition\n",
    "- Closed under scalar multiplication \n",
    "\n",
    "For now we will consider vector spaces in $R^n$ which are just vectors of real numbers (ex: [10,20,3.2], [5,8,32], [8,-0.7], etc) where $n$ is just the length of the vector (ex: 3, 3, and 2 in the earlier example). In the general case a vector does not have to be composed of real numbers but can be almost any type of object as long as it maintains the two above properties, we will get into this concept later in the semester. In the case of real number the above concepts can be described as follows:\n",
    "\n",
    "- Closed under addition means that if we add any two real vectors vectors (i.e. $u,v \\in R^n$) then the result is also in $R^n$). This is easy to understand if you think about adding any two real vectors there is no way to get a result that is not also a real vector. A way to say this mathematically is as follows:\n",
    "\n",
    "$$\\text{if } u,v \\in R^n$$\n",
    "$$\\text{then } u+v \\in R^n$$\n",
    "\n",
    "- Closed under scalar multiplication means that if we have any scalar number ($s \\in R$) and we multiply it by a real vector ($v \\in R^n$) then the result is also a vector in $R^n$.  Since multiplying a real number by a real number results in a real number this one is also true. Or we can say it as follows:\n",
    "\n",
    "$$\\text{if } s \\in R \\text{ and } v \\in R^n$$\n",
    "$$\\text{then } sv \\in R^n$$\n",
    "\n",
    "The following are some properties of vector addition and multiplication for vectors $u$ and $v$:\n",
    "\n",
    "1. $u + v = v + u$ Commutative property\n",
    "2. $u + (v + w) = (u + v) + w$ Associative property\n",
    "3. $u+0 = 0 + u = u$ Property of zero vector\n",
    "4. $u + (-u) = 0$ Property of the negative vector\n",
    "5. $c(u+v) = cu + cv$ Distributive properties\n",
    "6. $(c+d)u = cu+du$ Distributive Properties\n",
    "7. $c(du) = (cd)u$ Distributed Properties\n",
    "8. $1u = u$ Scalar multiplication by 1"
   ]
  },
  {
   "cell_type": "markdown",
   "metadata": {},
   "source": [
    "&#9989;**<font color=red>QUESTION</font>**: Compute the following linear combinations for $u = (1,2), v = (4,-1)$, and $w = (-3,5)$.\n",
    "\n",
    "**<font color=red>(a)</font>** $a = u+w$        "
   ]
  },
  {
   "cell_type": "markdown",
   "metadata": {},
   "source": [
    "Put your answer here"
   ]
  },
  {
   "cell_type": "code",
   "execution_count": null,
   "metadata": {},
   "outputs": [],
   "source": [
    "from answercheck import checkanswer\n",
    "\n",
    "checkanswer.vector(a,'af464d466ae982f2cd4461af494e86d6');"
   ]
  },
  {
   "cell_type": "markdown",
   "metadata": {},
   "source": [
    "**<font color=red>(b)</font>** $a = 2u+v$        "
   ]
  },
  {
   "cell_type": "markdown",
   "metadata": {},
   "source": [
    "Put your answer here"
   ]
  },
  {
   "cell_type": "code",
   "execution_count": null,
   "metadata": {},
   "outputs": [],
   "source": [
    "from answercheck import checkanswer\n",
    "\n",
    "checkanswer.vector(a,'393468eff8c6ba5d27b7d0aa1b18f929');"
   ]
  },
  {
   "cell_type": "markdown",
   "metadata": {},
   "source": [
    "**<font color=red>(c)</font>** $a = u+3w$        "
   ]
  },
  {
   "cell_type": "markdown",
   "metadata": {},
   "source": [
    "Put your answer here"
   ]
  },
  {
   "cell_type": "code",
   "execution_count": null,
   "metadata": {},
   "outputs": [],
   "source": [
    "from answercheck import checkanswer\n",
    "\n",
    "checkanswer.vector(a,'d5e5ca43a86501bcde09b1cbc0ba49b5');"
   ]
  },
  {
   "cell_type": "markdown",
   "metadata": {},
   "source": [
    "\n",
    "\n",
    "\n",
    "\n",
    "\n",
    "---\n",
    "<a name=Assignment-wrap-up></a>\n",
    "## 4. Assignment wrap up\n",
    "\n",
    "\n",
    "\n",
    "\n",
    "\n",
    "Please fill out the form that appears when you run the code below.  **You must completely fill this out in order to receive credit for the assignment!**\n",
    "\n",
    "[Direct Link to Google Form](https://cmse.msu.edu/cmse314-pc-survey)\n",
    "\n",
    "\n",
    "If you have trouble with the embedded form, please make sure you log on with your MSU google account at [googleapps.msu.edu](https://googleapps.msu.edu) and then click on the direct link above."
   ]
  },
  {
   "cell_type": "markdown",
   "metadata": {},
   "source": [
    "&#9989; <font color=red>**Assignment-Specific QUESTION:**</font> What is the distance between (4.5, 2.6, 3.3, 4.1) and (4, 3, 2, 1)?"
   ]
  },
  {
   "cell_type": "markdown",
   "metadata": {},
   "source": [
    "Put your answer to the above question here"
   ]
  },
  {
   "cell_type": "markdown",
   "metadata": {},
   "source": [
    "&#9989; <font color=red>**QUESTION:**</font>  Summarize what you did in this assignment."
   ]
  },
  {
   "cell_type": "markdown",
   "metadata": {},
   "source": [
    "Put your answer to the above question here"
   ]
  },
  {
   "cell_type": "markdown",
   "metadata": {},
   "source": [
    "&#9989; <font color=red>**QUESTION:**</font>  What questions do you have, if any, about any of the topics discussed in this assignment after working through the jupyter notebook?"
   ]
  },
  {
   "cell_type": "markdown",
   "metadata": {},
   "source": [
    "Put your answer to the above question here"
   ]
  },
  {
   "cell_type": "markdown",
   "metadata": {},
   "source": [
    "&#9989; <font color=red>**QUESTION:**</font>  How well do you feel this assignment helped you to achieve a better understanding of the above mentioned topic(s)?"
   ]
  },
  {
   "cell_type": "markdown",
   "metadata": {},
   "source": [
    "Put your answer to the above question here"
   ]
  },
  {
   "cell_type": "markdown",
   "metadata": {},
   "source": [
    "&#9989; <font color=red>**QUESTION:**</font> What was the **most** challenging part of this assignment for you? "
   ]
  },
  {
   "cell_type": "markdown",
   "metadata": {},
   "source": [
    "Put your answer to the above question here"
   ]
  },
  {
   "cell_type": "markdown",
   "metadata": {},
   "source": [
    "&#9989; <font color=red>**QUESTION:**</font> What was the **least** challenging part of this assignment for you? "
   ]
  },
  {
   "cell_type": "markdown",
   "metadata": {},
   "source": [
    "Put your answer to the above question here"
   ]
  },
  {
   "cell_type": "markdown",
   "metadata": {},
   "source": [
    "&#9989; <font color=red>**QUESTION:**</font>  What kind of additional questions or support, if any, do you feel you need to have a better understanding of the content in this assignment?"
   ]
  },
  {
   "cell_type": "markdown",
   "metadata": {},
   "source": [
    "Put your answer to the above question here"
   ]
  },
  {
   "cell_type": "markdown",
   "metadata": {},
   "source": [
    "&#9989; <font color=red>**QUESTION:**</font>  Do you have any further questions or comments about this material, or anything else that's going on in class?"
   ]
  },
  {
   "cell_type": "markdown",
   "metadata": {},
   "source": [
    "Put your answer to the above question here"
   ]
  },
  {
   "cell_type": "markdown",
   "metadata": {},
   "source": [
    "&#9989; <font color=red>**QUESTION:**</font> Approximately how long did this pre-class assignment take?"
   ]
  },
  {
   "cell_type": "markdown",
   "metadata": {},
   "source": [
    "Put your answer to the above question here"
   ]
  },
  {
   "cell_type": "code",
   "execution_count": null,
   "metadata": {},
   "outputs": [],
   "source": [
    "from IPython.display import HTML\n",
    "HTML(\n",
    "\"\"\"\n",
    "<iframe \n",
    "\tsrc=\"https://cmse.msu.edu/cmse314-pc-survey\" \n",
    "\twidth=\"100%\" \n",
    "\theight=\"1000px\" \n",
    "\tframeborder=\"0\" \n",
    "\tmarginheight=\"0\" \n",
    "\tmarginwidth=\"0\">\n",
    "\tLoading...\n",
    "</iframe>\n",
    "\"\"\"\n",
    ")"
   ]
  },
  {
   "cell_type": "markdown",
   "metadata": {},
   "source": [
    "---------\n",
    "### Congratulations, we're done!\n",
    "\n",
    "###EndPreClass###"
   ]
  },
  {
   "cell_type": "markdown",
   "metadata": {},
   "source": [
    "### Course Resources:\n",
    "\n",
    "\n",
    "\n",
    "\n"
   ]
  },
  {
   "cell_type": "markdown",
   "metadata": {},
   "source": [
    "Written by Dr. Dirk Colbry, Michigan State University\n",
    "<a rel=\"license\" href=\"http://creativecommons.org/licenses/by-nc/4.0/\"><img alt=\"Creative Commons License\" style=\"border-width:0\" src=\"https://i.creativecommons.org/l/by-nc/4.0/88x31.png\" /></a><br />This work is licensed under a <a rel=\"license\" href=\"http://creativecommons.org/licenses/by-nc/4.0/\">Creative Commons Attribution-NonCommercial 4.0 International License</a>."
   ]
  },
  {
   "cell_type": "markdown",
   "metadata": {},
   "source": [
    "\n"
   ]
  }
 ],
 "metadata": {
  "anaconda-cloud": {},
  "kernelspec": {
   "display_name": "Python 3",
   "language": "python",
   "name": "python3"
  },
  "language_info": {
   "codemirror_mode": {
    "name": "ipython",
    "version": 3
   },
   "file_extension": ".py",
   "mimetype": "text/x-python",
   "name": "python",
   "nbconvert_exporter": "python",
   "pygments_lexer": "ipython3",
   "version": "3.7.6"
  }
 },
 "nbformat": 4,
 "nbformat_minor": 4
}
