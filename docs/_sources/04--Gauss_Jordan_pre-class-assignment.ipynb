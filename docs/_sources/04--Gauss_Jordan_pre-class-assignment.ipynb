{
 "cells": [
  {
   "cell_type": "markdown",
   "metadata": {},
   "source": []
  },
  {
   "cell_type": "markdown",
   "metadata": {},
   "source": [
    "[Link to this document's Jupyter Notebook](04--Gauss_Jordan_pre-class-assignment.ipynb)"
   ]
  },
  {
   "cell_type": "markdown",
   "metadata": {},
   "source": [
    "###StartPreClass###"
   ]
  },
  {
   "cell_type": "markdown",
   "metadata": {},
   "source": [
    "# 04 Pre-Class Assignment: Python Linear Algebra Packages\n",
    "\n"
   ]
  },
  {
   "cell_type": "markdown",
   "metadata": {},
   "source": [
    "### Recommended further readings for this pre-class assignment.\n",
    "\n",
    "* **_[Beezer - Section RREF pg 22-44](http://linear.ups.edu/download/fcla-3.50-tablet.pdf)_**\n",
    "* [Heffron - Chapter 1.I, pg 2-13](http://joshua.smcvt.edu/linearalgebra/book.pdf)\n"
   ]
  },
  {
   "cell_type": "markdown",
   "metadata": {},
   "source": [
    "---\n",
    "### Assignment Overview\n",
    "1. [The Syntax for Systems of Linear Equations](#The-Syntax-for-Systems-of-Linear-Equations)\n",
    "2. [Introduction to Gauss Jordan Elimination](#Introduction-to-Gauss-Jordan-Elimination)\n",
    "3. [ Gauss Jordan Elimination and the Row Echelon Form](#-Gauss-Jordan-Elimination-and-the-Row-Echelon-Form)\n",
    "4. [Gauss Jordan Practice](#Gauss-Jordan-Practice)\n",
    "5. [Assignment wrap up](#Assignment-wrap-up)\n",
    "\n"
   ]
  },
  {
   "cell_type": "markdown",
   "metadata": {},
   "source": [
    "\n",
    "\n",
    "\n",
    "---\n",
    "<a name=The-Syntax-for-Systems-of-Linear-Equations></a>\n",
    "## 1. The Syntax for Systems of Linear Equations\n",
    "\n",
    "\n",
    "\n",
    "\n",
    "The following video explains the different syntax we use to describe linear systems."
   ]
  },
  {
   "cell_type": "code",
   "execution_count": null,
   "metadata": {},
   "outputs": [],
   "source": [
    "from IPython.display import YouTubeVideo\n",
    "YouTubeVideo(\"AQJeOg4ZoIk\",width=640,height=360, cc_load_policy=True)"
   ]
  },
  {
   "cell_type": "markdown",
   "metadata": {},
   "source": [
    "The following is a summary of the syntax shown in the video:"
   ]
  },
  {
   "cell_type": "markdown",
   "metadata": {},
   "source": [
    "### Linear Equation $$b = a_1x_1+a_2x_2+a_3x_3 + \\ldots a_nx_n$$"
   ]
  },
  {
   "cell_type": "markdown",
   "metadata": {},
   "source": [
    "### System of linear equations\n",
    "$$b_1 = a_{11}x_1+a_{12}x_2+a_{13}x_3 + \\ldots a_{1n}$$\n",
    "$$b_2 = a_{21}x_1+a_{22}x_2+a_{23}x_3 + \\ldots a_{2n}$$\n",
    "$$b_3 = a_{31}x_1+a_{32}x_2+a_{33}x_3 + \\ldots a_{3n}$$\n",
    "$$\\vdots$$\n",
    "$$b_m = a_{m1}x_1+a_{m2}x_2+a_{m3}x_3 + \\ldots a_{mn}$$"
   ]
  },
  {
   "cell_type": "markdown",
   "metadata": {},
   "source": [
    "### System of linear equations (Matrix format)"
   ]
  },
  {
   "cell_type": "markdown",
   "metadata": {},
   "source": [
    "$$ \n",
    "\\left[ \n",
    "\\begin{matrix}\n",
    "    b_1 \\\\ \n",
    "    b_2 \\\\\n",
    "    b_3 \\\\\n",
    "    \\vdots \\\\\n",
    "    b_m\n",
    " \\end{matrix}\n",
    "\\right] \n",
    "=\n",
    "\\left[ \n",
    "\\begin{matrix}\n",
    " a_{11} & a_{12} & a_{13} &   & a_{1n} \\\\ \n",
    " a_{21} & a_{22} & a_{23} &  \\ldots & a_{2n} \\\\ \n",
    "  a_{31} & a_{32} & a_{33} &   & a_{3n} \\\\ \n",
    "  & \\vdots &   & \\ddots & \\vdots \\\\ \n",
    " a_{m1} & a_{m2} & a_{m3} &   & a_{mn} \n",
    "\\end{matrix}\n",
    "\\right] \n",
    "\\left[ \n",
    "\\begin{matrix}\n",
    "    x_1 \\\\ \n",
    "    x_2 \\\\\n",
    "    x_3 \\\\\n",
    "    \\vdots \\\\\n",
    "    x_m\n",
    "\\end{matrix}\n",
    "\\right] $$\n",
    "\n",
    "$$b=Ax$$"
   ]
  },
  {
   "cell_type": "markdown",
   "metadata": {},
   "source": [
    "### System of linear equations (Augmented Form)\n",
    "$$ \n",
    "\\left[ \n",
    "\\begin{matrix}\n",
    " a_{11} & a_{12} & a_{13} &   & a_{1n} \\\\ \n",
    " a_{21} & a_{22} & a_{23} &  \\ldots & a_{2n} \\\\ \n",
    "  a_{31} & a_{32} & a_{33} &   & a_{3n} \\\\ \n",
    "  & \\vdots &   & \\ddots & \\vdots \\\\ \n",
    " a_{m1} & a_{m2} & a_{m3} &   & a_{mn} \n",
    "\\end{matrix}\n",
    " \\, \\middle\\vert \\,\n",
    "\\begin{matrix}\n",
    "    b_1 \\\\ \n",
    "    b_2 \\\\\n",
    "    b_3 \\\\\n",
    "    \\vdots \\\\\n",
    "    b_m\n",
    "\\end{matrix}\n",
    "\\right] \n",
    "$$"
   ]
  },
  {
   "cell_type": "markdown",
   "metadata": {},
   "source": [
    "\n",
    "\n",
    "---\n",
    "<a name=Introduction-to-Gauss-Jordan-Elimination></a>\n",
    "## 1. Introduction to Gauss Jordan Elimination\n",
    "\n",
    "\n",
    "The following elementary row operations\n",
    "1. Interchange two rows of a matrix\n",
    "2. Multiply the elements of a row by a nonzero constant\n",
    "3. Add a multiple of the elements of one row to the corresponding elements of another"
   ]
  },
  {
   "cell_type": "code",
   "execution_count": null,
   "metadata": {},
   "outputs": [],
   "source": [
    "from IPython.display import YouTubeVideo\n",
    "YouTubeVideo(\"iGmtmF_hm2g\",width=640,height=360, cc_load_policy=True)"
   ]
  },
  {
   "cell_type": "markdown",
   "metadata": {},
   "source": [
    "Consider the element $a_{2,1}$ in the following $A$ Matrix.  \n",
    "$$ \n",
    "A = \\left[\n",
    "\\begin{matrix}\n",
    "    1 & 1 \\\\ \n",
    "    20 & 25  \n",
    " \\end{matrix}\n",
    " \\, \\middle\\vert \\,\n",
    "\\begin{matrix}\n",
    " 30 \\\\ \n",
    " 690\n",
    "\\end{matrix}\n",
    "\\right] \n",
    "$$"
   ]
  },
  {
   "cell_type": "markdown",
   "metadata": {},
   "source": [
    "&#9989; **<font color=red>QUESTION:</font>** : Describe an elementary row operation that could be used to make element $a_{(2,1)}$ zero?  "
   ]
  },
  {
   "cell_type": "markdown",
   "metadata": {},
   "source": [
    "Put your answer here. "
   ]
  },
  {
   "cell_type": "markdown",
   "metadata": {},
   "source": [
    "&#9989; **<font color=red>QUESTION:</font>** : What is the new matrix given the above row operation.  "
   ]
  },
  {
   "cell_type": "markdown",
   "metadata": {},
   "source": [
    "Modify the contents of this cell and put your answer to the above question here.  \n",
    "$$ \n",
    "A = \\left[\n",
    "\\begin{matrix}\n",
    "    1 & 1 \\\\ \n",
    "    0 & ??  \n",
    " \\end{matrix}\n",
    " \\, \\middle\\vert \\,\n",
    "\\begin{matrix}\n",
    " 30 \\\\ \n",
    " ??\n",
    "\\end{matrix}\n",
    "\\right] \n",
    "$$\n",
    "\n",
    "\n",
    "\n",
    "**Hint**, we are using a formating language called Latex to display the above matrix. You should just be able to replace the ?? with your new numbers. If you can't figure out what is going on, try searching the web with \"latex math and matrix.\" If it still doesn't make sense, format your answer in another way that will be clear to understand by the you and the instructor."
   ]
  },
  {
   "cell_type": "markdown",
   "metadata": {},
   "source": [
    "The following function is a basic implementation of the Gauss-Jorden algorithm to an (m,m+1) augmented matrix:"
   ]
  },
  {
   "cell_type": "markdown",
   "metadata": {},
   "source": [
    "\n",
    "<a name=-Gauss-Jordan-Elimination-and-the-Row-Echelon-Form></a>\n",
    "## 2.  Gauss Jordan Elimination and the Row Echelon Form\n",
    "\n"
   ]
  },
  {
   "cell_type": "code",
   "execution_count": null,
   "metadata": {},
   "outputs": [],
   "source": [
    "from IPython.display import YouTubeVideo\n",
    "YouTubeVideo(\"v6RstFsrTJY\",width=640,height=360, cc_load_policy=True)"
   ]
  },
  {
   "cell_type": "markdown",
   "metadata": {},
   "source": [
    "The above video left out a special case for Reduced Row Echelon form. There can be non-zero elements in columns that do not have a leading one. For example, All of the following are in Reduced Row Echelon form:\n",
    "\n",
    "$$ \n",
    "\\left[\n",
    "\\begin{matrix}\n",
    "    1 & 2 & 0 & 3 & 0 & 4 \\\\ \n",
    "    0 & 0 & 1 & 2 & 0 & 7 \\\\ \n",
    "    0 & 0 & 0 & 0 & 1 & 6 \\\\ \n",
    "    0 & 0 & 0 & 0 & 0 & 0  \n",
    "\\end{matrix}\n",
    "\\right] \n",
    "$$\n",
    "\n",
    "\n",
    "$$ \n",
    "\\left[\n",
    "\\begin{matrix}\n",
    "    1 & 2 & 0 & 0 & 4 \\\\ \n",
    "    0 & 0 & 1 & 0 & 6 \\\\ \n",
    "    0 & 0 & 0 & 1 & 5   \n",
    "\\end{matrix}\n",
    "\\right] \n",
    "$$"
   ]
  },
  {
   "cell_type": "markdown",
   "metadata": {},
   "source": [
    "&#9989; **<font color=red>QUESTION:</font>** : What are the three steps in the Gauss-Jordan Elimination algorithm?"
   ]
  },
  {
   "cell_type": "markdown",
   "metadata": {},
   "source": [
    " Put your answer here. "
   ]
  },
  {
   "cell_type": "markdown",
   "metadata": {},
   "source": [
    "\n",
    "\n",
    "---\n",
    "<a name=Gauss-Jordan-Practice></a>\n",
    "## 3. Gauss Jordan Practice\n",
    "\n",
    "\n",
    "\n",
    "\n",
    "&#9989; **<font color=red>DO THIS:</font>**: Solve the following system of linear equations using the Gauss-Jordan algorithm.  Try to do this before watching the video!\n",
    "\n",
    "$$x_1 + x_3 = 3$$\n",
    "$$2x_2 - 2x_3 = -4$$\n",
    "$$x_2 - 2x_3 = 5$$"
   ]
  },
  {
   "cell_type": "markdown",
   "metadata": {},
   "source": [
    "Put your answer here"
   ]
  },
  {
   "cell_type": "markdown",
   "metadata": {},
   "source": [
    "In the following video, we solve the same set of linear equations. Watch the video after trying to do this on your own.  It is provided here in case you get stuck.  "
   ]
  },
  {
   "cell_type": "code",
   "execution_count": null,
   "metadata": {},
   "outputs": [],
   "source": [
    "from IPython.display import YouTubeVideo\n",
    "YouTubeVideo(\"xT16yIVw_KE\",width=640,height=360, cc_load_policy=True)"
   ]
  },
  {
   "cell_type": "markdown",
   "metadata": {},
   "source": [
    "&#9989; **<font color=red>QUESTION:</font>**: Something was unclear in the above videos.  Describe the difference between a matrix in \"row echelon\" form and \"reduced row echelon\" form. "
   ]
  },
  {
   "cell_type": "markdown",
   "metadata": {},
   "source": [
    "**_Put your answer to the above question here_**"
   ]
  },
  {
   "cell_type": "markdown",
   "metadata": {},
   "source": [
    "\n",
    "---\n",
    "<a name=Assignment-wrap-up></a>\n",
    "## 4. Assignment wrap up\n",
    "\n",
    "\n",
    "\n",
    "Please fill out the form that appears when you run the code below.  **You must completely fill this out in order to receive credit for the assignment!**\n",
    "\n",
    "[Direct Link to Google Form](https://cmse.msu.edu/cmse314-pc-survey)\n",
    "\n",
    "\n",
    "If you have trouble with the embedded form, please make sure you log on with your MSU google account at [googleapps.msu.edu](https://googleapps.msu.edu) and then click on the direct link above."
   ]
  },
  {
   "cell_type": "markdown",
   "metadata": {},
   "source": [
    "&#9989; **<font color=red>Assignment-Specific QUESTION:</font>**  Describe the difference between a matrix in \"row echelon\" form and \"reduced row echelon\" form."
   ]
  },
  {
   "cell_type": "markdown",
   "metadata": {},
   "source": [
    "Put your answer to the above question here"
   ]
  },
  {
   "cell_type": "markdown",
   "metadata": {},
   "source": [
    "&#9989; **<font color=red>QUESTION:</font>**   Summarize what you did in this assignment."
   ]
  },
  {
   "cell_type": "markdown",
   "metadata": {},
   "source": [
    "Put your answer to the above question here"
   ]
  },
  {
   "cell_type": "markdown",
   "metadata": {},
   "source": [
    "&#9989; **<font color=red>QUESTION:</font>**   What questions do you have, if any, about any of the topics discussed in this assignment after working through the jupyter notebook?"
   ]
  },
  {
   "cell_type": "markdown",
   "metadata": {},
   "source": [
    "Put your answer to the above question here"
   ]
  },
  {
   "cell_type": "markdown",
   "metadata": {},
   "source": [
    "&#9989; **<font color=red>QUESTION:</font>**   How well do you feel this assignment helped you to achieve a better understanding of the above mentioned topic(s)?"
   ]
  },
  {
   "cell_type": "markdown",
   "metadata": {},
   "source": [
    "Put your answer to the above question here"
   ]
  },
  {
   "cell_type": "markdown",
   "metadata": {},
   "source": [
    "&#9989; **<font color=red>QUESTION:</font>**  What was the **most** challenging part of this assignment for you? "
   ]
  },
  {
   "cell_type": "markdown",
   "metadata": {},
   "source": [
    "Put your answer to the above question here"
   ]
  },
  {
   "cell_type": "markdown",
   "metadata": {},
   "source": [
    "&#9989; **<font color=red>QUESTION:</font>**  What was the **least** challenging part of this assignment for you? "
   ]
  },
  {
   "cell_type": "markdown",
   "metadata": {},
   "source": [
    "Put your answer to the above question here"
   ]
  },
  {
   "cell_type": "markdown",
   "metadata": {},
   "source": [
    "&#9989; **<font color=red>QUESTION:</font>**  What kind of additional questions or support, if any, do you feel you need to have a better understanding of the content in this assignment?"
   ]
  },
  {
   "cell_type": "markdown",
   "metadata": {},
   "source": [
    "Put your answer to the above question here"
   ]
  },
  {
   "cell_type": "markdown",
   "metadata": {},
   "source": [
    "&#9989; **<font color=red>QUESTION:</font>**  Do you have any further questions or comments about this material, or anything else that's going on in class?"
   ]
  },
  {
   "cell_type": "markdown",
   "metadata": {},
   "source": [
    "Put your answer to the above question here"
   ]
  },
  {
   "cell_type": "markdown",
   "metadata": {},
   "source": [
    "&#9989; **<font color=red>QUESTION:</font>** Approximately how long did this pre-class assignment take?"
   ]
  },
  {
   "cell_type": "markdown",
   "metadata": {},
   "source": [
    "Put your answer to the above question here"
   ]
  },
  {
   "cell_type": "code",
   "execution_count": null,
   "metadata": {},
   "outputs": [],
   "source": [
    "from IPython.display import HTML\n",
    "HTML(\n",
    "\"\"\"\n",
    "<iframe \n",
    "\tsrc=\"https://cmse.msu.edu/cmse314-pc-survey\" \n",
    "\twidth=\"100%\" \n",
    "\theight=\"1000px\" \n",
    "\tframeborder=\"0\" \n",
    "\tmarginheight=\"0\" \n",
    "\tmarginwidth=\"0\">\n",
    "\tLoading...\n",
    "</iframe>\n",
    "\"\"\"\n",
    ")"
   ]
  },
  {
   "cell_type": "markdown",
   "metadata": {},
   "source": [
    "\n"
   ]
  }
 ],
 "metadata": {
  "kernelspec": {
   "display_name": "Python 3",
   "language": "python",
   "name": "python3"
  },
  "language_info": {
   "codemirror_mode": {
    "name": "ipython",
    "version": 3
   },
   "file_extension": ".py",
   "mimetype": "text/x-python",
   "name": "python",
   "nbconvert_exporter": "python",
   "pygments_lexer": "ipython3",
   "version": "3.7.6"
  }
 },
 "nbformat": 4,
 "nbformat_minor": 4
}
