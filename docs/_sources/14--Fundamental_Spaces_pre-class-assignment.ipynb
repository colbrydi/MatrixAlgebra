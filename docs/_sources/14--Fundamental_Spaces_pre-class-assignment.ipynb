{
 "cells": [
  {
   "cell_type": "markdown",
   "metadata": {},
   "source": []
  },
  {
   "cell_type": "markdown",
   "metadata": {},
   "source": [
    "# 14 Pre-Class Assignment: Fundamental Spaces\n",
    "\n",
    "\n",
    "<img alt=\"Classic picture of the four fundamental spaces. Please see text for detailed description.\" src=\"https://kevinbinz.files.wordpress.com/2017/02/linear-algebra-fundamental-space-interpretation-6.png\" width=\"100%\">\n",
    "\n",
    "\n",
    "Image from: https://kevinbinz.com/2017/02/20/linear-algebra/"
   ]
  },
  {
   "cell_type": "markdown",
   "metadata": {},
   "source": [
    "### Readings for this topic (Recommended in bold)\n",
    " * [**_Heffron Section VI.3 pg 277-283_**](http://joshua.smcvt.edu/linearalgebra/book.pdf)\n"
   ]
  },
  {
   "cell_type": "markdown",
   "metadata": {},
   "source": [
    "\n",
    "### Goals for today's pre-class assignment \n",
    "\n",
    "1. [Orthogonal Complement](#Orthogonal_Complement)\n",
    "1. [The Four Fundamental Spaces](#The_Four_Fundamental_Spaces)\n",
    "1. [Independent Learning](#Independent_Learning)\n",
    "1. [Assignment wrap-up](#Assignment_wrap-up)"
   ]
  },
  {
   "cell_type": "markdown",
   "metadata": {},
   "source": [
    "----\n",
    "<a name=\"Orthogonal_Complement\"></a>\n",
    "## 1. Orthogonal Complement\n",
    "\n",
    "**Definition**: A vector $u$ is **orthogonal to a subspace** $W$ of $R^n$ if $u$ is orthogonal to any $w$ in $W$ ($u\\cdot w=0$ for all $w\\in W$).\n",
    "\n",
    "For example, consider the following figure, if we consider the plane to be a subspace then the perpendicular vector comming out of the plane is is orthoginal to any vector in the plane:\n",
    "\n",
    "<img alt=\"Image of a 2D plane with a vector pointing directly out of the surface.\" src=\"https://lh5.googleusercontent.com/KC1bkJgC9ihevnOCqeMn_efEdkvgcx5TeBkEVYniwo7T_KxmBu76irZKluAj5PNor9SWdCg4RMS6BZDpNSJOmmz6l6cY0mEc5pq6iR9Qu8AzvWb12lgOO-YUBqiu=w416\">\n",
    "\n",
    "**Definition**: The **orthogonal complement** of $W$ is the set of all vectors that are orthogonal to $W$. The set is denoted as $W_{\\bot}$. "
   ]
  },
  {
   "cell_type": "markdown",
   "metadata": {},
   "source": [
    "&#9989; **<font color=red>QUESTION:</font>** Is $W_\\bot$ a subspace of $R^n$? Justify your answer briefly."
   ]
  },
  {
   "cell_type": "markdown",
   "metadata": {},
   "source": [
    "Put your answer to the above question here"
   ]
  },
  {
   "cell_type": "markdown",
   "metadata": {},
   "source": [
    "&#9989; **<font color=red>QUESTION:</font>** What are the vectors in both $W$ and $W_\\bot$?"
   ]
  },
  {
   "cell_type": "markdown",
   "metadata": {},
   "source": [
    "Put your answer to the above question here"
   ]
  },
  {
   "cell_type": "code",
   "execution_count": null,
   "metadata": {},
   "outputs": [],
   "source": [
    "from IPython.display import YouTubeVideo\n",
    "YouTubeVideo(\"5B8XluiqdHM\",width=640,height=360, cc_load_policy=True)"
   ]
  },
  {
   "cell_type": "markdown",
   "metadata": {},
   "source": [
    "### Projection of a Vector onto a Subspace\n",
    "\n",
    "Think of a projection onto a subspace is analogous to a shadow on a surface.  Aspects of an objects 3D space is represented in a 2D shadow but you can't take the shadow by itself and exactly recreate the 3D surface. \n",
    "\n",
    "<img alt=\"Picture of a hand shadow puppet of a bird.  Used to represent a projection\" src=\"https://upload.wikimedia.org/wikipedia/commons/f/f5/Hand_shadow_bird.jpg\" width=30%>\n",
    "\n",
    "Image from https://commons.wikimedia.org\n",
    "\n",
    "The following is the matimatical defination of projection onto a subspace.\n",
    "\n",
    "**Definition**: Let $W$ be a subspace of $R^n$ of dimension $m$. Let $\\{w_1,\\cdots,w_m\\}$ be an orthonormal basis for $W$. Then the projection of vector $v$ in $R^n$ onto $W$ is denoted as $\\mbox{proj}_Wv$ and is defined as \n",
    "$$\\mbox{proj}_Wv = (v\\cdot w_1)w_1+(v\\cdot w_2)w_2+\\cdots+(v\\cdot w_m)w_m$$\n",
    "\n",
    "\n",
    "Another way to say the above defination is that the project of $v$ onto the $W$ is just the sumation of $v$ projected onto each vector in a basis of $W$\n",
    "\n",
    "\n",
    "**Remarks**: \n",
    "> Recall in the lecture on *Projections*, we discussed the projection onto a vector, which is the case for $m=1$. We used the projection for $m>1$ in the Gram-Schmidt algorithm. \n",
    "\n",
    "> The projection does not depend on which orthonormal basis you choose. \n",
    "\n",
    "> If $v$ is in $W$, we have $\\mbox{proj}_Wv=v$."
   ]
  },
  {
   "cell_type": "markdown",
   "metadata": {},
   "source": [
    "### The Orthogonal Decomposition Theorem\n",
    "**Theorem**: Let $W$ be a subspace of $R^n$. Every vector $v$ in $R^n$ can be written uniquely in the form \n",
    "$$v= w+w_{\\bot},$$\n",
    "where $w$ is in $W$ and $w_\\bot$ is orthogonal to $W$ (i.e., $w_\\bot$ is in $W_\\bot$). \n",
    "In addition, $w=\\mbox{proj}_Wv$, and $w_\\bot = v-\\mbox{proj}_Wv$.\n",
    "\n",
    "**Definition**: Let $x$ be a point in $R^n$, $W$ be a subspace of $R^n$. The distance from $x$ to $W$ is defined to be the minimum of the distances from $x$ to any point $y$ in $W$.\n",
    "$$d(x,W)=\\min \\{\\|x-y\\|: \\mbox{ for all }y \\mbox{ in } W\\}.$$\n",
    "The optimal $y$ can be achieved at $\\mbox{proj}_Wx$, and $d(x,W)=\\|x-\\mbox{proj}_Wx\\|$."
   ]
  },
  {
   "cell_type": "markdown",
   "metadata": {},
   "source": [
    "&#9989; **<font color=red>QUESTION:</font>** Let $v=(3, 2, 6)$ and $W$ is the subspace consisting all vectors with the form $(a, b, b)$. Find the projection of $v$ onto $W$."
   ]
  },
  {
   "cell_type": "markdown",
   "metadata": {},
   "source": [
    "Put your answer to the above question here"
   ]
  },
  {
   "cell_type": "markdown",
   "metadata": {},
   "source": [
    "&#9989; **<font color=red>QUESTION:</font>** Let $v=(3, 2, 6)$ and $W$ is the subspace consisting all vectors with the form $(a, b, b)$. Find the distance from $v$ to $W$."
   ]
  },
  {
   "cell_type": "markdown",
   "metadata": {},
   "source": [
    "Put your answer to the above question here"
   ]
  },
  {
   "cell_type": "markdown",
   "metadata": {},
   "source": [
    "---\n",
    "<a name=\"The_Four_Fundamental_Spaces\"></a>\n",
    "\n",
    "## 2. The Four Fundamental Spaces\n",
    "In the lecture on *Change Basis*, we talked about four subspaces based on a matrix $A$: \n",
    "> *Row space of $A$*: linear combination of all rows of $A$\n",
    "\n",
    "> *Column space of $A$*: linear combination of all columns of $A$\n",
    "\n",
    "> *Null space or kernel of $A$*: all $x$ such that $Ax=0$\n",
    "\n",
    "> *Null space of $A^\\top$*: all $y$ such that $A^\\top y =0$\n",
    "\n",
    "\n",
    "\n",
    "\n",
    "In this course we represent a system of linear equations as $Ax=b$. \n",
    "The matrix $A$ can be viewed as taking a point $x$ in the input space and projecting that point to $b$ in the output space.  \n",
    "\n",
    "\n",
    "It turns out, everything we need to know about $A$ is represented by four fundamental vector spaces.  Two of the four spaces are easily defined as follows:\n",
    "\n",
    "> *Row space of $A$*: linear combination of all rows of $A$\n",
    "\n",
    "> *Column space of $A$*: linear combination of all columns of $A$\n",
    "\n",
    "The other two fundamental spaces are defined by a concept called the *Null Space*. \n",
    "The *Null space* is calculated by finding all the solutions to the homogeneous system $Ax=0$. The final two fundamental spaces are defined as follows:\n",
    "\n",
    "> *Null space or kernel of $A$*: all $x$ such that $Ax=0$\n",
    "\n",
    "> *Null space of $A^\\top$*: all $y$ such that $A^\\top y =0$"
   ]
  },
  {
   "cell_type": "markdown",
   "metadata": {},
   "source": [
    "----\n",
    "\n",
    "<a name=\"Independent_Learning\"></a>\n",
    "## 3. Independent Learning\n",
    "\n",
    "&#9989; **<font color=red>DO THIS:</font>** Find a YouTube video that helps you understand the four fundamental spaces.  \n",
    "\n",
    "&#9989; **<font color=red>QUESTION:</font>** What is the URL for your video? "
   ]
  },
  {
   "cell_type": "markdown",
   "metadata": {},
   "source": [
    "Put your answer to the above question here"
   ]
  },
  {
   "cell_type": "markdown",
   "metadata": {},
   "source": [
    "&#9989; **<font color=red>DO THIS:</font>**  Add the link to the video to the code below. Try embedding the link in the provided Python YouTubeVideo Function by replacing XXXXX with the video ID."
   ]
  },
  {
   "cell_type": "code",
   "execution_count": null,
   "metadata": {},
   "outputs": [],
   "source": [
    "from IPython.display import YouTubeVideo\n",
    "YouTubeVideo(\"XXXXXX\",width=640,height=360, cc_load_policy=1)"
   ]
  },
  {
   "cell_type": "markdown",
   "metadata": {},
   "source": [
    "&#9989; **<font color=red>QUESTION:</font>** What criteria did you use in selecting your video?"
   ]
  },
  {
   "cell_type": "markdown",
   "metadata": {},
   "source": [
    "Put your answer to the above question here"
   ]
  },
  {
   "cell_type": "markdown",
   "metadata": {},
   "source": [
    "&#9989; **<font color=red>QUESTION:</font>** How long into a video did you go before deciding if it was good or bad?"
   ]
  },
  {
   "cell_type": "markdown",
   "metadata": {},
   "source": [
    "Put your answer to the above question here"
   ]
  },
  {
   "cell_type": "markdown",
   "metadata": {},
   "source": [
    "&#9989; **<font color=red>QUESTION:</font>** What did you like about the video you selected."
   ]
  },
  {
   "cell_type": "markdown",
   "metadata": {},
   "source": [
    "Put your answer to the above question here"
   ]
  },
  {
   "cell_type": "markdown",
   "metadata": {},
   "source": [
    "&#9989; **<font color=red>QUESTION:</font>** What didn't you like about the video?"
   ]
  },
  {
   "cell_type": "markdown",
   "metadata": {},
   "source": [
    "Put your answer to the above question here"
   ]
  },
  {
   "cell_type": "markdown",
   "metadata": {},
   "source": [
    "----\n",
    "\n",
    "<a name=\"Assignment_wrap-up\"></a>\n",
    "## 4. Assignment_wrap-up\n",
    "\n",
    "Please fill out the form that appears when you run the code below.  **You must completely fill this out in order to receive credit for the assignment!**\n",
    "\n",
    "[Direct Link to Google Form](https://cmse.msu.edu/cmse314-pc-survey)\n",
    "\n",
    "\n",
    "If you have trouble with the embedded form, please make sure you log on with your MSU google account at [googleapps.msu.edu](https://googleapps.msu.edu) and then click on the direct link above."
   ]
  },
  {
   "cell_type": "markdown",
   "metadata": {},
   "source": [
    "&#9989; **<font color=red>Assignment-Specific QUESTION:</font>** What is the URL for your video for the four Fundamental spaces? "
   ]
  },
  {
   "cell_type": "markdown",
   "metadata": {},
   "source": [
    "Put your answer to the above question here"
   ]
  },
  {
   "cell_type": "markdown",
   "metadata": {},
   "source": [
    "&#9989; **<font color=red>QUESTION:</font>**  Summarize what you did in this assignment."
   ]
  },
  {
   "cell_type": "markdown",
   "metadata": {},
   "source": [
    "Put your answer to the above question here"
   ]
  },
  {
   "cell_type": "markdown",
   "metadata": {},
   "source": [
    "&#9989; **<font color=red>QUESTION:</font>**  What questions do you have, if any, about any of the topics discussed in this assignment after working through the jupyter notebook?"
   ]
  },
  {
   "cell_type": "markdown",
   "metadata": {},
   "source": [
    "Put your answer to the above question here"
   ]
  },
  {
   "cell_type": "markdown",
   "metadata": {},
   "source": [
    "&#9989; **<font color=red>QUESTION:</font>**  How well do you feel this assignment helped you to achieve a better understanding of the above mentioned topic(s)?"
   ]
  },
  {
   "cell_type": "markdown",
   "metadata": {},
   "source": [
    "Put your answer to the above question here"
   ]
  },
  {
   "cell_type": "markdown",
   "metadata": {},
   "source": [
    "&#9989; **<font color=red>QUESTION:</font>** What was the **most** challenging part of this assignment for you? "
   ]
  },
  {
   "cell_type": "markdown",
   "metadata": {},
   "source": [
    "Put your answer to the above question here"
   ]
  },
  {
   "cell_type": "markdown",
   "metadata": {},
   "source": [
    "&#9989; **<font color=red>QUESTION:</font>** What was the **least** challenging part of this assignment for you? "
   ]
  },
  {
   "cell_type": "markdown",
   "metadata": {},
   "source": [
    "Put your answer to the above question here"
   ]
  },
  {
   "cell_type": "markdown",
   "metadata": {},
   "source": [
    "&#9989; **<font color=red>QUESTION:</font>**  What kind of additional questions or support, if any, do you feel you need to have a better understanding of the content in this assignment?"
   ]
  },
  {
   "cell_type": "markdown",
   "metadata": {},
   "source": [
    "Put your answer to the above question here"
   ]
  },
  {
   "cell_type": "markdown",
   "metadata": {},
   "source": [
    "&#9989; **<font color=red>QUESTION:</font>**  Do you have any further questions or comments about this material, or anything else that's going on in class?"
   ]
  },
  {
   "cell_type": "markdown",
   "metadata": {},
   "source": [
    "Put your answer to the above question here"
   ]
  },
  {
   "cell_type": "markdown",
   "metadata": {},
   "source": [
    "&#9989; **<font color=red>QUESTION:</font>** Approximately how long did this pre-class assignment take?"
   ]
  },
  {
   "cell_type": "markdown",
   "metadata": {},
   "source": [
    "Put your answer to the above question here"
   ]
  },
  {
   "cell_type": "code",
   "execution_count": null,
   "metadata": {},
   "outputs": [],
   "source": [
    "from IPython.display import HTML\n",
    "HTML(\n",
    "\"\"\"\n",
    "<iframe \n",
    "\tsrc=\"https://cmse.msu.edu/cmse314-pc-survey\" \n",
    "\twidth=\"100%\" \n",
    "\theight=\"1000px\" \n",
    "\tframeborder=\"0\" \n",
    "\tmarginheight=\"0\" \n",
    "\tmarginwidth=\"0\">\n",
    "\tLoading...\n",
    "</iframe>\n",
    "\"\"\"\n",
    ")"
   ]
  },
  {
   "cell_type": "markdown",
   "metadata": {},
   "source": [
    "\n"
   ]
  }
 ],
 "metadata": {
  "anaconda-cloud": {},
  "kernelspec": {
   "display_name": "Python 3",
   "language": "python",
   "name": "python3"
  },
  "language_info": {
   "codemirror_mode": {
    "name": "ipython",
    "version": 3
   },
   "file_extension": ".py",
   "mimetype": "text/x-python",
   "name": "python",
   "nbconvert_exporter": "python",
   "pygments_lexer": "ipython3",
   "version": "3.7.6"
  }
 },
 "nbformat": 4,
 "nbformat_minor": 4
}
