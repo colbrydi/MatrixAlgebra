{
 "cells": [
  {
   "cell_type": "markdown",
   "metadata": {},
   "source": []
  },
  {
   "cell_type": "markdown",
   "metadata": {},
   "source": [
    "# 11 Pre-Class Assignment: Vector Spaces"
   ]
  },
  {
   "cell_type": "markdown",
   "metadata": {},
   "source": [
    "### Readings for this topic (Recommended in bold)\n",
    " * [**_Heffron Chapter  2 II pg 77-86_**](http://joshua.smcvt.edu/linearalgebra/book.pdf)\n",
    " * [Beezer Chapter VS pg 257-269](http://linear.ups.edu/download/fcla-3.50-tablet.pdf)\n"
   ]
  },
  {
   "cell_type": "markdown",
   "metadata": {},
   "source": [
    "### Goals for today's pre-class assignment \n",
    "\n",
    "1. [Basis Vectors](#Basis_Vectors)\n",
    "1. [Vector Spaces](#Vector_Spaces)\n",
    "1. [Lots of Things Can Be Vector Spaces](#Examples)\n",
    "1. [Assignment Wrap-up](#Assignment_Wrap-up)"
   ]
  },
  {
   "cell_type": "markdown",
   "metadata": {},
   "source": [
    "----\n",
    "<a name=\"Basis_Vectors\"></a>\n",
    "## 1. Basis Vectors\n",
    "\n",
    "Below is a really good review of concepts such as: Linear combinatins, span, and basis vectors. "
   ]
  },
  {
   "cell_type": "code",
   "execution_count": null,
   "metadata": {},
   "outputs": [],
   "source": [
    "from IPython.display import YouTubeVideo\n",
    "YouTubeVideo(\"k7RM-ot2NWY\",width=640,height=360, cc_load_policy=True)"
   ]
  },
  {
   "cell_type": "markdown",
   "metadata": {},
   "source": [
    "&#9989; **<font color=red>QUESTION:</font>** What is the **technical definition** of a basis?"
   ]
  },
  {
   "cell_type": "markdown",
   "metadata": {},
   "source": [
    "Put your answer to the above question here"
   ]
  },
  {
   "cell_type": "markdown",
   "metadata": {},
   "source": [
    "&#9989; **<font color=red>QUESTION:</font>** Write three basis vectors that span $R^3$.\n"
   ]
  },
  {
   "cell_type": "markdown",
   "metadata": {},
   "source": [
    "Put your answer to the above question here"
   ]
  },
  {
   "cell_type": "markdown",
   "metadata": {},
   "source": [
    "From the above video two terms we want you to really understand _**Span**_ and **_Linear Independent_**. Understanding these two will be really important when you think about basis.  Make sure you watch the video and try to answer the following questions as best you can using your own words.  "
   ]
  },
  {
   "cell_type": "markdown",
   "metadata": {},
   "source": [
    "&#9989; **<font color=red>QUESTION:</font>** Describe what it means for vectors to _**Span**_ a space?\n"
   ]
  },
  {
   "cell_type": "markdown",
   "metadata": {},
   "source": [
    "Put your answer to the above question here"
   ]
  },
  {
   "cell_type": "markdown",
   "metadata": {},
   "source": [
    "&#9989; **<font color=red>QUESTION:</font>** What is the span of two vectors that point in the same direction?\n"
   ]
  },
  {
   "cell_type": "markdown",
   "metadata": {},
   "source": [
    "Put your answer to the above question here"
   ]
  },
  {
   "cell_type": "markdown",
   "metadata": {},
   "source": [
    "&#9989; **<font color=red>QUESTION:</font>** Can the following vectors span $R^3$? Why?\n",
    "$$(1,-2,3),\\quad (-2,4,-6),\\quad (0,6,4)$$"
   ]
  },
  {
   "cell_type": "markdown",
   "metadata": {},
   "source": [
    "Put your answer to the above question here"
   ]
  },
  {
   "cell_type": "markdown",
   "metadata": {},
   "source": [
    "&#9989; **<font color=red>QUESTION:</font>**  Describe what it means for vectors to be _**Linearly Independent**_?"
   ]
  },
  {
   "cell_type": "markdown",
   "metadata": {},
   "source": [
    "Put your answer to the above question here"
   ]
  },
  {
   "cell_type": "markdown",
   "metadata": {},
   "source": [
    "If you have vectors that _**span**_ a space AND are _**Linearly Independent**_ then these vectors form a _**Basis_** for that space.  \n",
    "\n",
    "\n",
    "Turns out you can create a matrix by using basis vectors as columns. This matrix can be used to change points from one basis representation to another.  "
   ]
  },
  {
   "cell_type": "markdown",
   "metadata": {},
   "source": [
    "----\n",
    "\n",
    "<a name=\"Vector_Spaces\"></a>\n",
    "## 2.  Vector Spaces\n",
    "\n",
    "Vector spaces are an abstract concept used in math. So far we have talked about vectors of real numbers ($R^n$). However, there are other types of vectors as well.  A vector space is a formal definition. If you can define a concept as a vector space then you can use the tools of linear algebra to work with those concepts.  \n",
    "\n",
    "A **Vector Space** is a set $V$ of elements called **vectors**, having operations of addition and scalar multiplication defined on it that satisfy the following conditions ($u$, $v$, and $w$ are arbitrary elements of $V$, and $c$ and $d$ are scalars.)\n",
    "\n",
    "### Closure Axioms\n",
    "\n",
    "1. The sum $u + v$ exists and is an element of $V$. ($V$ is closed under addition.)\n",
    "2. $cu$ is an element of $V$. ($V$ is closed under multiplication.)\n",
    "\n",
    "### Addition Axioms\n",
    "\n",
    "3. $u + v = v + u$ (commutative property)\n",
    "4. $u + (v + w) = (u + v) + w$ (associative property)\n",
    "5. There exists an element of $V$, called a **zero vector**, denoted $0$, such that $u+0 = u$\n",
    "6. For every element $u$ of $V$, there exists an element called a **negative** of $u$, denoted $-u$, such that $u + (-u) = 0$.\n",
    "\n",
    "### Scalar Multiplication Axioms\n",
    "\n",
    "7. $c(u+v) = cu + cv$\n",
    "8. $(c + d)u = cu + du$\n",
    "9.  $c(du) = (cd)u$\n",
    "10. $1u = u$\n",
    "\n"
   ]
  },
  {
   "cell_type": "markdown",
   "metadata": {},
   "source": [
    "----\n",
    "<a name=\"Examples\"></a>\n",
    "## 3. Lots of Things Can Be Vector Spaces"
   ]
  },
  {
   "cell_type": "code",
   "execution_count": null,
   "metadata": {},
   "outputs": [],
   "source": [
    "from IPython.display import YouTubeVideo\n",
    "YouTubeVideo(\"YmGWj9RrNMI\",width=640,height=360, cc_load_policy=True)"
   ]
  },
  {
   "cell_type": "markdown",
   "metadata": {},
   "source": [
    "Consider the following two matrices $A\\in R^{3x3}$ and $B\\in R^{3x3}$, which consist of real numbers:"
   ]
  },
  {
   "cell_type": "code",
   "execution_count": null,
   "metadata": {},
   "outputs": [],
   "source": [
    "%matplotlib inline\n",
    "import matplotlib.pylab as plt\n",
    "import numpy as np\n",
    "import sympy as sym\n",
    "sym.init_printing()\n",
    "\n",
    "a11,a12,a13,a21,a22,a23,a31,a32,a33 = sym.symbols('a_{11},a_{12}, a_{13},a_{21},a_{22},a_{23},a_{31},a_{32},a_{33}', negative=False)\n",
    "A = sym.Matrix([[a11,a12,a13],[a21,a22,a23],[a31,a32,a33]])\n",
    "A"
   ]
  },
  {
   "cell_type": "code",
   "execution_count": null,
   "metadata": {},
   "outputs": [],
   "source": [
    "b11,b12,b13,b21,b22,b23,b31,b32,b33 = sym.symbols('b_{11},b_{12}, b_{13},b_{21},b_{22},b_{23},b_{31},b_{32},b_{33}', negative=False)\n",
    "B = sym.Matrix([[b11,b12,b13],[b21,b22,b23],[b31,b32,b33]])\n",
    "B"
   ]
  },
  {
   "cell_type": "markdown",
   "metadata": {},
   "source": [
    "&#9989; **<font color=red>QUESTION:</font>** What properties do we need to show all $3\\times 3$ matrices of real numbers form a vector space. "
   ]
  },
  {
   "cell_type": "markdown",
   "metadata": {},
   "source": [
    "Put your answer here"
   ]
  },
  {
   "cell_type": "markdown",
   "metadata": {},
   "source": [
    "&#9989; **<font color=red>DO THIS:</font>** Demonstrate these properties using **sympy** as was done in the video. "
   ]
  },
  {
   "cell_type": "code",
   "execution_count": null,
   "metadata": {},
   "outputs": [],
   "source": [
    "#Put your answer here. "
   ]
  },
  {
   "cell_type": "markdown",
   "metadata": {},
   "source": [
    "&#9989; **<font color=red>QUESTION (assignment specific):</font>** Determine whether $A$ is a linear combination of $B$, $C$, and $D$?\n",
    "\n",
    "$$ A=\n",
    "\\left[\n",
    "\\begin{matrix}\n",
    "    7 & 6 \\\\\n",
    "    -5 & -3 \n",
    "\\end{matrix}\n",
    "\\right],\n",
    "B=\n",
    "\\left[\n",
    "\\begin{matrix}\n",
    "    3 & 0 \\\\\n",
    "    1 & 1 \n",
    "\\end{matrix}\n",
    "\\right],\n",
    "C=\n",
    "\\left[\n",
    "\\begin{matrix}\n",
    "    0 & 1 \\\\\n",
    "    3 & 4 \n",
    "\\end{matrix}\n",
    "\\right],\n",
    "D=\n",
    "\\left[\n",
    "\\begin{matrix}\n",
    "    1 & 2 \\\\\n",
    "    0 & 1 \n",
    "\\end{matrix}\n",
    "\\right]\n",
    "$$"
   ]
  },
  {
   "cell_type": "code",
   "execution_count": null,
   "metadata": {},
   "outputs": [],
   "source": [
    "#Put your answer to the above question here"
   ]
  },
  {
   "cell_type": "markdown",
   "metadata": {},
   "source": [
    "&#9989; **<font color=red>QUESTION:</font>**  Write a basis for all $2\\times 3$ matrices and give the dimension of the space."
   ]
  },
  {
   "cell_type": "markdown",
   "metadata": {},
   "source": [
    "Put your answer to the above question here."
   ]
  },
  {
   "cell_type": "markdown",
   "metadata": {},
   "source": [
    "----\n",
    "\n",
    "<a name=\"Assignment_Wrap-up\"></a>\n",
    "## 5. Assignment wrap-up"
   ]
  },
  {
   "cell_type": "markdown",
   "metadata": {},
   "source": [
    "&#9989; **<font color=red>Assignment-Specific QUESTION:</font>** Is matrix $A$ is a linear combination of $B$, $C$, and $D$ from above?"
   ]
  },
  {
   "cell_type": "markdown",
   "metadata": {},
   "source": [
    "Put your answer to the above question here"
   ]
  },
  {
   "cell_type": "markdown",
   "metadata": {},
   "source": [
    "&#9989; **<font color=red>QUESTION:</font>**  Summarize what you did in this assignment."
   ]
  },
  {
   "cell_type": "markdown",
   "metadata": {},
   "source": [
    "Put your answer to the above question here"
   ]
  },
  {
   "cell_type": "markdown",
   "metadata": {},
   "source": [
    "&#9989; **<font color=red>QUESTION:</font>**  What questions do you have, if any, about any of the topics discussed in this assignment after working through the jupyter notebook?"
   ]
  },
  {
   "cell_type": "markdown",
   "metadata": {},
   "source": [
    "Put your answer to the above question here"
   ]
  },
  {
   "cell_type": "markdown",
   "metadata": {},
   "source": [
    "&#9989; **<font color=red>QUESTION:</font>**  How well do you feel this assignment helped you to achieve a better understanding of the above mentioned topic(s)?"
   ]
  },
  {
   "cell_type": "markdown",
   "metadata": {},
   "source": [
    "Put your answer to the above question here"
   ]
  },
  {
   "cell_type": "markdown",
   "metadata": {},
   "source": [
    "&#9989; **<font color=red>QUESTION:</font>** What was the **most** challenging part of this assignment for you? "
   ]
  },
  {
   "cell_type": "markdown",
   "metadata": {},
   "source": [
    "Put your answer to the above question here"
   ]
  },
  {
   "cell_type": "markdown",
   "metadata": {},
   "source": [
    "&#9989; **<font color=red>QUESTION:</font>** What was the **least** challenging part of this assignment for you? "
   ]
  },
  {
   "cell_type": "markdown",
   "metadata": {},
   "source": [
    "Put your answer to the above question here"
   ]
  },
  {
   "cell_type": "markdown",
   "metadata": {},
   "source": [
    "&#9989; **<font color=red>QUESTION:</font>**  What kind of additional questions or support, if any, do you feel you need to have a better understanding of the content in this assignment?"
   ]
  },
  {
   "cell_type": "markdown",
   "metadata": {},
   "source": [
    "Put your answer to the above question here"
   ]
  },
  {
   "cell_type": "markdown",
   "metadata": {},
   "source": [
    "&#9989; **<font color=red>QUESTION:</font>**  Do you have any further questions or comments about this material, or anything else that's going on in class?"
   ]
  },
  {
   "cell_type": "markdown",
   "metadata": {},
   "source": [
    "Put your answer to the above question here"
   ]
  },
  {
   "cell_type": "markdown",
   "metadata": {},
   "source": [
    "&#9989; **<font color=red>QUESTION:</font>** Approximately how long did this pre-class assignment take?"
   ]
  },
  {
   "cell_type": "markdown",
   "metadata": {},
   "source": [
    "Put your answer to the above question here"
   ]
  },
  {
   "cell_type": "markdown",
   "metadata": {},
   "source": [
    "----\n",
    "Written by Dr. Dirk Colbry, Michigan State University\n",
    "<a rel=\"license\" href=\"http://creativecommons.org/licenses/by-nc/4.0/\"><img alt=\"Creative Commons License\" style=\"border-width:0\" src=\"https://i.creativecommons.org/l/by-nc/4.0/88x31.png\" /></a><br />This work is licensed under a <a rel=\"license\" href=\"http://creativecommons.org/licenses/by-nc/4.0/\">Creative Commons Attribution-NonCommercial 4.0 International License</a>."
   ]
  },
  {
   "cell_type": "markdown",
   "metadata": {},
   "source": [
    "\n"
   ]
  }
 ],
 "metadata": {
  "anaconda-cloud": {},
  "kernelspec": {
   "display_name": "Python 3",
   "language": "python",
   "name": "python3"
  },
  "language_info": {
   "codemirror_mode": {
    "name": "ipython",
    "version": 3
   },
   "file_extension": ".py",
   "mimetype": "text/x-python",
   "name": "python",
   "nbconvert_exporter": "python",
   "pygments_lexer": "ipython3",
   "version": "3.7.6"
  }
 },
 "nbformat": 4,
 "nbformat_minor": 4
}
