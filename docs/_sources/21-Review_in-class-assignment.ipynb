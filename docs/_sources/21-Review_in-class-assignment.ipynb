{
 "cells": [
  {
   "cell_type": "markdown",
   "metadata": {},
   "source": []
  },
  {
   "cell_type": "markdown",
   "metadata": {},
   "source": [
    "# 21 In-Class Assignment: Solve Linear Systems of Equations using QR Decomposition\n",
    "\n",
    "<img alt=\"Image of a multi-headed Hydra. Designed to represent parallel codes\" src=\"https://upload.wikimedia.org/wikipedia/commons/2/24/Hydra1.gif\">\n",
    "\n",
    "Image From: https://en.wikipedia.org/wiki/Hydra"
   ]
  },
  {
   "cell_type": "markdown",
   "metadata": {},
   "source": [
    "### Agenda for today's class (80 minutes)\n",
    "\n",
    "</p>\n",
    "\n",
    "1. [(20 minutes) Pre-class_Review](#Pre-class_Review)\n",
    "2. [(20 minutes) Solve Linear Systems](#Solve_Linear_Systems)\n",
    "3. [(30 minutes) Overdetermined Systems](#Overdetermined_Systems)\n",
    "4. [(30 minutes) Underdetermined Systems](#Underdetermined_Systemss)"
   ]
  },
  {
   "cell_type": "code",
   "execution_count": null,
   "metadata": {},
   "outputs": [],
   "source": [
    "import numpy as np\n",
    "import sympy as sym"
   ]
  },
  {
   "cell_type": "markdown",
   "metadata": {},
   "source": [
    "In this assignment, we try to solve the linear systems $Ax  =  b$ in three different categories. \n",
    "+ $A$ is a square matrix. Unique solution when $A$ is invertible\n",
    "+ overdetermined (more equations than unknowns): If $A$ has full column rank, the system has an unique solution when $b$ is in the column space of $A$, otherwise no solution. \n",
    "+ underdetermined (more unknowns than equations): If $A$ has full row rank, there are infinite many solutions. "
   ]
  },
  {
   "cell_type": "markdown",
   "metadata": {},
   "source": [
    "---\n",
    "<a name=\"Pre-class_Review\"></a>\n",
    "\n",
    "## 1. Pre-Class Review\n",
    "\n",
    "* [21--Review_pre-class-assignment.ipynb](21--Review_pre-class-assignment.ipynb)"
   ]
  },
  {
   "cell_type": "markdown",
   "metadata": {},
   "source": [
    "----\n",
    "<a name=\"Solve_Linear_Systems\"></a>\n",
    "## 2. Solve Linear Systems\n",
    "\n",
    "When we have the same number of equations as unknowns, we have the following system \n",
    "$$Ax= b$$\n",
    "with a squre matrix $A$. \n",
    "In this section, we assume that the matrix $A$ has full rank. That is the system has an unique solution. We talked about many ways to solve this system of equations. Some examples are:\n",
    "\n",
    "+ Jacobian iteration/ Gauss-Seidel iteration\n",
    "+ $x = A^{-1} b$\n",
    "+ Gaussian elimination\n",
    "+ LU decomposition\n",
    "\n",
    "In this assignment, we will show that we can solve it by QR decomposion. "
   ]
  },
  {
   "cell_type": "markdown",
   "metadata": {},
   "source": [
    "Consider the following system of equations:\n",
    "\n",
    "$$\\begin{bmatrix}5&-2&2 \\\\ 4 & -3 &4 \\\\ 4& -6 &7 \\end{bmatrix}\\begin{bmatrix}x_1\\\\x_2\\\\x_3\\end{bmatrix}=\\begin{bmatrix}1\\\\2\\\\3\\end{bmatrix}$$\n",
    "\n"
   ]
  },
  {
   "cell_type": "code",
   "execution_count": null,
   "metadata": {},
   "outputs": [],
   "source": [
    "A = np.matrix([[5, -2, 2], [4, -3, 4], [4,-6,7]])\n",
    "b = np.matrix([[1],[2],[3]])\n",
    "display(sym.Matrix(A))\n",
    "display(sym.Matrix(b))"
   ]
  },
  {
   "cell_type": "markdown",
   "metadata": {},
   "source": [
    "**Back substitution.** Let's first implement the back substitution in Python.  The back substitution function `back_subst` solves the system \n",
    "$$R x = b$$\n",
    "where $R$ is an upper-triangular matrix. \n",
    "\n",
    "When we solve for $x$, we start with $x_n$: \n",
    "$$x_n = {b_n\\over R_{n,n}}$$\n",
    "Then we solve for $x_{n-1}$ as \n",
    "$$x_{n-1} = {b_{n-1}-R_{n-1,n}x_n\\over R_{n-1,n-1}}$$\n",
    "$$x_{n-2} = {b_{n-2}-R_{n-2,n-1}x_{n-1}-R_{n-2,n}x_n\\over R_{n-2,n-2}}$$\n",
    "Then we can find $x_{n-2},\\cdots,x_1$.\n",
    "We can solve for all components of $x$ in the reserved order. So this is call back substitution.\n"
   ]
  },
  {
   "cell_type": "markdown",
   "metadata": {},
   "source": [
    "&#9989; **<font color=red>DO THIS:</font>**  Complete the following code for back substitution."
   ]
  },
  {
   "cell_type": "code",
   "execution_count": null,
   "metadata": {},
   "outputs": [],
   "source": [
    "def back_subst(R,b):\n",
    "    n = R.shape[0]; x = np.zeros(n);\n",
    "    for i in reversed(range(n)):\n",
    "        x[i] = b[i]\n",
    "        for j in range(i+1,n):            \n",
    "## Your code starts ##            \n",
    "            x[i] =   # Complet this line of code.\n",
    "## Your code ends ##            \n",
    "        x[i] = x[i]/R[i,i]\n",
    "    return np.matrix(x).T"
   ]
  },
  {
   "cell_type": "markdown",
   "metadata": {},
   "source": []
  },
  {
   "cell_type": "markdown",
   "metadata": {},
   "source": [
    "&#9989; **<font color=red>DO THIS:</font>**  When we solve for $Ax=b$ with QR decomposition. We have the following steps:\n",
    "+ Find the QR decomposition of $A$\n",
    "+ From $QRx=b$, we obtain $Rx =Q^\\top b$ \n",
    "+ Solve for $x$ using back substitution.\n",
    "\n",
    "Use these steps to solve $Ax=b$ with the given $A$ and $b$. Compare the result with `np.linalg.solve`."
   ]
  },
  {
   "cell_type": "code",
   "execution_count": null,
   "metadata": {},
   "outputs": [],
   "source": [
    "## Your code starts ##\n",
    "x =  \n",
    "## Your code ends ##\n",
    "print(type(x))   # x is a column vector in the np.matrix type\n",
    "np.allclose(x, np.linalg.solve(A,b))"
   ]
  },
  {
   "cell_type": "markdown",
   "metadata": {},
   "source": [
    "----\n",
    "<a name=\"Overdetermined_Systems\"></a>\n",
    "## 3. Overdetermined Systems\n",
    "\n",
    "When we have more equations than unknowns, we have the overdetermined system \n",
    "$$Ax\\approx b$$\n",
    "In this assignment, we assume that the matrix $A$ has full column rank. Therefore, the system may not be feasible, i.e., we can not find $x$ such that $Ax=b$. Then we want to find the $x$ to minimize $\\|Ax-b\\|^2$, which is the least squares problem. We mentioned in previous assignments that we can solve this least squares problem by finding the left inverse of the matrix $A$. That is \n",
    "$$x=(A^\\top A)^{-1}A^\\top b$$\n",
    "\n",
    "In this assignment, we show that we can solve it by QR decomposion. "
   ]
  },
  {
   "cell_type": "markdown",
   "metadata": {},
   "source": [
    "Consider the following system of equations:\n",
    "\n",
    "$$\\begin{bmatrix}5&-2&2 \\\\ 4 & -3 &4 \\\\ 4& -6 &7 \\\\ 6 & 3 & -3\\end{bmatrix}\\begin{bmatrix}x_1\\\\x_2\\\\x_3\\end{bmatrix}=\\begin{bmatrix}1\\\\2\\\\3\\\\-1\\end{bmatrix}$$\n",
    "\n",
    "&#9989; **<font color=red>DO THIS:</font>** We solve the least squares problem in the following steps\n",
    "\n",
    "+ Find the QR decomposition of the matrix $A$ such that $R$ is a square upper-triangular matrix. ($Q$ is not a square matrix any more) \n",
    "+ Use the `back_subst` function we defined before to solve $Rx = Q^\\top b$"
   ]
  },
  {
   "cell_type": "code",
   "execution_count": null,
   "metadata": {},
   "outputs": [],
   "source": [
    "A = np.matrix([[5, -2, 2], [4, -3, 4], [4,-6,7], [6,3,-3]])\n",
    "b = np.matrix([[1],[2],[3],[-1]])\n",
    "display(sym.Matrix(A))\n",
    "display(sym.Matrix(b))"
   ]
  },
  {
   "cell_type": "code",
   "execution_count": null,
   "metadata": {},
   "outputs": [],
   "source": [
    "## Your code starts ##\n",
    "x =  \n",
    "## Your code ends ##\n",
    "print(type(x))   # x is a column vector in the np.matrix type\n",
    "print(x)"
   ]
  },
  {
   "cell_type": "markdown",
   "metadata": {},
   "source": [
    "We can not use the `np.linalg.solve` because the matrix $A$ is not a square matrix (you can try if you do not believe it). However, we can use the `np.linalg.lstsq` function to find the least squares solution to minimize $\\|Ax-b\\|^2$. The next cell compares the result from `lstsq` and our result from the QR decomposition. (If everything is correct, you will expect a `True` result.)"
   ]
  },
  {
   "cell_type": "code",
   "execution_count": null,
   "metadata": {},
   "outputs": [],
   "source": [
    "np.allclose(x, np.linalg.lstsq(A,b)[0])"
   ]
  },
  {
   "cell_type": "markdown",
   "metadata": {},
   "source": [
    "&#9989; **<font color=red>DO THIS:</font>** Explain why we can use the QR decomposition to solve the least squares problem. "
   ]
  },
  {
   "cell_type": "markdown",
   "metadata": {},
   "source": [
    "Put Your Answer Here"
   ]
  },
  {
   "cell_type": "markdown",
   "metadata": {},
   "source": [
    "----\n",
    "<a name=\"Underdetermined_Systemss\"></a>\n",
    "## 4. Underdetermined Systems\n",
    "\n",
    "When we have more unknowns than equations, we have the underdeterminated system \n",
    "$$Ax= b$$\n",
    "In this assignment, we assume that the matrix $A$ has full row rank. This system has infinite many solution, i.e., we can not find an unique $x$ such that $Ax=b$. Then we want to find the smallest $x$ (by smallest, we mean the smallest $\\|x\\|^2$) such that $Ax=b$, which is also the least squares problem. \n",
    "\n",
    "In this assignment, we show that we can also solve it by QR decomposion. "
   ]
  },
  {
   "cell_type": "markdown",
   "metadata": {},
   "source": [
    "Consider the following system of equations:\n",
    "\n",
    "$$\\begin{bmatrix}5&-2&2 & 1 \\\\ 4 & -3 &4 &2  \\\\ 4& -6 &7  & 4\\end{bmatrix}\\begin{bmatrix}x_1\\\\x_2\\\\x_3\\\\x_4\\end{bmatrix}=\\begin{bmatrix}1\\\\2\\\\3\\end{bmatrix}$$\n",
    "\n",
    "&#9989; **<font color=red>DO THIS:</font>** We solve the least squares problem in the following steps\n",
    "\n",
    "+ Find the QR decomposition of the matrix $A^\\top$ such that $R$ is a square upper-triangular matrix. \n",
    "+ Use the `forward_subst` function defined below to solve $x = Q (R^\\top)^{-1}b$"
   ]
  },
  {
   "cell_type": "code",
   "execution_count": null,
   "metadata": {},
   "outputs": [],
   "source": [
    "A = np.matrix([[5, -2, 2, 1], [4, -3, 4, 2], [4,-6,7, 4]])\n",
    "b = np.matrix([[1],[2],[3]])\n",
    "display(sym.Matrix(A))\n",
    "display(sym.Matrix(b))"
   ]
  },
  {
   "cell_type": "code",
   "execution_count": null,
   "metadata": {},
   "outputs": [],
   "source": [
    "def forward_subst(L,b):  # This function solves $L x= b$ when $L$ is the lower-trigular matrix\n",
    "    n = L.shape[0]; x = np.zeros(n);\n",
    "    for i in range(n):\n",
    "        x[i] = b[i]\n",
    "        for j in range(i):\n",
    "            x[i] = x[i] - L[i,j]*x[j]  \n",
    "        x[i] = x[i]/L[i,i]\n",
    "    return np.matrix(x).T"
   ]
  },
  {
   "cell_type": "code",
   "execution_count": null,
   "metadata": {},
   "outputs": [],
   "source": [
    "## Your code starts ##\n",
    "x =  \n",
    "## Your code ends ##\n",
    "print(type(x))   # x is a column vector in the np.matrix type\n",
    "print(x)"
   ]
  },
  {
   "cell_type": "markdown",
   "metadata": {},
   "source": [
    "We can not use the `np.linalg.solve` because the matrix $A$ is not a square matrix. However, we can use the `np.linalg.lstsq` function to find the least squares solution to minimize $\\|Ax-b\\|^2$ with underdeterminated systems. The next cell compares the result from `lstsq` and our result from the QR decomposition. (If everything is correct, you will expect a `True` result.)"
   ]
  },
  {
   "cell_type": "code",
   "execution_count": null,
   "metadata": {},
   "outputs": [],
   "source": [
    "np.allclose(x, np.linalg.lstsq(A,b)[0])"
   ]
  },
  {
   "cell_type": "markdown",
   "metadata": {},
   "source": [
    "&#9989; **<font color=red>DO THIS:</font>** Explain why we can use the QR decomposition to solve the least squares problem. (HINT: you may need the orhogonal decomposition to the four fundamental spaces of $Q$.) "
   ]
  },
  {
   "cell_type": "markdown",
   "metadata": {},
   "source": [
    "Put Your Answer Here"
   ]
  },
  {
   "cell_type": "markdown",
   "metadata": {},
   "source": [
    "----\n",
    "Written by Dr. Dirk Colbry, Michigan State University\n",
    "<a rel=\"license\" href=\"http://creativecommons.org/licenses/by-nc/4.0/\"><img alt=\"Creative Commons License\" style=\"border-width:0\" src=\"https://i.creativecommons.org/l/by-nc/4.0/88x31.png\" /></a><br />This work is licensed under a <a rel=\"license\" href=\"http://creativecommons.org/licenses/by-nc/4.0/\">Creative Commons Attribution-NonCommercial 4.0 International License</a>."
   ]
  },
  {
   "cell_type": "markdown",
   "metadata": {},
   "source": [
    "\n"
   ]
  }
 ],
 "metadata": {
  "kernelspec": {
   "display_name": "Python 3",
   "language": "python",
   "name": "python3"
  },
  "language_info": {
   "codemirror_mode": {
    "name": "ipython",
    "version": 3
   },
   "file_extension": ".py",
   "mimetype": "text/x-python",
   "name": "python",
   "nbconvert_exporter": "python",
   "pygments_lexer": "ipython3",
   "version": "3.8.2"
  }
 },
 "nbformat": 4,
 "nbformat_minor": 4
}
