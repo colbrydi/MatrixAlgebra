{
 "cells": [
  {
   "cell_type": "markdown",
   "metadata": {},
   "source": []
  },
  {
   "cell_type": "markdown",
   "metadata": {},
   "source": [
    "# 02 Pre-Class Assignment: Vectors"
   ]
  },
  {
   "cell_type": "markdown",
   "metadata": {},
   "source": [
    "### Readings for this topic (Recommended in bold)\n",
    " * [Heffron Chapter 1.II.1 pg 35-42](http://joshua.smcvt.edu/linearalgebra/book.pdf)\n",
    " * [Beezer Chapter V pg 74-88](http://linear.ups.edu/download/fcla-3.50-tablet.pdf)\n",
    " * [**_Boyd Sections 1.1-1.3 pg 1-19_**](http://vmls-book.stanford.edu/vmls.pdf)\n"
   ]
  },
  {
   "cell_type": "markdown",
   "metadata": {},
   "source": [
    "### Assignment Overview\n",
    "\n",
    "1. [Introducing the Course Textbooks](#Textbooks)\n",
    "1. [Todays Reading](#Reading)\n",
    "1. [Scalars, Vector and Tensors](#Scalars_Vector_and_Tensors)\n",
    "2. [Assignment wrap-up](#Assignment_wrap-up)"
   ]
  },
  {
   "cell_type": "markdown",
   "metadata": {},
   "source": [
    "----\n",
    "<a name=\"Textbooks\"></a>\n",
    "## 1. Introducing the Course Textbooks\n",
    "Student self guided learning through assigned readings are required for students to be successful.  The course strives to use Open Educational Resources (OER) to help reduce financial burden on the students.  To this end we have selected the following textbooks for reading assignments and supplemental examples:  \n",
    "\n",
    "\n",
    "* [Introduction to Applied Linear Algebra](http://vmls-book.stanford.edu/) by Boyd and Vandenberghe\n",
    "* [Linear Algebra](http://joshua.smcvt.edu/linearalgebra/) by Jim Heffron\n",
    "* [A First Course in Linear Algebra](http://linear.ups.edu/) by Robert A. Beezer\n",
    "\n",
    "\n",
    "**_DO NOT WORRY_** You will not be expected to read all three textbooks in this course!  In fact, we try to keep the reading at a reasonable level and focus on problem solving.  However, most students benefit from seeing material in multiple ways (Reading, Lecture, Practice, etc).  Different students (and instructors) also prefer different writing styles and may learn better with different text (which is why we provide more than one).  \n",
    "\n",
    "Students are encouraged to review and become familiar with the style and layout of each text to act as a common reference for the course.  If you get stuck on a topic try looking it up and reviewing it in one of the other texts.  If you are still stuck you can search the Internet.  Do not be afraid to also ask your instructors questions and come to office hours. That is why we are here!!!\n",
    "\n",
    "&#9989; **<span style=\"color:red\">Do This:</span>** Download a copy of each textbooks onto your preferred reading device and review the **_Table of Contents_** in each text.\n",
    "\n",
    "\n",
    "As you can see each textbook approaches Linear algebra in a slightly different way. This variety reflects the different philosophies of teaching and different ways of individual learning. One way to evaluate the focus of a particular textbook is to look at it's very first chapter.  For Example:\n",
    "\n",
    "* The **_Beezer_** and **_Heffron_** texts start out with \"Systems of linear Equations\" and \"Linear Systems.\" These topics are basically the same idea with the focus of defining linear systems as just sets of \"linear combinations\".  Clearly this is a core concept and a good place to start.\n",
    "* The **_Boyd and Vandenberghe_** text choose to start with \"Vectors\".  In linear algebra the \"vector\" is a mathematical tool for which all of the mechanics of the math is built.  Again, not a bad place to start. \n",
    "\n",
    "In the first few assignments this course we will be looking at both concepts.  You will want to learn and be able to identify linear systems and how to represent them as vectors. "
   ]
  },
  {
   "cell_type": "markdown",
   "metadata": {},
   "source": [
    "&#9989; **<span style=\"color:red\">Question:</span>** Find three additional topics (Besides Linear Systems and Vectors) that seem to be common between the three textbooks. You can probably assume that these topics will be important to our course as well."
   ]
  },
  {
   "cell_type": "markdown",
   "metadata": {},
   "source": [
    "Put your answer to the above question here."
   ]
  },
  {
   "cell_type": "markdown",
   "metadata": {},
   "source": [
    "----\n",
    "<a name=\"Reading\"></a>\n",
    "## 2. Today's Reading\n",
    "\n",
    "Quite a bit of this pre-class assignment about vectors is motivated from Chapter 1 of the [Stephen Boyd and Lieven Vandenberghe Applied Linear algebra book](http://vmls-book.stanford.edu/).  This material may be review for some students and may be new for others. It is expected that students review the chapter to help them understand the material better.  \n",
    "\n",
    "&#9989; **<span style=\"color:red\">Do This:</span>**  Review **_Sections 1.1, 1.2 and 1.3 in Boyd and Vandenberghe_** and become familiar with the contents and the basic terminology.  If you find this material is difficult make sure you take advantage of the survey at the end of this assignment to ask your instructor questions about things that are confusing.  \n",
    "\n",
    "**_HINT_** Many computers and smart phones have a \"read to me feature\". Some students find it helpful to download the pdf of the textbook and have the computer read to them out loud while they follow along. "
   ]
  },
  {
   "cell_type": "markdown",
   "metadata": {},
   "source": [
    "----\n",
    "<a name=\"Scalars_Vector_and_Tensors\"></a>\n",
    "## 3. Scalars, Vector and Tensors\n",
    "\n",
    "The two primary mathematical entities that are of interest in linear algebra are the vector and the matrix. They are examples of a more general entity known as a tensor. The following video gives a basic introduction of scalars, vectors, and tensors. It is fine if you can not understand all of this video. We will learn most of it in this course. \n",
    "\n",
    "\n",
    "_**NOTE:**_ The terms vectors and tensors can get fairly confusing. For the purpose of this class, we will not use the term _**Tensor**_ all that much.  Instead we will treat everything as **_vectors_** (more on this later).  \n",
    "\n",
    "* [Direct Link to YouTube Video](https://www.youtube.com/watch?v=ml4NSzCQobk)"
   ]
  },
  {
   "cell_type": "code",
   "execution_count": null,
   "metadata": {},
   "outputs": [],
   "source": [
    "from IPython.display import YouTubeVideo\n",
    "YouTubeVideo(\"ml4NSzCQobk\",width=640,height=360, cc_load_policy=True)"
   ]
  },
  {
   "cell_type": "markdown",
   "metadata": {},
   "source": [
    "Think of a **_scalar_** as a single number or variable that is an example of a 0th-order tensor. The following are all scalars:\n",
    "\n",
    "$$ 1, \\frac{1}{2}, 3.1416$$\n",
    "\n",
    "Defining a **_scalar_** in Python is easy. For example"
   ]
  },
  {
   "cell_type": "code",
   "execution_count": null,
   "metadata": {},
   "outputs": [],
   "source": [
    "a = 8\n",
    "a"
   ]
  },
  {
   "cell_type": "markdown",
   "metadata": {},
   "source": [
    "A **_vector_**, on the other hand, is an *ordered* list of values which we typically represent with lower case letters. Vectors are ordered arrays of single numbers and are an example of 1st-order tensor. The following are all vectors:\n",
    "\n",
    "**_Row Vector:_** \n",
    "$$v = [ v_1, v_2, \\dots, v_n ]$$\n",
    "here $v_1, v_2, \\dots, v_n$ are single numbers.\n",
    "\n",
    "$$f = [1, 2, 3, 5, 8]$$\n",
    "\n",
    "Here $f$ in the above example is a vector of numbers, and it is the common way we think of vectors.\n",
    "\n",
    "Note, it is often more common to write vecors vertically. These are often called column vectors:\n",
    "\n",
    "**_Column Vector:_**\n",
    "$$\n",
    "v=\n",
    "\\left[\n",
    "\\begin{matrix}\n",
    "    v_1 \\\\ \n",
    "    v_2 \\\\\n",
    "    \\vdots \\\\\n",
    "    v_m\n",
    " \\end{matrix}\n",
    "\\right]\n",
    "$$\n",
    "here $v_1, v_2, \\dots, v_n$ are single numbers.\n",
    "\n",
    "\n",
    "\n",
    "### 1.a: Introducing Vectors in Python\n",
    "In Python, there are multiple ways to store a vector.  Knowing how your vector is stored is very important (especially for debugging).  Probably the easiest way to store a vector is using a list, which are created using standard square brackets as follows:"
   ]
  },
  {
   "cell_type": "code",
   "execution_count": null,
   "metadata": {},
   "outputs": [],
   "source": [
    "f = [1, 2, 3, 5, 8]\n",
    "f"
   ]
  },
  {
   "cell_type": "markdown",
   "metadata": {},
   "source": [
    "Another common way to store a vector is to use a tuple.  "
   ]
  },
  {
   "cell_type": "code",
   "execution_count": null,
   "metadata": {},
   "outputs": [],
   "source": [
    "b = (2, 4, 8, 16)\n",
    "b"
   ]
  },
  {
   "cell_type": "markdown",
   "metadata": {},
   "source": [
    "You can access a particular scalar in your Python object using its index. Remember that Python index starts counting at zero. For example, to get the fourth element in ```f``` and ```b``` vectors, we would use the following syntax:"
   ]
  },
  {
   "cell_type": "code",
   "execution_count": null,
   "metadata": {},
   "outputs": [],
   "source": [
    "print(f[3])\n",
    "print(b[3])"
   ]
  },
  {
   "cell_type": "markdown",
   "metadata": {},
   "source": [
    "Later in this course, we may discuss which data format is better (and introduce new ones). At this point let's not worry about it too much. You can always figure out a variable's data type using the ```type``` function. For example:"
   ]
  },
  {
   "cell_type": "code",
   "execution_count": null,
   "metadata": {},
   "outputs": [],
   "source": [
    "type(f)"
   ]
  },
  {
   "cell_type": "code",
   "execution_count": null,
   "metadata": {},
   "outputs": [],
   "source": [
    "type(b)"
   ]
  },
  {
   "cell_type": "markdown",
   "metadata": {},
   "source": [
    "Finally, I am not sure if you will need this but always remember, it is easy to convert from a tuple to a list and vice versa (this is called \"casting\"):"
   ]
  },
  {
   "cell_type": "code",
   "execution_count": null,
   "metadata": {},
   "outputs": [],
   "source": [
    "#Convert tuple to list\n",
    "b_list = list(b)\n",
    "b_list"
   ]
  },
  {
   "cell_type": "code",
   "execution_count": null,
   "metadata": {},
   "outputs": [],
   "source": [
    "#Convert list to tuple\n",
    "f_list = tuple(f)\n",
    "f_list"
   ]
  },
  {
   "cell_type": "markdown",
   "metadata": {},
   "source": [
    "### 1.b: Vector size \n",
    "\n",
    "A vector can be used to represent quantities or values in an application. The size (also called dimension or length) of the vector is the number of elements it contains.  The size of the vector determines how many quantities are in the vector.  We often refer to the size of a vector using the variable ```n```.  So an ```n-vector``` has ```n``` values.  A ```3-vector``` only has 3 values. \n",
    "\n",
    "The length (```len```) function returns the size of a vector in Python:"
   ]
  },
  {
   "cell_type": "code",
   "execution_count": null,
   "metadata": {},
   "outputs": [],
   "source": [
    "len(f)"
   ]
  },
  {
   "cell_type": "code",
   "execution_count": null,
   "metadata": {},
   "outputs": [],
   "source": [
    "len(b)"
   ]
  },
  {
   "cell_type": "markdown",
   "metadata": {},
   "source": [
    "### 1.c: Special Vectors\n",
    "The following are special vectors with special names.\n",
    "\n",
    "#### Standard Unit Vectors\n",
    "Vectors with a single 1 and the rest of the values are zero have a special name called \"Standard Unit Vectors\". The number of different standard unit vectors there are is equal to the size of the vector. For example, a 3-vector has the following standard unit vectors:\n",
    "\n",
    "$$\n",
    "e_1 = \n",
    "\\left[\n",
    "\\begin{matrix}\n",
    "    1 \\\\ \n",
    "    0 \\\\\n",
    "    0\n",
    " \\end{matrix}\n",
    "\\right]\n",
    ",e_2 = \n",
    "\\left[\n",
    "\\begin{matrix}\n",
    "    0 \\\\ \n",
    "    1 \\\\\n",
    "    0\n",
    " \\end{matrix}\n",
    "\\right],\n",
    "e_3 = \n",
    "\\left[\n",
    "\\begin{matrix}\n",
    "    0 \\\\ \n",
    "    0 \\\\\n",
    "    1\n",
    " \\end{matrix}\n",
    "\\right]\n",
    "$$\n",
    "\n",
    "#### Zero Vectors\n",
    "Vectors with all values of zero also have a special name called \"Zero Vectors\". Typically we just use a zero to represent the zero vector. For example:\n",
    "$$\n",
    "0 = \n",
    "\\left[\n",
    "\\begin{matrix}\n",
    "    0 \\\\ \n",
    "    0 \\\\\n",
    "    0\n",
    " \\end{matrix}\n",
    "\\right]\n",
    "$$\n"
   ]
  },
  {
   "cell_type": "markdown",
   "metadata": {},
   "source": [
    "### 1.d: Examples\n",
    "\n",
    "\n",
    "Vectors are used to represent all types of data that has structures.  Here are some simple examples from the [Boyd and Vandenberghe textbook](http://vmls-book.stanford.edu/):\n",
    "\n",
    "\n",
    "#### Location and displacement\n",
    "A 2-vector can be used to represent a position or location in a space.  The first value is the distance in one direction (from the origin) and the second value is the distance in a different direction.  Probably most students are famiar with the 2D Cartesian coordinate system where a location can be defined by two values in the ```x``` and ```y``` directions.  Here is a simple scatter plot in python which show the concept:"
   ]
  },
  {
   "cell_type": "code",
   "execution_count": null,
   "metadata": {},
   "outputs": [],
   "source": [
    "%matplotlib inline\n",
    "import matplotlib.pylab as plt\n",
    "p1 = [2, 1]\n",
    "p2 = [1, 3]\n",
    "p3 = [1, 1]\n",
    "\n",
    "plt.plot(p1[0],p1[1],'*k')\n",
    "plt.plot(p2[0],p2[1],'*k')\n",
    "plt.plot(p3[0],p3[1],'*k')\n",
    "\n",
    "## Add some labels (offset slightly)\n",
    "plt.text(p1[0]+0.1,p1[1],'$p_1$')\n",
    "plt.text(p2[0]+0.1,p2[1],'$p_2$')\n",
    "plt.text(p3[0]+0.1,p3[1],'$p_3$')\n",
    "\n",
    "## Fix the axis so you can see the points\n",
    "plt.axis([0,4,0,4])"
   ]
  },
  {
   "cell_type": "markdown",
   "metadata": {},
   "source": [
    "#### Color\n",
    "A 3-vector can represent a color, with its entries giving the Red, Green, and Blue (RGB) intensity values (often between 0 and 1). The vector (0,0,0) represents black, the vector (0, 1, 0) represents a bright pure green color, and the vector (1, 0.5, 0.5) represents a shade of pink. \n",
    "\n",
    "The Python ```matplotlib``` library uses this type of vector to define colors.  For example, the following code plots a point at the origin of size 10000 (the size of the circle, and the value does not have exact meaning here) and color c = (0,1,0).  You can change the values for ```c``` and ```s``` to see the difference."
   ]
  },
  {
   "cell_type": "code",
   "execution_count": null,
   "metadata": {},
   "outputs": [],
   "source": [
    "import warnings\n",
    "warnings.filterwarnings(\"ignore\")\n",
    "\n",
    "c = (0, 1, 0)\n",
    "plt.scatter(0,0, color=c, s=10000);"
   ]
  },
  {
   "cell_type": "markdown",
   "metadata": {},
   "source": [
    "Just for fun, here is a little interactive demo that lets you play with different color vectors. \n",
    "\n",
    "\n",
    "> **_NOTE_** this demo uses the ```ipywidgets``` Python library which works by default in Jupyter notebook (which is installed on the MSU [jupyterhub](http://jupyterhub.egr.msu.edu))) but **_NOT_** in the newer jupyter lab interface which some students may have installed on their local computers.  To get these types of examples working in jupyter lab requires the installation of the ipywidgets plug-in. "
   ]
  },
  {
   "cell_type": "code",
   "execution_count": null,
   "metadata": {},
   "outputs": [],
   "source": [
    "%matplotlib inline\n",
    "import matplotlib.pylab as plt\n",
    "from ipywidgets import interact, fixed\n",
    "\n",
    "def showcolor(red,green,blue):\n",
    "    color=(red,green,blue)\n",
    "    plt.scatter(0,0, color=color, s=20000);\n",
    "    plt.axis('off');\n",
    "    plt.show();\n",
    "    return color\n",
    "\n",
    "color = interact(showcolor, red=(0.0,1.0), green=(0.0,1.0), blue=(0.0,1.0));"
   ]
  },
  {
   "cell_type": "markdown",
   "metadata": {},
   "source": [
    "### 1.e: Vector Addition\n",
    "\n",
    "Two vectors of the same size can be added together by adding the corresponding elements, to form another vector of the same size, called the sum of the vectors. For example:\n",
    "\n",
    "$$ \n",
    "\\left[\n",
    "\\begin{matrix}\n",
    "    1  \\\\ \n",
    "    20   \n",
    " \\end{matrix}\n",
    " \\right]\n",
    " +\n",
    "\\left[\n",
    "\\begin{matrix}\n",
    "    22 \\\\ \n",
    "    -3 \n",
    " \\end{matrix}\n",
    " \\right]\n",
    "  =\n",
    "\\left[\n",
    "\\begin{matrix}\n",
    "    23 \\\\ \n",
    "    17 \n",
    " \\end{matrix}\n",
    "\\right]\n",
    "$$"
   ]
  },
  {
   "cell_type": "markdown",
   "metadata": {},
   "source": [
    "#### Python Vector Addition\n",
    "\n",
    "Here is where things get tricky in Python.  If you try to add a list or tuple, Python does not do the vector addition as we defined above. In the following examples, notice that the two lists concatenate instead of adding by element: "
   ]
  },
  {
   "cell_type": "code",
   "execution_count": null,
   "metadata": {},
   "outputs": [],
   "source": [
    "## THIS IS WRONG\n",
    "a = [1, 20]\n",
    "b = [22,-3]\n",
    "c = a+b\n",
    "c"
   ]
  },
  {
   "cell_type": "code",
   "execution_count": null,
   "metadata": {},
   "outputs": [],
   "source": [
    "## THIS IS ALSO WRONG\n",
    "a = (1, 20)\n",
    "b = (22,-3)\n",
    "c = a+b\n",
    "c"
   ]
  },
  {
   "cell_type": "markdown",
   "metadata": {},
   "source": [
    "To do proper vector math you need either use a special function (we will learn these) or loop over the list.  Here is a very simplistic example:"
   ]
  },
  {
   "cell_type": "code",
   "execution_count": null,
   "metadata": {},
   "outputs": [],
   "source": [
    "a = (1, 20)\n",
    "b = (22,-3)\n",
    "c = []\n",
    "for i in range(len(a)):\n",
    "    c.append(a[i] + b[i])\n",
    "c"
   ]
  },
  {
   "cell_type": "markdown",
   "metadata": {},
   "source": [
    "For fun, we can define this operation as a function in case we want to use it later:"
   ]
  },
  {
   "cell_type": "code",
   "execution_count": null,
   "metadata": {},
   "outputs": [],
   "source": [
    "def vecadd(a,b):\n",
    "    \"\"\"Function to add two equal size vectors.\"\"\"\n",
    "    if (len(a) != len(b)):\n",
    "        raise Exception('Error - vector lengths do not match')\n",
    "    c = []\n",
    "    for i in range(len(a)):\n",
    "        c.append(a[i] + b[i])\n",
    "    return c"
   ]
  },
  {
   "cell_type": "code",
   "execution_count": null,
   "metadata": {},
   "outputs": [],
   "source": [
    "#Lets test it\n",
    "\n",
    "vecadd(a,b)"
   ]
  },
  {
   "cell_type": "markdown",
   "metadata": {},
   "source": [
    "### 1.f: Scalar-Vector multiplication\n",
    "\n",
    "You can also multiply a scalar by a vector, which is done by multiplying every element of the vector by the scalar. \n",
    "\n",
    "\n",
    "$$ \n",
    "3\n",
    "\\left[\n",
    "\\begin{matrix}\n",
    "    3 \\\\ \n",
    "    -7 \\\\\n",
    "    10\n",
    " \\end{matrix}\n",
    " \\right]\n",
    "  =\n",
    "\\left[\n",
    "\\begin{matrix}\n",
    "    9 \\\\ \n",
    "    -21 \\\\\n",
    "    30\n",
    " \\end{matrix}\n",
    "\\right]\n",
    "$$\n"
   ]
  },
  {
   "cell_type": "markdown",
   "metadata": {},
   "source": [
    "#### Scalar-Vector Multiplication in Python\n",
    "Again, this can be tricky in Python because Python lists do not do what we want.  Consider the following example that just concatenates three copies of the vector. "
   ]
  },
  {
   "cell_type": "code",
   "execution_count": null,
   "metadata": {},
   "outputs": [],
   "source": [
    "##THIS IS WRONG## \n",
    "z = 3\n",
    "a = [3,-7,10]\n",
    "c = z*a\n",
    "c"
   ]
  },
  {
   "cell_type": "markdown",
   "metadata": {},
   "source": [
    "Again, in order to do proper vector math in Python you need either use a special function (we will learn these) or loop over the list.  "
   ]
  },
  {
   "cell_type": "markdown",
   "metadata": {},
   "source": [
    "&#9989; **<span style=\"color:red\">Do This:</span>**  See if you can make a simple function with a loop to multiply a scalar by a vector. Name your function ```sv_multiply``` and test it using the cells below:"
   ]
  },
  {
   "cell_type": "code",
   "execution_count": null,
   "metadata": {},
   "outputs": [],
   "source": [
    "#put your sv_multiply function here"
   ]
  },
  {
   "cell_type": "code",
   "execution_count": null,
   "metadata": {},
   "outputs": [],
   "source": [
    "#Test your function here\n",
    "z = 3\n",
    "a = [3,-7,10]\n",
    "sv_multiply(z,a)"
   ]
  },
  {
   "cell_type": "markdown",
   "metadata": {},
   "source": [
    "Let us use the following code to test your functon further.  Note that this uses the ```answercheck``` function provided by your instructors. Please review [01--Python_Packages](01-Python_Packages.ipynb) for instructions on installing and using ```answercheck```."
   ]
  },
  {
   "cell_type": "code",
   "execution_count": null,
   "metadata": {},
   "outputs": [],
   "source": [
    "from answercheck import checkanswer\n",
    "checkanswer.vector(sv_multiply(10,[1,2,3,4]),'414a6fea724cafda66ab5971f542adf2')"
   ]
  },
  {
   "cell_type": "code",
   "execution_count": null,
   "metadata": {},
   "outputs": [],
   "source": [
    "from answercheck import checkanswer\n",
    "checkanswer.vector(sv_multiply(3.14159,(1,2,3,4)),'f349ef7cafae77c7c23d6924ec1fd36e')"
   ]
  },
  {
   "cell_type": "markdown",
   "metadata": {},
   "source": [
    "----\n",
    "\n",
    "<a name=\"Assignment_wrap-up\"></a>\n",
    "## 4. Assignment wrap-up\n",
    "\n"
   ]
  },
  {
   "cell_type": "markdown",
   "metadata": {},
   "source": [
    "&#9989; **<span style=\"color:red\">Assignment-Specific QUESTION:</span>** Are you able to get the sv_multiply function working in part 1 of this assignment? If not, where did you get stuck?"
   ]
  },
  {
   "cell_type": "markdown",
   "metadata": {},
   "source": [
    "Put your answer to the above question here"
   ]
  },
  {
   "cell_type": "markdown",
   "metadata": {},
   "source": [
    "&#9989; **<span style=\"color:red\">QUESTION:</span>** Summarize what you did in this assignment."
   ]
  },
  {
   "cell_type": "markdown",
   "metadata": {},
   "source": [
    "Put your answer to the above question here"
   ]
  },
  {
   "cell_type": "markdown",
   "metadata": {},
   "source": [
    "&#9989; **<span style=\"color:red\">QUESTION:</span>**  What questions do you have, if any, about any of the topics discussed in this assignment after working through the jupyter notebook?"
   ]
  },
  {
   "cell_type": "markdown",
   "metadata": {},
   "source": [
    "Put your answer to the above question here"
   ]
  },
  {
   "cell_type": "markdown",
   "metadata": {},
   "source": [
    "&#9989; **<span style=\"color:red\">QUESTION:</span>**   How well do you feel this assignment helped you to achieve a better understanding of the above mentioned topic(s)?"
   ]
  },
  {
   "cell_type": "markdown",
   "metadata": {},
   "source": [
    "Put your answer to the above question here"
   ]
  },
  {
   "cell_type": "markdown",
   "metadata": {},
   "source": [
    "&#9989; **<span style=\"color:red\">QUESTION:</span>**  What was the **most** challenging part of this assignment for you? "
   ]
  },
  {
   "cell_type": "markdown",
   "metadata": {},
   "source": [
    "Put your answer to the above question here"
   ]
  },
  {
   "cell_type": "markdown",
   "metadata": {},
   "source": [
    "&#9989; **<span style=\"color:red\">QUESTION:</span>**  What was the **least** challenging part of this assignment for you? "
   ]
  },
  {
   "cell_type": "markdown",
   "metadata": {},
   "source": [
    "Put your answer to the above question here"
   ]
  },
  {
   "cell_type": "markdown",
   "metadata": {},
   "source": [
    "&#9989; **<span style=\"color:red\">QUESTION:</span>**   What kind of additional questions or support, if any, do you feel you need to have a better understanding of the content in this assignment?"
   ]
  },
  {
   "cell_type": "markdown",
   "metadata": {},
   "source": [
    "Put your answer to the above question here"
   ]
  },
  {
   "cell_type": "markdown",
   "metadata": {},
   "source": [
    "&#9989; **<span style=\"color:red\">QUESTION:</span>**  Do you have any further questions or comments about this material, or anything else that's going on in class?"
   ]
  },
  {
   "cell_type": "markdown",
   "metadata": {},
   "source": [
    "Put your answer to the above question here"
   ]
  },
  {
   "cell_type": "markdown",
   "metadata": {},
   "source": [
    "&#9989; **<span style=\"color:red\">QUESTION:</span>**  Approximately how long did this pre-class assignment take?"
   ]
  },
  {
   "cell_type": "markdown",
   "metadata": {},
   "source": [
    "Put your answer to the above question here"
   ]
  },
  {
   "cell_type": "markdown",
   "metadata": {},
   "source": [
    "----\n",
    "\n",
    "Written by Dr. Dirk Colbry, Michigan State University\n",
    "\n",
    "<a rel=\"license\" href=\"http://creativecommons.org/licenses/by-nc/4.0/\"><img alt=\"Creative Commons License\" style=\"border-width:0\" src=\"https://i.creativecommons.org/l/by-nc/4.0/88x31.png\" /></a>\n",
    "\n",
    "This work is licensed under a <a rel=\"license\" href=\"http://creativecommons.org/licenses/by-nc/4.0/\">Creative Commons Attribution-NonCommercial 4.0 International License</a>."
   ]
  },
  {
   "cell_type": "markdown",
   "metadata": {},
   "source": [
    "\n"
   ]
  }
 ],
 "metadata": {
  "@webio": {
   "lastCommId": null,
   "lastKernelId": null
  },
  "kernelspec": {
   "display_name": "Python 3",
   "language": "python",
   "name": "python3"
  },
  "language_info": {
   "codemirror_mode": {
    "name": "ipython",
    "version": 3
   },
   "file_extension": ".py",
   "mimetype": "text/x-python",
   "name": "python",
   "nbconvert_exporter": "python",
   "pygments_lexer": "ipython3",
   "version": "3.8.2"
  }
 },
 "nbformat": 4,
 "nbformat_minor": 4
}
