{
 "cells": [
  {
   "cell_type": "markdown",
   "metadata": {},
   "source": []
  },
  {
   "cell_type": "markdown",
   "metadata": {},
   "source": [
    "# 21 Pre-Class Assignment: Solve Linear Systems of Equations"
   ]
  },
  {
   "cell_type": "markdown",
   "metadata": {},
   "source": [
    "### Goals for today's pre-class assignment \n",
    "\n",
    "\n",
    "1. [Linear Systems](#Linear-Systems)\n",
    "2. [Under Defined Systems](#Under-Defined-Systems)\n",
    "3. [Invertible Systems](#Invertible-Systems)\n",
    "4. [Overdefined systems](#Overdefined-systems)\n",
    "5. [System Properties](#System-Properties)\n",
    "6. [Assignment wrap up](#Assignment-wrap-up)\n",
    "\n"
   ]
  },
  {
   "cell_type": "markdown",
   "metadata": {},
   "source": [
    "\n",
    "\n",
    "\n",
    "---\n",
    "<a name=Linear-Systems></a>\n",
    "## 1. Linear Systems\n",
    "\n",
    "\n",
    "\n",
    "\n",
    "\n",
    "In this course, we learned how to represent linear systems which basically consists of equations added sums of multiple numbers in the form:\n",
    "\n",
    "$$b = a_1x_1+a_2x_2+a_3x_3 + \\ldots a_mx_m$$\n",
    "\n",
    "Systems of linear equations are multiple equations of the above form with basically the same unknowns but different values of $a$ and $b$. \n",
    "\n",
    "$$b_1 = a_{11}x_1+a_{12}x_2+a_{13}x_3 + \\ldots a_{1n}x_n$$\n",
    "$$b_2 = a_{21}x_1+a_{22}x_2+a_{23}x_3 + \\ldots a_{2n}x_n$$\n",
    "$$b_3 = a_{31}x_1+a_{32}x_2+a_{33}x_3 + \\ldots a_{3n}x_n$$\n",
    "$$\\vdots$$\n",
    "$$b_m = a_{m1}x_1+a_{m2}x_2+a_{m3}x_3 + \\ldots a_{mn}x_n$$\n",
    "\n",
    "The above equations can be represented in matrix form as follows:\n",
    "\n",
    "$$ \n",
    "\\left[ \n",
    "\\begin{matrix}\n",
    "    b_1 \\\\ \n",
    "    b_2 \\\\\n",
    "    b_3 \\\\\n",
    "    \\vdots \\\\\n",
    "    b_m\n",
    " \\end{matrix}\n",
    "\\right] \n",
    "=\n",
    "\\left[ \n",
    "\\begin{matrix}\n",
    " a_{11} & a_{12} & a_{13} &   & a_{1n} \\\\ \n",
    " a_{21} & a_{22} & a_{23} &  \\ldots & a_{2n} \\\\ \n",
    "  a_{31} & a_{32} & a_{33} &   & a_{3n} \\\\ \n",
    "  & \\vdots &   & \\ddots & \\vdots \\\\ \n",
    " a_{m1} & a_{m2} & a_{m3} &   & a_{mn} \n",
    "\\end{matrix}\n",
    "\\right] \n",
    "\\left[ \n",
    "\\begin{matrix}\n",
    "    x_1 \\\\ \n",
    "    x_2 \\\\\n",
    "    x_3 \\\\\n",
    "    \\vdots \\\\\n",
    "    x_n\n",
    "\\end{matrix}\n",
    "\\right] \n",
    "$$\n",
    "\n",
    "Which can also be represented in \"augmented\" form as follows:\n",
    "\n",
    "$$ \n",
    "\\left[ \n",
    "\\begin{matrix}\n",
    " a_{11} & a_{12} & a_{13} &   & a_{1n} \\\\ \n",
    " a_{21} & a_{22} & a_{23} &  \\ldots & a_{2n} \\\\ \n",
    "  a_{31} & a_{32} & a_{33} &   & a_{3n} \\\\ \n",
    "  & \\vdots &   & \\ddots & \\vdots \\\\ \n",
    " a_{m1} & a_{m2} & a_{m3} &   & a_{mn} \n",
    "\\end{matrix}\n",
    " \\, \\middle\\vert \\,\n",
    "\\begin{matrix}\n",
    "    b_1 \\\\ \n",
    "    b_2 \\\\\n",
    "    b_3 \\\\\n",
    "    \\vdots \\\\\n",
    "    b_m\n",
    "\\end{matrix}\n",
    "\\right] \n",
    "$$"
   ]
  },
  {
   "cell_type": "markdown",
   "metadata": {},
   "source": [
    "The above systems can be modified into equivelent systems using combinations of the following operators. \n",
    "\n",
    "1. Multiply any row of a matrix by a constant\n",
    "2. Add the contents of one row by another row.\n",
    "3. Swap any two rows. \n",
    "\n",
    "Often the 1st and 2nd operator can be combined where a row is multipled by a constanet and then added (or subtracted) from another row. "
   ]
  },
  {
   "cell_type": "markdown",
   "metadata": {},
   "source": [
    "&#9989; **<font color=red>QUESTION:</font>**  Consider the matrix $A= \\left[ \n",
    "\\begin{matrix} 1 & 3 \\\\ 0 & 2 \\end{matrix}\\right]$. What operators can you use to put the above equation into it's reduced row echelon form? "
   ]
  },
  {
   "cell_type": "markdown",
   "metadata": {},
   "source": [
    "Put your answer to the above question here."
   ]
  },
  {
   "cell_type": "markdown",
   "metadata": {},
   "source": [
    "---\n",
    "<a name=Under-Defined-Systems></a>\n",
    "## 2. Under Defined Systems\n",
    "\n",
    "\n",
    "\n",
    "\n",
    "An under-defined system is one that is non-invertible and the number of unknowns is more than the number of knowns. These system often have infinite numbers of possible solutions and solving them involves finding a set of simplified equations that represent all solutions. \n",
    "\n",
    "Often the simplest way to solve an under-defined systems of equations is to extract the solution directly from the reduced row echelon form.  "
   ]
  },
  {
   "cell_type": "markdown",
   "metadata": {},
   "source": [
    "&#9989; **<font color=red>QUESTION:</font>**  What is the reduced row echelon form of the matrix $A= \\left[ \n",
    "\\begin{matrix} 1 & 3 \\\\ 2 & 6 \\end{matrix}\\right]$."
   ]
  },
  {
   "cell_type": "code",
   "execution_count": null,
   "metadata": {},
   "outputs": [],
   "source": [
    "##ADD example of solving an underdefined system."
   ]
  },
  {
   "cell_type": "markdown",
   "metadata": {},
   "source": [
    "&#9989; **<font color=red>QUESTION:</font>**  What are the solutions to the above systems of equations if $b= \\left[ \n",
    "\\begin{matrix} 10\\\\ 3 \\end{matrix}\\right]$?"
   ]
  },
  {
   "cell_type": "code",
   "execution_count": null,
   "metadata": {},
   "outputs": [],
   "source": [
    "#put your answer to the above quesiton here."
   ]
  },
  {
   "cell_type": "markdown",
   "metadata": {},
   "source": [
    "\n",
    "---\n",
    "<a name=Invertible-Systems></a>\n",
    "## 3. Invertible Systems\n",
    "\n",
    "An invertible system has a square $A$ that is invertible such that all the following properties are true:\n",
    "\n",
    "1. $ A^{-1}A = AA^{-1} = I $\n",
    "1. $(A^{-1})^{-1} = A$\n",
    "2. $(cA)^{-1} = \\frac{1}{c}A^{-1}$\n",
    "3. $(AB)^{-1} = B^{-1}A^{-1}$\n",
    "4. $(A^n)^{-1} = (A^{-1})^n$\n",
    "1. $(A^\\top)^{-1} = (A^{-1})^\\top$  here $A^\\top$ is the transpose of the matrix $A$."
   ]
  },
  {
   "cell_type": "markdown",
   "metadata": {},
   "source": [
    "Consider the following system of equations:\n",
    "\n",
    "$$\\begin{bmatrix}5&-2&2 \\\\ 4 & -3 &4 \\\\ 4& -6 &7 \\end{bmatrix}\\begin{bmatrix}x_1\\\\x_2\\\\x_3\\end{bmatrix}=\\begin{bmatrix}1\\\\2\\\\3\\end{bmatrix}$$\n",
    "\n"
   ]
  },
  {
   "cell_type": "code",
   "execution_count": null,
   "metadata": {},
   "outputs": [],
   "source": [
    "import numpy as np\n",
    "import sympy as sym"
   ]
  },
  {
   "cell_type": "code",
   "execution_count": null,
   "metadata": {},
   "outputs": [],
   "source": [
    "A = np.matrix([[5, -2, 2], [4, -3, 4], [4,-6,7]])\n",
    "b = np.matrix([[1],[2],[3]])\n",
    "display(sym.Matrix(A))\n",
    "display(sym.Matrix(b))"
   ]
  },
  {
   "cell_type": "markdown",
   "metadata": {},
   "source": [
    "**Iterative algorithms (Gauss-Seidel and Jacobian):** \n",
    "+ They may require many iterations\n",
    "+ Gauss-Seidel is faster than Jacobian\n",
    "+ They do not work for all square invertible systems. "
   ]
  },
  {
   "cell_type": "markdown",
   "metadata": {},
   "source": [
    "**Non-iterative algorithms:** \n",
    "+ Gauss elimination (rref)\n",
    "+ LU decomposition\n",
    "+ Find the inverse of the matrix $A$ and $x= A^{-1}b$"
   ]
  },
  {
   "cell_type": "markdown",
   "metadata": {},
   "source": [
    "&#9989; **<font color=red>DO THIS:</font>** Pick at least two methods to solve the system of equations and compare them. "
   ]
  },
  {
   "cell_type": "code",
   "execution_count": null,
   "metadata": {},
   "outputs": [],
   "source": [
    "#put your answer here"
   ]
  },
  {
   "cell_type": "markdown",
   "metadata": {},
   "source": [
    "\n",
    "---\n",
    "<a name=Overdefined-systems></a>\n",
    "## 4. Overdefined systems\n",
    "\n",
    "\n",
    "\n",
    "We also learned solutions to overdefined systems (more equations than unknowns) often do not exist. However, we can estimate a solution using Least Squares fit.  "
   ]
  },
  {
   "cell_type": "markdown",
   "metadata": {},
   "source": [
    "Consider the following system of equations:\n",
    "\n",
    "$$\\begin{bmatrix}5&-2&2 \\\\ 4 & -3 &4 \\\\ 4& -6 &7 \\\\ 6 & 3 & -3\\end{bmatrix}\\begin{bmatrix}x_1\\\\x_2\\\\x_3\\end{bmatrix}=\\begin{bmatrix}1\\\\2\\\\3\\\\-1\\end{bmatrix}$$\n",
    "\n",
    "&#9989; **<font color=red>DO THIS:</font>** Solve the above using LSF. \n"
   ]
  },
  {
   "cell_type": "code",
   "execution_count": null,
   "metadata": {},
   "outputs": [],
   "source": [
    "#Put your answer to the above question here."
   ]
  },
  {
   "cell_type": "markdown",
   "metadata": {},
   "source": [
    "\n",
    "\n",
    "---\n",
    "<a name=System-Properties></a>\n",
    "## 5. System Properties\n",
    "\n",
    "\n",
    "\n",
    "The above methods for solving systems of linear equations is only part of the story. We also explored ways to understand properties of linear systems.  Properties such as rank, determinate, eigenvectors and eigenvalues all provide insight into the matrices that are at the core of the systems.  \n",
    "\n",
    "One problem is that as systems get really large the computational cost of finding a solution can also become large and intractable (i.e. difficult to solve).  We use our understanding of matrix properties and \"decompositions\" to transform systems into simpler forms so that solving the problem also becomes simple. \n",
    "\n",
    "In class tomorrow we will review all of these concepts by looking at methods to solve linear systmes of the form $Ax=b$ using $QR$ decomposition.  When we solve for $Ax=b$ with QR decomposition. We have the following steps:\n",
    "+ Find the $QR$ decomposition of $A$ such that:\n",
    "    + $R$ is square upper-triangular matrix\n",
    "    + The Columns of $Q$ are orthonormal\n",
    "+ From $QRx=b$, we obtain $Rx =Q^\\top b$ \n",
    "+ Solve for $x$ using back substitution.\n"
   ]
  },
  {
   "cell_type": "markdown",
   "metadata": {},
   "source": [
    "&#9989; **<font color=red>DO THIS:</font>** Search for a video describing the $QR$ decomposition of a matrix. Try to pick a video that you think does a good job in a short amount of time.  "
   ]
  },
  {
   "cell_type": "markdown",
   "metadata": {},
   "source": [
    "Put a link to the video you found here."
   ]
  },
  {
   "cell_type": "markdown",
   "metadata": {},
   "source": [
    "---\n",
    "<a name=Assignment-wrap-up></a>\n",
    "## 6. Assignment wrap up"
   ]
  },
  {
   "cell_type": "markdown",
   "metadata": {},
   "source": [
    "&#9989; **<font color=red>Assignment-Specific QUESTION:</font>** What is the URL you found that describes how to do a QR decomposition. "
   ]
  },
  {
   "cell_type": "markdown",
   "metadata": {},
   "source": [
    "Put your answer to the above question here"
   ]
  },
  {
   "cell_type": "markdown",
   "metadata": {},
   "source": [
    "&#9989; **<font color=red>QUESTION:</font>**  Summarize what you did in this assignment."
   ]
  },
  {
   "cell_type": "markdown",
   "metadata": {},
   "source": [
    "Put your answer to the above question here"
   ]
  },
  {
   "cell_type": "markdown",
   "metadata": {},
   "source": [
    "&#9989; **<font color=red>QUESTION:</font>**  What questions do you have, if any, about any of the topics discussed in this assignment after working through the jupyter notebook?"
   ]
  },
  {
   "cell_type": "markdown",
   "metadata": {},
   "source": [
    "Put your answer to the above question here"
   ]
  },
  {
   "cell_type": "markdown",
   "metadata": {},
   "source": [
    "&#9989; **<font color=red>QUESTION:</font>**  How well do you feel this assignment helped you to achieve a better understanding of the above mentioned topic(s)?"
   ]
  },
  {
   "cell_type": "markdown",
   "metadata": {},
   "source": [
    "Put your answer to the above question here"
   ]
  },
  {
   "cell_type": "markdown",
   "metadata": {},
   "source": [
    "&#9989; **<font color=red>QUESTION:</font>** What was the **most** challenging part of this assignment for you? "
   ]
  },
  {
   "cell_type": "markdown",
   "metadata": {},
   "source": [
    "Put your answer to the above question here"
   ]
  },
  {
   "cell_type": "markdown",
   "metadata": {},
   "source": [
    "&#9989; **<font color=red>QUESTION:</font>** What was the **least** challenging part of this assignment for you? "
   ]
  },
  {
   "cell_type": "markdown",
   "metadata": {},
   "source": [
    "Put your answer to the above question here"
   ]
  },
  {
   "cell_type": "markdown",
   "metadata": {},
   "source": [
    "&#9989; **<font color=red>QUESTION:</font>**  What kind of additional questions or support, if any, do you feel you need to have a better understanding of the content in this assignment?"
   ]
  },
  {
   "cell_type": "markdown",
   "metadata": {},
   "source": [
    "Put your answer to the above question here"
   ]
  },
  {
   "cell_type": "markdown",
   "metadata": {},
   "source": [
    "&#9989; **<font color=red>QUESTION:</font>**  Do you have any further questions or comments about this material, or anything else that's going on in class?"
   ]
  },
  {
   "cell_type": "markdown",
   "metadata": {},
   "source": [
    "Put your answer to the above question here"
   ]
  },
  {
   "cell_type": "markdown",
   "metadata": {},
   "source": [
    "&#9989; **<font color=red>QUESTION:</font>** Approximately how long did this pre-class assignment take?"
   ]
  },
  {
   "cell_type": "markdown",
   "metadata": {},
   "source": [
    "Put your answer to the above question here"
   ]
  },
  {
   "cell_type": "markdown",
   "metadata": {},
   "source": [
    "----\n",
    "\n",
    "Written by Dr. Dirk Colbry, Michigan State University\n",
    "<a rel=\"license\" href=\"http://creativecommons.org/licenses/by-nc/4.0/\"><img alt=\"Creative Commons License\" style=\"border-width:0\" src=\"https://i.creativecommons.org/l/by-nc/4.0/88x31.png\" /></a><br />This work is licensed under a <a rel=\"license\" href=\"http://creativecommons.org/licenses/by-nc/4.0/\">Creative Commons Attribution-NonCommercial 4.0 International License</a>."
   ]
  },
  {
   "cell_type": "markdown",
   "metadata": {},
   "source": [
    "\n"
   ]
  }
 ],
 "metadata": {
  "anaconda-cloud": {},
  "kernelspec": {
   "display_name": "Python 3",
   "language": "python",
   "name": "python3"
  },
  "language_info": {
   "codemirror_mode": {
    "name": "ipython",
    "version": 3
   },
   "file_extension": ".py",
   "mimetype": "text/x-python",
   "name": "python",
   "nbconvert_exporter": "python",
   "pygments_lexer": "ipython3",
   "version": "3.8.2"
  }
 },
 "nbformat": 4,
 "nbformat_minor": 4
}
