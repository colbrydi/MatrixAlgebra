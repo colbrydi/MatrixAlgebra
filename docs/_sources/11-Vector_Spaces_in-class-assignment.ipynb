{
 "cells": [
  {
   "cell_type": "markdown",
   "metadata": {},
   "source": []
  },
  {
   "cell_type": "markdown",
   "metadata": {},
   "source": []
  },
  {
   "cell_type": "markdown",
   "metadata": {},
   "source": [
    "# 11 In-Class Assignment: Vector Spaces\n",
    "\n",
    "<img src=\"https://upload.wikimedia.org/wikipedia/commons/thumb/5/59/3d_basis_transformation.svg/580px-3d_basis_transformation.svg.png\" width=\"50%\">\n",
    "\n",
    "Image from: [https://en.wikipedia.org/wiki/Change_of_basis](https://en.wikipedia.org/wiki/Change_of_basis)\n",
    "\n",
    "\n",
    "\n",
    "    "
   ]
  },
  {
   "cell_type": "markdown",
   "metadata": {},
   "source": [
    "### Agenda for today's class (80 minutes)\n",
    "\n",
    "1. (20 minutes) [Review Pre-Class Assignment](#Review)\n",
    "2. (20 minutes) [Introduction to subspaces](#Introduction-to-subspaces)\n",
    "3. (20 minutes) [Basis Vectors](#Basis-Vectors)\n",
    "4. (20 minutes) [Vector Spaces](#Vector-Spaces)\n",
    "\n"
   ]
  },
  {
   "cell_type": "markdown",
   "metadata": {},
   "source": [
    "----\n",
    "\n",
    "<a name=\"Review\"></a>\n",
    "\n",
    "## 1. Review Pre-class Assignment\n",
    "\n",
    "Like most days, your instructor will review and answer questions from your pre-class assignment.  This is your opportunity to ask any lingering questions before the quiz. \n",
    "\n",
    "\n",
    "\n",
    "- [11--Vector_Spaces_pre-class-assignment.ipynb](11--Vector_Spaces_pre-class-assignment.ipynb)"
   ]
  },
  {
   "cell_type": "markdown",
   "metadata": {},
   "source": [
    "\n",
    "---\n",
    "<a name=Introduction-to-subspaces></a>\n",
    "## 2. Introduction to subspaces\n",
    "\n"
   ]
  },
  {
   "cell_type": "markdown",
   "metadata": {},
   "source": [
    "\n",
    "\n",
    "---\n",
    "<a name=Basis-Vectors></a>\n",
    "## 3. Basis Vectors\n",
    "\n"
   ]
  },
  {
   "cell_type": "markdown",
   "metadata": {},
   "source": [
    "Consider the following example. We claim that the following set of vectors form a baiss for $R^3$:\n",
    "\n",
    "$$B = \\{(2,1, 3), (-1,6, 0), (3, 4, -10) \\}$$"
   ]
  },
  {
   "cell_type": "markdown",
   "metadata": {},
   "source": [
    "If these vectors form a basis they must be _**linearly independent**_ and _**Span**_ the entire space of $R^3$"
   ]
  },
  {
   "cell_type": "code",
   "execution_count": null,
   "metadata": {},
   "outputs": [],
   "source": [
    "%matplotlib inline\n",
    "import matplotlib.pylab as plt\n",
    "import numpy as np\n",
    "import sympy as sym\n",
    "sym.init_printing(use_unicode=True)"
   ]
  },
  {
   "cell_type": "markdown",
   "metadata": {},
   "source": [
    "&#9989; **<font color=red>DO THIS:</font>** Create a $3 \\times 3$ numpy matrix $A$ where the columns of $A$ form are the basis vectors. "
   ]
  },
  {
   "cell_type": "code",
   "execution_count": null,
   "metadata": {},
   "outputs": [],
   "source": [
    "#Put your answer to the above question here"
   ]
  },
  {
   "cell_type": "code",
   "execution_count": null,
   "metadata": {},
   "outputs": [],
   "source": [
    "from answercheck import checkanswer\n",
    "\n",
    "checkanswer.matrix(A,'68b81f1c1041158b519936cb1a2e4d6b');"
   ]
  },
  {
   "cell_type": "markdown",
   "metadata": {},
   "source": [
    "&#9989; **<font color=red>DO THIS:</font>** Using python, calculate the determinant of matrix $A$."
   ]
  },
  {
   "cell_type": "code",
   "execution_count": null,
   "metadata": {},
   "outputs": [],
   "source": [
    "# Put your answer to the above question here. "
   ]
  },
  {
   "cell_type": "markdown",
   "metadata": {},
   "source": [
    "&#9989; **<font color=red>DO THIS:</font>** Using python, calculate the inverse of $A$."
   ]
  },
  {
   "cell_type": "code",
   "execution_count": null,
   "metadata": {},
   "outputs": [],
   "source": [
    "# Put your answer to the above question here."
   ]
  },
  {
   "cell_type": "markdown",
   "metadata": {},
   "source": [
    "&#9989; **<font color=red>DO THIS:</font>** Using python, calculate the rank of $A$."
   ]
  },
  {
   "cell_type": "code",
   "execution_count": null,
   "metadata": {},
   "outputs": [],
   "source": [
    "# Put your answer to the above question here."
   ]
  },
  {
   "cell_type": "markdown",
   "metadata": {},
   "source": [
    "&#9989; **<font color=red>DO THIS:</font>** Using python, calculate the reduced row echelon form of $A$."
   ]
  },
  {
   "cell_type": "code",
   "execution_count": null,
   "metadata": {},
   "outputs": [],
   "source": [
    "# Put your answer to the above question here. "
   ]
  },
  {
   "cell_type": "markdown",
   "metadata": {},
   "source": [
    "&#9989; **<font color=red>DO THIS:</font>** Using the above $A$ and the vector $b=(1,3,2)$.  What is the solution to $Ax=b$?  "
   ]
  },
  {
   "cell_type": "code",
   "execution_count": null,
   "metadata": {},
   "outputs": [],
   "source": [
    "#Put your answer to the above question here."
   ]
  },
  {
   "cell_type": "code",
   "execution_count": null,
   "metadata": {},
   "outputs": [],
   "source": [
    "from answercheck import checkanswer\n",
    "\n",
    "checkanswer.matrix(x,'8b0938260dfeaafc9f8e9fec0bc72f17');"
   ]
  },
  {
   "cell_type": "markdown",
   "metadata": {},
   "source": [
    "Turns out a matrix where column vectors are formed from basis vectors a lot of interesting properties and the following statements are equivalent.\n",
    "\n",
    "- The column vectors of $A$ form a basis for $R^n$\n",
    "- $|A| \\ne 0$\n",
    "- $A$ is invertible.\n",
    "- $A$ is row equivalent to $I_n$ (i.e. it's reduced row echelon form is $I_n$)\n",
    "- The system of equations $Ax = b$ has a unique solution.\n",
    "- $rank(A) = n$\n"
   ]
  },
  {
   "cell_type": "markdown",
   "metadata": {},
   "source": [
    "Not all matrices follow the above statements but the ones that do are used throughout linear algebra so it is important that we know these properties. "
   ]
  },
  {
   "cell_type": "markdown",
   "metadata": {},
   "source": [
    "\n",
    "\n",
    "---\n",
    "<a name=Vector-Spaces></a>\n",
    "## 4. Vector Spaces\n",
    "\n",
    "A **Vector Space** is a set $V$ of elements called **vectors**, having operations of addition and scalar multiplication defined on it that satisfy the following conditions ($u$, $v$, and $w$ are arbitrary elements of $V$, and c and d are scalars.)\n",
    "\n",
    "### Closure Axioms\n",
    "\n",
    "1. The sum $u + v$ exists and is an element of $V$. ($V$ is closed under addition.)\n",
    "2. $cu$ is an element of $V$. ($V$ is closed under scalar multiplication.)\n",
    "\n",
    "### Addition Axioms\n",
    "\n",
    "3. $u + v = v + u$ (commutative property)\n",
    "4. $u + (v + w) = (u + v) + w$ (associative property)\n",
    "5. There exists an element of $V$, called a **zero vector**, denoted $0$, such that $u+0 = u$\n",
    "6. For every element $u$ of $V$, there exists an element called a **negative** of $u$, denoted $-u$, such that $u + (-u) = 0$.\n",
    "\n",
    "### Scalar Multiplication Axioms\n",
    "\n",
    "7. $c(u+v) = cu + cv$\n",
    "8. $(c + d)u = cu + du$\n",
    "9.  $c(du) = (cd)u$\n",
    "10. $1u = u$\n",
    "\n",
    "### Definition of a basis of a vector space\n",
    "\n",
    "> A finite set of vectors ${v_1,\\dots, v_n}$ is called a **basis** of a *vector space* $V$ if the set *spans* $V$ and is *linearly independent*. \n",
    ">i.e. each vector in $V$ can be expressed uniquely as a *linear combination* of the vectors in a basis.\n",
    "\n"
   ]
  },
  {
   "cell_type": "markdown",
   "metadata": {},
   "source": [
    "## Vector spaces\n",
    "\n",
    "&#9989; **<font color=red>DO THIS:</font>** Let $U$ be the set of all circles in $R^2$ having center at the origin. \n",
    "Interpret the origin as being in this set, i.e., it is a circle center at the origin with radius zero. \n",
    "Assume $C_1$ and $C_2$ are elements of $U$. \n",
    "Let $C_1 + C_2$ be the circle centered at the origin, whose radius is the sum of the radii of $C_1$ and $C_2$. \n",
    "Let $kC_1$ be the circle center at the origin, whose radius is $|k|$ times that of $C_1$. \n",
    "Determine which vector space axioms hold and which do not. \n"
   ]
  },
  {
   "cell_type": "markdown",
   "metadata": {},
   "source": [
    "Put your answer here"
   ]
  },
  {
   "cell_type": "markdown",
   "metadata": {},
   "source": [
    "### Spans:\n",
    "\n",
    "&#9989; **<font color=red>DO THIS:</font>** Let $v$, $v_1$, and $v_2$ be vectors in a vector space $V$. \n",
    "Let $v$ be a linear combination of $v_1$ and $v_2$. \n",
    "If $c_1$ and $c_2$ are nonzero real numbers, show that $v$ is also a linear combination of $c_1v_1$ and $c_2v_2$."
   ]
  },
  {
   "cell_type": "markdown",
   "metadata": {},
   "source": [
    "Put your answer here"
   ]
  },
  {
   "cell_type": "markdown",
   "metadata": {},
   "source": [
    "&#9989; **<font color=red>DO THIS:</font>** Let $v_1$ and $v_2$ span a vector space $V$. \n",
    "Let $v_3$ be any other vector in $V$. \n",
    "Show that $v_1$, $v_2$, and $v_3$ also span $V$."
   ]
  },
  {
   "cell_type": "markdown",
   "metadata": {},
   "source": [
    "Put your answer here"
   ]
  },
  {
   "cell_type": "markdown",
   "metadata": {},
   "source": [
    "### Linear Independent:\n",
    "Consider the following matrix, which is in the reduced row echelon form.\n",
    "\n",
    "\n",
    "$$ \n",
    "\\left[\n",
    "\\begin{matrix}\n",
    "    1   & 0 & 0 & 7  \\\\\n",
    "    0   & 1 & 0 & 4  \\\\\n",
    "    0   & 0 & 1 & 3\n",
    "\\end{matrix}\n",
    "\\right] \n",
    "$$\n",
    "\n",
    "&#9989; **<font color=red>DO THIS:</font>** Show that the row vectors form a linearly independent set:\n"
   ]
  },
  {
   "cell_type": "markdown",
   "metadata": {},
   "source": [
    "Put your answer here"
   ]
  },
  {
   "cell_type": "markdown",
   "metadata": {},
   "source": [
    "&#9989; **<font color=red>DO THIS:</font>** Is the set of nonzero row vectors of any matrix in reduced row echelon form linearly independent? Discuss in your groups and include your thoughts below."
   ]
  },
  {
   "cell_type": "markdown",
   "metadata": {},
   "source": [
    "Put your answer here"
   ]
  },
  {
   "cell_type": "markdown",
   "metadata": {},
   "source": [
    "&#9989; **<font color=red>DO THIS:</font>** A computer program accepts a number of vectors in $R^3$ as input and checks to see if the vectors are linearly independent and outputs a True/False statment. \n",
    "Discuss in your groups, which is more likely to happen due to round-off error--that the computer states that a given set of linearly independent vectors is linearly dependent, or vice versa? \n",
    "Put your groups thoughts below."
   ]
  },
  {
   "cell_type": "markdown",
   "metadata": {},
   "source": [
    "Put your answer here"
   ]
  },
  {
   "cell_type": "markdown",
   "metadata": {},
   "source": [
    "----\n",
    "Written by Dr. Dirk Colbry, Michigan State University\n",
    "<a rel=\"license\" href=\"http://creativecommons.org/licenses/by-nc/4.0/\"><img alt=\"Creative Commons License\" style=\"border-width:0\" src=\"https://i.creativecommons.org/l/by-nc/4.0/88x31.png\" /></a><br />This work is licensed under a <a rel=\"license\" href=\"http://creativecommons.org/licenses/by-nc/4.0/\">Creative Commons Attribution-NonCommercial 4.0 International License</a>."
   ]
  },
  {
   "cell_type": "markdown",
   "metadata": {},
   "source": [
    "\n"
   ]
  }
 ],
 "metadata": {
  "kernelspec": {
   "display_name": "Python 3",
   "language": "python",
   "name": "python3"
  },
  "language_info": {
   "codemirror_mode": {
    "name": "ipython",
    "version": 3
   },
   "file_extension": ".py",
   "mimetype": "text/x-python",
   "name": "python",
   "nbconvert_exporter": "python",
   "pygments_lexer": "ipython3",
   "version": "3.7.6"
  }
 },
 "nbformat": 4,
 "nbformat_minor": 4
}
