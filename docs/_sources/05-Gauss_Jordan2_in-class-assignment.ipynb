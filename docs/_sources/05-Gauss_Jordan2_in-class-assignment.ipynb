{
 "cells": [
  {
   "cell_type": "markdown",
   "metadata": {},
   "source": []
  },
  {
   "cell_type": "markdown",
   "metadata": {},
   "source": [
    "# 05 In-Class Assignment: Gauss-Jordan\n",
    " \n",
    "\n",
    "<img src=\"https://upload.wikimedia.org/wikipedia/commons/thumb/c/c3/Sextic_Graph.svg/1200px-Sextic_Graph.svg.png\" width='50%' alt=\"Simple xy graph with a high order polynomial representing a curve. In this assignment we will be covering curve fitting an the figure is just intended as a viaual motivation\" >"
   ]
  },
  {
   "cell_type": "markdown",
   "metadata": {},
   "source": [
    "\n"
   ]
  },
  {
   "cell_type": "markdown",
   "metadata": {},
   "source": [
    "### Today's Agenda (80 minutes)\n",
    "\n",
    "1. [(20 minutes) Pre-class assignment review](#Pre-class_aassignment_review)\n",
    "1. [(20 minutes) Generalize the procedure](#Generalize_the_procedure)\n",
    "1. [(20 minutes) Basic Gauss Jordan](#Basic_Gauss_Jordan)\n",
    "\n"
   ]
  },
  {
   "cell_type": "code",
   "execution_count": null,
   "metadata": {},
   "outputs": [],
   "source": [
    "#Load Useful Python Libraries \n",
    "%matplotlib inline\n",
    "import matplotlib.pylab as plt\n",
    "import numpy as np\n",
    "import sympy as sym\n",
    "sym.init_printing(use_unicode=True)"
   ]
  },
  {
   "cell_type": "markdown",
   "metadata": {},
   "source": [
    "----\n",
    "<a name=\"Pre-class_aassignment_review\"></a>\n",
    "## 1. Pre-class assignment review\n",
    "\n",
    "* [05--Gauss_Jordan2_pre-class-assignment.ipynb](05--Gauss_Jordan2_pre-class-assignment.ipynb)"
   ]
  },
  {
   "cell_type": "markdown",
   "metadata": {},
   "source": [
    "----\n",
    "<a name=\"Generalize_the_procedure\"></a>\n",
    "## 2. Generalize the procedure\n",
    "\n",
    "We are going to think about Gauss-Jordan as an algorithm. First I want you to think about how you would generalize the procedure to work on any matrix.  Do the following before moving on to the next section. \n",
    "\n",
    "\n",
    "&#9989;**<font color=red>DO THIS</font>**: Use the following matrix to think about how you would solve any system of equations using the Gauss-Jordan elimination algorithm.  Focus on the steps. \n",
    "\n",
    "\n",
    "$$ \n",
    "\\left[\n",
    "\\begin{matrix}\n",
    "    a & b & c  \\\\\n",
    "    e & f & g  \\\\\n",
    "    i & j & k \n",
    " \\end{matrix}\n",
    "\\, \\middle\\vert \\,\n",
    "\\begin{matrix}\n",
    "d \\\\ h \\\\ l\n",
    "\\end{matrix}\n",
    "\\right] \n",
    "$$\n",
    "\n"
   ]
  },
  {
   "cell_type": "markdown",
   "metadata": {},
   "source": [
    "&#9989;**<font color=red>QUESTION</font>**: What are the first three mathematical steps you would do to put the above equation into a reduced row echelon form using Gauss-Jordan method?"
   ]
  },
  {
   "cell_type": "markdown",
   "metadata": {},
   "source": [
    "Put your answer here. "
   ]
  },
  {
   "cell_type": "markdown",
   "metadata": {},
   "source": [
    "### Psudocode\n",
    "\n",
    "&#9989;**<font color=red>QUESTION</font>**: Write down the steps you would complete to implement the Gauss-Jordan elimination algorithm as a computer programer. Some questions to answer:\n",
    "\n",
    "1. What are the inputs?\n",
    "2. What are the outputs?\n",
    "3. How many and what types of loops would you have to guarantee success of your program?\n",
    "\n",
    "Once you have thought this though the instructor will work with you to build the algorithm."
   ]
  },
  {
   "cell_type": "markdown",
   "metadata": {},
   "source": [
    "----\n",
    "\n",
    "<a name=\"Basic_Gauss_Jordan\"></a>\n",
    "\n",
    "## 3. Basic Gauss Jordan"
   ]
  },
  {
   "cell_type": "markdown",
   "metadata": {},
   "source": [
    "The following is implementation of the Basic Gauss-Jordan Elimination Algorithm for Matrix $A^{m\\times n}$ (Pseudocode):\n",
    "```bash\n",
    "for i from 1 to m:\n",
    "    for j from 1 to m\t\n",
    "        if i ≠ j:\n",
    "            Ratio = A[j,i]/A[i,i]\n",
    "            #Elementary Row Operation 3\n",
    "            for k from 1 to n:\n",
    "                A[j,k] = A[j,k] - Ratio * A[i,k]\n",
    "            next k\n",
    "        endif\n",
    "    next j\n",
    "    \n",
    "    #Elementary Row Operation 2\n",
    "    Const = A[i,i]\n",
    "    for k from 1 to n:\n",
    "        A[i,k] = A[i,k]/Const\n",
    "next i\n",
    "```"
   ]
  },
  {
   "cell_type": "markdown",
   "metadata": {},
   "source": [
    "&#9989;**<font color=red>DO THIS</font>**: using the Pseudocode provided above, write a ```basic_gauss_jordan``` function which takes a list of lists $A$ as input and returns the modified list of lists:"
   ]
  },
  {
   "cell_type": "code",
   "execution_count": null,
   "metadata": {},
   "outputs": [],
   "source": [
    "# Put your answer here. "
   ]
  },
  {
   "cell_type": "markdown",
   "metadata": {},
   "source": [
    "Lets check your function by applying the ```basic_gauss_jordan``` function and check to see if it matches the answer from matrix $A$ in the pre-class video:"
   ]
  },
  {
   "cell_type": "code",
   "execution_count": null,
   "metadata": {},
   "outputs": [],
   "source": [
    "A = [[1, 1, 1, 2], [2, 3, 1, 3], [0, -2, -3, -8]]\n",
    "answer = basic_gauss_jordan(A)\n",
    "sym.Matrix(answer)"
   ]
  },
  {
   "cell_type": "code",
   "execution_count": null,
   "metadata": {},
   "outputs": [],
   "source": [
    "answer_from_video = [[1, 0, 0, -1], [0, 1, 0, 1], [0, 0, 1, 2]]\n",
    "np.allclose(answer, answer_from_video)"
   ]
  },
  {
   "cell_type": "markdown",
   "metadata": {},
   "source": [
    "The above psuedocode does not quite work properly for all matrices. For example, consider the following augmented matrix:\n",
    "\n",
    "$$ \n",
    "B = \\left[\n",
    "\\begin{matrix}\n",
    "    0 & 1 & 33\\\\ \n",
    "    5 & 3 & 7 \\\\\n",
    "    6 & 69 & 4\n",
    " \\end{matrix}\n",
    " \\, \\middle\\vert \\,\n",
    "\\begin{matrix}\n",
    " 30 \\\\ \n",
    " 90 \\\\\n",
    " 420\n",
    "\\end{matrix}\n",
    "\\right] \n",
    "$$"
   ]
  },
  {
   "cell_type": "markdown",
   "metadata": {},
   "source": [
    "&#9989;**<font color=red>QUESTION</font>**: Explain why doesn't the provided ```basic_gauss_jordan``` function work on the matrix $B$? "
   ]
  },
  {
   "cell_type": "markdown",
   "metadata": {},
   "source": [
    "Put your answer to the above question here."
   ]
  },
  {
   "cell_type": "markdown",
   "metadata": {},
   "source": [
    "&#9989;**<font color=red>QUESTION</font>**: Describe how you could modify matrix $B$ so that it would work with ```basic_gauss_jordan``` AND still give the correct solution? "
   ]
  },
  {
   "cell_type": "markdown",
   "metadata": {},
   "source": [
    "Put your answer to the above question here."
   ]
  },
  {
   "cell_type": "code",
   "execution_count": null,
   "metadata": {},
   "outputs": [],
   "source": [
    "# Put your code here"
   ]
  },
  {
   "cell_type": "markdown",
   "metadata": {},
   "source": [
    "---------\n",
    "### Congratulations, we're done!\n",
    "\n",
    "###EndInClass###"
   ]
  },
  {
   "cell_type": "markdown",
   "metadata": {},
   "source": [
    "### Course Resources:\n",
    "\n",
    "\n",
    "\n"
   ]
  },
  {
   "cell_type": "markdown",
   "metadata": {},
   "source": [
    "Written by Dr. Dirk Colbry, Michigan State University\n",
    "<a rel=\"license\" href=\"http://creativecommons.org/licenses/by-nc/4.0/\"><img alt=\"Creative Commons License\" style=\"border-width:0\" src=\"https://i.creativecommons.org/l/by-nc/4.0/88x31.png\" /></a><br />This work is licensed under a <a rel=\"license\" href=\"http://creativecommons.org/licenses/by-nc/4.0/\">Creative Commons Attribution-NonCommercial 4.0 International License</a>."
   ]
  },
  {
   "cell_type": "markdown",
   "metadata": {},
   "source": [
    "\n"
   ]
  }
 ],
 "metadata": {
  "kernelspec": {
   "display_name": "Python 3",
   "language": "python",
   "name": "python3"
  },
  "language_info": {
   "codemirror_mode": {
    "name": "ipython",
    "version": 3
   },
   "file_extension": ".py",
   "mimetype": "text/x-python",
   "name": "python",
   "nbconvert_exporter": "python",
   "pygments_lexer": "ipython3",
   "version": "3.7.6"
  }
 },
 "nbformat": 4,
 "nbformat_minor": 4
}
